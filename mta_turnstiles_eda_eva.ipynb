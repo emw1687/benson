{
 "cells": [
  {
   "cell_type": "code",
   "execution_count": 1,
   "metadata": {
    "collapsed": true,
    "nbpresent": {
     "id": "c486ed48-c3e5-45e5-8a59-174f22704a3b"
    }
   },
   "outputs": [],
   "source": [
    "import pandas as pd\n",
    "import numpy as np\n",
    "\n",
    "from dateutil.parser import parse\n",
    "from datetime import datetime\n",
    "\n",
    "import matplotlib.pyplot as plt\n",
    "import seaborn as sns\n",
    "%matplotlib inline"
   ]
  },
  {
   "cell_type": "code",
   "execution_count": 2,
   "metadata": {
    "collapsed": true,
    "nbpresent": {
     "id": "e39ec74a-04eb-46e1-8b98-def4b65ace9a"
    }
   },
   "outputs": [],
   "source": [
    "#store the files for reference\n",
    "files = !ls | grep turnstile.*txt\n",
    "working_file = files[0]\n",
    "zip_codes_raw = 'zips.csv'"
   ]
  },
  {
   "cell_type": "code",
   "execution_count": 3,
   "metadata": {
    "collapsed": false,
    "nbpresent": {
     "id": "1938dd98-e395-479c-a617-d514071153e9"
    }
   },
   "outputs": [],
   "source": [
    "df = pd.read_csv(working_file,\n",
    "                usecols = ['C/A', 'UNIT', 'SCP', 'STATION', 'DATE', 'TIME', 'ENTRIES', 'EXITS                                                               '])\n",
    "df.rename(columns = {\n",
    "    'C/A': 'area',\n",
    "    'UNIT': 'unit',\n",
    "    'SCP': 'scp',\n",
    "    'STATION': 'station',\n",
    "    'DATE': 'date',\n",
    "    'TIME': 'time',\n",
    "    'ENTRIES': 'entries',\n",
    "    'EXITS                                                               ': 'exits'},\n",
    "    inplace = True)\n",
    "# group = df.groupby(['area','unit', 'scp', 'station', 'date', 'time', 'entries', 'exits'])\n",
    "# date = pd.DataFrame(group.size().reset_index())\n",
    "# del date[0]\n",
    "# date = date.sort_values(by='date').groupby(['station'])\n",
    "\n",
    "\n",
    "# date['entries'] = date['entries'] - date['entries'].shift()\n",
    "# date['exits'] = date['exits'] - date['exits'].shift()\n",
    "# date['daily'] = date['entries']- date['exits']\n",
    "# date = date[date.time == '20:00:00']\n",
    "\n",
    "\n",
    "df['hourly_entries'] = df.sort_values(['station','area','unit','scp','date','time'])['entries'].diff()\n",
    "df['hourly_exits'] = df.sort_values(['station','area','unit','scp','date','time'])['exits'].diff()\n",
    "\n",
    "hourly = ['hourly_entries', 'hourly_exits']\n",
    "\n",
    "for item in hourly:\n",
    "    df[item].fillna(0, inplace=True)"
   ]
  },
  {
   "cell_type": "code",
   "execution_count": 4,
   "metadata": {
    "collapsed": false
   },
   "outputs": [],
   "source": [
    "zip_codes = pd.read_csv(zip_codes_raw)"
   ]
  },
  {
   "cell_type": "code",
   "execution_count": 5,
   "metadata": {
    "collapsed": false
   },
   "outputs": [],
   "source": [
    "df = df.merge(zip_codes, on='station')"
   ]
  },
  {
   "cell_type": "code",
   "execution_count": 6,
   "metadata": {
    "collapsed": false
   },
   "outputs": [
    {
     "data": {
      "text/plain": [
       "area              0\n",
       "unit              0\n",
       "scp               0\n",
       "station           0\n",
       "date              0\n",
       "time              0\n",
       "entries           0\n",
       "exits             0\n",
       "hourly_entries    0\n",
       "hourly_exits      0\n",
       "zip_code          0\n",
       "dtype: int64"
      ]
     },
     "execution_count": 6,
     "metadata": {},
     "output_type": "execute_result"
    }
   ],
   "source": [
    "df.isnull().sum()"
   ]
  },
  {
   "cell_type": "code",
   "execution_count": 7,
   "metadata": {
    "collapsed": false,
    "nbpresent": {
     "id": "d9e8c00a-34f3-44ba-8f10-669d3e6c8479"
    }
   },
   "outputs": [],
   "source": [
    "#set all negative hourly entries to absolute value\n",
    "for item in hourly:\n",
    "    df.loc[df[item] < 0, item] = abs(df[item])\n",
    "    df[df[item] < 0]"
   ]
  },
  {
   "cell_type": "code",
   "execution_count": 8,
   "metadata": {
    "collapsed": false,
    "nbpresent": {
     "id": "065aca0f-4428-4a58-a850-6b380646da99"
    }
   },
   "outputs": [
    {
     "data": {
      "text/plain": [
       "count    1.942560e+05\n",
       "mean     1.410978e+06\n",
       "std      4.068987e+07\n",
       "min      0.000000e+00\n",
       "1%       0.000000e+00\n",
       "50%      8.700000e+01\n",
       "99.9%    3.211954e+08\n",
       "max      2.108298e+09\n",
       "Name: hourly_entries, dtype: float64"
      ]
     },
     "execution_count": 8,
     "metadata": {},
     "output_type": "execute_result"
    }
   ],
   "source": [
    "df['hourly_entries'].describe(percentiles=[0.01, 0.999])"
   ]
  },
  {
   "cell_type": "code",
   "execution_count": 9,
   "metadata": {
    "collapsed": false
   },
   "outputs": [
    {
     "data": {
      "text/plain": [
       "count    1.942560e+05\n",
       "mean     1.145393e+06\n",
       "std      3.617327e+07\n",
       "min      0.000000e+00\n",
       "1%       0.000000e+00\n",
       "50%      5.700000e+01\n",
       "99.9%    2.989942e+08\n",
       "max      2.087387e+09\n",
       "Name: hourly_exits, dtype: float64"
      ]
     },
     "execution_count": 9,
     "metadata": {},
     "output_type": "execute_result"
    }
   ],
   "source": [
    "df['hourly_exits'].describe(percentiles=[0.01, 0.999])"
   ]
  },
  {
   "cell_type": "code",
   "execution_count": 10,
   "metadata": {
    "collapsed": true,
    "nbpresent": {
     "id": "b1e69a60-3895-481d-be1b-0cb1edebdb58"
    }
   },
   "outputs": [],
   "source": [
    "for item in hourly:\n",
    "    df['good'] = df[item] <= 5000"
   ]
  },
  {
   "cell_type": "code",
   "execution_count": 11,
   "metadata": {
    "collapsed": false
   },
   "outputs": [
    {
     "data": {
      "text/plain": [
       "['hourly_entries', 'hourly_exits']"
      ]
     },
     "execution_count": 11,
     "metadata": {},
     "output_type": "execute_result"
    }
   ],
   "source": [
    "hourly"
   ]
  },
  {
   "cell_type": "code",
   "execution_count": 12,
   "metadata": {
    "collapsed": false
   },
   "outputs": [],
   "source": [
    "df['traffic'] = df[hourly].sum(axis=1)"
   ]
  },
  {
   "cell_type": "code",
   "execution_count": 13,
   "metadata": {
    "collapsed": true,
    "nbpresent": {
     "id": "b6dcbf5a-e15b-4ad0-800f-777926f2eb2e"
    }
   },
   "outputs": [],
   "source": [
    "#zip_codes with median income > $200k\n",
    "#and % commute to work by public transporation >= 70%\n",
    "potential_census_zips = [10024, 11217, 11238]"
   ]
  },
  {
   "cell_type": "code",
   "execution_count": 14,
   "metadata": {
    "collapsed": false
   },
   "outputs": [],
   "source": [
    "potential_stations = df[df['zip_code'].isin(potential_census_zips)]\n",
    "potential_stations = potential_stations[potential_stations['good']==True]"
   ]
  },
  {
   "cell_type": "code",
   "execution_count": 15,
   "metadata": {
    "collapsed": false
   },
   "outputs": [
    {
     "data": {
      "text/plain": [
       "4822"
      ]
     },
     "execution_count": 15,
     "metadata": {},
     "output_type": "execute_result"
    }
   ],
   "source": [
    "len(potential_stations)"
   ]
  },
  {
   "cell_type": "code",
   "execution_count": 16,
   "metadata": {
    "collapsed": false,
    "nbpresent": {
     "id": "de049c87-a4c4-4197-bafb-822c0d43e663"
    }
   },
   "outputs": [
    {
     "data": {
      "text/plain": [
       "['PROSPECT PARK',\n",
       " 'ATL AV-BARCLAY',\n",
       " '79 ST',\n",
       " 'ATLANTIC AV',\n",
       " '81 ST-MUSEUM',\n",
       " 'LAFAYETTE AV',\n",
       " 'CLASSON AV',\n",
       " 'NEVINS ST',\n",
       " 'GRAND ARMY PLAZ',\n",
       " 'EASTN PKWY-MUSM']"
      ]
     },
     "execution_count": 16,
     "metadata": {},
     "output_type": "execute_result"
    }
   ],
   "source": [
    "stations = list(potential_stations['station'].unique())\n",
    "stations"
   ]
  },
  {
   "cell_type": "code",
   "execution_count": 23,
   "metadata": {
    "collapsed": false
   },
   "outputs": [
    {
     "data": {
      "text/html": [
       "<div>\n",
       "<table border=\"1\" class=\"dataframe\">\n",
       "  <thead>\n",
       "    <tr style=\"text-align: right;\">\n",
       "      <th></th>\n",
       "      <th>area</th>\n",
       "      <th>unit</th>\n",
       "      <th>scp</th>\n",
       "      <th>station</th>\n",
       "      <th>date</th>\n",
       "      <th>time</th>\n",
       "      <th>entries</th>\n",
       "      <th>exits</th>\n",
       "      <th>hourly_entries</th>\n",
       "      <th>hourly_exits</th>\n",
       "      <th>zip_code</th>\n",
       "      <th>good</th>\n",
       "      <th>traffic</th>\n",
       "    </tr>\n",
       "  </thead>\n",
       "  <tbody>\n",
       "    <tr>\n",
       "      <th>187911</th>\n",
       "      <td>R608</td>\n",
       "      <td>R056</td>\n",
       "      <td>00-00-00</td>\n",
       "      <td>NEVINS ST</td>\n",
       "      <td>04/30/2016</td>\n",
       "      <td>04:00:00</td>\n",
       "      <td>847462</td>\n",
       "      <td>1493474</td>\n",
       "      <td>40.0</td>\n",
       "      <td>45.0</td>\n",
       "      <td>11217</td>\n",
       "      <td>True</td>\n",
       "      <td>85.0</td>\n",
       "    </tr>\n",
       "    <tr>\n",
       "      <th>187953</th>\n",
       "      <td>R608</td>\n",
       "      <td>R056</td>\n",
       "      <td>00-00-01</td>\n",
       "      <td>NEVINS ST</td>\n",
       "      <td>04/30/2016</td>\n",
       "      <td>04:00:00</td>\n",
       "      <td>8592045</td>\n",
       "      <td>4496105</td>\n",
       "      <td>13.0</td>\n",
       "      <td>14.0</td>\n",
       "      <td>11217</td>\n",
       "      <td>True</td>\n",
       "      <td>27.0</td>\n",
       "    </tr>\n",
       "    <tr>\n",
       "      <th>187995</th>\n",
       "      <td>R608</td>\n",
       "      <td>R056</td>\n",
       "      <td>00-03-00</td>\n",
       "      <td>NEVINS ST</td>\n",
       "      <td>04/30/2016</td>\n",
       "      <td>04:00:00</td>\n",
       "      <td>3899353</td>\n",
       "      <td>4156076</td>\n",
       "      <td>30.0</td>\n",
       "      <td>18.0</td>\n",
       "      <td>11217</td>\n",
       "      <td>True</td>\n",
       "      <td>48.0</td>\n",
       "    </tr>\n",
       "    <tr>\n",
       "      <th>188037</th>\n",
       "      <td>R608</td>\n",
       "      <td>R056</td>\n",
       "      <td>00-03-01</td>\n",
       "      <td>NEVINS ST</td>\n",
       "      <td>04/30/2016</td>\n",
       "      <td>04:00:00</td>\n",
       "      <td>2764594</td>\n",
       "      <td>1916360</td>\n",
       "      <td>15.0</td>\n",
       "      <td>16.0</td>\n",
       "      <td>11217</td>\n",
       "      <td>True</td>\n",
       "      <td>31.0</td>\n",
       "    </tr>\n",
       "    <tr>\n",
       "      <th>188079</th>\n",
       "      <td>R608</td>\n",
       "      <td>R056</td>\n",
       "      <td>00-03-02</td>\n",
       "      <td>NEVINS ST</td>\n",
       "      <td>04/30/2016</td>\n",
       "      <td>04:00:00</td>\n",
       "      <td>662640</td>\n",
       "      <td>271304</td>\n",
       "      <td>16.0</td>\n",
       "      <td>9.0</td>\n",
       "      <td>11217</td>\n",
       "      <td>True</td>\n",
       "      <td>25.0</td>\n",
       "    </tr>\n",
       "    <tr>\n",
       "      <th>188121</th>\n",
       "      <td>R609</td>\n",
       "      <td>R056</td>\n",
       "      <td>01-00-00</td>\n",
       "      <td>NEVINS ST</td>\n",
       "      <td>04/30/2016</td>\n",
       "      <td>04:00:00</td>\n",
       "      <td>791555</td>\n",
       "      <td>813572</td>\n",
       "      <td>8.0</td>\n",
       "      <td>3.0</td>\n",
       "      <td>11217</td>\n",
       "      <td>True</td>\n",
       "      <td>11.0</td>\n",
       "    </tr>\n",
       "    <tr>\n",
       "      <th>188167</th>\n",
       "      <td>R609</td>\n",
       "      <td>R056</td>\n",
       "      <td>01-00-01</td>\n",
       "      <td>NEVINS ST</td>\n",
       "      <td>04/30/2016</td>\n",
       "      <td>04:00:00</td>\n",
       "      <td>1458431</td>\n",
       "      <td>1004935</td>\n",
       "      <td>13.0</td>\n",
       "      <td>13.0</td>\n",
       "      <td>11217</td>\n",
       "      <td>True</td>\n",
       "      <td>26.0</td>\n",
       "    </tr>\n",
       "    <tr>\n",
       "      <th>188213</th>\n",
       "      <td>R609</td>\n",
       "      <td>R056</td>\n",
       "      <td>01-00-02</td>\n",
       "      <td>NEVINS ST</td>\n",
       "      <td>04/30/2016</td>\n",
       "      <td>04:00:00</td>\n",
       "      <td>3728682</td>\n",
       "      <td>1483432</td>\n",
       "      <td>21.0</td>\n",
       "      <td>6.0</td>\n",
       "      <td>11217</td>\n",
       "      <td>True</td>\n",
       "      <td>27.0</td>\n",
       "    </tr>\n",
       "    <tr>\n",
       "      <th>188259</th>\n",
       "      <td>R609</td>\n",
       "      <td>R056</td>\n",
       "      <td>01-03-00</td>\n",
       "      <td>NEVINS ST</td>\n",
       "      <td>04/30/2016</td>\n",
       "      <td>04:00:00</td>\n",
       "      <td>3592894</td>\n",
       "      <td>10454816</td>\n",
       "      <td>9.0</td>\n",
       "      <td>15.0</td>\n",
       "      <td>11217</td>\n",
       "      <td>True</td>\n",
       "      <td>24.0</td>\n",
       "    </tr>\n",
       "    <tr>\n",
       "      <th>188305</th>\n",
       "      <td>R609</td>\n",
       "      <td>R056</td>\n",
       "      <td>01-03-01</td>\n",
       "      <td>NEVINS ST</td>\n",
       "      <td>04/30/2016</td>\n",
       "      <td>04:00:00</td>\n",
       "      <td>1908826</td>\n",
       "      <td>1591480</td>\n",
       "      <td>16.0</td>\n",
       "      <td>14.0</td>\n",
       "      <td>11217</td>\n",
       "      <td>True</td>\n",
       "      <td>30.0</td>\n",
       "    </tr>\n",
       "    <tr>\n",
       "      <th>187912</th>\n",
       "      <td>R608</td>\n",
       "      <td>R056</td>\n",
       "      <td>00-00-00</td>\n",
       "      <td>NEVINS ST</td>\n",
       "      <td>04/30/2016</td>\n",
       "      <td>08:00:00</td>\n",
       "      <td>847489</td>\n",
       "      <td>1493535</td>\n",
       "      <td>27.0</td>\n",
       "      <td>61.0</td>\n",
       "      <td>11217</td>\n",
       "      <td>True</td>\n",
       "      <td>88.0</td>\n",
       "    </tr>\n",
       "    <tr>\n",
       "      <th>187954</th>\n",
       "      <td>R608</td>\n",
       "      <td>R056</td>\n",
       "      <td>00-00-01</td>\n",
       "      <td>NEVINS ST</td>\n",
       "      <td>04/30/2016</td>\n",
       "      <td>08:00:00</td>\n",
       "      <td>8592061</td>\n",
       "      <td>4496120</td>\n",
       "      <td>16.0</td>\n",
       "      <td>15.0</td>\n",
       "      <td>11217</td>\n",
       "      <td>True</td>\n",
       "      <td>31.0</td>\n",
       "    </tr>\n",
       "    <tr>\n",
       "      <th>187996</th>\n",
       "      <td>R608</td>\n",
       "      <td>R056</td>\n",
       "      <td>00-03-00</td>\n",
       "      <td>NEVINS ST</td>\n",
       "      <td>04/30/2016</td>\n",
       "      <td>08:00:00</td>\n",
       "      <td>3899371</td>\n",
       "      <td>4156098</td>\n",
       "      <td>18.0</td>\n",
       "      <td>22.0</td>\n",
       "      <td>11217</td>\n",
       "      <td>True</td>\n",
       "      <td>40.0</td>\n",
       "    </tr>\n",
       "    <tr>\n",
       "      <th>188038</th>\n",
       "      <td>R608</td>\n",
       "      <td>R056</td>\n",
       "      <td>00-03-01</td>\n",
       "      <td>NEVINS ST</td>\n",
       "      <td>04/30/2016</td>\n",
       "      <td>08:00:00</td>\n",
       "      <td>2764617</td>\n",
       "      <td>1916374</td>\n",
       "      <td>23.0</td>\n",
       "      <td>14.0</td>\n",
       "      <td>11217</td>\n",
       "      <td>True</td>\n",
       "      <td>37.0</td>\n",
       "    </tr>\n",
       "    <tr>\n",
       "      <th>188080</th>\n",
       "      <td>R608</td>\n",
       "      <td>R056</td>\n",
       "      <td>00-03-02</td>\n",
       "      <td>NEVINS ST</td>\n",
       "      <td>04/30/2016</td>\n",
       "      <td>08:00:00</td>\n",
       "      <td>662651</td>\n",
       "      <td>271307</td>\n",
       "      <td>11.0</td>\n",
       "      <td>3.0</td>\n",
       "      <td>11217</td>\n",
       "      <td>True</td>\n",
       "      <td>14.0</td>\n",
       "    </tr>\n",
       "    <tr>\n",
       "      <th>188122</th>\n",
       "      <td>R609</td>\n",
       "      <td>R056</td>\n",
       "      <td>01-00-00</td>\n",
       "      <td>NEVINS ST</td>\n",
       "      <td>04/30/2016</td>\n",
       "      <td>08:00:00</td>\n",
       "      <td>791563</td>\n",
       "      <td>813587</td>\n",
       "      <td>8.0</td>\n",
       "      <td>15.0</td>\n",
       "      <td>11217</td>\n",
       "      <td>True</td>\n",
       "      <td>23.0</td>\n",
       "    </tr>\n",
       "    <tr>\n",
       "      <th>188168</th>\n",
       "      <td>R609</td>\n",
       "      <td>R056</td>\n",
       "      <td>01-00-01</td>\n",
       "      <td>NEVINS ST</td>\n",
       "      <td>04/30/2016</td>\n",
       "      <td>08:00:00</td>\n",
       "      <td>1458471</td>\n",
       "      <td>1004965</td>\n",
       "      <td>40.0</td>\n",
       "      <td>30.0</td>\n",
       "      <td>11217</td>\n",
       "      <td>True</td>\n",
       "      <td>70.0</td>\n",
       "    </tr>\n",
       "    <tr>\n",
       "      <th>188214</th>\n",
       "      <td>R609</td>\n",
       "      <td>R056</td>\n",
       "      <td>01-00-02</td>\n",
       "      <td>NEVINS ST</td>\n",
       "      <td>04/30/2016</td>\n",
       "      <td>08:00:00</td>\n",
       "      <td>3728719</td>\n",
       "      <td>1483474</td>\n",
       "      <td>37.0</td>\n",
       "      <td>42.0</td>\n",
       "      <td>11217</td>\n",
       "      <td>True</td>\n",
       "      <td>79.0</td>\n",
       "    </tr>\n",
       "    <tr>\n",
       "      <th>188260</th>\n",
       "      <td>R609</td>\n",
       "      <td>R056</td>\n",
       "      <td>01-03-00</td>\n",
       "      <td>NEVINS ST</td>\n",
       "      <td>04/30/2016</td>\n",
       "      <td>08:00:00</td>\n",
       "      <td>3592904</td>\n",
       "      <td>10454867</td>\n",
       "      <td>10.0</td>\n",
       "      <td>51.0</td>\n",
       "      <td>11217</td>\n",
       "      <td>True</td>\n",
       "      <td>61.0</td>\n",
       "    </tr>\n",
       "    <tr>\n",
       "      <th>188306</th>\n",
       "      <td>R609</td>\n",
       "      <td>R056</td>\n",
       "      <td>01-03-01</td>\n",
       "      <td>NEVINS ST</td>\n",
       "      <td>04/30/2016</td>\n",
       "      <td>08:00:00</td>\n",
       "      <td>1908850</td>\n",
       "      <td>1591528</td>\n",
       "      <td>24.0</td>\n",
       "      <td>48.0</td>\n",
       "      <td>11217</td>\n",
       "      <td>True</td>\n",
       "      <td>72.0</td>\n",
       "    </tr>\n",
       "    <tr>\n",
       "      <th>187913</th>\n",
       "      <td>R608</td>\n",
       "      <td>R056</td>\n",
       "      <td>00-00-00</td>\n",
       "      <td>NEVINS ST</td>\n",
       "      <td>04/30/2016</td>\n",
       "      <td>12:00:00</td>\n",
       "      <td>847565</td>\n",
       "      <td>1493654</td>\n",
       "      <td>76.0</td>\n",
       "      <td>119.0</td>\n",
       "      <td>11217</td>\n",
       "      <td>True</td>\n",
       "      <td>195.0</td>\n",
       "    </tr>\n",
       "    <tr>\n",
       "      <th>187955</th>\n",
       "      <td>R608</td>\n",
       "      <td>R056</td>\n",
       "      <td>00-00-01</td>\n",
       "      <td>NEVINS ST</td>\n",
       "      <td>04/30/2016</td>\n",
       "      <td>12:00:00</td>\n",
       "      <td>8592132</td>\n",
       "      <td>4496167</td>\n",
       "      <td>71.0</td>\n",
       "      <td>47.0</td>\n",
       "      <td>11217</td>\n",
       "      <td>True</td>\n",
       "      <td>118.0</td>\n",
       "    </tr>\n",
       "    <tr>\n",
       "      <th>187997</th>\n",
       "      <td>R608</td>\n",
       "      <td>R056</td>\n",
       "      <td>00-03-00</td>\n",
       "      <td>NEVINS ST</td>\n",
       "      <td>04/30/2016</td>\n",
       "      <td>12:00:00</td>\n",
       "      <td>3899470</td>\n",
       "      <td>4156167</td>\n",
       "      <td>99.0</td>\n",
       "      <td>69.0</td>\n",
       "      <td>11217</td>\n",
       "      <td>True</td>\n",
       "      <td>168.0</td>\n",
       "    </tr>\n",
       "    <tr>\n",
       "      <th>188039</th>\n",
       "      <td>R608</td>\n",
       "      <td>R056</td>\n",
       "      <td>00-03-01</td>\n",
       "      <td>NEVINS ST</td>\n",
       "      <td>04/30/2016</td>\n",
       "      <td>12:00:00</td>\n",
       "      <td>2764690</td>\n",
       "      <td>1916416</td>\n",
       "      <td>73.0</td>\n",
       "      <td>42.0</td>\n",
       "      <td>11217</td>\n",
       "      <td>True</td>\n",
       "      <td>115.0</td>\n",
       "    </tr>\n",
       "    <tr>\n",
       "      <th>188081</th>\n",
       "      <td>R608</td>\n",
       "      <td>R056</td>\n",
       "      <td>00-03-02</td>\n",
       "      <td>NEVINS ST</td>\n",
       "      <td>04/30/2016</td>\n",
       "      <td>12:00:00</td>\n",
       "      <td>662691</td>\n",
       "      <td>271322</td>\n",
       "      <td>40.0</td>\n",
       "      <td>15.0</td>\n",
       "      <td>11217</td>\n",
       "      <td>True</td>\n",
       "      <td>55.0</td>\n",
       "    </tr>\n",
       "    <tr>\n",
       "      <th>188123</th>\n",
       "      <td>R609</td>\n",
       "      <td>R056</td>\n",
       "      <td>01-00-00</td>\n",
       "      <td>NEVINS ST</td>\n",
       "      <td>04/30/2016</td>\n",
       "      <td>12:00:00</td>\n",
       "      <td>791615</td>\n",
       "      <td>813662</td>\n",
       "      <td>52.0</td>\n",
       "      <td>75.0</td>\n",
       "      <td>11217</td>\n",
       "      <td>True</td>\n",
       "      <td>127.0</td>\n",
       "    </tr>\n",
       "    <tr>\n",
       "      <th>188169</th>\n",
       "      <td>R609</td>\n",
       "      <td>R056</td>\n",
       "      <td>01-00-01</td>\n",
       "      <td>NEVINS ST</td>\n",
       "      <td>04/30/2016</td>\n",
       "      <td>12:00:00</td>\n",
       "      <td>1458569</td>\n",
       "      <td>1005104</td>\n",
       "      <td>98.0</td>\n",
       "      <td>139.0</td>\n",
       "      <td>11217</td>\n",
       "      <td>True</td>\n",
       "      <td>237.0</td>\n",
       "    </tr>\n",
       "    <tr>\n",
       "      <th>188215</th>\n",
       "      <td>R609</td>\n",
       "      <td>R056</td>\n",
       "      <td>01-00-02</td>\n",
       "      <td>NEVINS ST</td>\n",
       "      <td>04/30/2016</td>\n",
       "      <td>12:00:00</td>\n",
       "      <td>3728877</td>\n",
       "      <td>1483599</td>\n",
       "      <td>158.0</td>\n",
       "      <td>125.0</td>\n",
       "      <td>11217</td>\n",
       "      <td>True</td>\n",
       "      <td>283.0</td>\n",
       "    </tr>\n",
       "    <tr>\n",
       "      <th>188261</th>\n",
       "      <td>R609</td>\n",
       "      <td>R056</td>\n",
       "      <td>01-03-00</td>\n",
       "      <td>NEVINS ST</td>\n",
       "      <td>04/30/2016</td>\n",
       "      <td>12:00:00</td>\n",
       "      <td>3592933</td>\n",
       "      <td>10455052</td>\n",
       "      <td>29.0</td>\n",
       "      <td>185.0</td>\n",
       "      <td>11217</td>\n",
       "      <td>True</td>\n",
       "      <td>214.0</td>\n",
       "    </tr>\n",
       "    <tr>\n",
       "      <th>188307</th>\n",
       "      <td>R609</td>\n",
       "      <td>R056</td>\n",
       "      <td>01-03-01</td>\n",
       "      <td>NEVINS ST</td>\n",
       "      <td>04/30/2016</td>\n",
       "      <td>12:00:00</td>\n",
       "      <td>1908948</td>\n",
       "      <td>1591671</td>\n",
       "      <td>98.0</td>\n",
       "      <td>143.0</td>\n",
       "      <td>11217</td>\n",
       "      <td>True</td>\n",
       "      <td>241.0</td>\n",
       "    </tr>\n",
       "    <tr>\n",
       "      <th>...</th>\n",
       "      <td>...</td>\n",
       "      <td>...</td>\n",
       "      <td>...</td>\n",
       "      <td>...</td>\n",
       "      <td>...</td>\n",
       "      <td>...</td>\n",
       "      <td>...</td>\n",
       "      <td>...</td>\n",
       "      <td>...</td>\n",
       "      <td>...</td>\n",
       "      <td>...</td>\n",
       "      <td>...</td>\n",
       "      <td>...</td>\n",
       "    </tr>\n",
       "    <tr>\n",
       "      <th>61922</th>\n",
       "      <td>H035</td>\n",
       "      <td>R348</td>\n",
       "      <td>00-00-01</td>\n",
       "      <td>ATLANTIC AV</td>\n",
       "      <td>04/30/2016</td>\n",
       "      <td>16:00:00</td>\n",
       "      <td>528781</td>\n",
       "      <td>193401</td>\n",
       "      <td>0.0</td>\n",
       "      <td>4.0</td>\n",
       "      <td>11217</td>\n",
       "      <td>True</td>\n",
       "      <td>4.0</td>\n",
       "    </tr>\n",
       "    <tr>\n",
       "      <th>61966</th>\n",
       "      <td>H035</td>\n",
       "      <td>R348</td>\n",
       "      <td>00-00-02</td>\n",
       "      <td>ATLANTIC AV</td>\n",
       "      <td>04/30/2016</td>\n",
       "      <td>16:00:00</td>\n",
       "      <td>974715</td>\n",
       "      <td>498441</td>\n",
       "      <td>1.0</td>\n",
       "      <td>9.0</td>\n",
       "      <td>11217</td>\n",
       "      <td>True</td>\n",
       "      <td>10.0</td>\n",
       "    </tr>\n",
       "    <tr>\n",
       "      <th>61879</th>\n",
       "      <td>H035</td>\n",
       "      <td>R348</td>\n",
       "      <td>00-00-00</td>\n",
       "      <td>ATLANTIC AV</td>\n",
       "      <td>04/30/2016</td>\n",
       "      <td>20:00:00</td>\n",
       "      <td>281893</td>\n",
       "      <td>55332</td>\n",
       "      <td>0.0</td>\n",
       "      <td>1.0</td>\n",
       "      <td>11217</td>\n",
       "      <td>True</td>\n",
       "      <td>1.0</td>\n",
       "    </tr>\n",
       "    <tr>\n",
       "      <th>61923</th>\n",
       "      <td>H035</td>\n",
       "      <td>R348</td>\n",
       "      <td>00-00-01</td>\n",
       "      <td>ATLANTIC AV</td>\n",
       "      <td>04/30/2016</td>\n",
       "      <td>20:00:00</td>\n",
       "      <td>528781</td>\n",
       "      <td>193405</td>\n",
       "      <td>0.0</td>\n",
       "      <td>4.0</td>\n",
       "      <td>11217</td>\n",
       "      <td>True</td>\n",
       "      <td>4.0</td>\n",
       "    </tr>\n",
       "    <tr>\n",
       "      <th>61967</th>\n",
       "      <td>H035</td>\n",
       "      <td>R348</td>\n",
       "      <td>00-00-02</td>\n",
       "      <td>ATLANTIC AV</td>\n",
       "      <td>04/30/2016</td>\n",
       "      <td>20:00:00</td>\n",
       "      <td>974716</td>\n",
       "      <td>498446</td>\n",
       "      <td>1.0</td>\n",
       "      <td>5.0</td>\n",
       "      <td>11217</td>\n",
       "      <td>True</td>\n",
       "      <td>6.0</td>\n",
       "    </tr>\n",
       "    <tr>\n",
       "      <th>55313</th>\n",
       "      <td>E011</td>\n",
       "      <td>R371</td>\n",
       "      <td>00-00-00</td>\n",
       "      <td>79 ST</td>\n",
       "      <td>04/30/2016</td>\n",
       "      <td>04:00:00</td>\n",
       "      <td>9538511</td>\n",
       "      <td>8163208</td>\n",
       "      <td>7.0</td>\n",
       "      <td>47.0</td>\n",
       "      <td>10024</td>\n",
       "      <td>True</td>\n",
       "      <td>54.0</td>\n",
       "    </tr>\n",
       "    <tr>\n",
       "      <th>55355</th>\n",
       "      <td>E011</td>\n",
       "      <td>R371</td>\n",
       "      <td>00-00-01</td>\n",
       "      <td>79 ST</td>\n",
       "      <td>04/30/2016</td>\n",
       "      <td>04:00:00</td>\n",
       "      <td>3753490</td>\n",
       "      <td>1509452</td>\n",
       "      <td>0.0</td>\n",
       "      <td>8.0</td>\n",
       "      <td>10024</td>\n",
       "      <td>True</td>\n",
       "      <td>8.0</td>\n",
       "    </tr>\n",
       "    <tr>\n",
       "      <th>55397</th>\n",
       "      <td>E011</td>\n",
       "      <td>R371</td>\n",
       "      <td>00-00-02</td>\n",
       "      <td>79 ST</td>\n",
       "      <td>04/30/2016</td>\n",
       "      <td>04:00:00</td>\n",
       "      <td>8825201</td>\n",
       "      <td>2603841</td>\n",
       "      <td>14.0</td>\n",
       "      <td>12.0</td>\n",
       "      <td>10024</td>\n",
       "      <td>True</td>\n",
       "      <td>26.0</td>\n",
       "    </tr>\n",
       "    <tr>\n",
       "      <th>55439</th>\n",
       "      <td>E011</td>\n",
       "      <td>R371</td>\n",
       "      <td>00-06-00</td>\n",
       "      <td>79 ST</td>\n",
       "      <td>04/30/2016</td>\n",
       "      <td>04:00:00</td>\n",
       "      <td>2325651</td>\n",
       "      <td>375023</td>\n",
       "      <td>7.0</td>\n",
       "      <td>3.0</td>\n",
       "      <td>10024</td>\n",
       "      <td>True</td>\n",
       "      <td>10.0</td>\n",
       "    </tr>\n",
       "    <tr>\n",
       "      <th>55481</th>\n",
       "      <td>E011</td>\n",
       "      <td>R371</td>\n",
       "      <td>00-06-01</td>\n",
       "      <td>79 ST</td>\n",
       "      <td>04/30/2016</td>\n",
       "      <td>04:00:00</td>\n",
       "      <td>117600295</td>\n",
       "      <td>313148</td>\n",
       "      <td>0.0</td>\n",
       "      <td>36.0</td>\n",
       "      <td>10024</td>\n",
       "      <td>True</td>\n",
       "      <td>36.0</td>\n",
       "    </tr>\n",
       "    <tr>\n",
       "      <th>55314</th>\n",
       "      <td>E011</td>\n",
       "      <td>R371</td>\n",
       "      <td>00-00-00</td>\n",
       "      <td>79 ST</td>\n",
       "      <td>04/30/2016</td>\n",
       "      <td>08:00:00</td>\n",
       "      <td>9538660</td>\n",
       "      <td>8163231</td>\n",
       "      <td>149.0</td>\n",
       "      <td>23.0</td>\n",
       "      <td>10024</td>\n",
       "      <td>True</td>\n",
       "      <td>172.0</td>\n",
       "    </tr>\n",
       "    <tr>\n",
       "      <th>55356</th>\n",
       "      <td>E011</td>\n",
       "      <td>R371</td>\n",
       "      <td>00-00-01</td>\n",
       "      <td>79 ST</td>\n",
       "      <td>04/30/2016</td>\n",
       "      <td>08:00:00</td>\n",
       "      <td>3753549</td>\n",
       "      <td>1509456</td>\n",
       "      <td>59.0</td>\n",
       "      <td>4.0</td>\n",
       "      <td>10024</td>\n",
       "      <td>True</td>\n",
       "      <td>63.0</td>\n",
       "    </tr>\n",
       "    <tr>\n",
       "      <th>55398</th>\n",
       "      <td>E011</td>\n",
       "      <td>R371</td>\n",
       "      <td>00-00-02</td>\n",
       "      <td>79 ST</td>\n",
       "      <td>04/30/2016</td>\n",
       "      <td>08:00:00</td>\n",
       "      <td>8825244</td>\n",
       "      <td>2603844</td>\n",
       "      <td>43.0</td>\n",
       "      <td>3.0</td>\n",
       "      <td>10024</td>\n",
       "      <td>True</td>\n",
       "      <td>46.0</td>\n",
       "    </tr>\n",
       "    <tr>\n",
       "      <th>55440</th>\n",
       "      <td>E011</td>\n",
       "      <td>R371</td>\n",
       "      <td>00-06-00</td>\n",
       "      <td>79 ST</td>\n",
       "      <td>04/30/2016</td>\n",
       "      <td>08:00:00</td>\n",
       "      <td>2325654</td>\n",
       "      <td>375023</td>\n",
       "      <td>3.0</td>\n",
       "      <td>0.0</td>\n",
       "      <td>10024</td>\n",
       "      <td>True</td>\n",
       "      <td>3.0</td>\n",
       "    </tr>\n",
       "    <tr>\n",
       "      <th>55482</th>\n",
       "      <td>E011</td>\n",
       "      <td>R371</td>\n",
       "      <td>00-06-01</td>\n",
       "      <td>79 ST</td>\n",
       "      <td>04/30/2016</td>\n",
       "      <td>08:00:00</td>\n",
       "      <td>117600380</td>\n",
       "      <td>313160</td>\n",
       "      <td>85.0</td>\n",
       "      <td>12.0</td>\n",
       "      <td>10024</td>\n",
       "      <td>True</td>\n",
       "      <td>97.0</td>\n",
       "    </tr>\n",
       "    <tr>\n",
       "      <th>55315</th>\n",
       "      <td>E011</td>\n",
       "      <td>R371</td>\n",
       "      <td>00-00-00</td>\n",
       "      <td>79 ST</td>\n",
       "      <td>04/30/2016</td>\n",
       "      <td>12:00:00</td>\n",
       "      <td>9538971</td>\n",
       "      <td>8163288</td>\n",
       "      <td>311.0</td>\n",
       "      <td>57.0</td>\n",
       "      <td>10024</td>\n",
       "      <td>True</td>\n",
       "      <td>368.0</td>\n",
       "    </tr>\n",
       "    <tr>\n",
       "      <th>55357</th>\n",
       "      <td>E011</td>\n",
       "      <td>R371</td>\n",
       "      <td>00-00-01</td>\n",
       "      <td>79 ST</td>\n",
       "      <td>04/30/2016</td>\n",
       "      <td>12:00:00</td>\n",
       "      <td>3753702</td>\n",
       "      <td>1509473</td>\n",
       "      <td>153.0</td>\n",
       "      <td>17.0</td>\n",
       "      <td>10024</td>\n",
       "      <td>True</td>\n",
       "      <td>170.0</td>\n",
       "    </tr>\n",
       "    <tr>\n",
       "      <th>55399</th>\n",
       "      <td>E011</td>\n",
       "      <td>R371</td>\n",
       "      <td>00-00-02</td>\n",
       "      <td>79 ST</td>\n",
       "      <td>04/30/2016</td>\n",
       "      <td>12:00:00</td>\n",
       "      <td>8825387</td>\n",
       "      <td>2603852</td>\n",
       "      <td>143.0</td>\n",
       "      <td>8.0</td>\n",
       "      <td>10024</td>\n",
       "      <td>True</td>\n",
       "      <td>151.0</td>\n",
       "    </tr>\n",
       "    <tr>\n",
       "      <th>55441</th>\n",
       "      <td>E011</td>\n",
       "      <td>R371</td>\n",
       "      <td>00-06-00</td>\n",
       "      <td>79 ST</td>\n",
       "      <td>04/30/2016</td>\n",
       "      <td>12:00:00</td>\n",
       "      <td>2325654</td>\n",
       "      <td>375024</td>\n",
       "      <td>0.0</td>\n",
       "      <td>1.0</td>\n",
       "      <td>10024</td>\n",
       "      <td>True</td>\n",
       "      <td>1.0</td>\n",
       "    </tr>\n",
       "    <tr>\n",
       "      <th>55483</th>\n",
       "      <td>E011</td>\n",
       "      <td>R371</td>\n",
       "      <td>00-06-01</td>\n",
       "      <td>79 ST</td>\n",
       "      <td>04/30/2016</td>\n",
       "      <td>12:00:00</td>\n",
       "      <td>117600583</td>\n",
       "      <td>313209</td>\n",
       "      <td>203.0</td>\n",
       "      <td>49.0</td>\n",
       "      <td>10024</td>\n",
       "      <td>True</td>\n",
       "      <td>252.0</td>\n",
       "    </tr>\n",
       "    <tr>\n",
       "      <th>55316</th>\n",
       "      <td>E011</td>\n",
       "      <td>R371</td>\n",
       "      <td>00-00-00</td>\n",
       "      <td>79 ST</td>\n",
       "      <td>04/30/2016</td>\n",
       "      <td>16:00:00</td>\n",
       "      <td>9539124</td>\n",
       "      <td>8163370</td>\n",
       "      <td>153.0</td>\n",
       "      <td>82.0</td>\n",
       "      <td>10024</td>\n",
       "      <td>True</td>\n",
       "      <td>235.0</td>\n",
       "    </tr>\n",
       "    <tr>\n",
       "      <th>55358</th>\n",
       "      <td>E011</td>\n",
       "      <td>R371</td>\n",
       "      <td>00-00-01</td>\n",
       "      <td>79 ST</td>\n",
       "      <td>04/30/2016</td>\n",
       "      <td>16:00:00</td>\n",
       "      <td>3753776</td>\n",
       "      <td>1509500</td>\n",
       "      <td>74.0</td>\n",
       "      <td>27.0</td>\n",
       "      <td>10024</td>\n",
       "      <td>True</td>\n",
       "      <td>101.0</td>\n",
       "    </tr>\n",
       "    <tr>\n",
       "      <th>55400</th>\n",
       "      <td>E011</td>\n",
       "      <td>R371</td>\n",
       "      <td>00-00-02</td>\n",
       "      <td>79 ST</td>\n",
       "      <td>04/30/2016</td>\n",
       "      <td>16:00:00</td>\n",
       "      <td>8825436</td>\n",
       "      <td>2603867</td>\n",
       "      <td>49.0</td>\n",
       "      <td>15.0</td>\n",
       "      <td>10024</td>\n",
       "      <td>True</td>\n",
       "      <td>64.0</td>\n",
       "    </tr>\n",
       "    <tr>\n",
       "      <th>55442</th>\n",
       "      <td>E011</td>\n",
       "      <td>R371</td>\n",
       "      <td>00-06-00</td>\n",
       "      <td>79 ST</td>\n",
       "      <td>04/30/2016</td>\n",
       "      <td>16:00:00</td>\n",
       "      <td>2325654</td>\n",
       "      <td>375026</td>\n",
       "      <td>0.0</td>\n",
       "      <td>2.0</td>\n",
       "      <td>10024</td>\n",
       "      <td>True</td>\n",
       "      <td>2.0</td>\n",
       "    </tr>\n",
       "    <tr>\n",
       "      <th>55484</th>\n",
       "      <td>E011</td>\n",
       "      <td>R371</td>\n",
       "      <td>00-06-01</td>\n",
       "      <td>79 ST</td>\n",
       "      <td>04/30/2016</td>\n",
       "      <td>16:00:00</td>\n",
       "      <td>117600703</td>\n",
       "      <td>313268</td>\n",
       "      <td>120.0</td>\n",
       "      <td>59.0</td>\n",
       "      <td>10024</td>\n",
       "      <td>True</td>\n",
       "      <td>179.0</td>\n",
       "    </tr>\n",
       "    <tr>\n",
       "      <th>55317</th>\n",
       "      <td>E011</td>\n",
       "      <td>R371</td>\n",
       "      <td>00-00-00</td>\n",
       "      <td>79 ST</td>\n",
       "      <td>04/30/2016</td>\n",
       "      <td>20:00:00</td>\n",
       "      <td>9539259</td>\n",
       "      <td>8163511</td>\n",
       "      <td>135.0</td>\n",
       "      <td>141.0</td>\n",
       "      <td>10024</td>\n",
       "      <td>True</td>\n",
       "      <td>276.0</td>\n",
       "    </tr>\n",
       "    <tr>\n",
       "      <th>55359</th>\n",
       "      <td>E011</td>\n",
       "      <td>R371</td>\n",
       "      <td>00-00-01</td>\n",
       "      <td>79 ST</td>\n",
       "      <td>04/30/2016</td>\n",
       "      <td>20:00:00</td>\n",
       "      <td>3753825</td>\n",
       "      <td>1509561</td>\n",
       "      <td>49.0</td>\n",
       "      <td>61.0</td>\n",
       "      <td>10024</td>\n",
       "      <td>True</td>\n",
       "      <td>110.0</td>\n",
       "    </tr>\n",
       "    <tr>\n",
       "      <th>55401</th>\n",
       "      <td>E011</td>\n",
       "      <td>R371</td>\n",
       "      <td>00-00-02</td>\n",
       "      <td>79 ST</td>\n",
       "      <td>04/30/2016</td>\n",
       "      <td>20:00:00</td>\n",
       "      <td>8825480</td>\n",
       "      <td>2603883</td>\n",
       "      <td>44.0</td>\n",
       "      <td>16.0</td>\n",
       "      <td>10024</td>\n",
       "      <td>True</td>\n",
       "      <td>60.0</td>\n",
       "    </tr>\n",
       "    <tr>\n",
       "      <th>55443</th>\n",
       "      <td>E011</td>\n",
       "      <td>R371</td>\n",
       "      <td>00-06-00</td>\n",
       "      <td>79 ST</td>\n",
       "      <td>04/30/2016</td>\n",
       "      <td>20:00:00</td>\n",
       "      <td>2325654</td>\n",
       "      <td>375027</td>\n",
       "      <td>0.0</td>\n",
       "      <td>1.0</td>\n",
       "      <td>10024</td>\n",
       "      <td>True</td>\n",
       "      <td>1.0</td>\n",
       "    </tr>\n",
       "    <tr>\n",
       "      <th>55485</th>\n",
       "      <td>E011</td>\n",
       "      <td>R371</td>\n",
       "      <td>00-06-01</td>\n",
       "      <td>79 ST</td>\n",
       "      <td>04/30/2016</td>\n",
       "      <td>20:00:00</td>\n",
       "      <td>117600796</td>\n",
       "      <td>313375</td>\n",
       "      <td>93.0</td>\n",
       "      <td>107.0</td>\n",
       "      <td>10024</td>\n",
       "      <td>True</td>\n",
       "      <td>200.0</td>\n",
       "    </tr>\n",
       "  </tbody>\n",
       "</table>\n",
       "<p>582 rows × 13 columns</p>\n",
       "</div>"
      ],
      "text/plain": [
       "        area  unit       scp      station        date      time    entries  \\\n",
       "187911  R608  R056  00-00-00    NEVINS ST  04/30/2016  04:00:00     847462   \n",
       "187953  R608  R056  00-00-01    NEVINS ST  04/30/2016  04:00:00    8592045   \n",
       "187995  R608  R056  00-03-00    NEVINS ST  04/30/2016  04:00:00    3899353   \n",
       "188037  R608  R056  00-03-01    NEVINS ST  04/30/2016  04:00:00    2764594   \n",
       "188079  R608  R056  00-03-02    NEVINS ST  04/30/2016  04:00:00     662640   \n",
       "188121  R609  R056  01-00-00    NEVINS ST  04/30/2016  04:00:00     791555   \n",
       "188167  R609  R056  01-00-01    NEVINS ST  04/30/2016  04:00:00    1458431   \n",
       "188213  R609  R056  01-00-02    NEVINS ST  04/30/2016  04:00:00    3728682   \n",
       "188259  R609  R056  01-03-00    NEVINS ST  04/30/2016  04:00:00    3592894   \n",
       "188305  R609  R056  01-03-01    NEVINS ST  04/30/2016  04:00:00    1908826   \n",
       "187912  R608  R056  00-00-00    NEVINS ST  04/30/2016  08:00:00     847489   \n",
       "187954  R608  R056  00-00-01    NEVINS ST  04/30/2016  08:00:00    8592061   \n",
       "187996  R608  R056  00-03-00    NEVINS ST  04/30/2016  08:00:00    3899371   \n",
       "188038  R608  R056  00-03-01    NEVINS ST  04/30/2016  08:00:00    2764617   \n",
       "188080  R608  R056  00-03-02    NEVINS ST  04/30/2016  08:00:00     662651   \n",
       "188122  R609  R056  01-00-00    NEVINS ST  04/30/2016  08:00:00     791563   \n",
       "188168  R609  R056  01-00-01    NEVINS ST  04/30/2016  08:00:00    1458471   \n",
       "188214  R609  R056  01-00-02    NEVINS ST  04/30/2016  08:00:00    3728719   \n",
       "188260  R609  R056  01-03-00    NEVINS ST  04/30/2016  08:00:00    3592904   \n",
       "188306  R609  R056  01-03-01    NEVINS ST  04/30/2016  08:00:00    1908850   \n",
       "187913  R608  R056  00-00-00    NEVINS ST  04/30/2016  12:00:00     847565   \n",
       "187955  R608  R056  00-00-01    NEVINS ST  04/30/2016  12:00:00    8592132   \n",
       "187997  R608  R056  00-03-00    NEVINS ST  04/30/2016  12:00:00    3899470   \n",
       "188039  R608  R056  00-03-01    NEVINS ST  04/30/2016  12:00:00    2764690   \n",
       "188081  R608  R056  00-03-02    NEVINS ST  04/30/2016  12:00:00     662691   \n",
       "188123  R609  R056  01-00-00    NEVINS ST  04/30/2016  12:00:00     791615   \n",
       "188169  R609  R056  01-00-01    NEVINS ST  04/30/2016  12:00:00    1458569   \n",
       "188215  R609  R056  01-00-02    NEVINS ST  04/30/2016  12:00:00    3728877   \n",
       "188261  R609  R056  01-03-00    NEVINS ST  04/30/2016  12:00:00    3592933   \n",
       "188307  R609  R056  01-03-01    NEVINS ST  04/30/2016  12:00:00    1908948   \n",
       "...      ...   ...       ...          ...         ...       ...        ...   \n",
       "61922   H035  R348  00-00-01  ATLANTIC AV  04/30/2016  16:00:00     528781   \n",
       "61966   H035  R348  00-00-02  ATLANTIC AV  04/30/2016  16:00:00     974715   \n",
       "61879   H035  R348  00-00-00  ATLANTIC AV  04/30/2016  20:00:00     281893   \n",
       "61923   H035  R348  00-00-01  ATLANTIC AV  04/30/2016  20:00:00     528781   \n",
       "61967   H035  R348  00-00-02  ATLANTIC AV  04/30/2016  20:00:00     974716   \n",
       "55313   E011  R371  00-00-00        79 ST  04/30/2016  04:00:00    9538511   \n",
       "55355   E011  R371  00-00-01        79 ST  04/30/2016  04:00:00    3753490   \n",
       "55397   E011  R371  00-00-02        79 ST  04/30/2016  04:00:00    8825201   \n",
       "55439   E011  R371  00-06-00        79 ST  04/30/2016  04:00:00    2325651   \n",
       "55481   E011  R371  00-06-01        79 ST  04/30/2016  04:00:00  117600295   \n",
       "55314   E011  R371  00-00-00        79 ST  04/30/2016  08:00:00    9538660   \n",
       "55356   E011  R371  00-00-01        79 ST  04/30/2016  08:00:00    3753549   \n",
       "55398   E011  R371  00-00-02        79 ST  04/30/2016  08:00:00    8825244   \n",
       "55440   E011  R371  00-06-00        79 ST  04/30/2016  08:00:00    2325654   \n",
       "55482   E011  R371  00-06-01        79 ST  04/30/2016  08:00:00  117600380   \n",
       "55315   E011  R371  00-00-00        79 ST  04/30/2016  12:00:00    9538971   \n",
       "55357   E011  R371  00-00-01        79 ST  04/30/2016  12:00:00    3753702   \n",
       "55399   E011  R371  00-00-02        79 ST  04/30/2016  12:00:00    8825387   \n",
       "55441   E011  R371  00-06-00        79 ST  04/30/2016  12:00:00    2325654   \n",
       "55483   E011  R371  00-06-01        79 ST  04/30/2016  12:00:00  117600583   \n",
       "55316   E011  R371  00-00-00        79 ST  04/30/2016  16:00:00    9539124   \n",
       "55358   E011  R371  00-00-01        79 ST  04/30/2016  16:00:00    3753776   \n",
       "55400   E011  R371  00-00-02        79 ST  04/30/2016  16:00:00    8825436   \n",
       "55442   E011  R371  00-06-00        79 ST  04/30/2016  16:00:00    2325654   \n",
       "55484   E011  R371  00-06-01        79 ST  04/30/2016  16:00:00  117600703   \n",
       "55317   E011  R371  00-00-00        79 ST  04/30/2016  20:00:00    9539259   \n",
       "55359   E011  R371  00-00-01        79 ST  04/30/2016  20:00:00    3753825   \n",
       "55401   E011  R371  00-00-02        79 ST  04/30/2016  20:00:00    8825480   \n",
       "55443   E011  R371  00-06-00        79 ST  04/30/2016  20:00:00    2325654   \n",
       "55485   E011  R371  00-06-01        79 ST  04/30/2016  20:00:00  117600796   \n",
       "\n",
       "           exits  hourly_entries  hourly_exits  zip_code  good  traffic  \n",
       "187911   1493474            40.0          45.0     11217  True     85.0  \n",
       "187953   4496105            13.0          14.0     11217  True     27.0  \n",
       "187995   4156076            30.0          18.0     11217  True     48.0  \n",
       "188037   1916360            15.0          16.0     11217  True     31.0  \n",
       "188079    271304            16.0           9.0     11217  True     25.0  \n",
       "188121    813572             8.0           3.0     11217  True     11.0  \n",
       "188167   1004935            13.0          13.0     11217  True     26.0  \n",
       "188213   1483432            21.0           6.0     11217  True     27.0  \n",
       "188259  10454816             9.0          15.0     11217  True     24.0  \n",
       "188305   1591480            16.0          14.0     11217  True     30.0  \n",
       "187912   1493535            27.0          61.0     11217  True     88.0  \n",
       "187954   4496120            16.0          15.0     11217  True     31.0  \n",
       "187996   4156098            18.0          22.0     11217  True     40.0  \n",
       "188038   1916374            23.0          14.0     11217  True     37.0  \n",
       "188080    271307            11.0           3.0     11217  True     14.0  \n",
       "188122    813587             8.0          15.0     11217  True     23.0  \n",
       "188168   1004965            40.0          30.0     11217  True     70.0  \n",
       "188214   1483474            37.0          42.0     11217  True     79.0  \n",
       "188260  10454867            10.0          51.0     11217  True     61.0  \n",
       "188306   1591528            24.0          48.0     11217  True     72.0  \n",
       "187913   1493654            76.0         119.0     11217  True    195.0  \n",
       "187955   4496167            71.0          47.0     11217  True    118.0  \n",
       "187997   4156167            99.0          69.0     11217  True    168.0  \n",
       "188039   1916416            73.0          42.0     11217  True    115.0  \n",
       "188081    271322            40.0          15.0     11217  True     55.0  \n",
       "188123    813662            52.0          75.0     11217  True    127.0  \n",
       "188169   1005104            98.0         139.0     11217  True    237.0  \n",
       "188215   1483599           158.0         125.0     11217  True    283.0  \n",
       "188261  10455052            29.0         185.0     11217  True    214.0  \n",
       "188307   1591671            98.0         143.0     11217  True    241.0  \n",
       "...          ...             ...           ...       ...   ...      ...  \n",
       "61922     193401             0.0           4.0     11217  True      4.0  \n",
       "61966     498441             1.0           9.0     11217  True     10.0  \n",
       "61879      55332             0.0           1.0     11217  True      1.0  \n",
       "61923     193405             0.0           4.0     11217  True      4.0  \n",
       "61967     498446             1.0           5.0     11217  True      6.0  \n",
       "55313    8163208             7.0          47.0     10024  True     54.0  \n",
       "55355    1509452             0.0           8.0     10024  True      8.0  \n",
       "55397    2603841            14.0          12.0     10024  True     26.0  \n",
       "55439     375023             7.0           3.0     10024  True     10.0  \n",
       "55481     313148             0.0          36.0     10024  True     36.0  \n",
       "55314    8163231           149.0          23.0     10024  True    172.0  \n",
       "55356    1509456            59.0           4.0     10024  True     63.0  \n",
       "55398    2603844            43.0           3.0     10024  True     46.0  \n",
       "55440     375023             3.0           0.0     10024  True      3.0  \n",
       "55482     313160            85.0          12.0     10024  True     97.0  \n",
       "55315    8163288           311.0          57.0     10024  True    368.0  \n",
       "55357    1509473           153.0          17.0     10024  True    170.0  \n",
       "55399    2603852           143.0           8.0     10024  True    151.0  \n",
       "55441     375024             0.0           1.0     10024  True      1.0  \n",
       "55483     313209           203.0          49.0     10024  True    252.0  \n",
       "55316    8163370           153.0          82.0     10024  True    235.0  \n",
       "55358    1509500            74.0          27.0     10024  True    101.0  \n",
       "55400    2603867            49.0          15.0     10024  True     64.0  \n",
       "55442     375026             0.0           2.0     10024  True      2.0  \n",
       "55484     313268           120.0          59.0     10024  True    179.0  \n",
       "55317    8163511           135.0         141.0     10024  True    276.0  \n",
       "55359    1509561            49.0          61.0     10024  True    110.0  \n",
       "55401    2603883            44.0          16.0     10024  True     60.0  \n",
       "55443     375027             0.0           1.0     10024  True      1.0  \n",
       "55485     313375            93.0         107.0     10024  True    200.0  \n",
       "\n",
       "[582 rows x 13 columns]"
      ]
     },
     "execution_count": 23,
     "metadata": {},
     "output_type": "execute_result"
    }
   ],
   "source": [
    "potential_stations[potential_stations['date'] == '04/30/2016'].sort_values(by=['unit','date','time'])"
   ]
  },
  {
   "cell_type": "code",
   "execution_count": null,
   "metadata": {
    "collapsed": false
   },
   "outputs": [],
   "source": [
    "days = ['Sunday', 'Monday', 'Tuesday', 'Wednesday', 'Thursday', 'Friday', 'Saturday']"
   ]
  },
  {
   "cell_type": "code",
   "execution_count": null,
   "metadata": {
    "collapsed": false
   },
   "outputs": [],
   "source": [
    "potential_stations['datetime'] = (potential_stations['date'] + ' ' + potential_stations['time']).apply(str)\n",
    "potential_stations['datetime'] = potential_stations['datetime'].apply(parse)\n",
    "potential_stations['parsed_time'] = potential_stations['time'].apply(parse)"
   ]
  },
  {
   "cell_type": "code",
   "execution_count": null,
   "metadata": {
    "collapsed": false
   },
   "outputs": [],
   "source": [
    "#potential_stations = potential_stations.set_index(potential_stations['datetime'])"
   ]
  },
  {
   "cell_type": "code",
   "execution_count": null,
   "metadata": {
    "collapsed": false
   },
   "outputs": [],
   "source": [
    "station = potential_stations[potential_stations['station'] == 'PROSPECT PARK']"
   ]
  },
  {
   "cell_type": "code",
   "execution_count": null,
   "metadata": {
    "collapsed": false
   },
   "outputs": [],
   "source": [
    "station[station['time'] == '00:00:00']"
   ]
  },
  {
   "cell_type": "code",
   "execution_count": null,
   "metadata": {
    "collapsed": false
   },
   "outputs": [],
   "source": [
    "station.columns.values"
   ]
  },
  {
   "cell_type": "code",
   "execution_count": null,
   "metadata": {
    "collapsed": false
   },
   "outputs": [],
   "source": [
    "station = station.groupby(by=['parsed_time']).sum()[['hourly_entries', 'hourly_exits', 'traffic']]"
   ]
  },
  {
   "cell_type": "code",
   "execution_count": null,
   "metadata": {
    "collapsed": false
   },
   "outputs": [],
   "source": [
    "station"
   ]
  },
  {
   "cell_type": "code",
   "execution_count": null,
   "metadata": {
    "collapsed": false
   },
   "outputs": [],
   "source": [
    "station.index"
   ]
  },
  {
   "cell_type": "code",
   "execution_count": null,
   "metadata": {
    "collapsed": false
   },
   "outputs": [],
   "source": [
    "fig = plt.figure()\n",
    "ax = plt.axes()\n",
    "\n",
    "ax.plot(station.index, station['traffic'])"
   ]
  },
  {
   "cell_type": "code",
   "execution_count": null,
   "metadata": {
    "collapsed": true
   },
   "outputs": [],
   "source": []
  }
 ],
 "metadata": {
  "anaconda-cloud": {},
  "kernelspec": {
   "display_name": "Python [conda root]",
   "language": "python",
   "name": "conda-root-py"
  },
  "language_info": {
   "codemirror_mode": {
    "name": "ipython",
    "version": 2
   },
   "file_extension": ".py",
   "mimetype": "text/x-python",
   "name": "python",
   "nbconvert_exporter": "python",
   "pygments_lexer": "ipython2",
   "version": "2.7.12"
  },
  "nbpresent": {
   "slides": {
    "02371672-278d-4465-af3f-a31ba4272907": {
     "id": "02371672-278d-4465-af3f-a31ba4272907",
     "prev": "86a841fc-fb27-417a-943f-e3eeea4776b4",
     "regions": {
      "a95f8072-a317-45b3-b051-4fd560f51727": {
       "attrs": {
        "height": 0.8,
        "width": 0.8,
        "x": 0.1,
        "y": 0.1
       },
       "content": {
        "cell": "b6dcbf5a-e15b-4ad0-800f-777926f2eb2e",
        "part": "whole"
       },
       "id": "a95f8072-a317-45b3-b051-4fd560f51727"
      }
     }
    },
    "0b0d0419-5527-40ee-914e-75c34b9f00fb": {
     "id": "0b0d0419-5527-40ee-914e-75c34b9f00fb",
     "prev": "e17e0d29-46d5-48e4-b785-bc719125a14a",
     "regions": {
      "3a4b1e25-5981-494e-ab08-46990ae7d320": {
       "attrs": {
        "height": 0.8,
        "width": 0.8,
        "x": 0.1,
        "y": 0.1
       },
       "content": {
        "cell": "1938dd98-e395-479c-a617-d514071153e9",
        "part": "whole"
       },
       "id": "3a4b1e25-5981-494e-ab08-46990ae7d320"
      }
     }
    },
    "2a623150-0217-44c1-96df-20ed830eafbb": {
     "id": "2a623150-0217-44c1-96df-20ed830eafbb",
     "layout": "treemap",
     "prev": null,
     "regions": {
      "6e3c4908-315e-4e10-b450-723af8cc5104": {
       "attrs": {
        "height": 1,
        "pad": 0.01,
        "treemap:weight": 1,
        "width": 0.5,
        "x": 0,
        "y": 0
       },
       "id": "6e3c4908-315e-4e10-b450-723af8cc5104"
      },
      "ff721617-5c5b-4190-adfb-66aed3ca611d": {
       "attrs": {
        "height": 1,
        "pad": 0.01,
        "treemap:weight": 1,
        "width": 0.5,
        "x": 0.5,
        "y": 0
       },
       "content": {
        "cell": "c486ed48-c3e5-45e5-8a59-174f22704a3b",
        "part": "whole"
       },
       "id": "ff721617-5c5b-4190-adfb-66aed3ca611d"
      }
     },
     "theme": null
    },
    "3d153487-ce0c-46b2-bdb0-1c6d94433daa": {
     "id": "3d153487-ce0c-46b2-bdb0-1c6d94433daa",
     "prev": "e2e83985-d5b9-4c5a-9865-2120f6190ab9",
     "regions": {
      "c9ecb911-33fe-4d55-be68-e399e1bf0907": {
       "attrs": {
        "height": 0.8,
        "width": 0.8,
        "x": 0.1,
        "y": 0.1
       },
       "content": {
        "cell": "33fdc21e-28d4-45d3-bb4f-a96a928bd534",
        "part": "whole"
       },
       "id": "c9ecb911-33fe-4d55-be68-e399e1bf0907"
      }
     }
    },
    "86a841fc-fb27-417a-943f-e3eeea4776b4": {
     "id": "86a841fc-fb27-417a-943f-e3eeea4776b4",
     "prev": "a96c476d-1e65-449a-b294-9ee20c54ace9",
     "regions": {
      "8d0dd1ef-f178-473f-bcf3-98d7779a0866": {
       "attrs": {
        "height": 0.8,
        "width": 0.8,
        "x": 0.1,
        "y": 0.1
       },
       "content": {
        "cell": "3af03bae-5795-47cd-b38f-7c7b466dc2c6",
        "part": "whole"
       },
       "id": "8d0dd1ef-f178-473f-bcf3-98d7779a0866"
      }
     }
    },
    "87cea214-0881-447a-a86c-5616ebb6de60": {
     "id": "87cea214-0881-447a-a86c-5616ebb6de60",
     "prev": "951bfe06-4a7b-43b3-ac18-43706d4d5dfd",
     "regions": {
      "cc8a9314-12cd-4690-9407-502f99bc5219": {
       "attrs": {
        "height": 0.8,
        "width": 0.8,
        "x": 0.1,
        "y": 0.1
       },
       "content": {
        "cell": "b1e69a60-3895-481d-be1b-0cb1edebdb58",
        "part": "whole"
       },
       "id": "cc8a9314-12cd-4690-9407-502f99bc5219"
      }
     }
    },
    "951bfe06-4a7b-43b3-ac18-43706d4d5dfd": {
     "id": "951bfe06-4a7b-43b3-ac18-43706d4d5dfd",
     "prev": "d79aecfa-ed75-4a1d-8de6-e3faccabc054",
     "regions": {
      "77672b7f-e886-489b-850c-644b4189d467": {
       "attrs": {
        "height": 0.8,
        "width": 0.8,
        "x": 0.1,
        "y": 0.1
       },
       "content": {
        "cell": "065aca0f-4428-4a58-a850-6b380646da99",
        "part": "whole"
       },
       "id": "77672b7f-e886-489b-850c-644b4189d467"
      }
     }
    },
    "a96c476d-1e65-449a-b294-9ee20c54ace9": {
     "id": "a96c476d-1e65-449a-b294-9ee20c54ace9",
     "prev": "3d153487-ce0c-46b2-bdb0-1c6d94433daa",
     "regions": {
      "16c0fc4f-59f5-4d59-8e94-6db5922109c4": {
       "attrs": {
        "height": 0.8,
        "width": 0.8,
        "x": 0.1,
        "y": 0.1
       },
       "content": {
        "cell": "51566637-bc85-451a-90e1-680806a0fc90",
        "part": "whole"
       },
       "id": "16c0fc4f-59f5-4d59-8e94-6db5922109c4"
      }
     }
    },
    "d79aecfa-ed75-4a1d-8de6-e3faccabc054": {
     "id": "d79aecfa-ed75-4a1d-8de6-e3faccabc054",
     "prev": "0b0d0419-5527-40ee-914e-75c34b9f00fb",
     "regions": {
      "9067f78c-eb16-43e3-a4e0-51597b03093e": {
       "attrs": {
        "height": 0.8,
        "width": 0.8,
        "x": 0.1,
        "y": 0.1
       },
       "content": {
        "cell": "d9e8c00a-34f3-44ba-8f10-669d3e6c8479",
        "part": "whole"
       },
       "id": "9067f78c-eb16-43e3-a4e0-51597b03093e"
      }
     }
    },
    "e17e0d29-46d5-48e4-b785-bc719125a14a": {
     "id": "e17e0d29-46d5-48e4-b785-bc719125a14a",
     "prev": "2a623150-0217-44c1-96df-20ed830eafbb",
     "regions": {
      "32cc2934-0266-42b8-a8d2-01fbdee2c933": {
       "attrs": {
        "height": 0.8,
        "width": 0.8,
        "x": 0.1,
        "y": 0.1
       },
       "content": {
        "cell": "e39ec74a-04eb-46e1-8b98-def4b65ace9a",
        "part": "whole"
       },
       "id": "32cc2934-0266-42b8-a8d2-01fbdee2c933"
      }
     }
    },
    "e2e83985-d5b9-4c5a-9865-2120f6190ab9": {
     "id": "e2e83985-d5b9-4c5a-9865-2120f6190ab9",
     "prev": "87cea214-0881-447a-a86c-5616ebb6de60",
     "regions": {
      "9a5f6609-73cc-4632-b5ed-368e78df1041": {
       "attrs": {
        "height": 0.8,
        "width": 0.8,
        "x": 0.1,
        "y": 0.1
       },
       "content": {
        "cell": "de049c87-a4c4-4197-bafb-822c0d43e663",
        "part": "whole"
       },
       "id": "9a5f6609-73cc-4632-b5ed-368e78df1041"
      }
     }
    }
   },
   "themes": {
    "default": "103520a2-c5b1-428b-8463-ae84ca6acaed",
    "theme": {
     "103520a2-c5b1-428b-8463-ae84ca6acaed": {
      "backgrounds": {
       "backgroundColor": {
        "background-color": "backgroundColor",
        "id": "backgroundColor"
       }
      },
      "id": "103520a2-c5b1-428b-8463-ae84ca6acaed",
      "palette": {
       "backgroundColor": {
        "id": "backgroundColor",
        "rgb": [
         17,
         17,
         17
        ]
       },
       "headingColor": {
        "id": "headingColor",
        "rgb": [
         238,
         238,
         238
        ]
       },
       "linkColor": {
        "id": "linkColor",
        "rgb": [
         231,
         173,
         82
        ]
       },
       "mainColor": {
        "id": "mainColor",
        "rgb": [
         238,
         238,
         238
        ]
       }
      },
      "rules": {
       "a": {
        "color": "linkColor"
       },
       "h1": {
        "color": "headingColor",
        "font-family": "Montserrat",
        "font-size": 7
       },
       "h2": {
        "color": "headingColor",
        "font-family": "Montserrat",
        "font-size": 5
       },
       "h3": {
        "color": "headingColor",
        "font-family": "Montserrat",
        "font-size": 3.75
       },
       "h4": {
        "color": "headingColor",
        "font-family": "Montserrat",
        "font-size": 3
       },
       "h5": {
        "color": "headingColor",
        "font-family": "Montserrat"
       },
       "h6": {
        "color": "headingColor",
        "font-family": "Montserrat"
       },
       "h7": {
        "color": "headingColor",
        "font-family": "Montserrat"
       },
       "li": {
        "color": "mainColor",
        "font-family": "Open Sans",
        "font-size": 4
       },
       "p": {
        "color": "mainColor",
        "font-family": "Open Sans",
        "font-size": 4
       }
      },
      "text-base": {
       "color": "mainColor",
       "font-family": "Open Sans",
       "font-size": 4
      }
     },
     "ecbb70f8-f91a-474b-8807-5dc73ae1b875": {
      "backgrounds": {
       "dc7afa04-bf90-40b1-82a5-726e3cff5267": {
        "background-color": "31af15d2-7e15-44c5-ab5e-e04b16a89eff",
        "id": "dc7afa04-bf90-40b1-82a5-726e3cff5267"
       }
      },
      "id": "ecbb70f8-f91a-474b-8807-5dc73ae1b875",
      "palette": {
       "19cc588f-0593-49c9-9f4b-e4d7cc113b1c": {
        "id": "19cc588f-0593-49c9-9f4b-e4d7cc113b1c",
        "rgb": [
         252,
         252,
         252
        ]
       },
       "31af15d2-7e15-44c5-ab5e-e04b16a89eff": {
        "id": "31af15d2-7e15-44c5-ab5e-e04b16a89eff",
        "rgb": [
         68,
         68,
         68
        ]
       },
       "50f92c45-a630-455b-aec3-788680ec7410": {
        "id": "50f92c45-a630-455b-aec3-788680ec7410",
        "rgb": [
         197,
         226,
         245
        ]
       },
       "c5cc3653-2ee1-402a-aba2-7caae1da4f6c": {
        "id": "c5cc3653-2ee1-402a-aba2-7caae1da4f6c",
        "rgb": [
         43,
         126,
         184
        ]
       },
       "efa7f048-9acb-414c-8b04-a26811511a21": {
        "id": "efa7f048-9acb-414c-8b04-a26811511a21",
        "rgb": [
         25.118061674008803,
         73.60176211453744,
         107.4819383259912
        ]
       }
      },
      "rules": {
       "a": {
        "color": "19cc588f-0593-49c9-9f4b-e4d7cc113b1c"
       },
       "blockquote": {
        "color": "50f92c45-a630-455b-aec3-788680ec7410",
        "font-size": 3
       },
       "code": {
        "font-family": "Anonymous Pro"
       },
       "h1": {
        "color": "19cc588f-0593-49c9-9f4b-e4d7cc113b1c",
        "font-family": "Merriweather",
        "font-size": 8
       },
       "h2": {
        "color": "19cc588f-0593-49c9-9f4b-e4d7cc113b1c",
        "font-family": "Merriweather",
        "font-size": 6
       },
       "h3": {
        "color": "50f92c45-a630-455b-aec3-788680ec7410",
        "font-family": "Lato",
        "font-size": 5.5
       },
       "h4": {
        "color": "c5cc3653-2ee1-402a-aba2-7caae1da4f6c",
        "font-family": "Lato",
        "font-size": 5
       },
       "h5": {
        "font-family": "Lato"
       },
       "h6": {
        "font-family": "Lato"
       },
       "h7": {
        "font-family": "Lato"
       },
       "li": {
        "color": "50f92c45-a630-455b-aec3-788680ec7410",
        "font-size": 3.25
       },
       "pre": {
        "font-family": "Anonymous Pro",
        "font-size": 4
       }
      },
      "text-base": {
       "color": "19cc588f-0593-49c9-9f4b-e4d7cc113b1c",
       "font-family": "Lato",
       "font-size": 4
      }
     }
    }
   }
  }
 },
 "nbformat": 4,
 "nbformat_minor": 2
}
