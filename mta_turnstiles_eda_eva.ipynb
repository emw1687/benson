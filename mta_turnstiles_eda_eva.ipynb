{
 "cells": [
  {
   "cell_type": "code",
   "execution_count": 1,
   "metadata": {
    "collapsed": true,
    "nbpresent": {
     "id": "c486ed48-c3e5-45e5-8a59-174f22704a3b"
    }
   },
   "outputs": [],
   "source": [
    "import pandas as pd\n",
    "import numpy as np\n",
    "\n",
    "from dateutil.parser import parse\n",
    "from datetime import datetime\n",
    "\n",
    "import matplotlib.pyplot as plt\n",
    "import seaborn as sns\n",
    "%matplotlib inline"
   ]
  },
  {
   "cell_type": "code",
   "execution_count": 2,
   "metadata": {
    "collapsed": true
   },
   "outputs": [],
   "source": [
    "#zip code data\n",
    "zip_codes_raw = 'zips.csv'\n",
    "\n",
    "#mta turnstile data for all of may 2016 and first half of june 2016\n",
    "link_prefix = \"http://web.mta.info/developers/data/nyct/turnstile/turnstile_\"\n",
    "dates = [160507, 160514, 160521, 160528, 160604, 160611]\n",
    "files = []\n",
    "\n",
    "dateparse = lambda x: pd.datetime.strptime(x, '%m/%d/%Y')\n",
    "\n",
    "for i in range(len(dates)):\n",
    "    files.append(link_prefix + str(dates[i]) + \".txt\")\n",
    "\n",
    "dfs = [pd.read_csv(f, parse_dates=['DATE'], date_parser=dateparse,\n",
    "                   usecols = ['C/A', 'UNIT', 'SCP', 'STATION', 'DATE', 'TIME', 'ENTRIES', 'EXITS                                                               ']) for f in files]\n",
    "df = pd.concat(dfs)"
   ]
  },
  {
   "cell_type": "code",
   "execution_count": 3,
   "metadata": {
    "collapsed": false,
    "nbpresent": {
     "id": "1938dd98-e395-479c-a617-d514071153e9"
    }
   },
   "outputs": [],
   "source": [
    "df.rename(columns = {\n",
    "    'C/A': 'area',\n",
    "    'UNIT': 'unit',\n",
    "    'SCP': 'scp',\n",
    "    'STATION': 'station',\n",
    "    'DATE': 'date',\n",
    "    'TIME': 'time',\n",
    "    'ENTRIES': 'entries',\n",
    "    'EXITS                                                               ': 'exits'},\n",
    "    inplace = True)"
   ]
  },
  {
   "cell_type": "code",
   "execution_count": 4,
   "metadata": {
    "collapsed": true
   },
   "outputs": [],
   "source": [
    "df['weekday'] = df['date'].dt.dayofweek"
   ]
  },
  {
   "cell_type": "code",
   "execution_count": 70,
   "metadata": {
    "collapsed": false
   },
   "outputs": [],
   "source": [
    "df['parsed_time'] = df['time'].apply(parse)"
   ]
  },
  {
   "cell_type": "code",
   "execution_count": 6,
   "metadata": {
    "collapsed": false
   },
   "outputs": [],
   "source": [
    "df.sort_values(['station','area','unit','scp','date','time'], inplace=True)"
   ]
  },
  {
   "cell_type": "code",
   "execution_count": 7,
   "metadata": {
    "collapsed": false
   },
   "outputs": [],
   "source": [
    "df['hourly_entries'] = df['entries'].diff()\n",
    "df['hourly_exits'] = df['exits'].diff()\n",
    "\n",
    "hourly = ['hourly_entries', 'hourly_exits']\n",
    "\n",
    "for item in hourly:\n",
    "    df[item].fillna(0, inplace=True)"
   ]
  },
  {
   "cell_type": "code",
   "execution_count": 8,
   "metadata": {
    "collapsed": false
   },
   "outputs": [],
   "source": [
    "zip_codes = pd.read_csv(zip_codes_raw)"
   ]
  },
  {
   "cell_type": "code",
   "execution_count": 9,
   "metadata": {
    "collapsed": false
   },
   "outputs": [],
   "source": [
    "df = df.merge(zip_codes, on='station')"
   ]
  },
  {
   "cell_type": "code",
   "execution_count": 10,
   "metadata": {
    "collapsed": false,
    "nbpresent": {
     "id": "d9e8c00a-34f3-44ba-8f10-669d3e6c8479"
    }
   },
   "outputs": [],
   "source": [
    "#set all negative hourly entries to absolute value\n",
    "for item in hourly:\n",
    "    df.loc[df[item] < 0, item] = abs(df[item])\n",
    "    df[df[item] < 0]"
   ]
  },
  {
   "cell_type": "code",
   "execution_count": 11,
   "metadata": {
    "collapsed": true
   },
   "outputs": [],
   "source": [
    "#drop weekends\n",
    "df = df[df['weekday'].isin([0,1,2,3,4])]"
   ]
  },
  {
   "cell_type": "code",
   "execution_count": 12,
   "metadata": {
    "collapsed": false,
    "nbpresent": {
     "id": "065aca0f-4428-4a58-a850-6b380646da99"
    }
   },
   "outputs": [
    {
     "data": {
      "text/plain": [
       "count    8.338360e+05\n",
       "mean     2.369135e+04\n",
       "std      5.724045e+06\n",
       "min      0.000000e+00\n",
       "1%       0.000000e+00\n",
       "50%      1.000000e+02\n",
       "99.9%    2.203000e+03\n",
       "max      2.076115e+09\n",
       "Name: hourly_entries, dtype: float64"
      ]
     },
     "execution_count": 12,
     "metadata": {},
     "output_type": "execute_result"
    }
   ],
   "source": [
    "df['hourly_entries'].describe(percentiles=[0.01, 0.999])"
   ]
  },
  {
   "cell_type": "code",
   "execution_count": 13,
   "metadata": {
    "collapsed": false
   },
   "outputs": [
    {
     "data": {
      "text/plain": [
       "count    8.338360e+05\n",
       "mean     2.041858e+04\n",
       "std      5.317811e+06\n",
       "min      0.000000e+00\n",
       "1%       0.000000e+00\n",
       "50%      6.400000e+01\n",
       "99.9%    2.491330e+03\n",
       "max      2.022960e+09\n",
       "Name: hourly_exits, dtype: float64"
      ]
     },
     "execution_count": 13,
     "metadata": {},
     "output_type": "execute_result"
    }
   ],
   "source": [
    "df['hourly_exits'].describe(percentiles=[0.01, 0.999])"
   ]
  },
  {
   "cell_type": "code",
   "execution_count": 14,
   "metadata": {
    "collapsed": false
   },
   "outputs": [],
   "source": [
    "df['traffic'] = df[hourly].sum(axis=1)"
   ]
  },
  {
   "cell_type": "code",
   "execution_count": 15,
   "metadata": {
    "collapsed": true,
    "nbpresent": {
     "id": "b1e69a60-3895-481d-be1b-0cb1edebdb58"
    }
   },
   "outputs": [],
   "source": [
    "df['good'] = df['traffic'] <= 10000"
   ]
  },
  {
   "cell_type": "code",
   "execution_count": 71,
   "metadata": {
    "collapsed": true,
    "nbpresent": {
     "id": "b6dcbf5a-e15b-4ad0-800f-777926f2eb2e"
    }
   },
   "outputs": [],
   "source": [
    "#zip_codes with median income > $200k\n",
    "#and % commute to work by public transporation >= 70%\n",
    "potential_census_zips = [11201, 11217, 11238]"
   ]
  },
  {
   "cell_type": "code",
   "execution_count": 72,
   "metadata": {
    "collapsed": false
   },
   "outputs": [],
   "source": [
    "potential_stations = df[df['zip_code'].isin(potential_census_zips)]\n",
    "potential_stations = potential_stations[potential_stations['good']==True]"
   ]
  },
  {
   "cell_type": "code",
   "execution_count": 73,
   "metadata": {
    "collapsed": false
   },
   "outputs": [
    {
     "data": {
      "text/html": [
       "<div>\n",
       "<table border=\"1\" class=\"dataframe\">\n",
       "  <thead>\n",
       "    <tr style=\"text-align: right;\">\n",
       "      <th></th>\n",
       "      <th>area</th>\n",
       "      <th>unit</th>\n",
       "      <th>scp</th>\n",
       "      <th>station</th>\n",
       "      <th>date</th>\n",
       "      <th>time</th>\n",
       "      <th>entries</th>\n",
       "      <th>exits</th>\n",
       "      <th>weekday</th>\n",
       "      <th>hourly_entries</th>\n",
       "      <th>hourly_exits</th>\n",
       "      <th>zip_code</th>\n",
       "      <th>traffic</th>\n",
       "      <th>good</th>\n",
       "      <th>parsed_time</th>\n",
       "    </tr>\n",
       "  </thead>\n",
       "  <tbody>\n",
       "    <tr>\n",
       "      <th>1023046</th>\n",
       "      <td>B013</td>\n",
       "      <td>R196</td>\n",
       "      <td>01-00-00</td>\n",
       "      <td>PROSPECT PARK</td>\n",
       "      <td>2016-05-03</td>\n",
       "      <td>20:00:00</td>\n",
       "      <td>6549294</td>\n",
       "      <td>13578309</td>\n",
       "      <td>1</td>\n",
       "      <td>242.0</td>\n",
       "      <td>1293.0</td>\n",
       "      <td>11238</td>\n",
       "      <td>1535.0</td>\n",
       "      <td>True</td>\n",
       "      <td>2017-01-22 20:00:00</td>\n",
       "    </tr>\n",
       "    <tr>\n",
       "      <th>1023148</th>\n",
       "      <td>B013</td>\n",
       "      <td>R196</td>\n",
       "      <td>01-00-00</td>\n",
       "      <td>PROSPECT PARK</td>\n",
       "      <td>2016-05-20</td>\n",
       "      <td>20:00:00</td>\n",
       "      <td>6570510</td>\n",
       "      <td>13623038</td>\n",
       "      <td>4</td>\n",
       "      <td>207.0</td>\n",
       "      <td>1238.0</td>\n",
       "      <td>11238</td>\n",
       "      <td>1445.0</td>\n",
       "      <td>True</td>\n",
       "      <td>2017-01-22 20:00:00</td>\n",
       "    </tr>\n",
       "    <tr>\n",
       "      <th>1023166</th>\n",
       "      <td>B013</td>\n",
       "      <td>R196</td>\n",
       "      <td>01-00-00</td>\n",
       "      <td>PROSPECT PARK</td>\n",
       "      <td>2016-05-23</td>\n",
       "      <td>20:00:00</td>\n",
       "      <td>6573927</td>\n",
       "      <td>13630151</td>\n",
       "      <td>0</td>\n",
       "      <td>175.0</td>\n",
       "      <td>1251.0</td>\n",
       "      <td>11238</td>\n",
       "      <td>1426.0</td>\n",
       "      <td>True</td>\n",
       "      <td>2017-01-22 20:00:00</td>\n",
       "    </tr>\n",
       "    <tr>\n",
       "      <th>1023214</th>\n",
       "      <td>B013</td>\n",
       "      <td>R196</td>\n",
       "      <td>01-00-00</td>\n",
       "      <td>PROSPECT PARK</td>\n",
       "      <td>2016-05-31</td>\n",
       "      <td>20:00:00</td>\n",
       "      <td>6582125</td>\n",
       "      <td>13645764</td>\n",
       "      <td>1</td>\n",
       "      <td>173.0</td>\n",
       "      <td>1233.0</td>\n",
       "      <td>11238</td>\n",
       "      <td>1406.0</td>\n",
       "      <td>True</td>\n",
       "      <td>2017-01-22 20:00:00</td>\n",
       "    </tr>\n",
       "    <tr>\n",
       "      <th>1023220</th>\n",
       "      <td>B013</td>\n",
       "      <td>R196</td>\n",
       "      <td>01-00-00</td>\n",
       "      <td>PROSPECT PARK</td>\n",
       "      <td>2016-06-01</td>\n",
       "      <td>20:00:00</td>\n",
       "      <td>6583502</td>\n",
       "      <td>13648652</td>\n",
       "      <td>2</td>\n",
       "      <td>221.0</td>\n",
       "      <td>1176.0</td>\n",
       "      <td>11238</td>\n",
       "      <td>1397.0</td>\n",
       "      <td>True</td>\n",
       "      <td>2017-01-22 20:00:00</td>\n",
       "    </tr>\n",
       "  </tbody>\n",
       "</table>\n",
       "</div>"
      ],
      "text/plain": [
       "         area  unit       scp        station       date      time  entries  \\\n",
       "1023046  B013  R196  01-00-00  PROSPECT PARK 2016-05-03  20:00:00  6549294   \n",
       "1023148  B013  R196  01-00-00  PROSPECT PARK 2016-05-20  20:00:00  6570510   \n",
       "1023166  B013  R196  01-00-00  PROSPECT PARK 2016-05-23  20:00:00  6573927   \n",
       "1023214  B013  R196  01-00-00  PROSPECT PARK 2016-05-31  20:00:00  6582125   \n",
       "1023220  B013  R196  01-00-00  PROSPECT PARK 2016-06-01  20:00:00  6583502   \n",
       "\n",
       "            exits  weekday  hourly_entries  hourly_exits  zip_code  traffic  \\\n",
       "1023046  13578309        1           242.0        1293.0     11238   1535.0   \n",
       "1023148  13623038        4           207.0        1238.0     11238   1445.0   \n",
       "1023166  13630151        0           175.0        1251.0     11238   1426.0   \n",
       "1023214  13645764        1           173.0        1233.0     11238   1406.0   \n",
       "1023220  13648652        2           221.0        1176.0     11238   1397.0   \n",
       "\n",
       "         good         parsed_time  \n",
       "1023046  True 2017-01-22 20:00:00  \n",
       "1023148  True 2017-01-22 20:00:00  \n",
       "1023166  True 2017-01-22 20:00:00  \n",
       "1023214  True 2017-01-22 20:00:00  \n",
       "1023220  True 2017-01-22 20:00:00  "
      ]
     },
     "execution_count": 73,
     "metadata": {},
     "output_type": "execute_result"
    }
   ],
   "source": [
    "potential_stations[potential_stations['station'] == 'PROSPECT PARK'].sort_values('traffic', ascending=False).head()"
   ]
  },
  {
   "cell_type": "code",
   "execution_count": 74,
   "metadata": {
    "collapsed": false,
    "nbpresent": {
     "id": "de049c87-a4c4-4197-bafb-822c0d43e663"
    }
   },
   "outputs": [
    {
     "data": {
      "text/plain": [
       "['ATL AV-BARCLAY',\n",
       " 'BERGEN ST',\n",
       " 'BOROUGH HALL',\n",
       " 'CLARK ST',\n",
       " 'CLASSON AV',\n",
       " 'DEKALB AV',\n",
       " 'EASTN PKWY-MUSM',\n",
       " 'GRAND ARMY PLAZ',\n",
       " 'HIGH ST',\n",
       " 'HOYT ST',\n",
       " 'HOYT-SCHER',\n",
       " 'JAY ST-METROTEC',\n",
       " 'LAFAYETTE AV',\n",
       " 'NASSAU ST',\n",
       " 'NEVINS ST',\n",
       " 'PROSPECT PARK',\n",
       " 'YORK ST']"
      ]
     },
     "execution_count": 74,
     "metadata": {},
     "output_type": "execute_result"
    }
   ],
   "source": [
    "stations = list(potential_stations['station'].unique())\n",
    "stations"
   ]
  },
  {
   "cell_type": "code",
   "execution_count": 75,
   "metadata": {
    "collapsed": false
   },
   "outputs": [],
   "source": [
    "total_by_station = potential_stations.groupby(by='station', as_index=False).sum()[['station','traffic']].sort_values('traffic', ascending=False)"
   ]
  },
  {
   "cell_type": "code",
   "execution_count": 76,
   "metadata": {
    "collapsed": false
   },
   "outputs": [],
   "source": [
    "total_by_station['weekly_traffic'] = total_by_station['traffic']/6"
   ]
  },
  {
   "cell_type": "code",
   "execution_count": 77,
   "metadata": {
    "collapsed": false
   },
   "outputs": [
    {
     "data": {
      "image/png": "[encoded data removed]",
      "text/plain": [
       "<matplotlib.figure.Figure at 0x11cb7d1d0>"
      ]
     },
     "metadata": {},
     "output_type": "display_data"
    }
   ],
   "source": [
    "sns.factorplot('station', 'weekly_traffic', data = total_by_station, kind = 'bar', aspect = 2)\n",
    "plt.xticks(rotation=90)\n",
    "plt.xlabel('Station')\n",
    "plt.ylabel('Traffic')\n",
    "plt.title(\"Total Weekday Traffic\");"
   ]
  },
  {
   "cell_type": "code",
   "execution_count": 78,
   "metadata": {
    "collapsed": true
   },
   "outputs": [],
   "source": [
    "top_stations = ['ATL AV-BARCLAY', 'JAY ST-METROTEC', 'BOROUGH HALL', 'DEKALB AV']"
   ]
  },
  {
   "cell_type": "code",
   "execution_count": 85,
   "metadata": {
    "collapsed": true
   },
   "outputs": [],
   "source": [
    "stations = potential_stations[potential_stations['station'].isin(top_stations)]"
   ]
  },
  {
   "cell_type": "code",
   "execution_count": 98,
   "metadata": {
    "collapsed": true
   },
   "outputs": [],
   "source": [
    "station = potential_stations[potential_stations['station'] == 'ATL AV-BARCLAY']"
   ]
  },
  {
   "cell_type": "code",
   "execution_count": 99,
   "metadata": {
    "collapsed": false
   },
   "outputs": [],
   "source": [
    "station = station.groupby(by=['parsed_time'], as_index=False).sum()[['parsed_time', 'hourly_entries', 'hourly_exits', 'traffic']]"
   ]
  },
  {
   "cell_type": "code",
   "execution_count": 100,
   "metadata": {
    "collapsed": false
   },
   "outputs": [],
   "source": [
    "times = ['2017-01-22 00:00:00', '2017-01-22 04:00:00', '2017-01-22 08:00:00', '2017-01-22 12:00:00', '2017-01-22 16:00:00', '2017-01-22 20:00:00']\n",
    "station = station[station['parsed_time'].isin(times)]"
   ]
  },
  {
   "cell_type": "code",
   "execution_count": 105,
   "metadata": {
    "collapsed": false
   },
   "outputs": [
    {
     "data": {
      "text/html": [
       "<div>\n",
       "<table border=\"1\" class=\"dataframe\">\n",
       "  <thead>\n",
       "    <tr style=\"text-align: right;\">\n",
       "      <th></th>\n",
       "      <th>parsed_time</th>\n",
       "      <th>hourly_entries</th>\n",
       "      <th>hourly_exits</th>\n",
       "      <th>traffic</th>\n",
       "    </tr>\n",
       "  </thead>\n",
       "  <tbody>\n",
       "    <tr>\n",
       "      <th>0</th>\n",
       "      <td>2017-01-22 00:00:00</td>\n",
       "      <td>161599.0</td>\n",
       "      <td>124045.0</td>\n",
       "      <td>285644.0</td>\n",
       "    </tr>\n",
       "    <tr>\n",
       "      <th>1</th>\n",
       "      <td>2017-01-22 04:00:00</td>\n",
       "      <td>18946.0</td>\n",
       "      <td>18074.0</td>\n",
       "      <td>37020.0</td>\n",
       "    </tr>\n",
       "    <tr>\n",
       "      <th>4</th>\n",
       "      <td>2017-01-22 08:00:00</td>\n",
       "      <td>158775.0</td>\n",
       "      <td>106967.0</td>\n",
       "      <td>265742.0</td>\n",
       "    </tr>\n",
       "    <tr>\n",
       "      <th>15</th>\n",
       "      <td>2017-01-22 12:00:00</td>\n",
       "      <td>330147.0</td>\n",
       "      <td>223133.0</td>\n",
       "      <td>553280.0</td>\n",
       "    </tr>\n",
       "    <tr>\n",
       "      <th>16</th>\n",
       "      <td>2017-01-22 16:00:00</td>\n",
       "      <td>277302.0</td>\n",
       "      <td>238839.0</td>\n",
       "      <td>516141.0</td>\n",
       "    </tr>\n",
       "    <tr>\n",
       "      <th>17</th>\n",
       "      <td>2017-01-22 20:00:00</td>\n",
       "      <td>353608.0</td>\n",
       "      <td>473083.0</td>\n",
       "      <td>826691.0</td>\n",
       "    </tr>\n",
       "  </tbody>\n",
       "</table>\n",
       "</div>"
      ],
      "text/plain": [
       "           parsed_time  hourly_entries  hourly_exits   traffic\n",
       "0  2017-01-22 00:00:00        161599.0      124045.0  285644.0\n",
       "1  2017-01-22 04:00:00         18946.0       18074.0   37020.0\n",
       "4  2017-01-22 08:00:00        158775.0      106967.0  265742.0\n",
       "15 2017-01-22 12:00:00        330147.0      223133.0  553280.0\n",
       "16 2017-01-22 16:00:00        277302.0      238839.0  516141.0\n",
       "17 2017-01-22 20:00:00        353608.0      473083.0  826691.0"
      ]
     },
     "execution_count": 105,
     "metadata": {},
     "output_type": "execute_result"
    }
   ],
   "source": [
    "station"
   ]
  },
  {
   "cell_type": "code",
   "execution_count": 96,
   "metadata": {
    "collapsed": false
   },
   "outputs": [],
   "source": [
    "station = station.append(station.loc[0])\n",
    "station.reset_index(drop=True, inplace=True)\n",
    "station.ix[6, 'parsed_time'] = parse('2017-01-22 23:59:59')\n",
    "station.ix[0, 'hourly_entries'] = 0\n",
    "station.ix[0, 'hourly_exits'] = 0\n",
    "station.ix[0, 'traffic'] = 0"
   ]
  },
  {
   "cell_type": "code",
   "execution_count": 97,
   "metadata": {
    "collapsed": false
   },
   "outputs": [
    {
     "data": {
      "text/html": [
       "<div>\n",
       "<table border=\"1\" class=\"dataframe\">\n",
       "  <thead>\n",
       "    <tr style=\"text-align: right;\">\n",
       "      <th></th>\n",
       "      <th>parsed_time</th>\n",
       "      <th>hourly_entries</th>\n",
       "      <th>hourly_exits</th>\n",
       "      <th>traffic</th>\n",
       "    </tr>\n",
       "  </thead>\n",
       "  <tbody>\n",
       "    <tr>\n",
       "      <th>0</th>\n",
       "      <td>2017-01-22 00:00:00</td>\n",
       "      <td>0.0</td>\n",
       "      <td>0.0</td>\n",
       "      <td>0.0</td>\n",
       "    </tr>\n",
       "    <tr>\n",
       "      <th>1</th>\n",
       "      <td>2017-01-22 04:00:00</td>\n",
       "      <td>18946.0</td>\n",
       "      <td>18074.0</td>\n",
       "      <td>37020.0</td>\n",
       "    </tr>\n",
       "    <tr>\n",
       "      <th>2</th>\n",
       "      <td>2017-01-22 08:00:00</td>\n",
       "      <td>158775.0</td>\n",
       "      <td>106967.0</td>\n",
       "      <td>265742.0</td>\n",
       "    </tr>\n",
       "    <tr>\n",
       "      <th>3</th>\n",
       "      <td>2017-01-22 12:00:00</td>\n",
       "      <td>330147.0</td>\n",
       "      <td>223133.0</td>\n",
       "      <td>553280.0</td>\n",
       "    </tr>\n",
       "    <tr>\n",
       "      <th>4</th>\n",
       "      <td>2017-01-22 16:00:00</td>\n",
       "      <td>277302.0</td>\n",
       "      <td>238839.0</td>\n",
       "      <td>516141.0</td>\n",
       "    </tr>\n",
       "    <tr>\n",
       "      <th>5</th>\n",
       "      <td>2017-01-22 20:00:00</td>\n",
       "      <td>353608.0</td>\n",
       "      <td>473083.0</td>\n",
       "      <td>826691.0</td>\n",
       "    </tr>\n",
       "    <tr>\n",
       "      <th>6</th>\n",
       "      <td>2017-01-22 23:59:59</td>\n",
       "      <td>161599.0</td>\n",
       "      <td>124045.0</td>\n",
       "      <td>285644.0</td>\n",
       "    </tr>\n",
       "  </tbody>\n",
       "</table>\n",
       "</div>"
      ],
      "text/plain": [
       "          parsed_time  hourly_entries  hourly_exits   traffic\n",
       "0 2017-01-22 00:00:00             0.0           0.0       0.0\n",
       "1 2017-01-22 04:00:00         18946.0       18074.0   37020.0\n",
       "2 2017-01-22 08:00:00        158775.0      106967.0  265742.0\n",
       "3 2017-01-22 12:00:00        330147.0      223133.0  553280.0\n",
       "4 2017-01-22 16:00:00        277302.0      238839.0  516141.0\n",
       "5 2017-01-22 20:00:00        353608.0      473083.0  826691.0\n",
       "6 2017-01-22 23:59:59        161599.0      124045.0  285644.0"
      ]
     },
     "execution_count": 97,
     "metadata": {},
     "output_type": "execute_result"
    }
   ],
   "source": [
    "station"
   ]
  },
  {
   "cell_type": "code",
   "execution_count": 84,
   "metadata": {
    "collapsed": false
   },
   "outputs": [
    {
     "data": {
      "image/png": "[encoded data removed]",
      "text/plain": [
       "<matplotlib.figure.Figure at 0x103a165d0>"
      ]
     },
     "metadata": {},
     "output_type": "display_data"
    }
   ],
   "source": [
    "fig = plt.figure()\n",
    "ax = plt.axes()\n",
    "\n",
    "#ax.set_xticks(station['parsed_time'])\n",
    "\n",
    "ax.plot(station['parsed_time'], station['traffic']);"
   ]
  },
  {
   "cell_type": "code",
   "execution_count": null,
   "metadata": {
    "collapsed": true
   },
   "outputs": [],
   "source": []
  }
 ],
 "metadata": {
  "anaconda-cloud": {},
  "kernelspec": {
   "display_name": "Python [conda root]",
   "language": "python",
   "name": "conda-root-py"
  },
  "language_info": {
   "codemirror_mode": {
    "name": "ipython",
    "version": 2
   },
   "file_extension": ".py",
   "mimetype": "text/x-python",
   "name": "python",
   "nbconvert_exporter": "python",
   "pygments_lexer": "ipython2",
   "version": "2.7.12"
  },
  "nbpresent": {
   "slides": {
    "02371672-278d-4465-af3f-a31ba4272907": {
     "id": "02371672-278d-4465-af3f-a31ba4272907",
     "prev": "86a841fc-fb27-417a-943f-e3eeea4776b4",
     "regions": {
      "a95f8072-a317-45b3-b051-4fd560f51727": {
       "attrs": {
        "height": 0.8,
        "width": 0.8,
        "x": 0.1,
        "y": 0.1
       },
       "content": {
        "cell": "b6dcbf5a-e15b-4ad0-800f-777926f2eb2e",
        "part": "whole"
       },
       "id": "a95f8072-a317-45b3-b051-4fd560f51727"
      }
     }
    },
    "0b0d0419-5527-40ee-914e-75c34b9f00fb": {
     "id": "0b0d0419-5527-40ee-914e-75c34b9f00fb",
     "prev": "e17e0d29-46d5-48e4-b785-bc719125a14a",
     "regions": {
      "3a4b1e25-5981-494e-ab08-46990ae7d320": {
       "attrs": {
        "height": 0.8,
        "width": 0.8,
        "x": 0.1,
        "y": 0.1
       },
       "content": {
        "cell": "1938dd98-e395-479c-a617-d514071153e9",
        "part": "whole"
       },
       "id": "3a4b1e25-5981-494e-ab08-46990ae7d320"
      }
     }
    },
    "2a623150-0217-44c1-96df-20ed830eafbb": {
     "id": "2a623150-0217-44c1-96df-20ed830eafbb",
     "layout": "treemap",
     "prev": null,
     "regions": {
      "6e3c4908-315e-4e10-b450-723af8cc5104": {
       "attrs": {
        "height": 1,
        "pad": 0.01,
        "treemap:weight": 1,
        "width": 0.5,
        "x": 0,
        "y": 0
       },
       "id": "6e3c4908-315e-4e10-b450-723af8cc5104"
      },
      "ff721617-5c5b-4190-adfb-66aed3ca611d": {
       "attrs": {
        "height": 1,
        "pad": 0.01,
        "treemap:weight": 1,
        "width": 0.5,
        "x": 0.5,
        "y": 0
       },
       "content": {
        "cell": "c486ed48-c3e5-45e5-8a59-174f22704a3b",
        "part": "whole"
       },
       "id": "ff721617-5c5b-4190-adfb-66aed3ca611d"
      }
     },
     "theme": null
    },
    "3d153487-ce0c-46b2-bdb0-1c6d94433daa": {
     "id": "3d153487-ce0c-46b2-bdb0-1c6d94433daa",
     "prev": "e2e83985-d5b9-4c5a-9865-2120f6190ab9",
     "regions": {
      "c9ecb911-33fe-4d55-be68-e399e1bf0907": {
       "attrs": {
        "height": 0.8,
        "width": 0.8,
        "x": 0.1,
        "y": 0.1
       },
       "content": {
        "cell": "33fdc21e-28d4-45d3-bb4f-a96a928bd534",
        "part": "whole"
       },
       "id": "c9ecb911-33fe-4d55-be68-e399e1bf0907"
      }
     }
    },
    "86a841fc-fb27-417a-943f-e3eeea4776b4": {
     "id": "86a841fc-fb27-417a-943f-e3eeea4776b4",
     "prev": "a96c476d-1e65-449a-b294-9ee20c54ace9",
     "regions": {
      "8d0dd1ef-f178-473f-bcf3-98d7779a0866": {
       "attrs": {
        "height": 0.8,
        "width": 0.8,
        "x": 0.1,
        "y": 0.1
       },
       "content": {
        "cell": "3af03bae-5795-47cd-b38f-7c7b466dc2c6",
        "part": "whole"
       },
       "id": "8d0dd1ef-f178-473f-bcf3-98d7779a0866"
      }
     }
    },
    "87cea214-0881-447a-a86c-5616ebb6de60": {
     "id": "87cea214-0881-447a-a86c-5616ebb6de60",
     "prev": "951bfe06-4a7b-43b3-ac18-43706d4d5dfd",
     "regions": {
      "cc8a9314-12cd-4690-9407-502f99bc5219": {
       "attrs": {
        "height": 0.8,
        "width": 0.8,
        "x": 0.1,
        "y": 0.1
       },
       "content": {
        "cell": "b1e69a60-3895-481d-be1b-0cb1edebdb58",
        "part": "whole"
       },
       "id": "cc8a9314-12cd-4690-9407-502f99bc5219"
      }
     }
    },
    "951bfe06-4a7b-43b3-ac18-43706d4d5dfd": {
     "id": "951bfe06-4a7b-43b3-ac18-43706d4d5dfd",
     "prev": "d79aecfa-ed75-4a1d-8de6-e3faccabc054",
     "regions": {
      "77672b7f-e886-489b-850c-644b4189d467": {
       "attrs": {
        "height": 0.8,
        "width": 0.8,
        "x": 0.1,
        "y": 0.1
       },
       "content": {
        "cell": "065aca0f-4428-4a58-a850-6b380646da99",
        "part": "whole"
       },
       "id": "77672b7f-e886-489b-850c-644b4189d467"
      }
     }
    },
    "a96c476d-1e65-449a-b294-9ee20c54ace9": {
     "id": "a96c476d-1e65-449a-b294-9ee20c54ace9",
     "prev": "3d153487-ce0c-46b2-bdb0-1c6d94433daa",
     "regions": {
      "16c0fc4f-59f5-4d59-8e94-6db5922109c4": {
       "attrs": {
        "height": 0.8,
        "width": 0.8,
        "x": 0.1,
        "y": 0.1
       },
       "content": {
        "cell": "51566637-bc85-451a-90e1-680806a0fc90",
        "part": "whole"
       },
       "id": "16c0fc4f-59f5-4d59-8e94-6db5922109c4"
      }
     }
    },
    "d79aecfa-ed75-4a1d-8de6-e3faccabc054": {
     "id": "d79aecfa-ed75-4a1d-8de6-e3faccabc054",
     "prev": "0b0d0419-5527-40ee-914e-75c34b9f00fb",
     "regions": {
      "9067f78c-eb16-43e3-a4e0-51597b03093e": {
       "attrs": {
        "height": 0.8,
        "width": 0.8,
        "x": 0.1,
        "y": 0.1
       },
       "content": {
        "cell": "d9e8c00a-34f3-44ba-8f10-669d3e6c8479",
        "part": "whole"
       },
       "id": "9067f78c-eb16-43e3-a4e0-51597b03093e"
      }
     }
    },
    "e17e0d29-46d5-48e4-b785-bc719125a14a": {
     "id": "e17e0d29-46d5-48e4-b785-bc719125a14a",
     "prev": "2a623150-0217-44c1-96df-20ed830eafbb",
     "regions": {
      "32cc2934-0266-42b8-a8d2-01fbdee2c933": {
       "attrs": {
        "height": 0.8,
        "width": 0.8,
        "x": 0.1,
        "y": 0.1
       },
       "content": {
        "cell": "e39ec74a-04eb-46e1-8b98-def4b65ace9a",
        "part": "whole"
       },
       "id": "32cc2934-0266-42b8-a8d2-01fbdee2c933"
      }
     }
    },
    "e2e83985-d5b9-4c5a-9865-2120f6190ab9": {
     "id": "e2e83985-d5b9-4c5a-9865-2120f6190ab9",
     "prev": "87cea214-0881-447a-a86c-5616ebb6de60",
     "regions": {
      "9a5f6609-73cc-4632-b5ed-368e78df1041": {
       "attrs": {
        "height": 0.8,
        "width": 0.8,
        "x": 0.1,
        "y": 0.1
       },
       "content": {
        "cell": "de049c87-a4c4-4197-bafb-822c0d43e663",
        "part": "whole"
       },
       "id": "9a5f6609-73cc-4632-b5ed-368e78df1041"
      }
     }
    }
   },
   "themes": {
    "default": "103520a2-c5b1-428b-8463-ae84ca6acaed",
    "theme": {
     "103520a2-c5b1-428b-8463-ae84ca6acaed": {
      "backgrounds": {
       "backgroundColor": {
        "background-color": "backgroundColor",
        "id": "backgroundColor"
       }
      },
      "id": "103520a2-c5b1-428b-8463-ae84ca6acaed",
      "palette": {
       "backgroundColor": {
        "id": "backgroundColor",
        "rgb": [
         17,
         17,
         17
        ]
       },
       "headingColor": {
        "id": "headingColor",
        "rgb": [
         238,
         238,
         238
        ]
       },
       "linkColor": {
        "id": "linkColor",
        "rgb": [
         231,
         173,
         82
        ]
       },
       "mainColor": {
        "id": "mainColor",
        "rgb": [
         238,
         238,
         238
        ]
       }
      },
      "rules": {
       "a": {
        "color": "linkColor"
       },
       "h1": {
        "color": "headingColor",
        "font-family": "Montserrat",
        "font-size": 7
       },
       "h2": {
        "color": "headingColor",
        "font-family": "Montserrat",
        "font-size": 5
       },
       "h3": {
        "color": "headingColor",
        "font-family": "Montserrat",
        "font-size": 3.75
       },
       "h4": {
        "color": "headingColor",
        "font-family": "Montserrat",
        "font-size": 3
       },
       "h5": {
        "color": "headingColor",
        "font-family": "Montserrat"
       },
       "h6": {
        "color": "headingColor",
        "font-family": "Montserrat"
       },
       "h7": {
        "color": "headingColor",
        "font-family": "Montserrat"
       },
       "li": {
        "color": "mainColor",
        "font-family": "Open Sans",
        "font-size": 4
       },
       "p": {
        "color": "mainColor",
        "font-family": "Open Sans",
        "font-size": 4
       }
      },
      "text-base": {
       "color": "mainColor",
       "font-family": "Open Sans",
       "font-size": 4
      }
     },
     "ecbb70f8-f91a-474b-8807-5dc73ae1b875": {
      "backgrounds": {
       "dc7afa04-bf90-40b1-82a5-726e3cff5267": {
        "background-color": "31af15d2-7e15-44c5-ab5e-e04b16a89eff",
        "id": "dc7afa04-bf90-40b1-82a5-726e3cff5267"
       }
      },
      "id": "ecbb70f8-f91a-474b-8807-5dc73ae1b875",
      "palette": {
       "19cc588f-0593-49c9-9f4b-e4d7cc113b1c": {
        "id": "19cc588f-0593-49c9-9f4b-e4d7cc113b1c",
        "rgb": [
         252,
         252,
         252
        ]
       },
       "31af15d2-7e15-44c5-ab5e-e04b16a89eff": {
        "id": "31af15d2-7e15-44c5-ab5e-e04b16a89eff",
        "rgb": [
         68,
         68,
         68
        ]
       },
       "50f92c45-a630-455b-aec3-788680ec7410": {
        "id": "50f92c45-a630-455b-aec3-788680ec7410",
        "rgb": [
         197,
         226,
         245
        ]
       },
       "c5cc3653-2ee1-402a-aba2-7caae1da4f6c": {
        "id": "c5cc3653-2ee1-402a-aba2-7caae1da4f6c",
        "rgb": [
         43,
         126,
         184
        ]
       },
       "efa7f048-9acb-414c-8b04-a26811511a21": {
        "id": "efa7f048-9acb-414c-8b04-a26811511a21",
        "rgb": [
         25.118061674008803,
         73.60176211453744,
         107.4819383259912
        ]
       }
      },
      "rules": {
       "a": {
        "color": "19cc588f-0593-49c9-9f4b-e4d7cc113b1c"
       },
       "blockquote": {
        "color": "50f92c45-a630-455b-aec3-788680ec7410",
        "font-size": 3
       },
       "code": {
        "font-family": "Anonymous Pro"
       },
       "h1": {
        "color": "19cc588f-0593-49c9-9f4b-e4d7cc113b1c",
        "font-family": "Merriweather",
        "font-size": 8
       },
       "h2": {
        "color": "19cc588f-0593-49c9-9f4b-e4d7cc113b1c",
        "font-family": "Merriweather",
        "font-size": 6
       },
       "h3": {
        "color": "50f92c45-a630-455b-aec3-788680ec7410",
        "font-family": "Lato",
        "font-size": 5.5
       },
       "h4": {
        "color": "c5cc3653-2ee1-402a-aba2-7caae1da4f6c",
        "font-family": "Lato",
        "font-size": 5
       },
       "h5": {
        "font-family": "Lato"
       },
       "h6": {
        "font-family": "Lato"
       },
       "h7": {
        "font-family": "Lato"
       },
       "li": {
        "color": "50f92c45-a630-455b-aec3-788680ec7410",
        "font-size": 3.25
       },
       "pre": {
        "font-family": "Anonymous Pro",
        "font-size": 4
       }
      },
      "text-base": {
       "color": "19cc588f-0593-49c9-9f4b-e4d7cc113b1c",
       "font-family": "Lato",
       "font-size": 4
      }
     }
    }
   }
  }
 },
 "nbformat": 4,
 "nbformat_minor": 2
}
