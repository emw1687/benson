{
 "cells": [
  {
   "cell_type": "markdown",
   "metadata": {},
   "source": [
    "### Challenge Set 9\n",
    "\n",
    "### Part I: W3Schools SQL Lab\n",
    "_Introductory level SQL_\n",
    "\n",
    "This challenge uses the [W3Schools SQL playground](http://www.w3schools.com/sql/trysql.asp?filename=trysql_select_all). Please add solutions to this markdown file and submit."
   ]
  },
  {
   "cell_type": "markdown",
   "metadata": {},
   "source": [
    "1 Which customers are from the UK?\n",
    "```SQL\n",
    "SELECT CustomerName\n",
    "FROM Customers\n",
    "WHERE Country = 'UK';\n",
    "```"
   ]
  },
  {
   "cell_type": "markdown",
   "metadata": {},
   "source": [
    "2 What is the name of the customer who has the most orders?\n",
    "```SQL\n",
    "SELECT CustomerName, COUNT(*) AS Order_Count\n",
    "FROM Customers\n",
    "JOIN Orders ON Customers.CustomerID = Orders.CustomerID\n",
    "GROUP BY CustomerName\n",
    "ORDER BY Order_Count DESC;\n",
    "```"
   ]
  },
  {
   "cell_type": "markdown",
   "metadata": {},
   "source": [
    "3 Which supplier has the highest average product price?\n",
    "```SQL\n",
    "SELECT SupplierName, AVG(Price) AS Mean_Price\n",
    "FROM Products\n",
    "JOIN Suppliers ON Products.SupplierID = Suppliers.SupplierID\n",
    "GROUP BY SupplierName\n",
    "ORDER BY Mean_Price DESC;\n",
    "```"
   ]
  },
  {
   "cell_type": "markdown",
   "metadata": {},
   "source": [
    "4 How many different countries are all the customers from? (Hint: consider [DISTINCT](http://www.w3schools.com/sql/sql_distinct.asp).)\n",
    "```SQL\n",
    "SELECT COUNT(DISTINCT Country)\n",
    "FROM Customers;\n",
    "```"
   ]
  },
  {
   "cell_type": "markdown",
   "metadata": {},
   "source": [
    "5 What category appears in the most orders?\n",
    "```SQL\n",
    "SELECT CategoryName, COUNT(*) AS Product_Count\n",
    "FROM Categories\n",
    "JOIN Products on Categories.CategoryID = Products.CategoryID\n",
    "JOIN OrderDetails on Products.ProductID = OrderDetails.ProductID\n",
    "GROUP BY CategoryName\n",
    "ORDER BY Product_Count DESC;\n",
    "```"
   ]
  },
  {
   "cell_type": "markdown",
   "metadata": {},
   "source": [
    "6 What was the total cost for each order?\n",
    "```SQL\n",
    "SELECT OrderID, SUM(Price*Quantity) AS Total_Cost\n",
    "FROM Products\n",
    "JOIN OrderDetails on Products.ProductID = OrderDetails.ProductID\n",
    "GROUP BY OrderID;\n",
    "```"
   ]
  },
  {
   "cell_type": "markdown",
   "metadata": {},
   "source": [
    "7 Which employee made the most sales (by total price)?\n",
    "```SQL\n",
    "SELECT FirstName, LastName, SUM(Price*Quantity) AS Total_Cost\n",
    "FROM Employees\n",
    "JOIN Orders on Employees.EmployeeID = Orders.EmployeeID\n",
    "JOIN OrderDetails on Orders.OrderID = OrderDetails.OrderID\n",
    "JOIN Products on OrderDetails.ProductID = Products.ProductID\n",
    "GROUP BY FirstName, LastName\n",
    "ORDER BY Total_Cost DESC;\n",
    "```"
   ]
  },
  {
   "cell_type": "markdown",
   "metadata": {},
   "source": [
    "8 Which employees have BS degrees? (Hint: look at the LIKE operator.)\n",
    "```SQL\n",
    "SELECT FirstName, LastName\n",
    "FROM Employees\n",
    "WHERE Notes LIKE '%BS%';\n",
    "```"
   ]
  },
  {
   "cell_type": "markdown",
   "metadata": {},
   "source": [
    "9 Which supplier of three or more products has the highest average product price? (Hint: look at the [HAVING](http://www.w3schools.com/sql/sql_having.asp) operator.)\n",
    "```SQL\n",
    "SELECT SupplierName, AVG(Price) AS Avg_Price, COUNT(*) AS Num_Products\n",
    "FROM Suppliers\n",
    "JOIN Products ON Suppliers.SupplierID = Products.SupplierID\n",
    "GROUP BY SupplierName\n",
    "HAVING Num_Products >= 3\n",
    "ORDER BY Avg_Price DESC;\n",
    "```"
   ]
  },
  {
   "cell_type": "code",
   "execution_count": null,
   "metadata": {
    "collapsed": true
   },
   "outputs": [],
   "source": []
  }
 ],
 "metadata": {
  "anaconda-cloud": {},
  "kernelspec": {
   "display_name": "Python [conda root]",
   "language": "python",
   "name": "conda-root-py"
  },
  "language_info": {
   "codemirror_mode": {
    "name": "ipython",
    "version": 2
   },
   "file_extension": ".py",
   "mimetype": "text/x-python",
   "name": "python",
   "nbconvert_exporter": "python",
   "pygments_lexer": "ipython2",
   "version": "2.7.12"
  }
 },
 "nbformat": 4,
 "nbformat_minor": 1
}
