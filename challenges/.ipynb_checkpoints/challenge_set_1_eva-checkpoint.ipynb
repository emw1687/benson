{
 "cells": [
  {
   "cell_type": "markdown",
   "metadata": {},
   "source": [
    "* Topic:        Challenge Set 1\n",
    "* Subject:      Explore MTA turnstile data\n",
    "* Date:         01/23/2017\n",
    "* Name:         Eva Ward\n",
    "* Worked with:  N/A"
   ]
  },
  {
   "cell_type": "code",
   "execution_count": 1,
   "metadata": {
    "collapsed": true
   },
   "outputs": [],
   "source": [
    "import pandas as pd\n",
    "import numpy as np\n",
    "import matplotlib.pyplot as plt\n",
    "import pprint\n",
    "import csv\n",
    "import urllib2\n",
    "\n",
    "%matplotlib inline"
   ]
  },
  {
   "cell_type": "code",
   "execution_count": 2,
   "metadata": {
    "collapsed": false
   },
   "outputs": [
    {
     "name": "stdout",
     "output_type": "stream",
     "text": [
      "('Pandas version:', u'0.18.1')\n",
      "('Numpy version:', '1.11.1')\n"
     ]
    }
   ],
   "source": [
    "print(\"Pandas version:\",pd.__version__)\n",
    "print(\"Numpy version:\",np.__version__)"
   ]
  },
  {
   "cell_type": "markdown",
   "metadata": {},
   "source": [
    "### Challenge 1   \n",
    "  \n",
    "- Open up a new IPython notebook\n",
    "- Download a few MTA turnstile data files\n",
    "- Open up a file, use csv reader to read it, make a python dict where\n",
    "  there is a key for each (C/A, UNIT, SCP, STATION). These are the\n",
    "  first four columns. The value for this key should be a list of\n",
    "  lists. Each list in the list is the rest of the columns in a\n",
    "  row. For example, one key-value pair should look like\n",
    "\n",
    "\n",
    "{    ('A002','R051','02-00-00','LEXINGTON AVE'):\n",
    "[\n",
    "['NQR456', 'BMT', '01/03/2015', '03:00:00', 'REGULAR', '0004945474', '0001675324'],\n",
    "['NQR456', 'BMT', '01/03/2015', '07:00:00', 'REGULAR', '0004945478', '0001675333'],\n",
    "['NQR456', 'BMT', '01/03/2015', '11:00:00', 'REGULAR', '0004945515', '0001675364'],\n",
    "...\n",
    "]\n",
    "}"
   ]
  },
  {
   "cell_type": "code",
   "execution_count": 3,
   "metadata": {
    "collapsed": false
   },
   "outputs": [],
   "source": [
    "#MTA Turnstile data from week of April 30, 2016\n",
    "file_path = 'data/turnstile_160430.txt'"
   ]
  },
  {
   "cell_type": "code",
   "execution_count": 4,
   "metadata": {
    "collapsed": false
   },
   "outputs": [],
   "source": [
    "turnstiles = dict()\n",
    "\n",
    "with open(file_path) as csvfile:\n",
    "    reader = csv.reader(csvfile, delimiter=',', skipinitialspace=True)\n",
    "    next(reader)\n",
    "    for row in reader:\n",
    "        key = tuple((row[0], row[1], row[2], row[3]))\n",
    "        entries = row[9].lstrip('0')\n",
    "        exits = row[10].lstrip('0').rstrip()\n",
    "        value = [row[4], row[5], row[6], row[7], row[8], entries, exits]\n",
    "        turnstiles.setdefault(key, []).append(value)"
   ]
  },
  {
   "cell_type": "code",
   "execution_count": 5,
   "metadata": {
    "collapsed": false
   },
   "outputs": [
    {
     "data": {
      "text/plain": [
       "('PTH08', 'R540', '00-01-06', 'PATH WTC')"
      ]
     },
     "execution_count": 5,
     "metadata": {},
     "output_type": "execute_result"
    }
   ],
   "source": [
    "keys = turnstiles.keys()\n",
    "test = keys[2]\n",
    "test"
   ]
  },
  {
   "cell_type": "code",
   "execution_count": 9,
   "metadata": {
    "collapsed": false
   },
   "outputs": [
    {
     "name": "stdout",
     "output_type": "stream",
     "text": [
      "[   ['1', 'PTH', '04/23/2016', '00:07:04', 'REGULAR', '563103', '270759'],\n",
      "    ['1', 'PTH', '04/23/2016', '04:19:04', 'REGULAR', '563109', '270759']]\n"
     ]
    }
   ],
   "source": [
    "pp = pprint.PrettyPrinter(indent=4)\n",
    "pp.pprint(turnstiles[(test)][0:2])"
   ]
  },
  {
   "cell_type": "markdown",
   "metadata": {
    "collapsed": false
   },
   "source": [
    "### Challenge 2\n",
    "\n",
    "- Let's turn this into a time series.\n",
    "\n",
    " For each key (basically the control area, unit, device address and\n",
    " station of a specific turnstile), have a list again, but let the list\n",
    " be comprised of just the point in time and the count of entries.\n",
    "\n",
    "This basically means keeping only the date, time, and entries fields\n",
    "in each list. You can convert the date and time into datetime objects\n",
    "-- That is a python class that represents a point in time. You can\n",
    "combine the date and time fields into a string and use the\n",
    "[dateutil](https://labix.org/python-dateutil) module to convert it\n",
    "into a datetime object. For an example check\n",
    "[this StackOverflow question](http://stackoverflow.com/questions/23385003/attributeerror-when-using-import-dateutil-and-dateutil-parser-parse-but-no).\n",
    "\n",
    "Your new dict should look something like\n",
    "\n",
    "{    ('A002','R051','02-00-00','LEXINGTON AVE'):\n",
    "[\n",
    "[datetime.datetime(2013, 3, 2, 3, 0), 3788],\n",
    "[datetime.datetime(2013, 3, 2, 7, 0), 2585],\n",
    "[datetime.datetime(2013, 3, 2, 12, 0), 10653],\n",
    "[datetime.datetime(2013, 3, 2, 17, 0), 11016],\n",
    "[datetime.datetime(2013, 3, 2, 23, 0), 10666],\n",
    "[datetime.datetime(2013, 3, 3, 3, 0), 10814],\n",
    "[datetime.datetime(2013, 3, 3, 7, 0), 10229],\n",
    "...\n",
    "],\n",
    "....\n",
    "}"
   ]
  },
  {
   "cell_type": "code",
   "execution_count": 11,
   "metadata": {
    "collapsed": false
   },
   "outputs": [],
   "source": [
    "from dateutil.parser import parse\n",
    "from datetime import datetime"
   ]
  },
  {
   "cell_type": "code",
   "execution_count": 12,
   "metadata": {
    "collapsed": false
   },
   "outputs": [],
   "source": [
    "dt_entries = dict()\n",
    "\n",
    "with open(file_path) as csvfile:\n",
    "    reader = csv.reader(csvfile, delimiter=',', skipinitialspace=True)\n",
    "    next(reader)\n",
    "    count = 0\n",
    "    try:\n",
    "        for row in reader:\n",
    "            key = tuple((row[0], row[1], row[2], row[3]))\n",
    "            datetime_str = row[6] + ' ' + row[7]\n",
    "            datetime_obj = parse(datetime_str)\n",
    "            #datetime_obj = datetime.strptime(datetime_str, '%m/%d/%Y %H:%M:%S')\n",
    "            entries = row[9].lstrip('0')\n",
    "            value = (datetime_obj, entries)\n",
    "            dt_entries.setdefault(key, []).append(value)\n",
    "            count = count + 1\n",
    "    except:\n",
    "        print count"
   ]
  },
  {
   "cell_type": "code",
   "execution_count": 13,
   "metadata": {
    "collapsed": false
   },
   "outputs": [
    {
     "name": "stdout",
     "output_type": "stream",
     "text": [
      "[   (datetime.datetime(2016, 4, 23, 0, 7, 4), '563103'),\n",
      "    (datetime.datetime(2016, 4, 23, 4, 19, 4), '563109')]\n"
     ]
    }
   ],
   "source": [
    "pp = pprint.PrettyPrinter(indent=4)\n",
    "pp.pprint(dt_entries[test][0:2])"
   ]
  },
  {
   "cell_type": "markdown",
   "metadata": {},
   "source": [
    "### Challenge 3\n",
    "\n",
    "- These counts are for every n hours. (What is n?) We want total daily\n",
    "  entries.\n",
    "\n",
    "Now make it that we again have the same keys, but now we have a single\n",
    "value for a single day, which is the total number of passengers that\n",
    "entered through this turnstile on this day."
   ]
  },
  {
   "cell_type": "code",
   "execution_count": 14,
   "metadata": {
    "collapsed": false
   },
   "outputs": [],
   "source": [
    "day_entries = dict()\n",
    "\n",
    "with open(file_path) as csvfile:\n",
    "    reader = csv.reader(csvfile, delimiter=',', skipinitialspace=True)\n",
    "    next(reader)\n",
    "    count = 0\n",
    "    try:\n",
    "        for row in reader:\n",
    "            date_str = str(row[6])\n",
    "            date_obj = parse(date_str)\n",
    "            key = tuple((row[0], row[1], row[2], row[3], date_obj))\n",
    "            entries = int(row[9])\n",
    "            value = entries\n",
    "            day_entries.setdefault(key, []).append(value)\n",
    "            count = count + 1\n",
    "    except:\n",
    "        print count"
   ]
  },
  {
   "cell_type": "code",
   "execution_count": 15,
   "metadata": {
    "collapsed": false
   },
   "outputs": [
    {
     "data": {
      "text/plain": [
       "('R158',\n",
       " 'R084',\n",
       " '00-05-00',\n",
       " '59 ST COLUMBUS',\n",
       " datetime.datetime(2016, 4, 29, 0, 0))"
      ]
     },
     "execution_count": 15,
     "metadata": {},
     "output_type": "execute_result"
    }
   ],
   "source": [
    "keys = day_entries.keys()\n",
    "test = keys[2]\n",
    "test"
   ]
  },
  {
   "cell_type": "code",
   "execution_count": 16,
   "metadata": {
    "collapsed": false
   },
   "outputs": [
    {
     "data": {
      "text/plain": [
       "[3646558, 3646578, 3646679, 3647099, 3647628, 3648308]"
      ]
     },
     "execution_count": 16,
     "metadata": {},
     "output_type": "execute_result"
    }
   ],
   "source": [
    "day_entries[test]"
   ]
  },
  {
   "cell_type": "code",
   "execution_count": 17,
   "metadata": {
    "collapsed": false
   },
   "outputs": [],
   "source": [
    "day_totals = dict()\n",
    "\n",
    "for keys_tuple, entries_list in day_entries.items():\n",
    "    date = keys_tuple[4]\n",
    "    entries = max(entries_list) - min(entries_list)\n",
    "    key = tuple((keys_tuple[0], keys_tuple[1], keys_tuple[2], keys_tuple[3]))\n",
    "    day_totals.setdefault(key, []).append((date, entries))"
   ]
  },
  {
   "cell_type": "code",
   "execution_count": 18,
   "metadata": {
    "collapsed": false
   },
   "outputs": [
    {
     "data": {
      "text/plain": [
       "('R238A', 'R046', '02-03-02', 'GRD CNTRL-42 ST')"
      ]
     },
     "execution_count": 18,
     "metadata": {},
     "output_type": "execute_result"
    }
   ],
   "source": [
    "keys = day_totals.keys()\n",
    "test = keys[2]\n",
    "test"
   ]
  },
  {
   "cell_type": "code",
   "execution_count": 19,
   "metadata": {
    "collapsed": false
   },
   "outputs": [
    {
     "data": {
      "text/plain": [
       "[(datetime.datetime(2016, 4, 23, 0, 0), 0),\n",
       " (datetime.datetime(2016, 4, 29, 0, 0), 0),\n",
       " (datetime.datetime(2016, 4, 28, 0, 0), 0)]"
      ]
     },
     "execution_count": 19,
     "metadata": {},
     "output_type": "execute_result"
    }
   ],
   "source": [
    "day_totals[(test)]"
   ]
  },
  {
   "cell_type": "code",
   "execution_count": 20,
   "metadata": {
    "collapsed": false
   },
   "outputs": [],
   "source": [
    "for key, value in day_totals.items():\n",
    "    if key[3] == '7 AV': \n",
    "        for couple in value:\n",
    "            if couple[1] == 1738041648:\n",
    "                problem_turnstile = key\n",
    "                problem_date = (couple[0], )\n",
    "\n",
    "problem_key = problem_turnstile + problem_date"
   ]
  },
  {
   "cell_type": "code",
   "execution_count": 21,
   "metadata": {
    "collapsed": false
   },
   "outputs": [
    {
     "name": "stdout",
     "output_type": "stream",
     "text": [
      "('N539A', 'R288', '00-05-01', '7 AV', datetime.datetime(2016, 4, 27, 0, 0))\n"
     ]
    }
   ],
   "source": [
    "print problem_key"
   ]
  },
  {
   "cell_type": "code",
   "execution_count": 22,
   "metadata": {
    "collapsed": false
   },
   "outputs": [
    {
     "data": {
      "text/plain": [
       "[6839231, 6839234, 6839996, 1744879979, 1744880480, 1744880879]"
      ]
     },
     "execution_count": 22,
     "metadata": {},
     "output_type": "execute_result"
    }
   ],
   "source": [
    "day_entries[problem_key]"
   ]
  },
  {
   "cell_type": "markdown",
   "metadata": {},
   "source": [
    "### Challenge 4\n",
    "\n",
    "We will plot the daily time series for a turnstile.\n",
    "\n",
    "In ipython notebook, add this to the beginning of your next cell:\n",
    "\n",
    "    %matplotlib inline\n",
    "\n",
    "This will make your matplotlib graphs integrate nicely with the\n",
    "notebook. To plot the time series, import matplotlib with\n",
    "\n",
    "    import matplotlib.pyplot as plt\n",
    "\n",
    "Take the list of [(date1, count1), (date2, count2), ...], for the\n",
    "turnstile and turn it into two lists:\n",
    "dates and counts. This should plot it:\n",
    "\n",
    "    plt.figure(figsize=(10,3))\n",
    "    plt.plot(dates,counts)"
   ]
  },
  {
   "cell_type": "code",
   "execution_count": 23,
   "metadata": {
    "collapsed": false
   },
   "outputs": [],
   "source": [
    "turnstile = day_totals[('R159', 'R164', '01-06-00', '66 ST-LINCOLN')]\n",
    "dates= list()\n",
    "counts = list()\n",
    "for item in sorted(turnstile):\n",
    "    dates.append(item[0])\n",
    "    counts.append(item[1])"
   ]
  },
  {
   "cell_type": "code",
   "execution_count": 25,
   "metadata": {
    "collapsed": false
   },
   "outputs": [
    {
     "data": {
      "image/png": "[encoded data removed]",
      "text/plain": [
       "<matplotlib.figure.Figure at 0x11efdea90>"
      ]
     },
     "metadata": {},
     "output_type": "display_data"
    }
   ],
   "source": [
    "plt.figure(figsize=(10,3))\n",
    "plt.plot(dates,counts);"
   ]
  },
  {
   "cell_type": "markdown",
   "metadata": {},
   "source": [
    "### Challenge 5\n",
    "\n",
    "- So far we've been operating on a single turnstile level, let's\n",
    "  combine turnstiles in the same ControlArea/Unit/Station combo. There\n",
    "  are some ControlArea/Unit/Station groups that have a single\n",
    "  turnstile, but most have multiple turnstilea-- same value for the\n",
    "  C/A, UNIT and STATION columns, different values for the SCP column.\n",
    "\n",
    "We want to combine the numbers together -- for each\n",
    "ControlArea/UNIT/STATION combo, for each day, add the counts from each\n",
    "turnstile belonging to that combo."
   ]
  },
  {
   "cell_type": "code",
   "execution_count": 32,
   "metadata": {
    "collapsed": false
   },
   "outputs": [],
   "source": [
    "station_day_entries = dict()\n",
    "\n",
    "#day_totals is a dictionary \n",
    "#keys = tuple(C/A, UNIT, SCP, STATION) and values = list(date, total entry for date)\n",
    "\n",
    "for key_tuple, value_list in day_totals.items():\n",
    "    key = tuple((key_tuple[0], key_tuple[1], key_tuple[3]))\n",
    "    for date in value_list:\n",
    "        date_key = tuple((key_tuple[0], key_tuple[1], key_tuple[3], date[0]))\n",
    "        station_day_entries.setdefault(date_key, []).append(date[1])    "
   ]
  },
  {
   "cell_type": "code",
   "execution_count": 33,
   "metadata": {
    "collapsed": false
   },
   "outputs": [],
   "source": [
    "station_day_totals = dict()\n",
    "\n",
    "for key_tuple, entries_list in station_day_entries.items():\n",
    "    total_entries = sum(entries_list)\n",
    "    date = key_tuple[3]\n",
    "    key = tuple((key_tuple[0], key_tuple[1], key_tuple[2]))\n",
    "    station_day_totals.setdefault(key, []).append((date, total_entries))"
   ]
  },
  {
   "cell_type": "code",
   "execution_count": 34,
   "metadata": {
    "collapsed": false
   },
   "outputs": [
    {
     "data": {
      "text/plain": [
       "[(datetime.datetime(2016, 4, 28, 0, 0), 4737),\n",
       " (datetime.datetime(2016, 4, 29, 0, 0), 4780),\n",
       " (datetime.datetime(2016, 4, 25, 0, 0), 4648),\n",
       " (datetime.datetime(2016, 4, 23, 0, 0), 3340),\n",
       " (datetime.datetime(2016, 4, 27, 0, 0), 4869),\n",
       " (datetime.datetime(2016, 4, 24, 0, 0), 3266),\n",
       " (datetime.datetime(2016, 4, 26, 0, 0), 4886)]"
      ]
     },
     "execution_count": 34,
     "metadata": {},
     "output_type": "execute_result"
    }
   ],
   "source": [
    "station_day_totals[('R159', 'R164', '66 ST-LINCOLN')]"
   ]
  },
  {
   "cell_type": "markdown",
   "metadata": {
    "collapsed": true
   },
   "source": [
    "### Challenge 6\n",
    "\n",
    "Similarly, combine everything in each station, and come up with a time\n",
    "series of `[(date1, count1),(date2,count2),...]` type of time series\n",
    "for each STATION, by adding up all the turnstiles in a station."
   ]
  },
  {
   "cell_type": "code",
   "execution_count": 35,
   "metadata": {
    "collapsed": false
   },
   "outputs": [],
   "source": [
    "station_entries = dict()\n",
    "\n",
    "#station_day_totals is a dictionary with\n",
    "#keys = tuple(C/A, UNIT, STATION) and values = list(date, total entry for date)\n",
    "for key_tuple, value_list in station_day_totals.items():\n",
    "    key = tuple(key_tuple[2])\n",
    "    for date in value_list:\n",
    "        date_key = tuple((key_tuple[2], date[0]))\n",
    "        station_entries.setdefault(date_key, []).append(date[1]) "
   ]
  },
  {
   "cell_type": "code",
   "execution_count": 36,
   "metadata": {
    "collapsed": false
   },
   "outputs": [
    {
     "data": {
      "text/plain": [
       "[(datetime.datetime(2016, 4, 24, 0, 0), 63368),\n",
       " (datetime.datetime(2016, 4, 29, 0, 0), 150484),\n",
       " (datetime.datetime(2016, 4, 28, 0, 0), 157031),\n",
       " (datetime.datetime(2016, 4, 23, 0, 0), 74317),\n",
       " (datetime.datetime(2016, 4, 27, 0, 0), 157509),\n",
       " (datetime.datetime(2016, 4, 26, 0, 0), 371710),\n",
       " (datetime.datetime(2016, 4, 25, 0, 0), 153179)]"
      ]
     },
     "execution_count": 36,
     "metadata": {},
     "output_type": "execute_result"
    }
   ],
   "source": [
    "station_totals = dict()\n",
    "\n",
    "for key_tuple, entries_list in station_entries.items():\n",
    "    total_entries = sum(entries_list)\n",
    "    date = key_tuple[1]\n",
    "    station_totals.setdefault(key_tuple[0], []).append((date, total_entries))\n",
    "\n",
    "station_totals['34 ST-PENN STA']"
   ]
  },
  {
   "cell_type": "markdown",
   "metadata": {},
   "source": [
    "### Challenge 7\n",
    "\n",
    "Plot the time series for a station."
   ]
  },
  {
   "cell_type": "code",
   "execution_count": 42,
   "metadata": {
    "collapsed": true
   },
   "outputs": [],
   "source": [
    "station = station_totals[('103 ST')]\n",
    "dates= list()\n",
    "counts = list()\n",
    "for item in sorted(station):\n",
    "    dates.append(item[0])\n",
    "    counts.append(item[1])"
   ]
  },
  {
   "cell_type": "code",
   "execution_count": 43,
   "metadata": {
    "collapsed": false
   },
   "outputs": [
    {
     "data": {
      "image/png": "[encoded data removed]",
      "text/plain": [
       "<matplotlib.figure.Figure at 0x122282ad0>"
      ]
     },
     "metadata": {},
     "output_type": "display_data"
    }
   ],
   "source": [
    "plt.figure(figsize=(10,3))\n",
    "plt.plot(dates,counts);"
   ]
  },
  {
   "cell_type": "markdown",
   "metadata": {},
   "source": [
    "### Challenge 8\n",
    "\n",
    "- Make one list of counts for **one** week for one station. Monday's\n",
    "count, Tuesday's count, etc. so it's a list of 7 counts.\n",
    "Make the same list for another week, and another week, and another\n",
    "week.\n",
    "`plt.plot(week_count_list)` for every `week_count_list` you created\n",
    "this way. You should get a rainbow plot of weekly commute numbers on\n",
    "top of each other."
   ]
  },
  {
   "cell_type": "markdown",
   "metadata": {
    "collapsed": true
   },
   "source": [
    "### Challenge 9\n",
    "\n",
    "- Over multiple weeks, sum total ridership for each station and sort\n",
    "  them, so you can find out the stations with the highest traffic\n",
    "  during the time you investigate"
   ]
  },
  {
   "cell_type": "code",
   "execution_count": 44,
   "metadata": {
    "collapsed": false
   },
   "outputs": [],
   "source": [
    "station_all_entries = dict()\n",
    "\n",
    "#station_totals is a dictionary\n",
    "#with keys = tuple(station, date) and value = total entries for date\n",
    "\n",
    "for station, entries_list in station_totals.items():\n",
    "    for entry in entries_list:\n",
    "        entry = entry[1]\n",
    "        station_all_entries.setdefault(station, []).append(entry)"
   ]
  },
  {
   "cell_type": "code",
   "execution_count": 45,
   "metadata": {
    "collapsed": false
   },
   "outputs": [],
   "source": [
    "station_grand_totals = dict()\n",
    "\n",
    "for station, entries in station_all_entries.items():\n",
    "    station_grand_totals[station] = sum(entries)"
   ]
  },
  {
   "cell_type": "code",
   "execution_count": 46,
   "metadata": {
    "collapsed": false
   },
   "outputs": [
    {
     "name": "stdout",
     "output_type": "stream",
     "text": [
      "7 AV 1738242633\n",
      "DITMAS AV 67123143\n",
      "PATH WTC 3667379\n",
      "15 ST-PROSPECT 1925910\n",
      "THIRTY ST 1733928\n",
      "34 ST-PENN STA 1127598\n",
      "GRD CNTRL-42 ST 804094\n",
      "34 ST-HERALD SQ 639059\n",
      "23 ST 612392\n",
      "86 ST 581847\n",
      "42 ST-PORT AUTH 564337\n",
      "14 ST-UNION SQ 558444\n",
      "TIMES SQ-42 ST 489644\n",
      "125 ST 437834\n",
      "FULTON ST 435692\n",
      "59 ST 409217\n",
      "96 ST 405543\n",
      "CANAL ST 392143\n",
      "59 ST COLUMBUS 361006\n",
      "CHAMBERS ST 331483\n",
      "FLUSHING-MAIN 323699\n",
      "14 ST 319723\n",
      "47-50 STS ROCK 287866\n",
      "JKSN HT-ROOSVLT 283445\n",
      "28 ST 276562\n",
      "72 ST 274278\n",
      "WALL ST 255460\n",
      "50 ST 239049\n",
      "EXCHANGE PLACE 233349\n",
      "LEXINGTON AV/53 228731\n",
      "8 AV 227237\n",
      "W 4 ST-WASH SQ 227130\n",
      "77 ST 223932\n",
      "ATL AV-BARCLAY 219873\n",
      "GROVE STREET 212670\n",
      "JAMAICA CENTER 212446\n",
      "JAY ST-METROTEC 207930\n",
      "145 ST 203367\n",
      "CHURCH AV 202730\n",
      "42 ST-BRYANT PK 198124\n",
      "116 ST 193939\n",
      "BOROUGH HALL 192333\n",
      "BOWLING GREEN 166455\n",
      "33 ST 165293\n",
      "GRAND ST 163412\n",
      "BEDFORD AV 162181\n",
      "DEKALB AV 161283\n",
      "CROWN HTS-UTICA 159992\n",
      "68ST-HUNTER CO 158918\n",
      "103 ST 157490\n",
      "161/YANKEE STAD 155684\n",
      "57 ST-7 AV 151229\n",
      "WOODHAVEN BLVD 149513\n",
      "KEW GARDENS 148299\n",
      "FOREST HILLS 71 147207\n",
      "5 AV/53 ST 141322\n",
      "168 ST 134613\n",
      "49 ST 131687\n",
      "SUTPHIN-ARCHER 130581\n",
      "KINGS HWY 129720\n",
      "DELANCEY/ESSEX 129479\n",
      "FORDHAM RD 129232\n",
      "B'WAY-LAFAYETTE 128056\n",
      "79 ST 125872\n",
      "THIRTY THIRD ST 125841\n",
      "JOURNAL SQUARE 124885\n",
      "3 AV-149 ST 123765\n",
      "181 ST 122870\n",
      "SPRING ST 121101\n",
      "NOSTRAND AV 120840\n",
      "JAMAICA 179 ST 120811\n",
      "JUNCTION BLVD 119764\n",
      "1 AV 118358\n",
      "BROOKLYN BRIDGE 118239\n",
      "66 ST-LINCOLN 116791\n",
      "BAY PKWY 116136\n",
      "CATHEDRAL PKWY 114110\n",
      "103 ST-CORONA 113366\n",
      "51 ST 112253\n",
      "MYRTLE-WYCKOFF 110056\n",
      "135 ST 109941\n",
      "5 AV/59 ST 109577\n",
      "167 ST 109302\n",
      "PAVONIA/NEWPORT 107787\n",
      "FRANKLIN AV 105671\n",
      "FLATBUSH AV-B.C 105256\n",
      "GRAND-NEWTOWN 104858\n",
      "PARKCHESTER 103159\n",
      "CITY / BUS 98211\n",
      "36 ST 98178\n",
      "8 ST-NYU 97219\n",
      "BROADWAY 97002\n",
      "ASTORIA DITMARS 96867\n",
      "90 ST-ELMHURST 95480\n",
      "61 ST WOODSIDE 94988\n",
      "111 ST 94085\n",
      "WHITEHALL S-FRY 93483\n",
      "KINGSBRIDGE RD 92236\n",
      "HALSEY ST 91320\n",
      "63 DR-REGO PARK 90548\n",
      "116 ST-COLUMBIA 89213\n",
      "170 ST 88771\n",
      "CONEY IS-STILLW 88068\n",
      "UTICA AV 87253\n",
      "81 ST-MUSEUM 86470\n",
      "PRINCE ST 86220\n",
      "RECTOR ST 85082\n",
      "2 AV 84598\n",
      "82 ST-JACKSON H 83888\n",
      "30 AV 83178\n",
      "WORLD TRADE CTR 82841\n",
      "BERGEN ST 82107\n",
      "STEINWAY ST 80512\n",
      "ASTOR PL 79177\n",
      "CHRISTOPHER ST 78956\n",
      "EAST BROADWAY 78713\n",
      "DYCKMAN ST 78643\n",
      "BAY RIDGE AV 78089\n",
      "57 ST 77947\n",
      "HOUSTON ST 77046\n",
      "ELMHURST AV 76665\n",
      "BLEECKER ST 75860\n",
      "METROPOLITAN AV 75564\n",
      "NEWARK BM BW 74552\n",
      "SHEEPSHEAD BAY 74200\n",
      "110 ST 73765\n",
      "46 ST BLISS ST 73728\n",
      "175 ST 73538\n",
      "LEXINGTON AV/63 73409\n",
      "137 ST CITY COL 73336\n",
      "QUEENSBORO PLZ 72980\n",
      "18 AV 70883\n",
      "PROSPECT AV 70506\n",
      "VERNON-JACKSON 69988\n",
      "ST. GEORGE 69710\n",
      "ASTORIA BLVD 69512\n",
      "SOUTH FERRY 69106\n",
      "MARCY AV 68981\n",
      "COURT SQ 68500\n",
      "CANARSIE-ROCKAW 67171\n",
      "PELHAM PKWY 66679\n",
      "CLINTON-WASH AV 65766\n",
      "PROSPECT PARK 65091\n",
      "BEDFORD PK BLVD 64725\n",
      "FLUSHING AV 64599\n",
      "MYRTLE AV 64550\n",
      "157 ST 63875\n",
      "GUN HILL RD 63867\n",
      "AVENUE U 63649\n",
      "149/GRAND CONC 62502\n",
      "5 AVE 61919\n",
      "LORIMER ST 61736\n",
      "FT HAMILTON PKY 61487\n",
      "NEWKIRK PLAZA 59755\n",
      "CORTLANDT ST 59222\n",
      "BRIGHTON BEACH 59152\n",
      "ROCKAWAY AV 58610\n",
      "CARROLL ST 57868\n",
      "YORK ST 57366\n",
      "EUCLID AV 56844\n",
      "GRAHAM AV 56149\n",
      "BURNSIDE AV 56030\n",
      "JFK JAMAICA CT1 55847\n",
      "HUNTS POINT AV 55833\n",
      "TREMONT AV 55528\n",
      "INWOOD-207 ST 53469\n",
      "176 ST 53429\n",
      "BROADWAY JCT 53134\n",
      "QUEENS PLAZA 53114\n",
      "NEVINS ST 53017\n",
      "46 ST 52398\n",
      "CENTRAL PK N110 52386\n",
      "40 ST LOWERY ST 51578\n",
      "14TH STREET 51340\n",
      "231 ST 51125\n",
      "LACKAWANNA 50979\n",
      "HOYT-SCHER 50628\n",
      "SIMPSON ST 50550\n",
      "GREENPOINT AV 50247\n",
      "4AV-9 ST 50203\n",
      "21 ST-QNSBRIDGE 49734\n",
      "HARRISON 48940\n",
      "NORWOOD 205 ST 48885\n",
      "TWENTY THIRD ST 48770\n",
      "169 ST 47999\n",
      "MOSHOLU PKWY 47546\n",
      "HIGH ST 47330\n",
      "NASSAU ST 47189\n",
      "COURT SQ-23 ST 46824\n",
      "67 AV 46523\n",
      "BEDFORD-NOSTRAN 46421\n",
      "E 180 ST 45809\n",
      "WEST FARMS SQ 44347\n",
      "JEFFERSON ST 44081\n",
      "MORGAN AV 44078\n",
      "191 ST 43364\n",
      "3 AV 138 ST 43201\n",
      "NORTHERN BLVD 43170\n",
      "18 ST 42758\n",
      "NEWKIRK AV 42053\n",
      "SUTTER AV-RUTLD 41823\n",
      "GRAND ARMY PLAZ 41741\n",
      "VAN SICLEN AV 41409\n",
      "33 ST-RAWSON ST 41330\n",
      "OZONE PK LEFFRT 41134\n",
      "53 ST 41005\n",
      "V.CORTLANDT PK 40961\n",
      "WOODLAWN 40911\n",
      "174 ST 39254\n",
      "ROCKAWAY BLVD 39105\n",
      "HOYT ST 38931\n",
      "36 AV 38816\n",
      "MONTROSE AV 38667\n",
      "45 ST 38307\n",
      "ROOSEVELT ISLND 37043\n",
      "20 AV 36876\n",
      "BROAD ST 36812\n",
      "155 ST 36742\n",
      "71 ST 36728\n",
      "GRANT AV 36723\n",
      "52 ST 36687\n",
      "EASTN PKWY-MUSM 36677\n",
      "WINTHROP ST 36488\n",
      "MORISN AV/SNDVW 36282\n",
      "ELDER AV 36183\n",
      "GATES AV 35912\n",
      "207 ST 35309\n",
      "34 ST-HUDSON YD 34982\n",
      "3 AV 34816\n",
      "183 ST 33978\n",
      "PARSONS BLVD 33953\n",
      "KINGSTON-THROOP 33662\n",
      "CORTELYOU RD 33628\n",
      "UNION ST 33590\n",
      "25 AV 33586\n",
      "FRESH POND RD 33300\n",
      "BROOK AV 33290\n",
      "MYRTLE-WILLOUGH 33169\n",
      "9 AV 33137\n",
      "HUNTERS PT AV 33067\n",
      "RIT-MANHATTAN 33052\n",
      "CLARK ST 33004\n",
      "CITY HALL 32385\n",
      "6 AV 32343\n",
      "FRANKLIN ST 31917\n",
      "PELHAM BAY PARK 31649\n",
      "RALPH AV 31048\n",
      "PARKSIDE AV 30758\n",
      "MT EDEN AV 30364\n",
      "RIT-ROOSEVELT 30333\n",
      "PARK PLACE 30267\n",
      "STERLING ST 30223\n",
      "ALLERTON AV 30198\n",
      "MARBLE HILL-225 29906\n",
      "174-175 STS 29851\n",
      "233 ST 29621\n",
      "NEW UTRECHT AV 29337\n",
      "NEW LOTS AV 29257\n",
      "WAKEFIELD/241 28864\n",
      "JACKSON AV 28511\n",
      "NEWARK C 28170\n",
      "BRIARWOOD 28161\n",
      "CASTLE HILL AV 28046\n",
      "NEW LOTS 28041\n",
      "KOSCIUSZKO ST 27936\n",
      "182-183 STS 27868\n",
      "CRESCENT ST 27556\n",
      "9TH STREET 27476\n",
      "JAMAICA VAN WK 27473\n",
      "AVENUE J 27417\n",
      "CLASSON AV 27279\n",
      "HOWARD BCH JFK 27097\n",
      "190 ST 26752\n",
      "SMITH-9 ST 26428\n",
      "LAFAYETTE AV 26400\n",
      "SUTPHIN BLVD 26113\n",
      "WESTCHESTER SQ 26098\n",
      "METS-WILLETS PT 25988\n",
      "FAR ROCKAWAY 25877\n",
      "FREEMAN ST 25842\n",
      "69 ST 25567\n",
      "E 149 ST 25558\n",
      "NEWARK HW BMEBE 25138\n",
      "163 ST-AMSTERDM 25020\n",
      "104 ST 24683\n",
      "SUTTER AV 24424\n",
      "238 ST 24166\n",
      "AVENUE M 23802\n",
      "BEVERLY RD 23562\n",
      "FOREST AVE 23554\n",
      "65 ST 23432\n",
      "KINGSTON AV 23410\n",
      "225 ST 23130\n",
      "NECK RD 23018\n",
      "ST LAWRENCE AV 22398\n",
      "CYPRESS AV 22304\n",
      "KNICKERBOCKER 21911\n",
      "80 ST 21872\n",
      "85 ST-FOREST PK 21570\n",
      "CHAUNCEY ST 20883\n",
      "EAST 105 ST 20848\n",
      "EASTCHSTER/DYRE 20296\n",
      "HARLEM 148 ST 20266\n",
      "NEREID AV 20258\n",
      "CENTRAL AV 20173\n",
      "25 ST 20059\n",
      "75 AV 19983\n",
      "4 AV-9 ST 19641\n",
      "NORWOOD AV 19275\n",
      "PRESIDENT ST 19107\n",
      "BURKE AV 18957\n",
      "75 ST-ELDERTS 18682\n",
      "LONGWOOD AV 18661\n",
      "CLEVELAND ST 18368\n",
      "39 AV 18252\n",
      "BOWERY 18076\n",
      "138/GRAND CONC 18047\n",
      "LIVONIA AV 17956\n",
      "219 ST 17924\n",
      "SHEPHERD AV 17752\n",
      "VAN SICLEN AVE 17456\n",
      "74 ST-BROADWAY 17232\n",
      "BAYCHESTER AV 16616\n",
      "INTERVALE AV 16310\n",
      "AVENUE N 16148\n",
      "W 8 ST-AQUARIUM 16147\n",
      "88 ST 16016\n",
      "BAY 50 ST 15969\n",
      "NEWARK HM HE 15837\n",
      "BUHRE AV 15783\n",
      "OCEAN PKWY 15530\n",
      "BEVERLEY ROAD 15368\n",
      "AVENUE P 15238\n",
      "LIBERTY AV 15008\n",
      "SENECA AVE 14797\n",
      "BRONX PARK EAST 14655\n",
      "HEWES ST 14452\n",
      "BUSHWICK AV 13762\n",
      "ALABAMA AV 13642\n",
      "AVENUE X 13401\n",
      "121 ST 13212\n",
      "BEACH 60 ST 13147\n",
      "AVENUE H 13113\n",
      "BEACH 67 ST 13051\n",
      "JUNIUS ST 11657\n",
      "AVENUE I 11224\n",
      "ZEREGA AV 11054\n",
      "MORRIS PARK 10840\n",
      "55 ST 10605\n",
      "21 ST 10380\n",
      "215 ST 10293\n",
      "AQUEDUCT RACETR 10267\n",
      "WHITLOCK AV 9267\n",
      "BEACH 25 ST 9218\n",
      "MIDDLETOWN RD 8957\n",
      "NEPTUNE AV 8015\n",
      "CYPRESS HILLS 7546\n",
      "ATLANTIC AV 7260\n",
      "BOTANIC GARDEN 7150\n",
      "AQUEDUCT N.COND 6096\n",
      "BEACH 36 ST 5232\n",
      "E 143/ST MARY'S 5187\n",
      "BEACH 90 ST 4464\n",
      "TOMPKINSVILLE 4295\n",
      "ROCKAWAY PARK B 3978\n",
      "PATH WTC 2 3660\n",
      "BEACH 44 ST 3455\n",
      "BEACH 98 ST 2224\n",
      "BROAD CHANNEL 1709\n",
      "BEACH 105 ST 1168\n"
     ]
    }
   ],
   "source": [
    "for station in sorted(station_grand_totals, key=station_grand_totals.get, reverse = True):\n",
    "    print station, station_grand_totals[station]"
   ]
  },
  {
   "cell_type": "markdown",
   "metadata": {},
   "source": [
    "### Challenge 10\n",
    "\n",
    "- Make a single list of these total ridership values and plot it with\n",
    "\n",
    "    plt.hist(total_ridership_counts)\n",
    "\n",
    "to get an idea about the distribution of total ridership among\n",
    "different stations.\n",
    "\n",
    "This should show you that most stations have a small traffic, and the\n",
    "histogram bins for large traffic volumes have small bars."
   ]
  },
  {
   "cell_type": "code",
   "execution_count": 47,
   "metadata": {
    "collapsed": true
   },
   "outputs": [],
   "source": [
    "problem_children = ('7 AV',\n",
    "                    'DITMAS AV',\n",
    "                    'PATH WTC',\n",
    "                    '15 ST-PROSPECT',\n",
    "                    'THIRTY ST'\n",
    "                   )"
   ]
  },
  {
   "cell_type": "code",
   "execution_count": 48,
   "metadata": {
    "collapsed": false
   },
   "outputs": [
    {
     "data": {
      "image/png": "[encoded data removed]",
      "text/plain": [
       "<matplotlib.figure.Figure at 0x1222d0190>"
      ]
     },
     "metadata": {},
     "output_type": "display_data"
    }
   ],
   "source": [
    "total_ridership_counts = list()\n",
    "\n",
    "for station, entries in station_grand_totals.items():\n",
    "    if station not in problem_children:\n",
    "        total_ridership_counts.append(entries)\n",
    "\n",
    "plt.hist(total_ridership_counts);"
   ]
  },
  {
   "cell_type": "code",
   "execution_count": null,
   "metadata": {
    "collapsed": true
   },
   "outputs": [],
   "source": []
  }
 ],
 "metadata": {
  "anaconda-cloud": {},
  "kernelspec": {
   "display_name": "Python [default]",
   "language": "python",
   "name": "python2"
  },
  "language_info": {
   "codemirror_mode": {
    "name": "ipython",
    "version": 2
   },
   "file_extension": ".py",
   "mimetype": "text/x-python",
   "name": "python",
   "nbconvert_exporter": "python",
   "pygments_lexer": "ipython2",
   "version": "2.7.12"
  }
 },
 "nbformat": 4,
 "nbformat_minor": 1
}
