{
 "cells": [
  {
   "cell_type": "markdown",
   "metadata": {},
   "source": [
    "## Challenge 14: MongoDB Challenges"
   ]
  },
  {
   "cell_type": "code",
   "execution_count": 1,
   "metadata": {
    "collapsed": false
   },
   "outputs": [],
   "source": [
    "import pickle\n",
    "import codecs\n",
    "import string\n",
    "import math\n",
    "\n",
    "import pymongo\n",
    "from bson.code import Code\n",
    "\n",
    "import pprint\n",
    "\n",
    "import matplotlib.pyplot as plt\n",
    "%matplotlib inline"
   ]
  },
  {
   "cell_type": "code",
   "execution_count": 2,
   "metadata": {
    "collapsed": false
   },
   "outputs": [
    {
     "data": {
      "text/plain": [
       "'3.4.0'"
      ]
     },
     "execution_count": 2,
     "metadata": {},
     "output_type": "execute_result"
    }
   ],
   "source": [
    "pymongo.version"
   ]
  },
  {
   "cell_type": "code",
   "execution_count": 3,
   "metadata": {
    "collapsed": true
   },
   "outputs": [],
   "source": [
    "client = pymongo.MongoClient('localhost', 27017)"
   ]
  },
  {
   "cell_type": "code",
   "execution_count": 4,
   "metadata": {
    "collapsed": false
   },
   "outputs": [
    {
     "data": {
      "text/plain": [
       "[u'admin', u'legislation', u'local', u'metal_movies_db']"
      ]
     },
     "execution_count": 4,
     "metadata": {},
     "output_type": "execute_result"
    }
   ],
   "source": [
    "client.database_names()"
   ]
  },
  {
   "cell_type": "code",
   "execution_count": 5,
   "metadata": {
    "collapsed": false
   },
   "outputs": [],
   "source": [
    "client.drop_database('metal_movies_db')"
   ]
  },
  {
   "cell_type": "markdown",
   "metadata": {},
   "source": [
    "### Setup\n",
    "\n",
    "Make sure that mongodb is setup and the database server (`mongod`) is running.\n",
    "\n",
    "We are going to work with reviews of Heavy Metal movies. Hellz Yeah. Unzip and unpickle the following file:\n",
    "\n",
    "[heavy_metal_parsed.pkl.zip](https://github.com/thisismetis/chi17_ds1/blob/master/challenges/challenges_questions/14-mongo_twitter/heavy_metal_parsed.pkl.zip)"
   ]
  },
  {
   "cell_type": "code",
   "execution_count": 6,
   "metadata": {
    "collapsed": false
   },
   "outputs": [],
   "source": [
    "with open('data/heavy_metal_parsed.pkl', 'r') as datafile:\n",
    "    heavy_metal_reviews = pickle.load(datafile)"
   ]
  },
  {
   "cell_type": "code",
   "execution_count": 7,
   "metadata": {
    "collapsed": false
   },
   "outputs": [
    {
     "data": {
      "text/plain": [
       "['head',\n",
       " 'metal_cred',\n",
       " 'title',\n",
       " 'direct',\n",
       " 'solid_metal_nuggets',\n",
       " 'cast',\n",
       " 'raw',\n",
       " 'the_meat',\n",
       " 'year',\n",
       " 'sections']"
      ]
     },
     "execution_count": 7,
     "metadata": {},
     "output_type": "execute_result"
    }
   ],
   "source": [
    "first_review = heavy_metal_reviews[0]\n",
    "first_review.keys()"
   ]
  },
  {
   "cell_type": "code",
   "execution_count": 8,
   "metadata": {
    "collapsed": false
   },
   "outputs": [
    {
     "name": "stdout",
     "output_type": "stream",
     "text": [
      "200 MOTELS (1971)\n",
      "DIRECTORS: Tony Palmer, Frank Zappa\n",
      "CAST: Frank Zappa, Ringo Starr, Mark Volman, Howard Kaylan, Keith\n",
      "Moon\n",
      "METAL CRED\n",
      "Frank Zappa\n",
      "Nun Desecration\n",
      "THE MEAT\n",
      "Beyond his metal sainthood for\n",
      "battling the censor-witches of the PMRC and getting named checked by Deep\n",
      "Purple in “Smoke on the Water”, musical visionary Frank Zappa led many rock\n",
      "fans to heavy metal.\n",
      "And, from there, he led many metal\n",
      "fans to the outer expanses of rock’s possibilities.\n",
      "Zappa also opened countless banging\n",
      "heads to the far reaches of jazz, classical, doo-wop, and any other art form\n",
      "that could involve (brilliant) noise and (brilliantly dumb) dirty jokes.\n",
      "200\n",
      "Motels is Zappa’s first crack at major motion picture madness, and it\n",
      "embodies the much forgotten cultural moment when acid rock tumbled forever into\n",
      "the black pits of rising heavy metal.\n",
      "Surrealistic sketches and\n",
      "psychedelic set pieces about the insanity of a being on tour are interspersed\n",
      "among performances in which the Mothers jam with London Philharmonic.\n",
      "Ringo Starr plays Zappa during the\n",
      "talking parts. Zappa himself, plays guitar throughout, demonstrating how very\n",
      "much of a six-string maestro he was, every lick on par with his future\n",
      "collaborators Steve Vail and Yngwie Malmsteen.\n",
      "SOLID METAL NUGGETS\n",
      "• A psychedelic cartoon interlude\n",
      "admiringly tweaks Black Sabbath and Grand Funk Railroad.\n",
      "• Keith Moon, madman drummer of the\n",
      "Who, pops up—and off—as “The Hot Nun.”\n"
     ]
    }
   ],
   "source": [
    "for line in first_review['raw']:\n",
    "    print line"
   ]
  },
  {
   "cell_type": "code",
   "execution_count": 9,
   "metadata": {
    "collapsed": true
   },
   "outputs": [],
   "source": [
    "#create metal movies mongodb\n",
    "db = client.metal_movies_db"
   ]
  },
  {
   "cell_type": "code",
   "execution_count": 10,
   "metadata": {
    "collapsed": true
   },
   "outputs": [],
   "source": [
    "#create reviews collection (rc)\n",
    "rc = db.rc"
   ]
  },
  {
   "cell_type": "code",
   "execution_count": 11,
   "metadata": {
    "collapsed": false
   },
   "outputs": [],
   "source": [
    "#add all reviews to rc\n",
    "for review in heavy_metal_reviews:\n",
    "    rc.insert_one(review)"
   ]
  },
  {
   "cell_type": "code",
   "execution_count": 12,
   "metadata": {
    "collapsed": false
   },
   "outputs": [
    {
     "data": {
      "text/plain": [
       "856"
      ]
     },
     "execution_count": 12,
     "metadata": {},
     "output_type": "execute_result"
    }
   ],
   "source": [
    "rc.count()"
   ]
  },
  {
   "cell_type": "code",
   "execution_count": 13,
   "metadata": {
    "collapsed": false
   },
   "outputs": [
    {
     "data": {
      "text/plain": [
       "[u'rc']"
      ]
     },
     "execution_count": 13,
     "metadata": {},
     "output_type": "execute_result"
    }
   ],
   "source": [
    "db.collection_names()"
   ]
  },
  {
   "cell_type": "markdown",
   "metadata": {},
   "source": [
    "## Challenge 1\n",
    "\n",
    "Make a histogram of the years in the data. How many metal movies came out over the years?"
   ]
  },
  {
   "cell_type": "code",
   "execution_count": 81,
   "metadata": {
    "collapsed": false
   },
   "outputs": [
    {
     "data": {
      "text/plain": [
       "[u'raw',\n",
       " u'head',\n",
       " u'metal_cred',\n",
       " u'title',\n",
       " u'metal_score',\n",
       " u'direct',\n",
       " u'solid_metal_nuggets',\n",
       " u'cast',\n",
       " u'the_meat',\n",
       " u'year',\n",
       " u'_id',\n",
       " u'sections']"
      ]
     },
     "execution_count": 81,
     "metadata": {},
     "output_type": "execute_result"
    }
   ],
   "source": [
    "rc.find_one().keys()"
   ]
  },
  {
   "cell_type": "markdown",
   "metadata": {},
   "source": [
    "### _Dictionaries_"
   ]
  },
  {
   "cell_type": "code",
   "execution_count": 15,
   "metadata": {
    "collapsed": false
   },
   "outputs": [],
   "source": [
    "years = {}\n",
    "for movie in rc.find():\n",
    "    year = movie['year']\n",
    "    years[year] = years.get(year, 0) + 1"
   ]
  },
  {
   "cell_type": "code",
   "execution_count": 16,
   "metadata": {
    "collapsed": false
   },
   "outputs": [
    {
     "data": {
      "image/png": "[encoded data removed]",
      "text/plain": [
       "<matplotlib.figure.Figure at 0x10ff7cd50>"
      ]
     },
     "metadata": {},
     "output_type": "display_data"
    }
   ],
   "source": [
    "plt.bar(years.keys(), years.values());"
   ]
  },
  {
   "cell_type": "markdown",
   "metadata": {},
   "source": [
    "### _pymongo_"
   ]
  },
  {
   "cell_type": "code",
   "execution_count": 18,
   "metadata": {
    "collapsed": false
   },
   "outputs": [
    {
     "name": "stdout",
     "output_type": "stream",
     "text": [
      "[{u'_id': 1956, u'num_movies': 1},\n",
      " {u'_id': 1923, u'num_movies': 1},\n",
      " {u'_id': 1929, u'num_movies': 1}]\n"
     ]
    }
   ],
   "source": [
    "pipe = [{'$group': {'_id': '$year',\n",
    "                    'num_movies': {'$sum': 1}}}]\n",
    "pprint.pprint(list(rc.aggregate(pipeline=pipe))[:3])"
   ]
  },
  {
   "cell_type": "code",
   "execution_count": 19,
   "metadata": {
    "collapsed": true
   },
   "outputs": [],
   "source": [
    "years=[]\n",
    "num_movies=[]\n",
    "for item in list(rc.aggregate(pipeline=pipe)):\n",
    "    years.append(item['_id'])\n",
    "    num_movies.append(item['num_movies'])"
   ]
  },
  {
   "cell_type": "code",
   "execution_count": 20,
   "metadata": {
    "collapsed": false
   },
   "outputs": [
    {
     "data": {
      "image/png": "[encoded data removed]",
      "text/plain": [
       "<matplotlib.figure.Figure at 0x10e8133d0>"
      ]
     },
     "metadata": {},
     "output_type": "display_data"
    }
   ],
   "source": [
    "plt.bar(years, num_movies);"
   ]
  },
  {
   "cell_type": "markdown",
   "metadata": {},
   "source": [
    "## Challenge 2\n",
    "\n",
    "Find the cast member that appeared in most Heavy Metal movies. Is there one that is shared by more than one of these movies? Or are they all completely different actors for every movie?"
   ]
  },
  {
   "cell_type": "markdown",
   "metadata": {},
   "source": [
    "### _Dictionaries_"
   ]
  },
  {
   "cell_type": "code",
   "execution_count": 21,
   "metadata": {
    "collapsed": false
   },
   "outputs": [],
   "source": [
    "actors = {}\n",
    "for movie in rc.find():\n",
    "    for actor in movie['cast']:\n",
    "        if actor:\n",
    "            actor = actor.encode('utf-8')\n",
    "            actors[actor] = actors.get(actor, 0) + 1"
   ]
  },
  {
   "cell_type": "code",
   "execution_count": 22,
   "metadata": {
    "collapsed": false
   },
   "outputs": [
    {
     "name": "stdout",
     "output_type": "stream",
     "text": [
      "Alice Cooper 15\n"
     ]
    }
   ],
   "source": [
    "top_actor = max(actors.iterkeys(), key=(lambda key: actors[key]))\n",
    "print top_actor, actors[top_actor]"
   ]
  },
  {
   "cell_type": "markdown",
   "metadata": {},
   "source": [
    "### _pymongo_"
   ]
  },
  {
   "cell_type": "code",
   "execution_count": 23,
   "metadata": {
    "collapsed": false
   },
   "outputs": [
    {
     "name": "stdout",
     "output_type": "stream",
     "text": [
      "[{u'_id': u'John Mills', u'num_movies': 1},\n",
      " {u'_id': u'Richard Widmark', u'num_movies': 1},\n",
      " {u'_id': u'Nastassja Kinsi', u'num_movies': 1}]\n"
     ]
    }
   ],
   "source": [
    "pipe = [\n",
    "    {'$unwind': '$cast'},\n",
    "    {'$group': {'_id': '$cast',\n",
    "                    'num_movies': {'$sum': 1}}}\n",
    "]\n",
    "pprint.pprint(list(rc.aggregate(pipeline=pipe))[:3])"
   ]
  },
  {
   "cell_type": "code",
   "execution_count": 24,
   "metadata": {
    "collapsed": false
   },
   "outputs": [
    {
     "name": "stdout",
     "output_type": "stream",
     "text": [
      "{u'_id': u'Alice Cooper', u'num_movies': 15}\n"
     ]
    }
   ],
   "source": [
    "pipe = [\n",
    "    {'$project': {'_id': 0, 'cast': 1}},\n",
    "    {'$match': {'cast': {'$exists': True,\n",
    "                        '$ne': ''}}},\n",
    "    {'$unwind': '$cast'},\n",
    "    {'$group': {'_id': '$cast',\n",
    "                'num_movies': {'$sum': 1}}},\n",
    "    {'$sort': {'num_movies': -1}}\n",
    "]\n",
    "pprint.pprint(list(rc.aggregate(pipeline=pipe))[0])"
   ]
  },
  {
   "cell_type": "markdown",
   "metadata": {},
   "source": [
    "## Challenge 3\n",
    "\n",
    "Find the most used words in Heavy Metal film titles. Is there a word that appears in a lot of them? Is it \"The\"? If it is something like \"the\", how can you get around that? Find one \"meaningful\" word that appears the most (this means non-structural word, unlike \"the\" or \"a\" or \"in\")"
   ]
  },
  {
   "cell_type": "markdown",
   "metadata": {},
   "source": [
    "### _Dictionaries_"
   ]
  },
  {
   "cell_type": "code",
   "execution_count": 25,
   "metadata": {
    "collapsed": false
   },
   "outputs": [],
   "source": [
    "title_words = {}\n",
    "for movie in rc.find():\n",
    "    title = movie['title']\n",
    "    #print type(title)\n",
    "    title = title.encode('utf-8')\n",
    "    #print type(title)\n",
    "    \n",
    "    #drop posessives, then remove punctuation\n",
    "    title = title.replace(\"\\xe2\\x80\\x99S\", '')\n",
    "    #title = title.replace(\"'S\", \"\") #why doesn't this work?\n",
    "    title = title.translate(None, string.punctuation)\n",
    "    #print title\n",
    "    \n",
    "    #words = title.encode('utf-8').split()\n",
    "    words = title.split()\n",
    "    for word in words:\n",
    "        if len(word) > 3:\n",
    "            title_words[word] = title_words.get(word, 0) + 1"
   ]
  },
  {
   "cell_type": "code",
   "execution_count": 26,
   "metadata": {
    "collapsed": false
   },
   "outputs": [
    {
     "name": "stdout",
     "output_type": "stream",
     "text": [
      "METAL 36\n",
      "DEAD 24\n",
      "HEAVY 19\n",
      "ROCK 19\n",
      "DEVIL 16\n"
     ]
    }
   ],
   "source": [
    "top_5_title_words = sorted(title_words, key=title_words.get, reverse=True)[:5]\n",
    "for key in top_5_title_words:\n",
    "    print key, title_words[key]"
   ]
  },
  {
   "cell_type": "markdown",
   "metadata": {},
   "source": [
    "### _pymongo_"
   ]
  },
  {
   "cell_type": "code",
   "execution_count": 27,
   "metadata": {
    "collapsed": true
   },
   "outputs": [],
   "source": [
    "map = Code(\" function() {\"\n",
    "    \"var title = this.title;\"\n",
    "    \"words = title.toUpperCase().match(/[A-Z]+/gi);\"\n",
    "    \"if (words) {\"\n",
    "       \" for (var i = words.length - 1; i >= 0; i--) {\"\n",
    "         \"   if (words[i])  {\"\n",
    "          \"     emit(words[i], 1);\"\n",
    "            \"}\"\n",
    "        \"}\"\n",
    "    \"}\"\n",
    "\"};\")"
   ]
  },
  {
   "cell_type": "code",
   "execution_count": 28,
   "metadata": {
    "collapsed": false
   },
   "outputs": [],
   "source": [
    "reduce = Code (\"function( key, values ) {\" \n",
    "    \"var count = 0;\"\n",
    "    \"values.forEach(function(v) {\"\n",
    "        \"count +=v;\"\n",
    "    \"});\"\n",
    "    \"return count;\"\n",
    "\"}\")"
   ]
  },
  {
   "cell_type": "code",
   "execution_count": 29,
   "metadata": {
    "collapsed": false
   },
   "outputs": [],
   "source": [
    "results = rc.map_reduce(map, reduce, 'word_count')"
   ]
  },
  {
   "cell_type": "code",
   "execution_count": 30,
   "metadata": {
    "collapsed": false
   },
   "outputs": [
    {
     "name": "stdout",
     "output_type": "stream",
     "text": [
      "[{u'_id': u'THE', u'value': 325.0},\n",
      " {u'_id': u'OF', u'value': 147.0},\n",
      " {u'_id': u'A', u'value': 36.0},\n",
      " {u'_id': u'METAL', u'value': 36.0},\n",
      " {u'_id': u'S', u'value': 29.0},\n",
      " {u'_id': u'AND', u'value': 28.0},\n",
      " {u'_id': u'IN', u'value': 25.0},\n",
      " {u'_id': u'DEAD', u'value': 24.0},\n",
      " {u'_id': u'ROCK', u'value': 21.0},\n",
      " {u'_id': u'HEAVY', u'value': 19.0},\n",
      " {u'_id': u'TO', u'value': 17.0},\n",
      " {u'_id': u'DEVIL', u'value': 16.0},\n",
      " {u'_id': u'BLACK', u'value': 14.0},\n",
      " {u'_id': u'BLOOD', u'value': 14.0},\n",
      " {u'_id': u'LAST', u'value': 13.0}]\n"
     ]
    }
   ],
   "source": [
    "pipe = [\n",
    "    {'$sort': {'value': -1}}\n",
    "]\n",
    "pprint.pprint(list(results.aggregate(pipeline=pipe))[:15])"
   ]
  },
  {
   "cell_type": "markdown",
   "metadata": {},
   "source": [
    "## Challenge 4\n",
    "\n",
    "METAL CRED section lists themes included in these movies that makes them more metal. What were the top 5 metal cred keywords in the 70s? In 80s? In 90s, In 2000s?"
   ]
  },
  {
   "cell_type": "code",
   "execution_count": 31,
   "metadata": {
    "collapsed": false
   },
   "outputs": [
    {
     "data": {
      "text/plain": [
       "[u'raw',\n",
       " u'head',\n",
       " u'metal_cred',\n",
       " u'title',\n",
       " u'direct',\n",
       " u'solid_metal_nuggets',\n",
       " u'cast',\n",
       " u'the_meat',\n",
       " u'year',\n",
       " u'_id',\n",
       " u'sections']"
      ]
     },
     "execution_count": 31,
     "metadata": {},
     "output_type": "execute_result"
    }
   ],
   "source": [
    "rc.find().next().keys()"
   ]
  },
  {
   "cell_type": "markdown",
   "metadata": {},
   "source": [
    "### _Dictionaries_"
   ]
  },
  {
   "cell_type": "code",
   "execution_count": 32,
   "metadata": {
    "collapsed": false
   },
   "outputs": [],
   "source": [
    "metal_cred_by_year = {}\n",
    "for movie in rc.find({}, {'year': 1, 'metal_cred': 1}):\n",
    "    metal_creds = movie['metal_cred']\n",
    "    year = movie['year']\n",
    "    for metal_cred in metal_creds[1:]:\n",
    "        metal_cred_by_year[year] = metal_cred_by_year.get(year, {})\n",
    "        metal_cred_by_year[year][metal_cred] = metal_cred_by_year[year].get(metal_cred, 0) + 1"
   ]
  },
  {
   "cell_type": "code",
   "execution_count": 33,
   "metadata": {
    "collapsed": false
   },
   "outputs": [],
   "source": [
    "metal_cred_by_decade = {}\n",
    "for movie in rc.find({}, {'year': 1, 'metal_cred': 1}):\n",
    "    metal_creds = movie['metal_cred']\n",
    "    decade = str(movie['year'])[:3] + '0'\n",
    "    for metal_cred in metal_creds[1:]:\n",
    "        metal_cred = metal_cred.encode('utf-8')\n",
    "        metal_cred_by_decade[decade] = metal_cred_by_decade.get(decade, {})\n",
    "        metal_cred_by_decade[decade][metal_cred] = metal_cred_by_decade[decade].get(metal_cred, 0) + 1"
   ]
  },
  {
   "cell_type": "code",
   "execution_count": 34,
   "metadata": {
    "collapsed": false
   },
   "outputs": [
    {
     "name": "stdout",
     "output_type": "stream",
     "text": [
      "1970\n",
      "['Satan', 'Black Mass', 'Video Nasty', 'Post-Apocalypse', 'Zombies']\n",
      "1980\n",
      "['Post-Apocalypse', 'Sword and Sorcery', 'Satan', 'Video Nasty', '\\xe2\\x80\\x9980s Italian Horror']\n",
      "1990\n",
      "['Satan', 'Gwar', 'Post-Apocalypse', 'Lemmy', 'Iggy Pop']\n",
      "2000\n",
      "['Torture Porn', 'Satan', 'Music Score: Charlie Clouser', 'Censorship', 'Billy Puppet']\n"
     ]
    }
   ],
   "source": [
    "for decade in ['1970', '1980', '1990', '2000']:\n",
    "    print decade\n",
    "    top_5_metal_creds = sorted(metal_cred_by_decade[decade], key=metal_cred_by_decade[decade].get, reverse=True)[:5]\n",
    "    print top_5_metal_creds"
   ]
  },
  {
   "cell_type": "markdown",
   "metadata": {},
   "source": [
    "### _pymongo_"
   ]
  },
  {
   "cell_type": "code",
   "execution_count": 1,
   "metadata": {
    "collapsed": false
   },
   "outputs": [
    {
     "ename": "NameError",
     "evalue": "name 'pprint' is not defined",
     "output_type": "error",
     "traceback": [
      "\u001b[0;31m---------------------------------------------------------------------------\u001b[0m",
      "\u001b[0;31mNameError\u001b[0m                                 Traceback (most recent call last)",
      "\u001b[0;32m<ipython-input-1-544111327eef>\u001b[0m in \u001b[0;36m<module>\u001b[0;34m()\u001b[0m\n\u001b[1;32m     14\u001b[0m     \u001b[0;34m{\u001b[0m\u001b[0;34m'$sort'\u001b[0m\u001b[0;34m:\u001b[0m \u001b[0;34m{\u001b[0m\u001b[0;34m'_id'\u001b[0m\u001b[0;34m:\u001b[0m \u001b[0;36m1\u001b[0m\u001b[0;34m,\u001b[0m \u001b[0;34m'metal_creds.count'\u001b[0m\u001b[0;34m:\u001b[0m \u001b[0;34m-\u001b[0m\u001b[0;36m1\u001b[0m\u001b[0;34m}\u001b[0m\u001b[0;34m}\u001b[0m\u001b[0;34m\u001b[0m\u001b[0m\n\u001b[1;32m     15\u001b[0m ]\n\u001b[0;32m---> 16\u001b[0;31m \u001b[0mpprint\u001b[0m\u001b[0;34m.\u001b[0m\u001b[0mpprint\u001b[0m\u001b[0;34m(\u001b[0m\u001b[0mlist\u001b[0m\u001b[0;34m(\u001b[0m\u001b[0mrc\u001b[0m\u001b[0;34m.\u001b[0m\u001b[0maggregate\u001b[0m\u001b[0;34m(\u001b[0m\u001b[0mpipeline\u001b[0m\u001b[0;34m=\u001b[0m\u001b[0mpipe\u001b[0m\u001b[0;34m)\u001b[0m\u001b[0;34m)\u001b[0m\u001b[0;34m)\u001b[0m\u001b[0;34m\u001b[0m\u001b[0m\n\u001b[0m",
      "\u001b[0;31mNameError\u001b[0m: name 'pprint' is not defined"
     ]
    }
   ],
   "source": [
    "pipe = [\n",
    "    {'$match': {'year': {'$exists': True,\n",
    "                            '$ne': ''}}},\n",
    "    {'$project': {'_id': 0, 'decade': {'$multiply': [10, {'$floor': {'$divide': ['$year', 10]}}]}, 'metal_cred': 1}},\n",
    "    {'$unwind': '$metal_cred'},\n",
    "    {'$match': {'metal_cred': {'$ne': 'METAL CRED'}}},\n",
    "    {'$group': {'_id' : {'decade': '$decade',\n",
    "                         'metal_cred': '$metal_cred'},\n",
    "                'count': {'$sum': 1}}},\n",
    "    {'$group': {'_id': '$_id.decade',\n",
    "               'metal_creds' : {'$push' : {'metal_cred': '$_id.metal_cred',\n",
    "                                           'count': '$count'}}}},\n",
    "    {'$match': {'_id': {'$gte': 1970}}},\n",
    "    {'$sort': {'_id': 1, 'metal_creds.count': -1}} \n",
    "]\n",
    "pprint.pprint(list(rc.aggregate(pipeline=pipe)))"
   ]
  },
  {
   "cell_type": "markdown",
   "metadata": {},
   "source": [
    "### Challenge 5\n",
    "\n",
    "Let's use the length of the METAL CRED section as a proxy score for how metal a movie is. Let's call this the METAL SCORE. To each mongo document, add the metal_score as a new field."
   ]
  },
  {
   "cell_type": "code",
   "execution_count": 80,
   "metadata": {
    "collapsed": false
   },
   "outputs": [
    {
     "data": {
      "text/plain": [
       "[u'raw',\n",
       " u'head',\n",
       " u'metal_cred',\n",
       " u'title',\n",
       " u'metal_score',\n",
       " u'direct',\n",
       " u'solid_metal_nuggets',\n",
       " u'cast',\n",
       " u'the_meat',\n",
       " u'year',\n",
       " u'_id',\n",
       " u'sections']"
      ]
     },
     "execution_count": 80,
     "metadata": {},
     "output_type": "execute_result"
    }
   ],
   "source": [
    "rc.find().next().keys()"
   ]
  },
  {
   "cell_type": "markdown",
   "metadata": {},
   "source": [
    "### _Dictionaries_"
   ]
  },
  {
   "cell_type": "code",
   "execution_count": 36,
   "metadata": {
    "collapsed": false
   },
   "outputs": [],
   "source": [
    "for movie in rc.find():\n",
    "    _id = movie['_id']\n",
    "    metal_score = len(movie['metal_cred'])\n",
    "    rc.update_one({'_id': _id},\n",
    "             {'$set' : {'metal_score': metal_score}})"
   ]
  },
  {
   "cell_type": "markdown",
   "metadata": {},
   "source": [
    "### _pymongo_"
   ]
  },
  {
   "cell_type": "code",
   "execution_count": 37,
   "metadata": {
    "collapsed": false
   },
   "outputs": [],
   "source": [
    "pipe = [\n",
    "    {'$project': {'_id': '$_id', 'metal_score': { '$size':\"$metal_cred\" }}}\n",
    "]\n",
    "results = rc.aggregate(pipeline=pipe)"
   ]
  },
  {
   "cell_type": "code",
   "execution_count": 38,
   "metadata": {
    "collapsed": false
   },
   "outputs": [],
   "source": [
    "for result in results:\n",
    "    rc.update_one({'_id': result['_id']}, {'$set': {'metal_score': result['metal_score']}})"
   ]
  },
  {
   "cell_type": "code",
   "execution_count": 39,
   "metadata": {
    "collapsed": false
   },
   "outputs": [
    {
     "data": {
      "text/plain": [
       "3"
      ]
     },
     "execution_count": 39,
     "metadata": {},
     "output_type": "execute_result"
    }
   ],
   "source": [
    "rc.find_one()['metal_score']"
   ]
  },
  {
   "cell_type": "markdown",
   "metadata": {},
   "source": [
    "## Challenge 6\n",
    "\n",
    "Find the director that is MOST METAL per movie (director with the highest average metal score). Remember that some movies have multiple directors."
   ]
  },
  {
   "cell_type": "markdown",
   "metadata": {},
   "source": [
    "### _Dictionaries_"
   ]
  },
  {
   "cell_type": "code",
   "execution_count": 41,
   "metadata": {
    "collapsed": false
   },
   "outputs": [],
   "source": [
    "director_scores = {}\n",
    "for movie in rc.find():\n",
    "    directors = movie['direct']\n",
    "    metal_score = movie['metal_score']\n",
    "    for director in directors:\n",
    "        director = director.encode('utf-8').upper()\n",
    "        if director:\n",
    "            director_scores[director] = director_scores.get(director, {})\n",
    "            director_scores[director]['tot_metal_score'] = director_scores[director].get('tot_metal_score', 0) + metal_score\n",
    "            director_scores[director]['num_movies'] = director_scores[director].get('num_movies', 0) + 1"
   ]
  },
  {
   "cell_type": "code",
   "execution_count": 42,
   "metadata": {
    "collapsed": false
   },
   "outputs": [],
   "source": [
    "for director in director_scores:\n",
    "    tot_metal_score = director_scores[director]['tot_metal_score']\n",
    "    num_movies = director_scores[director]['num_movies']\n",
    "    avg_metal_score = tot_metal_score/num_movies\n",
    "    director_scores[director]['avg_metal_score'] = avg_metal_score"
   ]
  },
  {
   "cell_type": "code",
   "execution_count": 79,
   "metadata": {
    "collapsed": false
   },
   "outputs": [
    {
     "name": "stdout",
     "output_type": "stream",
     "text": [
      " JOHN MILIUS {'avg_metal_score': 75, 'tot_metal_score': 75, 'num_movies': 1}\n"
     ]
    }
   ],
   "source": [
    "sort = sorted(director_scores, key=director_scores.get, reverse=True)[:1]\n",
    "for director in sort:\n",
    "    print director, director_scores[director]"
   ]
  },
  {
   "cell_type": "markdown",
   "metadata": {},
   "source": [
    "### _pymongo_"
   ]
  },
  {
   "cell_type": "code",
   "execution_count": 73,
   "metadata": {
    "collapsed": false
   },
   "outputs": [
    {
     "name": "stdout",
     "output_type": "stream",
     "text": [
      "{u'_id': u'John Milius',\n",
      " u'avg_metal_score': 75.0,\n",
      " u'num_movies': 1,\n",
      " u'total_metal_score': 75}\n"
     ]
    }
   ],
   "source": [
    "pipe = [\n",
    "    {'$match': {'direct': {'$exists': True,\n",
    "                            '$ne': ''}}},\n",
    "    {'$project': {'_id': 0, 'direct': 1, 'metal_score': 1}},\n",
    "    {'$unwind': '$direct'},\n",
    "    {'$group': {'_id': '$direct',\n",
    "                'avg_metal_score': {'$avg': '$metal_score'},\n",
    "               'num_movies': {'$sum': 1},\n",
    "               'total_metal_score': {'$sum': '$metal_score'}}},\n",
    "    {'$sort': {'avg_metal_score': -1}}\n",
    "]\n",
    "pprint.pprint(list(rc.aggregate(pipeline=pipe))[0])"
   ]
  },
  {
   "cell_type": "markdown",
   "metadata": {},
   "source": [
    "## Challenge 7\n",
    "\n",
    "The majority of directors and actors will have worked on a single movie. See if there are any directors that worked with an actor more than once. If so, find the director-actor duo that have worked together the most times."
   ]
  },
  {
   "cell_type": "markdown",
   "metadata": {},
   "source": [
    "### _Dictionaries_"
   ]
  },
  {
   "cell_type": "code",
   "execution_count": 50,
   "metadata": {
    "collapsed": false
   },
   "outputs": [
    {
     "data": {
      "text/plain": [
       "[u'Frank Zappa',\n",
       " u'Ringo Starr',\n",
       " u'Mark Volman',\n",
       " u'Howard Kaylan',\n",
       " u'Keith Moon']"
      ]
     },
     "execution_count": 50,
     "metadata": {},
     "output_type": "execute_result"
    }
   ],
   "source": [
    "rc.find_one()['cast']"
   ]
  },
  {
   "cell_type": "code",
   "execution_count": 51,
   "metadata": {
    "collapsed": false
   },
   "outputs": [
    {
     "data": {
      "text/plain": [
       "[u'Tony Palmer', u'Frank Zappa']"
      ]
     },
     "execution_count": 51,
     "metadata": {},
     "output_type": "execute_result"
    }
   ],
   "source": [
    "rc.find_one()['direct']"
   ]
  },
  {
   "cell_type": "code",
   "execution_count": 52,
   "metadata": {
    "collapsed": false
   },
   "outputs": [],
   "source": [
    "directors_actors = {}\n",
    "for movie in rc.find():\n",
    "    directors = movie['direct']\n",
    "    actors = movie['cast']\n",
    "    for director in directors:\n",
    "        director = director.encode('utf-8').upper()\n",
    "        if director:\n",
    "            directors_actors[director] = directors_actors.get(director, {})\n",
    "            for actor in actors:\n",
    "                actor = actor.encode('utf-8').upper()\n",
    "                if actor:\n",
    "                    directors_actors[director][actor] = directors_actors[director].get(actor, 0) + 1"
   ]
  },
  {
   "cell_type": "code",
   "execution_count": 53,
   "metadata": {
    "collapsed": false
   },
   "outputs": [
    {
     "name": "stdout",
     "output_type": "stream",
     "text": [
      "FRANK LALOGGIA & ELIZABETH HOFFMAN : 2\n",
      "FRANK LALOGGIA & KATHLEEN ROWE MCALLEN : 2\n",
      "FRANK LALOGGIA & STEFAN ANGRIM : 2\n",
      "DARIO ARGENTO & ASIA ARGENTO : 2\n",
      "DARIO ARGENTO & DARIA NICOLODI : 4\n",
      "BRET MICHAELS & BRET MICHAELS : 2\n",
      "BRET MICHAELS & CHARLIE SHEEN : 2\n",
      "BRET MICHAELS & MARTIN SHEEN : 2\n",
      "JOSEPH ZITO & CHUCK NORRIS : 2\n",
      "ROB ZOMBIE & SHERI MOON ZOMBIE : 4\n",
      "ROB ZOMBIE & SID HAIG : 2\n",
      "ROB ZOMBIE & WILLIAM FORSYTHE : 2\n",
      "JOE MASSOT & JOHN PAUL JONES : 2\n",
      "JOE MASSOT & JOHN BONHAM : 2\n",
      "JOE MASSOT & JIMMY PAGE : 2\n",
      "JOE MASSOT & ROBERT PLANT : 2\n",
      "JULES BASS & ORSON BEAN : 2\n",
      "JULES BASS & BROTHER THEODORE : 2\n",
      "VARIOUS & RICK SULLIVAN : 2\n",
      "VARIOUS & GWAR : 2\n",
      "VARIOUS & LINNEA QUIGLEY : 2\n",
      "VARIOUS & MICHAEL BERRYMAN : 2\n",
      "RALPH BAKSHI & SUSAN TYRELL : 2\n",
      "JIM VAN BEBBER & PHIL ANSELMO : 2\n",
      "JIM VAN BEBBER & JIM VAN BEBBER : 2\n",
      "JOHN CARPENTER & JAMIE LEE CURTIS : 2\n",
      "JOHN CARPENTER & DONALD PLEASANCE : 2\n",
      "JOHN CARPENTER & ADRIENNE BARBEAU : 2\n",
      "JOHN CARPENTER & KURT RUSSELL : 2\n",
      "ARTHUR RANKIN JR. & ORSON BEAN : 2\n",
      "ARTHUR RANKIN JR. & BROTHER THEODORE : 2\n",
      "ALEJANDRO JODOROWSKY & ALEJANDRO JODOROWSKY : 2\n",
      "J. LEE THOMPSON & CHARLES BRONSON : 3\n",
      "CHARLES BAND & JEFFREY BYRON : 2\n",
      "CHARLES BAND & RICHARD MOLL : 2\n",
      "JOHN MCTIERNAN & ARNOLD SCHWARZENEGGER : 2\n",
      "JAMES CAMERON & ARNOLD SCHWARZENEGGER : 2\n",
      "JAMES CAMERON & LINDA HAMILTON : 2\n",
      "DAVE BROCKIE & GWAR : 2\n",
      "BILL ZEBUB & KING DIAMOND : 2\n",
      "BILL ZEBUB & ENSIFERUM : 2\n",
      "KENNETH ANGER & KENNETH ANGER : 2\n",
      "KENNETH ANGER & BOBBY BEAUSOLEIL : 2\n",
      "BILL KROYER & ROBIN WILLIAMS : 2\n",
      "BILL KROYER & CHEECH AND CHONG : 2\n",
      "BILL KROYER & SAMANTHA MATHIS : 2\n",
      "BILL KROYER & CHRISTIAN SLATER : 2\n",
      "JON FAVREAU & ROBERT DOWNEY JR. : 2\n",
      "JON FAVREAU & GWYNETH PALTROW : 2\n",
      "TERRY JONES & JOHN CLEESE : 2\n",
      "GERARD DAMIANO & HARRY REEMS : 2\n",
      "TERENCE FISHER & PETER CUSHING : 2\n",
      "TERENCE FISHER & CHRISTOPHER LEE : 3\n",
      "JOE BERLINGER & JASON BALDWIN : 3\n",
      "JOE BERLINGER & DAMIEN ECHOLS : 3\n",
      "JOE BERLINGER & JESSIE MISSKELLEY : 3\n",
      "SCOT MCFAYDEN & TOM ARAYA : 2\n",
      "SCOT MCFAYDEN & SAM DUNN : 2\n",
      "PENELOPE SPHEERIS & ALICE COOPER : 2\n",
      "GEORGE MILLER & MEL GIBSON : 2\n",
      "JOE D’AMATO & MILES O’KEEFE : 2\n",
      "JOE D’AMATO & GEORGE EASTMAN : 4\n",
      "JOE D’AMATO & AL CLIVER : 2\n",
      "JOE D’AMATO & LAURA GEMSER : 2\n",
      "RICHARD FLEISCHER & ARNOLD SCHWARZENEGGER : 2\n",
      "MICHAEL WINNER & CHARLES BRONSON : 2\n",
      "LUCIO FULCI & CATRIONA MACCOLL : 2\n",
      "SAM RAIMI & BRUCE CAMPBELL : 3\n",
      "GUY HAMILTON & ROGER MOORE : 2\n",
      "FRED VOGEL & FRED VOGEL : 3\n",
      "FRED VOGEL & JERAMI CRUISE : 2\n",
      "FRED VOGEL & CRISTIE WHILES : 2\n",
      "TOBE HOOPER & JIM SIEDOW : 2\n",
      "BRUCE SINOFSKY & DAMIEN ECHOLS : 3\n",
      "BRUCE SINOFSKY & JESSIE MISSKELLEY : 3\n",
      "BRUCE SINOFSKY & JASON BALDWIN : 3\n",
      "DARREN LYNN BOUSMAN & SHAWNEE SMITH : 3\n",
      "DARREN LYNN BOUSMAN & TOBIN BELL : 3\n",
      "DARREN LYNN BOUSMAN & DONNIE WAHLBERG : 2\n",
      "DARREN LYNN BOUSMAN & DINA MEYER : 2\n",
      "DAVID MARKEY & STEVE MCDONALD : 2\n",
      "DAVID MARKEY & JENNIFER SCHWARTZ : 2\n",
      "PETER JACKSON & IAN MCKELLEN : 3\n",
      "PETER JACKSON & VIGGO MORTENSEN : 2\n",
      "PETER JACKSON & ANDY SERKIS : 2\n",
      "PETER JACKSON & CHRISTOPHER LEE : 4\n",
      "PETER JACKSON & SEAN ASTIN : 3\n",
      "PETER JACKSON & ELIJAH WOOD : 3\n",
      "SAM DUNN & TOM ARAYA : 2\n",
      "SAM DUNN & SAM DUNN : 2\n",
      "SAM DUNN & RONNIE JAMES DIO : 2\n",
      "JAMES WHALE & BORIS KARLOFF : 2\n"
     ]
    }
   ],
   "source": [
    "for director, actors in directors_actors.items():\n",
    "    for actor, appearances in actors.items():\n",
    "        if appearances > 1:\n",
    "            print director, '&', actor, ':', appearances"
   ]
  },
  {
   "cell_type": "code",
   "execution_count": 54,
   "metadata": {
    "collapsed": false
   },
   "outputs": [
    {
     "name": "stdout",
     "output_type": "stream",
     "text": [
      "These directors and actors have worked together the most, 4 times:\n",
      "DARIO ARGENTO & DARIA NICOLODI\n",
      "ROB ZOMBIE & SHERI MOON ZOMBIE\n",
      "JOE D’AMATO & GEORGE EASTMAN\n",
      "PETER JACKSON & CHRISTOPHER LEE\n"
     ]
    }
   ],
   "source": [
    "max_appearances = 0\n",
    "for director, actors in directors_actors.items():\n",
    "    for actor, appearances in actors.items():\n",
    "        if appearances > max_appearances:\n",
    "            max_appearances = appearances\n",
    "print 'These directors and actors have worked together the most,', max_appearances, 'times:'\n",
    "\n",
    "for director, actors in directors_actors.items():\n",
    "    for actor, appearances in actors.items():\n",
    "        if appearances == max_appearances:\n",
    "            print director, '&', actor"
   ]
  },
  {
   "cell_type": "markdown",
   "metadata": {},
   "source": [
    "### _pymongo_"
   ]
  },
  {
   "cell_type": "markdown",
   "metadata": {},
   "source": [
    "The majority of directors and actors will have worked on a single movie. See if there are any directors that worked with an actor more than once. If so, find the director-actor duo that have worked together the most times."
   ]
  },
  {
   "cell_type": "code",
   "execution_count": 63,
   "metadata": {
    "collapsed": false
   },
   "outputs": [
    {
     "name": "stdout",
     "output_type": "stream",
     "text": [
      "[{u'_id': {u'actor': u'Christopher Lee', u'direct': u'Peter Jackson'},\n",
      "  u'num_movies': 4},\n",
      " {u'_id': {u'actor': u'George Eastman', u'direct': u'Joe D\\u2019Amato'},\n",
      "  u'num_movies': 4},\n",
      " {u'_id': {u'actor': u'Daria Nicolodi', u'direct': u'Dario Argento'},\n",
      "  u'num_movies': 4},\n",
      " {u'_id': {u'actor': u'Sheri Moon Zombie', u'direct': u'Rob Zombie'},\n",
      "  u'num_movies': 4},\n",
      " {u'_id': {u'actor': u'Damien Echols', u'direct': u'Bruce Sinofsky'},\n",
      "  u'num_movies': 3}]\n"
     ]
    }
   ],
   "source": [
    "pipe = [\n",
    "    {'$project': {'_id': 0, 'direct': 1, 'cast': 1}},\n",
    "    {'$unwind': '$direct'},\n",
    "    {'$unwind': '$cast'},\n",
    "    {'$group': {'_id' : {'direct': '$direct',\n",
    "                         'actor': '$cast'},\n",
    "                'num_movies': {'$sum': 1}}},\n",
    "    {'$sort': {'num_movies': -1}}\n",
    "]\n",
    "pprint.pprint(list(rc.aggregate(pipeline=pipe))[:5])"
   ]
  },
  {
   "cell_type": "markdown",
   "metadata": {},
   "source": [
    "## Challenge 8\n",
    "\n",
    "Create an index on the 'director' field to make the queries involving it faster."
   ]
  },
  {
   "cell_type": "code",
   "execution_count": 82,
   "metadata": {
    "collapsed": false
   },
   "outputs": [
    {
     "data": {
      "text/plain": [
       "[u'raw',\n",
       " u'head',\n",
       " u'metal_cred',\n",
       " u'title',\n",
       " u'metal_score',\n",
       " u'direct',\n",
       " u'solid_metal_nuggets',\n",
       " u'cast',\n",
       " u'the_meat',\n",
       " u'year',\n",
       " u'_id',\n",
       " u'sections']"
      ]
     },
     "execution_count": 82,
     "metadata": {},
     "output_type": "execute_result"
    }
   ],
   "source": [
    "rc.find_one().keys()"
   ]
  },
  {
   "cell_type": "code",
   "execution_count": 83,
   "metadata": {
    "collapsed": false
   },
   "outputs": [
    {
     "data": {
      "text/plain": [
       "'dir_index'"
      ]
     },
     "execution_count": 83,
     "metadata": {},
     "output_type": "execute_result"
    }
   ],
   "source": [
    "rc.create_index([('direct', pymongo.ASCENDING)], name='dir_index')"
   ]
  },
  {
   "cell_type": "code",
   "execution_count": 84,
   "metadata": {
    "collapsed": false
   },
   "outputs": [
    {
     "data": {
      "text/plain": [
       "{u'_id_': {u'key': [(u'_id', 1)], u'ns': u'metal_movies_db.rc', u'v': 2},\n",
       " u'dir_index': {u'key': [(u'direct', 1)],\n",
       "  u'ns': u'metal_movies_db.rc',\n",
       "  u'v': 2}}"
      ]
     },
     "execution_count": 84,
     "metadata": {},
     "output_type": "execute_result"
    }
   ],
   "source": [
    "db.rc.index_information()"
   ]
  },
  {
   "cell_type": "markdown",
   "metadata": {},
   "source": [
    "## Challenge 9\n",
    "\n",
    "For each decade, make a histogram of metal scores. Also, calculate the average metal score for each decade. Which decade was the most pure metal decade?"
   ]
  },
  {
   "cell_type": "code",
   "execution_count": null,
   "metadata": {
    "collapsed": true
   },
   "outputs": [],
   "source": []
  }
 ],
 "metadata": {
  "anaconda-cloud": {},
  "kernelspec": {
   "display_name": "Python [conda root]",
   "language": "python",
   "name": "conda-root-py"
  },
  "language_info": {
   "codemirror_mode": {
    "name": "ipython",
    "version": 2
   },
   "file_extension": ".py",
   "mimetype": "text/x-python",
   "name": "python",
   "nbconvert_exporter": "python",
   "pygments_lexer": "ipython2",
   "version": "2.7.12"
  }
 },
 "nbformat": 4,
 "nbformat_minor": 1
}
