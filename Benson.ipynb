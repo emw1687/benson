{
 "cells": [
  {
   "cell_type": "markdown",
   "metadata": {},
   "source": [
    "# Benson Project\n",
    "\n",
    "Analysis performed by Team Awesomesauce"
   ]
  },
  {
   "cell_type": "code",
   "execution_count": 2,
   "metadata": {
    "collapsed": false
   },
   "outputs": [],
   "source": [
    "#import relavant packages\n",
    "import pandas as pd\n",
    "import numpy as np\n",
    "import matplotlib as plt\n",
    "%matplotlib inline"
   ]
  },
  {
   "cell_type": "markdown",
   "metadata": {},
   "source": [
    "Before loading our data into Python, we concatenated 6 relevant .csv files into a master file"
   ]
  },
  {
   "cell_type": "code",
   "execution_count": 3,
   "metadata": {
    "collapsed": false
   },
   "outputs": [
    {
     "name": "stdout",
     "output_type": "stream",
     "text": [
      "     C/A  UNIT       SCP STATION LINENAME DIVISION        DATE      TIME  \\\n",
      "0   A002  R051  02-00-00   59 ST   NQR456      BMT  05/28/2016  00:00:00   \n",
      "1   A002  R051  02-00-00   59 ST   NQR456      BMT  05/28/2016  04:00:00   \n",
      "2   A002  R051  02-00-00   59 ST   NQR456      BMT  05/28/2016  08:00:00   \n",
      "3   A002  R051  02-00-00   59 ST   NQR456      BMT  05/28/2016  12:00:00   \n",
      "4   A002  R051  02-00-00   59 ST   NQR456      BMT  05/28/2016  16:00:00   \n",
      "5   A002  R051  02-00-00   59 ST   NQR456      BMT  05/28/2016  20:00:00   \n",
      "6   A002  R051  02-00-00   59 ST   NQR456      BMT  05/29/2016  00:00:00   \n",
      "7   A002  R051  02-00-00   59 ST   NQR456      BMT  05/29/2016  04:00:00   \n",
      "8   A002  R051  02-00-00   59 ST   NQR456      BMT  05/29/2016  08:00:00   \n",
      "9   A002  R051  02-00-00   59 ST   NQR456      BMT  05/29/2016  12:00:00   \n",
      "10  A002  R051  02-00-00   59 ST   NQR456      BMT  05/29/2016  16:00:00   \n",
      "11  A002  R051  02-00-00   59 ST   NQR456      BMT  05/29/2016  20:00:00   \n",
      "12  A002  R051  02-00-00   59 ST   NQR456      BMT  05/30/2016  00:00:00   \n",
      "13  A002  R051  02-00-00   59 ST   NQR456      BMT  05/30/2016  04:00:00   \n",
      "14  A002  R051  02-00-00   59 ST   NQR456      BMT  05/30/2016  08:00:00   \n",
      "15  A002  R051  02-00-00   59 ST   NQR456      BMT  05/30/2016  12:00:00   \n",
      "16  A002  R051  02-00-00   59 ST   NQR456      BMT  05/30/2016  16:00:00   \n",
      "17  A002  R051  02-00-00   59 ST   NQR456      BMT  05/30/2016  20:00:00   \n",
      "18  A002  R051  02-00-00   59 ST   NQR456      BMT  05/31/2016  00:00:00   \n",
      "19  A002  R051  02-00-00   59 ST   NQR456      BMT  05/31/2016  04:00:00   \n",
      "\n",
      "       DESC     ENTRIES  \\\n",
      "0   REGULAR  0005682962   \n",
      "1   REGULAR  0005683000   \n",
      "2   REGULAR  0005683030   \n",
      "3   REGULAR  0005683175   \n",
      "4   REGULAR  0005683437   \n",
      "5   REGULAR  0005683774   \n",
      "6   REGULAR  0005683957   \n",
      "7   REGULAR  0005683987   \n",
      "8   REGULAR  0005684003   \n",
      "9   REGULAR  0005684125   \n",
      "10  REGULAR  0005684329   \n",
      "11  REGULAR  0005684589   \n",
      "12  REGULAR  0005684749   \n",
      "13  REGULAR  0005684764   \n",
      "14  REGULAR  0005684773   \n",
      "15  REGULAR  0005684870   \n",
      "16  REGULAR  0005685094   \n",
      "17  REGULAR  0005685364   \n",
      "18  REGULAR  0005685506   \n",
      "19  REGULAR  0005685515   \n",
      "\n",
      "   EXITS                                                                 \n",
      "0   0001924340                                    ...                    \n",
      "1   0001924347                                    ...                    \n",
      "2   0001924381                                    ...                    \n",
      "3   0001924474                                    ...                    \n",
      "4   0001924533                                    ...                    \n",
      "5   0001924560                                    ...                    \n",
      "6   0001924599                                    ...                    \n",
      "7   0001924601                                    ...                    \n",
      "8   0001924613                                    ...                    \n",
      "9   0001924683                                    ...                    \n",
      "10  0001924731                                    ...                    \n",
      "11  0001924761                                    ...                    \n",
      "12  0001924791                                    ...                    \n",
      "13  0001924798                                    ...                    \n",
      "14  0001924834                                    ...                    \n",
      "15  0001924902                                    ...                    \n",
      "16  0001924973                                    ...                    \n",
      "17  0001925022                                    ...                    \n",
      "18  0001925050                                    ...                    \n",
      "19  0001925053                                    ...                    \n",
      "           C/A  UNIT       SCP        STATION LINENAME DIVISION        DATE  \\\n",
      "1165392  TRAM2  R469  00-05-01  RIT-ROOSEVELT        R      RIT  05/24/2016   \n",
      "1165393  TRAM2  R469  00-05-01  RIT-ROOSEVELT        R      RIT  05/24/2016   \n",
      "1165394  TRAM2  R469  00-05-01  RIT-ROOSEVELT        R      RIT  05/25/2016   \n",
      "1165395  TRAM2  R469  00-05-01  RIT-ROOSEVELT        R      RIT  05/25/2016   \n",
      "1165396  TRAM2  R469  00-05-01  RIT-ROOSEVELT        R      RIT  05/25/2016   \n",
      "1165397  TRAM2  R469  00-05-01  RIT-ROOSEVELT        R      RIT  05/25/2016   \n",
      "1165398  TRAM2  R469  00-05-01  RIT-ROOSEVELT        R      RIT  05/25/2016   \n",
      "1165399  TRAM2  R469  00-05-01  RIT-ROOSEVELT        R      RIT  05/25/2016   \n",
      "1165400  TRAM2  R469  00-05-01  RIT-ROOSEVELT        R      RIT  05/26/2016   \n",
      "1165401  TRAM2  R469  00-05-01  RIT-ROOSEVELT        R      RIT  05/26/2016   \n",
      "1165402  TRAM2  R469  00-05-01  RIT-ROOSEVELT        R      RIT  05/26/2016   \n",
      "1165403  TRAM2  R469  00-05-01  RIT-ROOSEVELT        R      RIT  05/26/2016   \n",
      "1165404  TRAM2  R469  00-05-01  RIT-ROOSEVELT        R      RIT  05/26/2016   \n",
      "1165405  TRAM2  R469  00-05-01  RIT-ROOSEVELT        R      RIT  05/26/2016   \n",
      "1165406  TRAM2  R469  00-05-01  RIT-ROOSEVELT        R      RIT  05/27/2016   \n",
      "1165407  TRAM2  R469  00-05-01  RIT-ROOSEVELT        R      RIT  05/27/2016   \n",
      "1165408  TRAM2  R469  00-05-01  RIT-ROOSEVELT        R      RIT  05/27/2016   \n",
      "1165409  TRAM2  R469  00-05-01  RIT-ROOSEVELT        R      RIT  05/27/2016   \n",
      "1165410  TRAM2  R469  00-05-01  RIT-ROOSEVELT        R      RIT  05/27/2016   \n",
      "1165411  TRAM2  R469  00-05-01  RIT-ROOSEVELT        R      RIT  05/27/2016   \n",
      "\n",
      "             TIME     DESC     ENTRIES  \\\n",
      "1165392  17:00:00  REGULAR  0000005554   \n",
      "1165393  21:00:00  REGULAR  0000005554   \n",
      "1165394  01:00:00  REGULAR  0000005554   \n",
      "1165395  05:00:00  REGULAR  0000005554   \n",
      "1165396  09:00:00  REGULAR  0000005554   \n",
      "1165397  13:00:00  REGULAR  0000005554   \n",
      "1165398  17:00:00  REGULAR  0000005554   \n",
      "1165399  21:00:00  REGULAR  0000005554   \n",
      "1165400  01:00:00  REGULAR  0000005554   \n",
      "1165401  05:00:00  REGULAR  0000005554   \n",
      "1165402  09:00:00  REGULAR  0000005554   \n",
      "1165403  13:00:00  REGULAR  0000005554   \n",
      "1165404  17:00:00  REGULAR  0000005554   \n",
      "1165405  21:00:00  REGULAR  0000005554   \n",
      "1165406  01:00:00  REGULAR  0000005554   \n",
      "1165407  05:00:00  REGULAR  0000005554   \n",
      "1165408  09:00:00  REGULAR  0000005554   \n",
      "1165409  13:00:00  REGULAR  0000005554   \n",
      "1165410  17:00:00  REGULAR  0000005554   \n",
      "1165411  21:00:00  REGULAR  0000005554   \n",
      "\n",
      "        EXITS                                                                 \n",
      "1165392  0000000246                                    ...                    \n",
      "1165393  0000000246                                    ...                    \n",
      "1165394  0000000246                                    ...                    \n",
      "1165395  0000000246                                    ...                    \n",
      "1165396  0000000246                                    ...                    \n",
      "1165397  0000000246                                    ...                    \n",
      "1165398  0000000246                                    ...                    \n",
      "1165399  0000000246                                    ...                    \n",
      "1165400  0000000246                                    ...                    \n",
      "1165401  0000000246                                    ...                    \n",
      "1165402  0000000246                                    ...                    \n",
      "1165403  0000000246                                    ...                    \n",
      "1165404  0000000246                                    ...                    \n",
      "1165405  0000000246                                    ...                    \n",
      "1165406  0000000246                                    ...                    \n",
      "1165407  0000000246                                    ...                    \n",
      "1165408  0000000246                                    ...                    \n",
      "1165409  0000000246                                    ...                    \n",
      "1165410  0000000246                                    ...                    \n",
      "1165411  0000000246                                    ...                    \n"
     ]
    }
   ],
   "source": [
    "#load the master csv file into \n",
    "#print first 5 rows\n",
    "df = pd.read_csv('finalfile.txt', low_memory=False)\n",
    "print(df.head(20))\n",
    "print(df.tail(20))"
   ]
  },
  {
   "cell_type": "code",
   "execution_count": 4,
   "metadata": {
    "collapsed": false
   },
   "outputs": [
    {
     "name": "stdout",
     "output_type": "stream",
     "text": [
      "Index(['C/A', 'UNIT', 'SCP', 'STATION', 'LINENAME', 'DIVISION', 'DATE', 'TIME',\n",
      "       'DESC', 'ENTRIES',\n",
      "       'EXITS                                                               '],\n",
      "      dtype='object')\n"
     ]
    }
   ],
   "source": [
    "#look at and rename column names\n",
    "# we could probably drop the first 3 columns as they refer to individual turnstiles\n",
    "# we can perform at agg function to sum identical time frames by day/station\n",
    "col_names = df.columns\n",
    "print(col_names)"
   ]
  },
  {
   "cell_type": "code",
   "execution_count": null,
   "metadata": {
    "collapsed": true
   },
   "outputs": [],
   "source": []
  }
 ],
 "metadata": {
  "anaconda-cloud": {},
  "kernelspec": {
   "display_name": "Python [conda root]",
   "language": "python",
   "name": "conda-root-py"
  },
  "language_info": {
   "codemirror_mode": {
    "name": "ipython",
    "version": 3
   },
   "file_extension": ".py",
   "mimetype": "text/x-python",
   "name": "python",
   "nbconvert_exporter": "python",
   "pygments_lexer": "ipython3",
   "version": "3.5.2"
  }
 },
 "nbformat": 4,
 "nbformat_minor": 2
}
