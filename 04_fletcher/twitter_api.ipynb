{
 "cells": [
  {
   "cell_type": "markdown",
   "metadata": {},
   "source": [
    "### Twitter API Extension\n",
    "\n",
    "Create a mongo collection of tweets about something (anything you choose).\n",
    "\n",
    "Each mongo document should contain the text, username, favorite count and retweet count of the tweet."
   ]
  },
  {
   "cell_type": "code",
   "execution_count": 1,
   "metadata": {
    "collapsed": true
   },
   "outputs": [],
   "source": [
    "import pickle\n",
    "import codecs\n",
    "import string\n",
    "import math\n",
    "\n",
    "import pymongo\n",
    "from bson.code import Code\n",
    "\n",
    "import pprint\n",
    "import pandas as pd\n",
    "\n",
    "import requests\n",
    "from requests_oauthlib import OAuth1\n",
    "\n",
    "import cnfg\n",
    "\n",
    "import matplotlib.pyplot as plt\n",
    "%matplotlib inline"
   ]
  },
  {
   "cell_type": "code",
   "execution_count": 2,
   "metadata": {
    "collapsed": true
   },
   "outputs": [],
   "source": [
    "client = pymongo.MongoClient('localhost', 27017)"
   ]
  },
  {
   "cell_type": "code",
   "execution_count": 64,
   "metadata": {
    "collapsed": false
   },
   "outputs": [
    {
     "data": {
      "text/plain": [
       "[u'admin', u'legislation', u'local', u'metal_movies_db']"
      ]
     },
     "execution_count": 64,
     "metadata": {},
     "output_type": "execute_result"
    }
   ],
   "source": [
    "client.database_names()"
   ]
  },
  {
   "cell_type": "code",
   "execution_count": 74,
   "metadata": {
    "collapsed": true
   },
   "outputs": [],
   "source": [
    "#client.drop_database('crossfit')"
   ]
  },
  {
   "cell_type": "code",
   "execution_count": 31,
   "metadata": {
    "collapsed": true
   },
   "outputs": [],
   "source": [
    "db = client.crossfit"
   ]
  },
  {
   "cell_type": "code",
   "execution_count": 33,
   "metadata": {
    "collapsed": true
   },
   "outputs": [],
   "source": [
    "dcastro = db.dcastro"
   ]
  },
  {
   "cell_type": "code",
   "execution_count": 4,
   "metadata": {
    "collapsed": false
   },
   "outputs": [
    {
     "data": {
      "text/plain": [
       "{u'_id': ObjectId('58af30ba22a049d41fca0fa7'),\n",
       " u'datetime': datetime.datetime(2017, 2, 23, 18, 48, 55),\n",
       " u'tweet': u'RT @Slate: Ivanka Trump is trying to sell Congress on her regressive child-care tax deduction: https://t.co/6J7NcsdXVo https://t.co/4Krr5mv\\u2026'}"
      ]
     },
     "execution_count": 4,
     "metadata": {},
     "output_type": "execute_result"
    }
   ],
   "source": [
    "client.legislation.news.find_one()"
   ]
  },
  {
   "cell_type": "code",
   "execution_count": 5,
   "metadata": {
    "collapsed": true
   },
   "outputs": [],
   "source": [
    "config = cnfg.load(\".twitter_config\")\n",
    "\n",
    "oauth = OAuth1(config[\"consumer_key\"],\n",
    "               config[\"consumer_secret\"],\n",
    "               config[\"access_token\"],\n",
    "               config[\"access_token_secret\"])"
   ]
  },
  {
   "cell_type": "code",
   "execution_count": 6,
   "metadata": {
    "collapsed": true
   },
   "outputs": [],
   "source": [
    "search_url = \"https://api.twitter.com/1.1/search/tweets.json\""
   ]
  },
  {
   "cell_type": "code",
   "execution_count": 84,
   "metadata": {
    "collapsed": true
   },
   "outputs": [],
   "source": [
    "dates = ['2012-02-26', '2017-02-26']"
   ]
  },
  {
   "cell_type": "code",
   "execution_count": 85,
   "metadata": {
    "collapsed": true
   },
   "outputs": [],
   "source": [
    "parameters = {'q': 'dave castro',\n",
    "              'count': 100,\n",
    "             'lang' : 'en'}"
   ]
  },
  {
   "cell_type": "code",
   "execution_count": 86,
   "metadata": {
    "collapsed": false
   },
   "outputs": [
    {
     "data": {
      "text/plain": [
       "{'count': 100, 'lang': 'en', 'q': 'dave castro'}"
      ]
     },
     "execution_count": 86,
     "metadata": {},
     "output_type": "execute_result"
    }
   ],
   "source": [
    "parameters"
   ]
  },
  {
   "cell_type": "code",
   "execution_count": 87,
   "metadata": {
    "collapsed": false
   },
   "outputs": [
    {
     "name": "stdout",
     "output_type": "stream",
     "text": [
      "{'q': 'dave castro', 'count': 100, 'lang': 'en', 'until': '2012-02-26'}\n",
      "{'q': 'dave castro', 'count': 100, 'lang': 'en', 'until': '2017-02-26'}\n",
      "The Dave Castro liked my picture! So that means we're basically BFF right?? @CrossFit @CrossFitGames https://t.co/R1E5P6NMNS\n",
      "I'm pretty sure Dave Castro talked with Satan and thats how he created #17.1 #inTheOpen #crossfitopen\n",
      "@planetmoney Story idea: @crossfit @CrossFitGames @CEOCrossFit Greg Glass and Dave Castro.\n",
      "I now understand Dave Castro's Instragram post about 17.1!  @CrossFitGames #Gargoyle #hunchback #holybackcramps #crossfitopen #backformore\n",
      "The only evidence that you need to prove that Crossfit is bullshit is Dave Castro himself.\n",
      "@CrossFitGames thanks to Dave Castro both me and the website are struggling tonight 😀 #17.1\n",
      "Holy lung burner!  My throat was on 🔥 how the hell does Dave Castro know exactly what to couple… https://t.co/dgL49gzXUb\n",
      "I plan on writing a strongly worded email to Dave Castro about the ascending rep scheme of 17.1 @CrossFitGames\n",
      "Screw you, Dave Castro.\n",
      "I want proof that Dave Castro has ever done 17.1....\n",
      "Is this or is this not Dave Castro creating open workouts? https://t.co/AglcKAT3p4\n",
      "@CrossFitGames Dave Castro to us all... https://t.co/uRW2G5B82o\n",
      "@jockowillink I'd love to hear @bridgesj3 and Dave Castro on the podcast\n",
      "Dave Castro's trying to kill people with 17.1 #WelcomeToTheOpen\n",
      "Let's hope Dave Castro does not do another double up of burpees..  190 reps scaled for 17.1 I thought I'd do it... https://t.co/YbgCk5jhcQ\n",
      "Dave Castro is a prick #17.1  @CrossFitGames\n",
      "@Javimarroquin9 I think the only person ready is Dave Castro, he's ready to give us a slow death😓💀💪\n",
      "I'm excited for Dave and Busters tomorrow 😂😊🍻\n",
      "Dave Castro.... Fucking jerk #17point1\n",
      "Dave Castro has tried every haircut under the sun...he should try no hair next! #ShaveCastro #DaveCastro @CrossFitGames #crossfitopen\n",
      "Annonce du 17.1 en live de Reebok Crossfit Louvre with Dave Castro https://t.co/PgBvqRTUCP\n",
      "17.1,..Thank you Dave Castro https://t.co/tfY5NsLNKH https://t.co/iHeC6flpxk\n",
      "Sometimes I wonder if Dave Castro loves his mom as much as he loves burpees #17point1 #crossfitopen\n",
      "Dave Castro: 1\n",
      "Me: 0\n",
      "If @CrossFit s Dave Castro had a twitter account, his own mom would block him #BurpeeBoxJumpOvers\n",
      "Dear 8 pound 6 ounce newborn infant baby Jesus. We pray the WOD to be in our favor &amp; protection from the evil that is Dave Castro #17point1\n",
      "\"Welcome to 2017 Reebok Crossfit Games , let the pain and suffering begin\" - Dave Castro\n",
      "Been about an hour since finishing @CrossFitGames #OpenWorkout 17.1 &amp; idk how I'm gonna get through the workday.  Thanks a lot, Dave Castro\n",
      "When you're 5'10\" and Dave Castro throws DB snatches and burpee box jump overs at you @CrossFit https://t.co/fYD2ZLQ83l\n",
      "Dave Castro did us dirty with 17.1 ...\n",
      "not looking forward to doing it tonight😐 https://t.co/o5dX7gVv4E\n",
      "Dave Castro: \"hey guys, hint hint dumbells hint hint\"\n",
      "\n",
      "Me: \"excellent!!! We have 5-10-15-20-25-32,5-40-45 and 50... https://t.co/sZQYAJPfSy\n",
      "How Dave Castro ruined #CrossFit https://t.co/WrGu8Bn7fE\n",
      "Right so this is an absolute nightmare workout. Cheers Dave Castro, you dose 🙄 #17pointOne #BurpeeBoxOvers\n",
      "Thanks Dave Castro, I'm going to have nightmares tonight about 17.1 that I am doing at 6:00 a.m. @CrossFitGames #crossfitopen #burpees\n",
      "I like Dave Castro's haircut.\n",
      "Dave Castro and his evil little smile during open announcements 😡\n",
      "Y'know what Dave Castro you are an ass #crossfitopen\n",
      "Thanks Dave Castro https://t.co/T8Wu3TgOis\n",
      "\"Dave Castro is an asshole\" - well said Verena Marsden - bring on 17.1 #intheopen\n",
      "After Dave Castro announce @CrossFitGames #crossfitopen 17.1 workout. LETS GET IT.. tomorrow @ 7 come watch your bo… https://t.co/bpjDCOFjW4\n",
      "Then me when Dave Castro added the word burpee in front of box jumps for 17.1 #crossfitopen https://t.co/4CLOhgfZz1\n",
      "When Dave Castro said box jumps as part of 17.1 #crossfitopen https://t.co/pOs9f7Ib1Q\n",
      "Me when Dave Castro announced 17.1 is for time @CrossFit @CrossFitGames https://t.co/xorEoKJSME\n",
      "When Dave Castro said burpee box jump overs https://t.co/JmPq01O7YV\n",
      "@KansasSteve *the moment Dave Castro said burpee box jump overs* https://t.co/PiyDE1OjOl\n",
      "Dave Castro has me sweating... #crossfitopen #17.1\n",
      "When Dave Castro announced 17.1 @CrossFit https://t.co/GIKTAlZ38e\n",
      "Y'all remember when Alfred told Bruce Wayne \"..some men just want to watch the world burn\"?  he was talking about Dave Castro.\n",
      "Is this what Dave Castro meant with his 17.1 clue? 🤔 @CrossFit @CrossFitGames #CrossFitOpen #Gassed #4MoreWeeksLeft… https://t.co/owhExNxWvz\n",
      "Dave Castro is literally tryna kill everyone #17point1\n",
      "Good luck and let the pain and suffering begin. -Dave Castro @CrossFitGames #InTheOpen 😰💪🏻🏋🏻‍♀️\n"
     ]
    }
   ],
   "source": [
    "for date in dates:\n",
    "    parameters['until'] = date\n",
    "    print parameters\n",
    "    response = requests.get(search_url,\n",
    "                        params = parameters,\n",
    "                        auth = oauth)\n",
    "    tweets = response.json()\n",
    "    for tweet in tweets['statuses']:\n",
    "        if tweet['text'].startswith('RT') == False:\n",
    "            print tweet['text']\n",
    "            data = {}\n",
    "            data['text'] = tweet['text'].encode('utf-8')\n",
    "            data['username'] = tweet['user']['screen_name']\n",
    "            data['fav_count'] = tweet['favorite_count']\n",
    "            data['rt_count'] = tweet ['retweet_count']\n",
    "            data['created_at'] = tweet['created_at']\n",
    "            dcastro.insert_one(data)"
   ]
  },
  {
   "cell_type": "code",
   "execution_count": 79,
   "metadata": {
    "collapsed": false
   },
   "outputs": [
    {
     "data": {
      "text/plain": [
       "0"
      ]
     },
     "execution_count": 79,
     "metadata": {},
     "output_type": "execute_result"
    }
   ],
   "source": [
    "dcastro.count()"
   ]
  },
  {
   "cell_type": "code",
   "execution_count": 66,
   "metadata": {
    "collapsed": false
   },
   "outputs": [
    {
     "data": {
      "text/plain": [
       "[u'search_metadata', u'statuses']"
      ]
     },
     "execution_count": 66,
     "metadata": {},
     "output_type": "execute_result"
    }
   ],
   "source": [
    "response = requests.get(search_url,\n",
    "                        params = parameters,\n",
    "                        auth = oauth)\n",
    "tweets = response.json()\n",
    "tweets.keys()"
   ]
  },
  {
   "cell_type": "code",
   "execution_count": 67,
   "metadata": {
    "collapsed": false
   },
   "outputs": [
    {
     "data": {
      "text/plain": [
       "{u'completed_in': 0.061,\n",
       " u'count': 100,\n",
       " u'max_id': 836385742561685504,\n",
       " u'max_id_str': u'836385742561685504',\n",
       " u'next_results': u'?max_id=834961166132735999&q=dave%20castro&lang=en&count=100&include_entities=1',\n",
       " u'query': u'dave+castro',\n",
       " u'refresh_url': u'?since_id=836385742561685504&q=dave%20castro&lang=en&include_entities=1',\n",
       " u'since_id': 0,\n",
       " u'since_id_str': u'0'}"
      ]
     },
     "execution_count": 67,
     "metadata": {},
     "output_type": "execute_result"
    }
   ],
   "source": [
    "tweets['search_metadata']"
   ]
  },
  {
   "cell_type": "code",
   "execution_count": 69,
   "metadata": {
    "collapsed": false
   },
   "outputs": [
    {
     "data": {
      "text/plain": [
       "u\"@CrossFitGames Also someone please tell Dave Castro he's the worst please. Thank you.\""
      ]
     },
     "execution_count": 69,
     "metadata": {},
     "output_type": "execute_result"
    }
   ],
   "source": [
    "tweets['statuses'][0]['text']"
   ]
  },
  {
   "cell_type": "code",
   "execution_count": 70,
   "metadata": {
    "collapsed": false
   },
   "outputs": [],
   "source": [
    "for tweet in tweets['statuses']:\n",
    "    if tweet['text'].startswith('RT') == False:\n",
    "        #print tweet['text']\n",
    "        data = {}\n",
    "        data['text'] = tweet['text'].encode('utf-8')\n",
    "        data['username'] = tweet['user']['screen_name']\n",
    "        data['fav_count'] = tweet['favorite_count']\n",
    "        data['rt_count'] = tweet ['retweet_count']\n",
    "        data['created_at'] = tweet['created_at']\n",
    "        dcastro.insert_one(data)"
   ]
  },
  {
   "cell_type": "code",
   "execution_count": 71,
   "metadata": {
    "collapsed": false
   },
   "outputs": [
    {
     "name": "stdout",
     "output_type": "stream",
     "text": [
      "PAGE 2\n",
      "Me when Dave Castro announced 17.1 is for time @CrossFit @CrossFitGames https://t.co/xorEoKJSME\n",
      "When Dave Castro said burpee box jump overs https://t.co/JmPq01O7YV\n",
      "@KansasSteve *the moment Dave Castro said burpee box jump overs* https://t.co/PiyDE1OjOl\n",
      "Dave Castro has me sweating... #crossfitopen #17.1\n",
      "When Dave Castro announced 17.1 @CrossFit https://t.co/GIKTAlZ38e\n",
      "Y'all remember when Alfred told Bruce Wayne \"..some men just want to watch the world burn\"?  he was talking about Dave Castro.\n",
      "Is this what Dave Castro meant with his 17.1 clue? 🤔 @CrossFit @CrossFitGames #CrossFitOpen #Gassed #4MoreWeeksLeft… https://t.co/owhExNxWvz\n",
      "Dave Castro is literally tryna kill everyone #17point1\n",
      "Good luck and let the pain and suffering begin. -Dave Castro @CrossFitGames #InTheOpen 😰💪🏻🏋🏻‍♀️\n",
      "Sos this is rude Dave Castro 😵 @CrossFitGames https://t.co/xllLIY0fBM\n",
      "When @CrossFitGames Director Dave Castro announces that 17.1 has burpee box jumps... https://t.co/NgjzX0wZbP\n",
      "I hate Dave Castro. I hope he sees this.\n",
      "Well thanks a lot Dave Castro. Thanks a lot 😭😭💀 7 hours till my turn. I'll never be ready 😷 #17point1\n",
      "150 reps of dumbbell snatches plus 75 box jump burpees? Dave Castro just likes to torture people. #TheOpen\n",
      "Dave Castro you sick fuck... #17point1\n",
      "Well at least there is a time cap😅😂 \"Let the pain and suffering begin\" -Dave Castro #crossfitopen #17point1\n",
      "BREAKING CROSSFIT NEWS - Dave Castro Announces 17.1 CrossFit Open Workout! - https://t.co/hmkw2fu8cP #boxrox… https://t.co/6OX6mDFIVh\n",
      "you’re a baaaaaad, bad man Dave Castro #CrossFit #CrossFitGames #InTheOpen #17point1\n",
      "Dave Castro you're a prick @CrossFitGames @CrossFit #TheOpen #17point1\n",
      "@CrossFitGames Me when Dave Castro said 50 Snatches #17point1 https://t.co/goo9mf40DW\n"
     ]
    }
   ],
   "source": [
    "next_page_url = search_url + tweets['search_metadata']['next_results']\n",
    "\n",
    "response = requests.get(next_page_url, auth=oauth)\n",
    "\n",
    "print('PAGE 2')\n",
    "for tweet in response.json()['statuses']:\n",
    "    if tweet['text'].startswith('RT') == False:\n",
    "        print(tweet['text'])"
   ]
  },
  {
   "cell_type": "code",
   "execution_count": 58,
   "metadata": {
    "collapsed": false
   },
   "outputs": [
    {
     "data": {
      "text/plain": [
       "False"
      ]
     },
     "execution_count": 58,
     "metadata": {},
     "output_type": "execute_result"
    }
   ],
   "source": [
    "response.json()['statuses'][0]['retweeted']"
   ]
  },
  {
   "cell_type": "code",
   "execution_count": 54,
   "metadata": {
    "collapsed": false
   },
   "outputs": [
    {
     "data": {
      "text/plain": [
       "{u'completed_in': 0.108,\n",
       " u'count': 100,\n",
       " u'max_id': 834961166132735999,\n",
       " u'max_id_str': u'834961166132735999',\n",
       " u'next_results': u'?max_id=834933178087452671&q=dave%20castro&lang=en&count=100&include_entities=1',\n",
       " u'query': u'dave+castro',\n",
       " u'refresh_url': u'?since_id=834961166132735999&q=dave%20castro&lang=en&include_entities=1',\n",
       " u'since_id': 0,\n",
       " u'since_id_str': u'0'}"
      ]
     },
     "execution_count": 54,
     "metadata": {},
     "output_type": "execute_result"
    }
   ],
   "source": [
    "response.json()['search_metadata']"
   ]
  },
  {
   "cell_type": "code",
   "execution_count": 72,
   "metadata": {
    "collapsed": false
   },
   "outputs": [
    {
     "name": "stdout",
     "output_type": "stream",
     "text": [
      "PAGE 3\n",
      "Me when Dave Castro said 17.1 was for time @CrossFitGames https://t.co/I7BtA35TUh\n",
      "\"17.1 Let the pain and suffering begin\" - Dave Castro \n",
      "🤔🤔🤔😂😂😂 #crossfitopen #iloveburpeesNot 🤷🏻‍♀️🙅🏻🤦🏻‍♀️\n",
      "We'll dave Castro wasn't wrong.. there will definitely be pain and suffering, prob vomit too @CrossFitGames #17point1\n",
      "Everyone's reaction to Dave Castro's 17.1 Open announcement #intheopen crossfitgames @crossfit… https://t.co/8muNiq4tKl\n",
      "\"Good luck... And let the pain and suffering begin...\" Dave Castro #CrossfitOpen\n",
      "Dave Castro is a sick man.\n",
      "Yeah Dave Castro was high when he wrote that workout\n",
      "Dave Castro is the devil. #InTheOpen #17.1\n",
      "Dave Castro is an evil sick sick man #InTheOpen #CrossFit\n",
      "Dave Castro is a prick #crossfitopen\n",
      "Me when Dave Castro announced 17.1 @CrossFitGames @CrossFit https://t.co/Rc9KClW0S0\n",
      "Fuck you Dave Castro. Burpee box jumps to start to #crossfitopen\n",
      "Burpee box jump OVERS- I hate Dave Castro\n",
      "LOL Dave Castro is such a Dbag\n",
      "Dave Castro what are you wearing why\n",
      "Ready for Dave Castro to ruin my life😂\n",
      "Where's Dave Castro!?\n",
      "T-5 minutes until Dave Castro let's me know how I'll be punished for this Wendy's tomorrow\n",
      "@micnic1291 any predictions?! I cursed Dave Castro's name for five straight weeks last year...\n",
      "the hint Dave Castro gave for 17.1 .... hmmmm I wonder what it is... maybe bar muscle ups and deadlifts? https://t.co/qpsz7Zpztg\n",
      "@CrossFit @CrossFitGames @CrossFitViral Dave Castro about to be like.........................    #rickAndMorty https://t.co/D9f8mtyfRP\n",
      "Tonight is the night!!  The return of Diabolical Dave Castro!  We will be projecting the announcement of 17.1 at... https://t.co/TEb38ZSPpT\n",
      "@CrossFitGames #crossfitopen  Analyzing Dave Castro's Instagrams like https://t.co/wEDvvaWl2Q\n",
      "Dave Castro needs to hurry up and release the 17.1 workout\n",
      "@CrossFitGames @RogueFitness very detailed and specific prediction ... 17.1 is (In Dave Castro's Voice) ... Pain, 12 min amrap\n",
      "1 day until CFO's first Friday Night Lights of the 2017 Open, and only hours left until Dave Castro announces... https://t.co/TPBShrASUC\n",
      "The 2017 CrossFit Open in finally here!! Director of the CrossFit Games, Dave Castro, will announce 17.1 tonight... https://t.co/u2WCvk1JI3\n",
      "Watching people freak out over ever IG post from Dave Castro the next 5 weeks is what the open is actually about 🙄😂\n",
      "It's Open Season #crossfitopen #17.1 let the games begin! It's going to be great to see what Dave Castro has in store for us!!\n",
      "Dave Castro, director of the CrossFit Games, is notorious each year for giving us clues for the weekly Open... https://t.co/n6y1Q3Tl0S\n",
      "Me to Dave Castro if #turkishgetups are in the open... #crossfit #open2017 #nomoresleeps… https://t.co/qRvmOMpuLL\n",
      "Please let Dave Castro be kind!  🙏🏻🙏🏻 https://t.co/nLJ8mCKcWI\n",
      "Dave Castro's 17.1 Hints Get Weird - FloElite https://t.co/9xmfjPn77A\n",
      "I signed up and I'm terrified!! What will 17.1 be? Will there be dumbbell snatches, thrusters? What does Dave Castr… https://t.co/DaAtyVeBoG\n",
      "If I die Friday night, at least I'll die happy in my \"Dave Castro is a prick\" tshirt @CrossFitGames\n",
      "Dave Castro liked my post wby\n",
      "\"Everyone likes guns when they need them.\" - Dave Castro\n",
      "Who is ready for Open Workout 17.1?!?!? Last year Dave Castro surprised us with a new movement for 16.1 -... https://t.co/B5jutWF1tw\n",
      "I predict The Dave Castro will tweet on Thursday. #comeback? #TDC #OpenGo #progenex @PROGENEX\n",
      "If Dave Castro announces dumbell Fran at any point this open every crossfitter in the world is fucked because that was HELL 🤢🆘\n",
      "Has anyone ever deciphered one of Dave Castro's clues? @CrossFitGames\n",
      "What does The Dave Castro have planned for this year? Post your thoughts below! https://t.co/SpxhHJ0pQP\n",
      "Mr. Castro: I'm giving u guys test today bc u guys had no class Mon. &amp; Tue. &amp; I was absent on Friday \n",
      "Dave: damn nigga that was ur fault\n",
      "\n",
      "😂💀\n",
      "With Dave Castro's 17.1 hint, any guesses or ideas on what it will be? \n",
      "#crossfitgateshead #crossfitopen #fitness... https://t.co/yU9NmvHOUr\n",
      "@bridgesj3 where did you get the cool Dave Castro t shirt?!\n",
      "Dave Castro is ready for the @CrossFitGames Open... are you? https://t.co/itK6SVxAnF\n",
      "Crossfit open kicks off Friday!!!! What do you think Demon Dave Castro is throwing our way?? #daveCastro #crossfitopen #l\n",
      "How funny would it be if Dave Castro didn't really plan dumbells in the @CrossFitGames Open? #savage\n",
      "excited to see what Dave Castro has up his sleeve this year 😈🙄\n",
      "When Dave Castro himself tweets you https://t.co/B88siZ1F7o\n",
      "Shotgun CrossFit will be hosting a 17.1 Watching Party on Thursday, Feb. 23 at 7 pm.  Come see what Dave Castro... https://t.co/uQdh31r37P\n",
      "And here Dave Castro's first clue of what to expect for CrossFit Open 17.1 Workout... Any guesses?? https://t.co/Q47K3paLHC\n",
      "Director of the Games Dave Castro will release Open WOD 17.1 this Thursday night! Will you be ready for action?... https://t.co/E5dZ2uqTuX\n",
      "Director of the Games Dave Castro will release Open WOD 17.1 this Thursday night! Will you be… https://t.co/RphBDADKtA\n",
      "This bloke on Tipping Point is a muppet \n",
      "\n",
      "\"Well it's going to be either Lenin or Stalin\"\n",
      "\n",
      "Answer: Fidel Castro 👊\n",
      "Jesus fuck I listen to this like 8 times a day @GlassAnimals \n",
      "\n",
      "Flume - Fantastic feat. Dave (Glass Animals) https://t.co/CTEgKiPHOZ\n",
      "Figured out Dave Castro's clue for the first workout of the @CrossFitGames #CrossfitOpen. You're welcome.… https://t.co/VXKp9MwFSI\n",
      "Figuring out Dave Castro's Instagram posts about 17.1 @CrossFitGames https://t.co/aZhYWx3Dx0\n",
      "@CrossFitGames if only I could get a scholarship for a CrossFit. Or if Dave Castro created \"The University of CrossFit\" 🤔\n",
      "FLOSSDILLA - 'SAV5GE CINCO 2' ft. Fats Castro (MUBU GANG), Lil Dave (NOW OR NEVA), JNuts... - Download | Added by... https://t.co/T8WiFXa5uX\n",
      "3rd Official @CrossFitGames Open starts in 3 day and this year there is no movement I am unable to do! So Dave Castro, bring it! #Open17\n"
     ]
    }
   ],
   "source": [
    "next_page_url = search_url + response.json()['search_metadata']['next_results']\n",
    "\n",
    "response = requests.get(next_page_url, auth=oauth)\n",
    "\n",
    "print('PAGE 3')\n",
    "for tweet in response.json()['statuses']:\n",
    "    if tweet['text'].startswith('RT') == False:\n",
    "        print(tweet['text'])"
   ]
  },
  {
   "cell_type": "code",
   "execution_count": null,
   "metadata": {
    "collapsed": true
   },
   "outputs": [],
   "source": []
  }
 ],
 "metadata": {
  "anaconda-cloud": {},
  "kernelspec": {
   "display_name": "Python [conda root]",
   "language": "python",
   "name": "conda-root-py"
  },
  "language_info": {
   "codemirror_mode": {
    "name": "ipython",
    "version": 2
   },
   "file_extension": ".py",
   "mimetype": "text/x-python",
   "name": "python",
   "nbconvert_exporter": "python",
   "pygments_lexer": "ipython2",
   "version": "2.7.12"
  }
 },
 "nbformat": 4,
 "nbformat_minor": 1
}
