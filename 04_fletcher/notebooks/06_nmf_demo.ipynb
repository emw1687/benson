{
 "cells": [
  {
   "cell_type": "code",
   "execution_count": 14,
   "metadata": {
    "collapsed": true
   },
   "outputs": [],
   "source": [
    "import pickle\n",
    "import numpy as np"
   ]
  },
  {
   "cell_type": "code",
   "execution_count": 15,
   "metadata": {
    "collapsed": true
   },
   "outputs": [],
   "source": [
    "with open('data/s_listings.pkl', 'rb') as picklefile:\n",
    "    s_listings = pickle.load(picklefile)"
   ]
  },
  {
   "cell_type": "code",
   "execution_count": 16,
   "metadata": {
    "collapsed": true
   },
   "outputs": [],
   "source": [
    "with open('data/nmf_demo.pkl', 'rb') as picklefile:\n",
    "    nmf, nmf_vectorizer, nmf_doc_topic, nmf_topics = pickle.load(picklefile)"
   ]
  },
  {
   "cell_type": "code",
   "execution_count": 28,
   "metadata": {
    "collapsed": false
   },
   "outputs": [],
   "source": [
    "def match_me(description, level):\n",
    "    '''\n",
    "    description: string, description of traveller\n",
    "    level: ['same', 'mix', 'opposite']\n",
    "            same : find host similar to traveller\n",
    "            mix : find host equally similar and dissimilar to traveller\n",
    "            opposite : find host dissimilar to traveller\n",
    "    '''\n",
    "    levels = {'same': 0, \n",
    "              'mix': int(round(np.median(range(len(nmf_topics))), 0)), \n",
    "              'opposite': len(nmf_topics)-1}\n",
    "    desc = [description]\n",
    "    description_vec = nmf_vectorizer.transform(desc)\n",
    "    \n",
    "    topic_index = np.argsort(nmf.transform(description_vec))[0][::-1][levels[level]]\n",
    "    print nmf_topics[topic_index].title()\n",
    "    print\n",
    "    \n",
    "    host_index = np.argsort(nmf_doc_topic[:,topic_index])[::-1][0]\n",
    "    print s_listings['host_about'].iloc[host_index]"
   ]
  },
  {
   "cell_type": "code",
   "execution_count": 31,
   "metadata": {
    "collapsed": true
   },
   "outputs": [],
   "source": [
    "me = \"I'm a data science student in Chicago. \\\n",
    "      Love to kayak, hike, and practice yoga. \\\n",
    "      Excited to explore Seattle!\""
   ]
  },
  {
   "cell_type": "code",
   "execution_count": 34,
   "metadata": {
    "collapsed": false
   },
   "outputs": [
    {
     "name": "stdout",
     "output_type": "stream",
     "text": [
      "Local Guide\n",
      "\n",
      "I am originally from California and moved to Seattle in 2006. I love music, movies, reading, and trying new bars and restaurants, which makes Seattle a great fit for me. I also like traveling and seeing new places, having time to really experience a place, walking around, people-watching, and trying local favorites. \r\n",
      "\r\n",
      "When traveling, I try to be economical while also making sure I have a full, rich experience. I think there are plenty of great places to stay, restaurants to try, and experiences to have that are special and don't have to cost a fortune. \r\n",
      "\r\n",
      "As a host, I want to help my guests have the best experience possible. If that consists of giving them suggestions or even helping them with transportation, I am happy to oblige. If they just want me to show them the space, give them the key, and nothing more, that is fine too. Seattle is a great place, and everyone should be able to experience it in the way that suits them best.\r\n",
      "\r\n",
      "As a guest, I am very respectful of the space I am using. I take care with other people's property and always follow my rule of leaving things in at least as good of a state as I find them.\n"
     ]
    }
   ],
   "source": [
    "match_me(me, 'opposite')"
   ]
  },
  {
   "cell_type": "code",
   "execution_count": null,
   "metadata": {
    "collapsed": true
   },
   "outputs": [],
   "source": []
  }
 ],
 "metadata": {
  "anaconda-cloud": {},
  "kernelspec": {
   "display_name": "Python [conda root]",
   "language": "python",
   "name": "conda-root-py"
  },
  "language_info": {
   "codemirror_mode": {
    "name": "ipython",
    "version": 2
   },
   "file_extension": ".py",
   "mimetype": "text/x-python",
   "name": "python",
   "nbconvert_exporter": "python",
   "pygments_lexer": "ipython2",
   "version": "2.7.12"
  }
 },
 "nbformat": 4,
 "nbformat_minor": 1
}
