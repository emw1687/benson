{
 "cells": [
  {
   "cell_type": "code",
   "execution_count": 48,
   "metadata": {
    "collapsed": false
   },
   "outputs": [],
   "source": [
    "import pickle\n",
    "import codecs\n",
    "import string\n",
    "import math\n",
    "\n",
    "import pymongo\n",
    "from bson.code import Code\n",
    "\n",
    "import pprint\n",
    "import pandas as pd\n",
    "\n",
    "import nltk\n",
    "import string\n",
    "\n",
    "import matplotlib.pyplot as plt\n",
    "%matplotlib inline"
   ]
  },
  {
   "cell_type": "code",
   "execution_count": 71,
   "metadata": {
    "collapsed": true
   },
   "outputs": [],
   "source": [
    "def top_words(raw, n=20):\n",
    "    '''\n",
    "    Take raw text and return top 20 words, ignoring \"words\" that are punctuation\n",
    "    word_list: list of tokens\n",
    "    n: number of words to return\n",
    "    '''\n",
    "    tokens = nltk.word_tokenize(raw)\n",
    "    fdist = nltk.FreqDist(w.lower() for w in tokens if (w.lower() not in stopwords) and (w.lower() not in string.punctuation))\n",
    "    return fdist.most_common(n)"
   ]
  },
  {
   "cell_type": "code",
   "execution_count": 2,
   "metadata": {
    "collapsed": false
   },
   "outputs": [
    {
     "name": "stdout",
     "output_type": "stream",
     "text": [
      "showing info https://raw.githubusercontent.com/nltk/nltk_data/gh-pages/index.xml\n"
     ]
    },
    {
     "data": {
      "text/plain": [
       "True"
      ]
     },
     "execution_count": 2,
     "metadata": {},
     "output_type": "execute_result"
    }
   ],
   "source": [
    "nltk.download()"
   ]
  },
  {
   "cell_type": "code",
   "execution_count": 10,
   "metadata": {
    "collapsed": true
   },
   "outputs": [],
   "source": [
    "stopwords = nltk.corpus.stopwords.words('english')"
   ]
  },
  {
   "cell_type": "code",
   "execution_count": 3,
   "metadata": {
    "collapsed": false
   },
   "outputs": [
    {
     "data": {
      "text/plain": [
       "[u'austen-emma.txt',\n",
       " u'austen-persuasion.txt',\n",
       " u'austen-sense.txt',\n",
       " u'bible-kjv.txt',\n",
       " u'blake-poems.txt',\n",
       " u'bryant-stories.txt',\n",
       " u'burgess-busterbrown.txt',\n",
       " u'carroll-alice.txt',\n",
       " u'chesterton-ball.txt',\n",
       " u'chesterton-brown.txt',\n",
       " u'chesterton-thursday.txt',\n",
       " u'edgeworth-parents.txt',\n",
       " u'melville-moby_dick.txt',\n",
       " u'milton-paradise.txt',\n",
       " u'shakespeare-caesar.txt',\n",
       " u'shakespeare-hamlet.txt',\n",
       " u'shakespeare-macbeth.txt',\n",
       " u'whitman-leaves.txt']"
      ]
     },
     "execution_count": 3,
     "metadata": {},
     "output_type": "execute_result"
    }
   ],
   "source": [
    "nltk.corpus.gutenberg.fileids()"
   ]
  },
  {
   "cell_type": "code",
   "execution_count": 58,
   "metadata": {
    "collapsed": true
   },
   "outputs": [],
   "source": [
    "caesar_words = nltk.corpus.gutenberg.words('shakespeare-caesar.txt')"
   ]
  },
  {
   "cell_type": "code",
   "execution_count": 22,
   "metadata": {
    "collapsed": false
   },
   "outputs": [
    {
     "data": {
      "text/plain": [
       "25833"
      ]
     },
     "execution_count": 22,
     "metadata": {},
     "output_type": "execute_result"
    }
   ],
   "source": [
    "len(caesar_words)"
   ]
  },
  {
   "cell_type": "markdown",
   "metadata": {},
   "source": [
    "### Most common words"
   ]
  },
  {
   "cell_type": "code",
   "execution_count": 24,
   "metadata": {
    "collapsed": true
   },
   "outputs": [],
   "source": [
    "fdist = nltk.FreqDist(w.lower() for w in caesar_words)"
   ]
  },
  {
   "cell_type": "code",
   "execution_count": 25,
   "metadata": {
    "collapsed": false
   },
   "outputs": [
    {
     "data": {
      "text/plain": [
       "[(u',', 2204),\n",
       " (u'.', 1296),\n",
       " (u'and', 627),\n",
       " (u'the', 579),\n",
       " (u'i', 533),\n",
       " (u':', 499),\n",
       " (u'to', 446),\n",
       " (u'you', 391),\n",
       " (u\"'\", 384),\n",
       " (u'of', 354),\n",
       " (u'?', 296),\n",
       " (u'that', 289),\n",
       " (u'a', 267),\n",
       " (u'not', 257),\n",
       " (u'is', 253),\n",
       " (u'in', 225),\n",
       " (u'd', 215),\n",
       " (u'my', 209),\n",
       " (u'it', 198),\n",
       " (u'caesar', 190)]"
      ]
     },
     "execution_count": 25,
     "metadata": {},
     "output_type": "execute_result"
    }
   ],
   "source": [
    "fdist.most_common(20)"
   ]
  },
  {
   "cell_type": "code",
   "execution_count": 42,
   "metadata": {
    "collapsed": false
   },
   "outputs": [
    {
     "data": {
      "text/plain": [
       "[(u\"'d\", 193),\n",
       " (u'caesar', 190),\n",
       " (u'brutus', 161),\n",
       " (u'bru', 153),\n",
       " (u'haue', 147),\n",
       " (u'shall', 125),\n",
       " (u'thou', 115),\n",
       " (u'cassi', 107),\n",
       " (u'cassius', 85),\n",
       " (u'antony', 75),\n",
       " (u'come', 74),\n",
       " (u'let', 71),\n",
       " (u'good', 70),\n",
       " (u'know', 68),\n",
       " (u'men', 64),\n",
       " (u'enter', 64),\n",
       " (u'heere', 59),\n",
       " (u'vs', 58),\n",
       " (u'thy', 56),\n",
       " (u'thee', 55)]"
      ]
     },
     "execution_count": 42,
     "metadata": {},
     "output_type": "execute_result"
    }
   ],
   "source": [
    "caesar_raw = nltk.corpus.gutenberg.raw('shakespeare-caesar.txt')\n",
    "top_words(caesar_raw, 20)"
   ]
  },
  {
   "cell_type": "code",
   "execution_count": 43,
   "metadata": {
    "collapsed": false
   },
   "outputs": [
    {
     "data": {
      "text/plain": [
       "[(u'ham', 337),\n",
       " (u'lord', 211),\n",
       " (u\"'d\", 200),\n",
       " (u'haue', 175),\n",
       " (u'king', 172),\n",
       " (u\"'s\", 119),\n",
       " (u'shall', 107),\n",
       " (u'come', 104),\n",
       " (u'thou', 104),\n",
       " (u'let', 104),\n",
       " (u'hamlet', 100),\n",
       " (u'good', 98),\n",
       " (u'hor', 95),\n",
       " (u'thy', 90),\n",
       " (u'enter', 85),\n",
       " (u'oh', 81),\n",
       " (u'like', 77),\n",
       " (u'well', 70),\n",
       " (u'know', 69),\n",
       " (u'would', 68)]"
      ]
     },
     "execution_count": 43,
     "metadata": {},
     "output_type": "execute_result"
    }
   ],
   "source": [
    "hamlet_raw = nltk.corpus.gutenberg.raw('shakespeare-hamlet.txt')\n",
    "top_words(hamlet_raw, 20)"
   ]
  },
  {
   "cell_type": "code",
   "execution_count": 72,
   "metadata": {
    "collapsed": false
   },
   "outputs": [
    {
     "data": {
      "text/plain": [
       "[(u\"'d\", 192),\n",
       " (u'macb', 137),\n",
       " (u\"'s\", 128),\n",
       " (u'haue', 122),\n",
       " (u'thou', 87),\n",
       " (u'enter', 81),\n",
       " (u'shall', 68),\n",
       " (u'macbeth', 62),\n",
       " (u'thee', 61),\n",
       " (u'vpon', 59),\n",
       " (u'macd', 58),\n",
       " (u'yet', 57),\n",
       " (u'thy', 56),\n",
       " (u'vs', 56),\n",
       " (u'come', 54),\n",
       " (u'king', 53),\n",
       " (u'hath', 52),\n",
       " (u'rosse', 49),\n",
       " (u'lady', 48),\n",
       " (u'good', 48)]"
      ]
     },
     "execution_count": 72,
     "metadata": {},
     "output_type": "execute_result"
    }
   ],
   "source": [
    "macbeth_raw = nltk.corpus.gutenberg.raw('shakespeare-macbeth.txt')\n",
    "top_words(macbeth_raw, 20)"
   ]
  },
  {
   "cell_type": "markdown",
   "metadata": {},
   "source": [
    "### Collocations"
   ]
  },
  {
   "cell_type": "code",
   "execution_count": 91,
   "metadata": {
    "collapsed": true
   },
   "outputs": [],
   "source": [
    "measures = nltk.collocations.BigramAssocMeasures\n",
    "bigram_finder = nltk.collocations.BigramCollocationFinder.from_words(caesar_words)"
   ]
  },
  {
   "cell_type": "code",
   "execution_count": 92,
   "metadata": {
    "collapsed": false
   },
   "outputs": [],
   "source": [
    "measures_dct = {'chi_sq': measures.chi_sq, \n",
    "            'dice': measures.dice, \n",
    "            'fisher': measures.fisher,\n",
    "            'jaccard': measures.jaccard, \n",
    "            'likelihood': measures.likelihood_ratio, \n",
    "            'mi_like': measures.mi_like,\n",
    "            'phi_sq': measures.phi_sq, \n",
    "            'pmi': measures.pmi, \n",
    "            'poisson_sterling': measures.poisson_stirling,\n",
    "            'raw_freq': measures.raw_freq}"
   ]
  },
  {
   "cell_type": "code",
   "execution_count": 94,
   "metadata": {
    "collapsed": false
   },
   "outputs": [
    {
     "name": "stdout",
     "output_type": "stream",
     "text": [
      "phi_sq\n",
      "[(u'Attendants', u'absent'),\n",
      " (u'Barren', u'touched'),\n",
      " (u'Captiue', u'bonds'),\n",
      " (u'Cauerne', u'darke'),\n",
      " (u'Chimney', u'tops'),\n",
      " (u'Ciuill', u'strife'),\n",
      " (u'Coffers', u'fill'),\n",
      " (u'Comets', u'seen'),\n",
      " (u'Cynicke', u'rime'),\n",
      " (u'Darts', u'inuenomed')]\n",
      "mi_like\n",
      "[(u\"'\", u'd'),\n",
      " (u',', u'and'),\n",
      " (u'Bru', u'.'),\n",
      " (u'Cassi', u'.'),\n",
      " (u',', u'And'),\n",
      " (u\"'\", u's'),\n",
      " (u'my', u'Lord'),\n",
      " (u'I', u'am'),\n",
      " (u\"'\", u'st'),\n",
      " (u'any', u'thing')]\n",
      "raw_freq\n",
      "[(u',', u'and'),\n",
      " (u\"'\", u'd'),\n",
      " (u'Bru', u'.'),\n",
      " (u',', u'And'),\n",
      " (u',', u'I'),\n",
      " (u'Cassi', u'.'),\n",
      " (u'.', u'I'),\n",
      " (u',', u'that'),\n",
      " (u'.', u'Enter'),\n",
      " (u'Brutus', u',')]\n",
      "dice\n",
      "[(u'Attendants', u'absent'),\n",
      " (u'Barren', u'touched'),\n",
      " (u'Captiue', u'bonds'),\n",
      " (u'Cauerne', u'darke'),\n",
      " (u'Chimney', u'tops'),\n",
      " (u'Ciuill', u'strife'),\n",
      " (u'Coffers', u'fill'),\n",
      " (u'Comets', u'seen'),\n",
      " (u'Cynicke', u'rime'),\n",
      " (u'Darts', u'inuenomed')]\n",
      "chi_sq\n",
      "[(u'Attendants', u'absent'),\n",
      " (u'Barren', u'touched'),\n",
      " (u'Captiue', u'bonds'),\n",
      " (u'Cauerne', u'darke'),\n",
      " (u'Chimney', u'tops'),\n",
      " (u'Ciuill', u'strife'),\n",
      " (u'Coffers', u'fill'),\n",
      " (u'Comets', u'seen'),\n",
      " (u'Cynicke', u'rime'),\n",
      " (u'Darts', u'inuenomed')]\n",
      "fisher\n",
      "[(u'!', u'Begge'),\n",
      " (u'!', u'Layest'),\n",
      " (u'!', u'Render'),\n",
      " (u'&', u'c'),\n",
      " (u\"'\", u'Twas'),\n",
      " (u\"'\", u'Twere'),\n",
      " (u\"'\", u'abuse'),\n",
      " (u\"'\", u'ambitious'),\n",
      " (u\"'\", u'd'),\n",
      " (u\"'\", u'de')]\n",
      "poisson_sterling\n",
      "[(u\"'\", u'd'),\n",
      " (u',', u'and'),\n",
      " (u'Bru', u'.'),\n",
      " (u'Cassi', u'.'),\n",
      " (u',', u'And'),\n",
      " (u\"'\", u's'),\n",
      " (u'I', u'am'),\n",
      " (u\"'\", u'st'),\n",
      " (u'my', u'Lord'),\n",
      " (u'.', u'Enter')]\n",
      "jaccard\n",
      "[(u'Attendants', u'absent'),\n",
      " (u'Barren', u'touched'),\n",
      " (u'Captiue', u'bonds'),\n",
      " (u'Cauerne', u'darke'),\n",
      " (u'Chimney', u'tops'),\n",
      " (u'Ciuill', u'strife'),\n",
      " (u'Coffers', u'fill'),\n",
      " (u'Comets', u'seen'),\n",
      " (u'Cynicke', u'rime'),\n",
      " (u'Darts', u'inuenomed')]\n",
      "likelihood\n",
      "[(u\"'\", u'd'),\n",
      " (u',', u'and'),\n",
      " (u'Bru', u'.'),\n",
      " (u'Cassi', u'.'),\n",
      " (u',', u'And'),\n",
      " (u\"'\", u's'),\n",
      " (u'I', u'am'),\n",
      " (u\"'\", u'st'),\n",
      " (u'my', u'Lord'),\n",
      " (u'Ant', u'.')]\n",
      "pmi\n",
      "[(u'Attendants', u'absent'),\n",
      " (u'Barren', u'touched'),\n",
      " (u'Captiue', u'bonds'),\n",
      " (u'Cauerne', u'darke'),\n",
      " (u'Chimney', u'tops'),\n",
      " (u'Coffers', u'fill'),\n",
      " (u'Comets', u'seen'),\n",
      " (u'Cynicke', u'rime'),\n",
      " (u'Darts', u'inuenomed'),\n",
      " (u'Depart', u'vntouch')]\n"
     ]
    }
   ],
   "source": [
    "for name, measure in measures_dct.items():\n",
    "    print name\n",
    "    pprint.pprint(bigram_finder.nbest(measure, 10))"
   ]
  },
  {
   "cell_type": "code",
   "execution_count": 100,
   "metadata": {
    "collapsed": false
   },
   "outputs": [
    {
     "name": "stdout",
     "output_type": "stream",
     "text": [
      "phi_sq\n",
      "[(u\"'\", u'd'),\n",
      " (u'Caius', u'Ligarius'),\n",
      " (u'Metellus', u'Cymber'),\n",
      " (u'any', u'thing'),\n",
      " (u'Mark', u'Antony'),\n",
      " (u'my', u'Lord'),\n",
      " (u'Marke', u'Antony'),\n",
      " (u\"'\", u's'),\n",
      " (u'mine', u'owne'),\n",
      " (u'Bru', u'.')]\n",
      "[(u\"'\", u'd'),\n",
      " (u'Caius', u'Ligarius'),\n",
      " (u'Metellus', u'Cymber'),\n",
      " (u'any', u'thing'),\n",
      " (u'Mark', u'Antony'),\n",
      " (u'my', u'Lord'),\n",
      " (u'Marke', u'Antony'),\n",
      " (u\"'\", u's'),\n",
      " (u'mine', u'owne'),\n",
      " (u'Bru', u'.')]\n",
      "mi_like\n",
      "[(u\"'\", u'd'),\n",
      " (u',', u'and'),\n",
      " (u'Bru', u'.'),\n",
      " (u'Cassi', u'.'),\n",
      " (u',', u'And'),\n",
      " (u\"'\", u's'),\n",
      " (u'my', u'Lord'),\n",
      " (u'I', u'am'),\n",
      " (u\"'\", u'st'),\n",
      " (u'any', u'thing')]\n",
      "[(u\"'\", u'd'),\n",
      " (u',', u'and'),\n",
      " (u'Bru', u'.'),\n",
      " (u'Cassi', u'.'),\n",
      " (u',', u'And'),\n",
      " (u\"'\", u's'),\n",
      " (u'my', u'Lord'),\n",
      " (u'I', u'am'),\n",
      " (u\"'\", u'st'),\n",
      " (u'any', u'thing')]\n",
      "raw_freq\n",
      "[(u',', u'and'),\n",
      " (u\"'\", u'd'),\n",
      " (u'Bru', u'.'),\n",
      " (u',', u'And'),\n",
      " (u',', u'I'),\n",
      " (u'Cassi', u'.'),\n",
      " (u'.', u'I'),\n",
      " (u',', u'that'),\n",
      " (u'.', u'Enter'),\n",
      " (u'Brutus', u',')]\n",
      "[(u',', u'and'),\n",
      " (u\"'\", u'd'),\n",
      " (u'Bru', u'.'),\n",
      " (u',', u'And'),\n",
      " (u',', u'I'),\n",
      " (u'Cassi', u'.'),\n",
      " (u'.', u'I'),\n",
      " (u',', u'that'),\n",
      " (u'.', u'Enter'),\n",
      " (u'Brutus', u',')]\n",
      "dice\n",
      "[(u\"'\", u'd'),\n",
      " (u'Caius', u'Ligarius'),\n",
      " (u'Metellus', u'Cymber'),\n",
      " (u'any', u'thing'),\n",
      " (u'Good', u'morrow'),\n",
      " (u'mine', u'owne'),\n",
      " (u'my', u'Lord'),\n",
      " (u'Mark', u'Antony'),\n",
      " (u'fell', u'downe'),\n",
      " (u'Marke', u'Antony')]\n",
      "[(u\"'\", u'd'),\n",
      " (u'Caius', u'Ligarius'),\n",
      " (u'Metellus', u'Cymber'),\n",
      " (u'any', u'thing'),\n",
      " (u'Good', u'morrow'),\n",
      " (u'mine', u'owne'),\n",
      " (u'my', u'Lord'),\n",
      " (u'Mark', u'Antony'),\n",
      " (u'fell', u'downe'),\n",
      " (u'Marke', u'Antony')]\n",
      "chi_sq\n",
      "[(u\"'\", u'd'),\n",
      " (u'Caius', u'Ligarius'),\n",
      " (u'Metellus', u'Cymber'),\n",
      " (u'any', u'thing'),\n",
      " (u'Mark', u'Antony'),\n",
      " (u'my', u'Lord'),\n",
      " (u'Marke', u'Antony'),\n",
      " (u\"'\", u's'),\n",
      " (u'mine', u'owne'),\n",
      " (u'Bru', u'.')]\n",
      "[(u\"'\", u'd'),\n",
      " (u'Caius', u'Ligarius'),\n",
      " (u'Metellus', u'Cymber'),\n",
      " (u'any', u'thing'),\n",
      " (u'Mark', u'Antony'),\n",
      " (u'my', u'Lord'),\n",
      " (u'Marke', u'Antony'),\n",
      " (u\"'\", u's'),\n",
      " (u'mine', u'owne'),\n",
      " (u'Bru', u'.')]\n",
      "fisher\n",
      "[(u\"'\", u'd'),\n",
      " (u\"'\", u'em'),\n",
      " (u\"'\", u'l'),\n",
      " (u\"'\", u're'),\n",
      " (u\"'\", u's'),\n",
      " (u\"'\", u'st'),\n",
      " (u\"'\", u't'),\n",
      " (u\"'\", u'tis'),\n",
      " (u'.', u'Exit'),\n",
      " (u'.', u'Well')]\n",
      "[(u\"'\", u'd'),\n",
      " (u\"'\", u'em'),\n",
      " (u\"'\", u'l'),\n",
      " (u\"'\", u're'),\n",
      " (u\"'\", u's'),\n",
      " (u\"'\", u'st'),\n",
      " (u\"'\", u't'),\n",
      " (u\"'\", u'tis'),\n",
      " (u'.', u'Exit'),\n",
      " (u'.', u'Well')]\n",
      "poisson_sterling\n",
      "[(u\"'\", u'd'),\n",
      " (u',', u'and'),\n",
      " (u'Bru', u'.'),\n",
      " (u'Cassi', u'.'),\n",
      " (u',', u'And'),\n",
      " (u\"'\", u's'),\n",
      " (u'I', u'am'),\n",
      " (u\"'\", u'st'),\n",
      " (u'my', u'Lord'),\n",
      " (u'.', u'Enter')]\n",
      "[(u\"'\", u'd'),\n",
      " (u',', u'and'),\n",
      " (u'Bru', u'.'),\n",
      " (u'Cassi', u'.'),\n",
      " (u',', u'And'),\n",
      " (u\"'\", u's'),\n",
      " (u'I', u'am'),\n",
      " (u\"'\", u'st'),\n",
      " (u'my', u'Lord'),\n",
      " (u'.', u'Enter')]\n",
      "jaccard\n",
      "[(u\"'\", u'd'),\n",
      " (u'Caius', u'Ligarius'),\n",
      " (u'Metellus', u'Cymber'),\n",
      " (u'any', u'thing'),\n",
      " (u'Good', u'morrow'),\n",
      " (u'mine', u'owne'),\n",
      " (u'my', u'Lord'),\n",
      " (u'Mark', u'Antony'),\n",
      " (u'fell', u'downe'),\n",
      " (u'Marke', u'Antony')]\n",
      "[(u\"'\", u'd'),\n",
      " (u'Caius', u'Ligarius'),\n",
      " (u'Metellus', u'Cymber'),\n",
      " (u'any', u'thing'),\n",
      " (u'Good', u'morrow'),\n",
      " (u'mine', u'owne'),\n",
      " (u'my', u'Lord'),\n",
      " (u'Mark', u'Antony'),\n",
      " (u'fell', u'downe'),\n",
      " (u'Marke', u'Antony')]\n",
      "likelihood\n",
      "[(u\"'\", u'd'),\n",
      " (u',', u'and'),\n",
      " (u'Bru', u'.'),\n",
      " (u'Cassi', u'.'),\n",
      " (u',', u'And'),\n",
      " (u\"'\", u's'),\n",
      " (u'I', u'am'),\n",
      " (u\"'\", u'st'),\n",
      " (u'my', u'Lord'),\n",
      " (u'Ant', u'.')]\n",
      "[(u\"'\", u'd'),\n",
      " (u',', u'and'),\n",
      " (u'Bru', u'.'),\n",
      " (u'Cassi', u'.'),\n",
      " (u',', u'And'),\n",
      " (u\"'\", u's'),\n",
      " (u'I', u'am'),\n",
      " (u\"'\", u'st'),\n",
      " (u'my', u'Lord'),\n",
      " (u'Ant', u'.')]\n",
      "pmi\n",
      "[(u'Caius', u'Ligarius'),\n",
      " (u'Metellus', u'Cymber'),\n",
      " (u'mine', u'owne'),\n",
      " (u'any', u'thing'),\n",
      " (u'Good', u'morrow'),\n",
      " (u'fell', u'downe'),\n",
      " (u'Mark', u'Antony'),\n",
      " (u'Marke', u'Antony'),\n",
      " (u'was', u'Ambitious'),\n",
      " (u'Good', u'night')]\n",
      "[(u'Caius', u'Ligarius'),\n",
      " (u'Metellus', u'Cymber'),\n",
      " (u'mine', u'owne'),\n",
      " (u'any', u'thing'),\n",
      " (u'Good', u'morrow'),\n",
      " (u'fell', u'downe'),\n",
      " (u'Mark', u'Antony'),\n",
      " (u'Marke', u'Antony'),\n",
      " (u'was', u'Ambitious'),\n",
      " (u'Good', u'night')]\n"
     ]
    }
   ],
   "source": [
    "for name, measure in measures_dct.items():\n",
    "    print name\n",
    "    pprint.pprint(bigram_finder.nbest(measure, 10))\n",
    "    bigram_finder.apply_freq_filter(5)\n",
    "    pprint.pprint(bigram_finder.nbest(measure, 10))"
   ]
  },
  {
   "cell_type": "code",
   "execution_count": 101,
   "metadata": {
    "collapsed": true
   },
   "outputs": [],
   "source": [
    "from textblob import TextBlob"
   ]
  },
  {
   "cell_type": "code",
   "execution_count": 102,
   "metadata": {
    "collapsed": true
   },
   "outputs": [],
   "source": [
    "caesar_blob = TextBlob(nltk.corpus.gutenberg.raw('shakespeare-caesar.txt'))"
   ]
  },
  {
   "cell_type": "code",
   "execution_count": 116,
   "metadata": {
    "collapsed": false
   },
   "outputs": [
    {
     "data": {
      "text/plain": [
       "Sentiment(polarity=0.17182804312804303, subjectivity=0.5805136335136323)"
      ]
     },
     "execution_count": 116,
     "metadata": {},
     "output_type": "execute_result"
    }
   ],
   "source": [
    "caesar_blob.sentiment"
   ]
  },
  {
   "cell_type": "code",
   "execution_count": null,
   "metadata": {
    "collapsed": true
   },
   "outputs": [],
   "source": []
  }
 ],
 "metadata": {
  "anaconda-cloud": {},
  "kernelspec": {
   "display_name": "Python [conda root]",
   "language": "python",
   "name": "conda-root-py"
  },
  "language_info": {
   "codemirror_mode": {
    "name": "ipython",
    "version": 2
   },
   "file_extension": ".py",
   "mimetype": "text/x-python",
   "name": "python",
   "nbconvert_exporter": "python",
   "pygments_lexer": "ipython2",
   "version": "2.7.12"
  }
 },
 "nbformat": 4,
 "nbformat_minor": 1
}
