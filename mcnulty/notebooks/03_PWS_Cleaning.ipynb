{
 "cells": [
  {
   "cell_type": "code",
   "execution_count": 1,
   "metadata": {
    "collapsed": false
   },
   "outputs": [],
   "source": [
    "import pandas as pd\n",
    "import numpy as np\n",
    "from dbfread import DBF\n",
    "import pickle"
   ]
  },
  {
   "cell_type": "code",
   "execution_count": 2,
   "metadata": {
    "collapsed": true
   },
   "outputs": [],
   "source": [
    "def load_dbf_to_df(file_name):\n",
    "    dbf = DBF(data_path + file_name, load=True, raw=True)\n",
    "    df = pd.DataFrame(dbf.records)\n",
    "    return df.applymap(lambda x: x.rstrip())"
   ]
  },
  {
   "cell_type": "code",
   "execution_count": 3,
   "metadata": {
    "collapsed": true
   },
   "outputs": [],
   "source": [
    "#pickle objects\n",
    "def make_pickle(obj, filename):\n",
    "    with open(filename, 'wb') as picklefile:\n",
    "        pickle.dump(obj, picklefile)\n",
    "\n",
    "#open pickled objects\n",
    "def open_pickle(filename):\n",
    "    with open(filename, 'rb') as picklefile:\n",
    "        return pickle.load(picklefile)"
   ]
  },
  {
   "cell_type": "markdown",
   "metadata": {},
   "source": [
    "### MassGIS Public Water Sources"
   ]
  },
  {
   "cell_type": "code",
   "execution_count": 4,
   "metadata": {
    "collapsed": true
   },
   "outputs": [],
   "source": [
    "data_path = '../data/external/MassGIS/rs101416/'"
   ]
  },
  {
   "cell_type": "markdown",
   "metadata": {},
   "source": [
    "** PWSDEP_PT_WQTS **\n",
    "\n",
    "The PWS_DEP.WQTS table contains information downloaded from the DWP Water Quality Testing System (WQTS) Oracle database. WQTS is DEP’s comprehensive repository for PWS information. The WQTS database contains many other data items that are not in the PWSDEP_PT_WQTS relate file. This table was designed for use by the DEP GIS Program to maintain the PWS datalayer in close relation to WQTS. "
   ]
  },
  {
   "cell_type": "code",
   "execution_count": 5,
   "metadata": {
    "collapsed": false
   },
   "outputs": [],
   "source": [
    "file_name = 'PWSDEP_PT_WQTS.dbf'\n",
    "pws = load_dbf_to_df(file_name)"
   ]
  },
  {
   "cell_type": "code",
   "execution_count": 6,
   "metadata": {
    "collapsed": true
   },
   "outputs": [],
   "source": [
    "pws.to_csv('../data/interim/pws_wqts.csv')"
   ]
  },
  {
   "cell_type": "markdown",
   "metadata": {},
   "source": [
    "** PWSDEP_PT **\n",
    "\n",
    "The DEP PWS datalayer has been compiled from several sources. The original DEP PWS point dataset contained only community water supplies (CWS) which were located and digitized from stable mylar overlays based on USGS topographic quadrangles. In 1993 locations for community and non-community sources were generated from global positioning system (GPS) data collected by the U.S. Environmental Protection Agency (EPA). The EPA GPS locations were merged with the existing DEP CWS point data to create the DEP PWS datalayer. From June 1996 to February 1997 the DEP GIS Program and Drinking Water Program (DWP) conducted an intensive update of the PWS datalayer. This update involved several methodologies including map interpolation and GPS field verification."
   ]
  },
  {
   "cell_type": "code",
   "execution_count": 7,
   "metadata": {
    "collapsed": true
   },
   "outputs": [],
   "source": [
    "file_name = 'PWSDEP_PT.dbf'\n",
    "pts = load_dbf_to_df(file_name)"
   ]
  },
  {
   "cell_type": "code",
   "execution_count": 8,
   "metadata": {
    "collapsed": false
   },
   "outputs": [
    {
     "data": {
      "text/plain": [
       "COM     2550\n",
       "NC      2300\n",
       "NTNC     681\n",
       "Name: PWS_CLASS, dtype: int64"
      ]
     },
     "execution_count": 8,
     "metadata": {},
     "output_type": "execute_result"
    }
   ],
   "source": [
    "pws['PWS_CLASS'].value_counts()"
   ]
  },
  {
   "cell_type": "code",
   "execution_count": 9,
   "metadata": {
    "collapsed": false
   },
   "outputs": [
    {
     "data": {
      "text/plain": [
       "GW      1708\n",
       "TNC     1490\n",
       "NTNC     410\n",
       "SW       192\n",
       "ESW       70\n",
       "PW        50\n",
       "WF         1\n",
       "Name: TYPE, dtype: int64"
      ]
     },
     "execution_count": 9,
     "metadata": {},
     "output_type": "execute_result"
    }
   ],
   "source": [
    "pts['TYPE'].value_counts()"
   ]
  },
  {
   "cell_type": "code",
   "execution_count": 10,
   "metadata": {
    "collapsed": false
   },
   "outputs": [],
   "source": [
    "#add public water supply data to each point\n",
    "pts = pts.merge(pws, how='left', on='SOURCE_ID')"
   ]
  },
  {
   "cell_type": "code",
   "execution_count": 11,
   "metadata": {
    "collapsed": false
   },
   "outputs": [],
   "source": [
    "#drop proposed wells\n",
    "pts = pts[pts['TYPE'] != 'PW']"
   ]
  },
  {
   "cell_type": "markdown",
   "metadata": {},
   "source": [
    "Create dataframe of potential public water sources for schools, which could be:\n",
    "* town-wise system\n",
    "* town system specific to school"
   ]
  },
  {
   "cell_type": "code",
   "execution_count": 12,
   "metadata": {
    "collapsed": false
   },
   "outputs": [],
   "source": [
    "#PWS related to town water departments are all COM, with the following keywords in PWS_NAME\n",
    "towns = pts['TOWN'].tolist()\n",
    "for town in ['FOXBORO', 'CENTERVILLE', 'BARNSTABLE', 'COTUIT', 'ABINGTON', 'ROCKLAND']:\n",
    "    towns.append(town)\n",
    "muni_keywords = ['DEP', 'DPW', 'DIST', 'WORKS', 'DIV', 'COMM.', 'COMMISSION', 'SUPPLY', 'WD' 'SYS', 'WORKS', 'TOWN OF']"
   ]
  },
  {
   "cell_type": "code",
   "execution_count": 13,
   "metadata": {
    "collapsed": false
   },
   "outputs": [],
   "source": [
    "#mark PWS with muni keywords in PWS_NAME as potential school water supply (['SCH_SUPPLY']=1)\n",
    "pts.loc[pts['PWS_NAME'].str.contains('|'.join(towns)) & pts['PWS_NAME'].str.contains('|'.join(muni_keywords)), 'SCH_SUPPLY'] = 1"
   ]
  },
  {
   "cell_type": "code",
   "execution_count": 14,
   "metadata": {
    "collapsed": true
   },
   "outputs": [],
   "source": [
    "#mark PWS with 'SCHOOL' in PWS_NAME as potential school water supply (['SCH_SUPPLY']=1)\n",
    "pts.loc[pts['PWS_NAME'].str.contains('SCHOOL'), 'SCH_SUPPLY'] = 1"
   ]
  },
  {
   "cell_type": "code",
   "execution_count": 15,
   "metadata": {
    "collapsed": true
   },
   "outputs": [],
   "source": [
    "school_pts = pts[pts['SCH_SUPPLY'] == 1]"
   ]
  },
  {
   "cell_type": "markdown",
   "metadata": {},
   "source": [
    "Create dataframe with one row for each PWS_ID/TOWN that includes:\n",
    "* PWS_ID\n",
    "* PWS_NAME\n",
    "* TOWN\n",
    "* PWS_CLASS\n",
    "* COUNT_GW (# of groundwater intakes in system)\n",
    "* COUNT_SW (# of surface water intakes in system)"
   ]
  },
  {
   "cell_type": "code",
   "execution_count": 16,
   "metadata": {
    "collapsed": false
   },
   "outputs": [],
   "source": [
    "#drop emergency surface water (ESW) pts and well field (WF)\n",
    "school_pts = school_pts[school_pts['TYPE'] != 'ESW']\n",
    "school_pts = school_pts[school_pts['TYPE'] != 'WF']\n",
    "\n",
    "#keep only:\n",
    "#active suppliers (PWS_STATUS = A)\n",
    "#active Sources (S_STATUS = A)\n",
    "#available Sources (S_AVAILABI = ACTIVE)\n",
    "school_pts = school_pts[school_pts['PWS_STATUS'] == 'A']\n",
    "school_pts = school_pts[school_pts['S_STATUS'] == 'A']\n",
    "school_pts = school_pts[school_pts['S_AVAILABI'] == 'ACTIVE']"
   ]
  },
  {
   "cell_type": "code",
   "execution_count": 17,
   "metadata": {
    "collapsed": false
   },
   "outputs": [],
   "source": [
    "#find type for each intake based on SOURCE_ID\n",
    "school_pts['INTAKE_TYPE'] = school_pts['SOURCE_ID'].apply(lambda x: x[-1])"
   ]
  },
  {
   "cell_type": "code",
   "execution_count": 18,
   "metadata": {
    "collapsed": false
   },
   "outputs": [],
   "source": [
    "sch_pws = school_pts[['PWS_ID', 'PWS_NAME', 'TOWN', 'PWS_CLASS']].drop_duplicates()"
   ]
  },
  {
   "cell_type": "code",
   "execution_count": 19,
   "metadata": {
    "collapsed": false
   },
   "outputs": [],
   "source": [
    "#calculate number of gw and sw intakes for each system\n",
    "intakes = school_pts.groupby(['PWS_ID', 'INTAKE_TYPE']).count()[['PWS_NAME']]\n",
    "intakes = intakes.unstack()\n",
    "intakes.fillna(0.0, inplace=True)\n",
    "intakes.reset_index(inplace=True)"
   ]
  },
  {
   "cell_type": "code",
   "execution_count": 20,
   "metadata": {
    "collapsed": false
   },
   "outputs": [
    {
     "name": "stderr",
     "output_type": "stream",
     "text": [
      "/Users/evaward/anaconda/lib/python2.7/site-packages/pandas/tools/merge.py:205: UserWarning: merging between different levels can give an unintended result (1 levels on the left, 2 on the right)\n",
      "  warnings.warn(msg, UserWarning)\n",
      "/Users/evaward/anaconda/lib/python2.7/site-packages/pandas/tools/merge.py:478: PerformanceWarning: dropping on a non-lexsorted multi-index without a level parameter may impact performance.\n",
      "  self.right = self.right.drop(right_drop, axis=1)\n"
     ]
    }
   ],
   "source": [
    "sch_pws = sch_pws.merge(intakes, on='PWS_ID')"
   ]
  },
  {
   "cell_type": "code",
   "execution_count": 21,
   "metadata": {
    "collapsed": false
   },
   "outputs": [],
   "source": [
    "columns = 'PWS_ID', 'PWS_NAME', 'TOWN', 'PWS_CLASS', 'COUNT_GW', 'COUNT_SW'\n",
    "sch_pws.columns = columns"
   ]
  },
  {
   "cell_type": "markdown",
   "metadata": {},
   "source": [
    "Create GW ratio column"
   ]
  },
  {
   "cell_type": "code",
   "execution_count": 22,
   "metadata": {
    "collapsed": true
   },
   "outputs": [],
   "source": [
    "sch_pws['TOTAL_INTAKES'] = sch_pws[['COUNT_GW', 'COUNT_SW']].sum(axis=1)"
   ]
  },
  {
   "cell_type": "code",
   "execution_count": 23,
   "metadata": {
    "collapsed": false
   },
   "outputs": [],
   "source": [
    "sch_pws['GW_RATIO'] = sch_pws['COUNT_GW'].div(sch_pws['TOTAL_INTAKES'])"
   ]
  },
  {
   "cell_type": "code",
   "execution_count": 24,
   "metadata": {
    "collapsed": false
   },
   "outputs": [],
   "source": [
    "sch_pws.drop(['COUNT_GW', 'COUNT_SW'], axis=1, inplace=True)"
   ]
  },
  {
   "cell_type": "code",
   "execution_count": 25,
   "metadata": {
    "collapsed": false
   },
   "outputs": [
    {
     "data": {
      "text/html": [
       "<div>\n",
       "<table border=\"1\" class=\"dataframe\">\n",
       "  <thead>\n",
       "    <tr style=\"text-align: right;\">\n",
       "      <th></th>\n",
       "      <th>PWS_ID</th>\n",
       "      <th>PWS_NAME</th>\n",
       "      <th>TOWN</th>\n",
       "      <th>PWS_CLASS</th>\n",
       "      <th>TOTAL_INTAKES</th>\n",
       "      <th>GW_RATIO</th>\n",
       "    </tr>\n",
       "  </thead>\n",
       "  <tbody>\n",
       "    <tr>\n",
       "      <th>0</th>\n",
       "      <td>2141000</td>\n",
       "      <td>HUDSON WATER SUPPLY</td>\n",
       "      <td>HUDSON</td>\n",
       "      <td>COM</td>\n",
       "      <td>6.0</td>\n",
       "      <td>0.833333</td>\n",
       "    </tr>\n",
       "    <tr>\n",
       "      <th>1</th>\n",
       "      <td>1349000</td>\n",
       "      <td>WORTHINGTON FIRE DISTRICT</td>\n",
       "      <td>WORTHINGTON</td>\n",
       "      <td>COM</td>\n",
       "      <td>10.0</td>\n",
       "      <td>1.000000</td>\n",
       "    </tr>\n",
       "    <tr>\n",
       "      <th>2</th>\n",
       "      <td>3023000</td>\n",
       "      <td>BEDFORD WATER DEPT.</td>\n",
       "      <td>BEDFORD</td>\n",
       "      <td>COM</td>\n",
       "      <td>3.0</td>\n",
       "      <td>1.000000</td>\n",
       "    </tr>\n",
       "    <tr>\n",
       "      <th>3</th>\n",
       "      <td>3067000</td>\n",
       "      <td>CONCORD WATER DEPT</td>\n",
       "      <td>CONCORD</td>\n",
       "      <td>COM</td>\n",
       "      <td>10.0</td>\n",
       "      <td>0.900000</td>\n",
       "    </tr>\n",
       "    <tr>\n",
       "      <th>4</th>\n",
       "      <td>3198000</td>\n",
       "      <td>NATICK WATER DEPARTMENT</td>\n",
       "      <td>NATICK</td>\n",
       "      <td>COM</td>\n",
       "      <td>10.0</td>\n",
       "      <td>1.000000</td>\n",
       "    </tr>\n",
       "  </tbody>\n",
       "</table>\n",
       "</div>"
      ],
      "text/plain": [
       "    PWS_ID                   PWS_NAME         TOWN PWS_CLASS  TOTAL_INTAKES  \\\n",
       "0  2141000        HUDSON WATER SUPPLY       HUDSON       COM            6.0   \n",
       "1  1349000  WORTHINGTON FIRE DISTRICT  WORTHINGTON       COM           10.0   \n",
       "2  3023000        BEDFORD WATER DEPT.      BEDFORD       COM            3.0   \n",
       "3  3067000         CONCORD WATER DEPT      CONCORD       COM           10.0   \n",
       "4  3198000    NATICK WATER DEPARTMENT       NATICK       COM           10.0   \n",
       "\n",
       "   GW_RATIO  \n",
       "0  0.833333  \n",
       "1  1.000000  \n",
       "2  1.000000  \n",
       "3  0.900000  \n",
       "4  1.000000  "
      ]
     },
     "execution_count": 25,
     "metadata": {},
     "output_type": "execute_result"
    }
   ],
   "source": [
    "sch_pws.head()"
   ]
  },
  {
   "cell_type": "markdown",
   "metadata": {},
   "source": [
    "### Add MWRA systems\n"
   ]
  },
  {
   "cell_type": "code",
   "execution_count": 26,
   "metadata": {
    "collapsed": true
   },
   "outputs": [],
   "source": [
    "sch_pws['MWRA'] = 0"
   ]
  },
  {
   "cell_type": "code",
   "execution_count": 27,
   "metadata": {
    "collapsed": false
   },
   "outputs": [],
   "source": [
    "mwra = open_pickle('../data/interim/mwra.pkl')"
   ]
  },
  {
   "cell_type": "code",
   "execution_count": 28,
   "metadata": {
    "collapsed": false
   },
   "outputs": [],
   "source": [
    "sch_pws = pd.concat([sch_pws, mwra])"
   ]
  },
  {
   "cell_type": "markdown",
   "metadata": {},
   "source": [
    "### Add # of service connections from PWS contact info csv"
   ]
  },
  {
   "cell_type": "code",
   "execution_count": 29,
   "metadata": {
    "collapsed": false
   },
   "outputs": [],
   "source": [
    "connections = pd.read_csv('../data/external/MassDEP/pwscont.csv',\n",
    "                          usecols=['PWSID', '# SERVICE CONNECTIONS'], \n",
    "                          dtype='str')\n",
    "\n",
    "connections.columns = ['PWS_ID', 'COUNT_CONN']"
   ]
  },
  {
   "cell_type": "code",
   "execution_count": 30,
   "metadata": {
    "collapsed": false
   },
   "outputs": [],
   "source": [
    "sch_pws = sch_pws.merge(connections, on='PWS_ID')"
   ]
  },
  {
   "cell_type": "code",
   "execution_count": 31,
   "metadata": {
    "collapsed": false
   },
   "outputs": [
    {
     "data": {
      "text/plain": [
       "386"
      ]
     },
     "execution_count": 31,
     "metadata": {},
     "output_type": "execute_result"
    }
   ],
   "source": [
    "len(sch_pws)"
   ]
  },
  {
   "cell_type": "markdown",
   "metadata": {},
   "source": [
    "### Add results and whether reported pb90 results from pb90 csv"
   ]
  },
  {
   "cell_type": "code",
   "execution_count": 32,
   "metadata": {
    "collapsed": false
   },
   "outputs": [],
   "source": [
    "pb90 = pd.read_csv('../data/external/MassDEP/pb90.csv', \n",
    "                   usecols=['PWSID', 'RESULT'],\n",
    "                   dtype='str')\n",
    "pb90.columns = ['PWS_ID', 'PB90_RESULT']"
   ]
  },
  {
   "cell_type": "code",
   "execution_count": 33,
   "metadata": {
    "collapsed": false
   },
   "outputs": [
    {
     "data": {
      "text/html": [
       "<div>\n",
       "<table border=\"1\" class=\"dataframe\">\n",
       "  <thead>\n",
       "    <tr style=\"text-align: right;\">\n",
       "      <th></th>\n",
       "      <th>PWS_ID</th>\n",
       "      <th>PB90_RESULT</th>\n",
       "    </tr>\n",
       "  </thead>\n",
       "  <tbody>\n",
       "    <tr>\n",
       "      <th>0</th>\n",
       "      <td>1013000</td>\n",
       "      <td>0.0087</td>\n",
       "    </tr>\n",
       "    <tr>\n",
       "      <th>1</th>\n",
       "      <td>1013001</td>\n",
       "      <td>0</td>\n",
       "    </tr>\n",
       "    <tr>\n",
       "      <th>2</th>\n",
       "      <td>1022017</td>\n",
       "      <td>0.0037</td>\n",
       "    </tr>\n",
       "    <tr>\n",
       "      <th>3</th>\n",
       "      <td>1022026</td>\n",
       "      <td>0.0006</td>\n",
       "    </tr>\n",
       "    <tr>\n",
       "      <th>4</th>\n",
       "      <td>1024000</td>\n",
       "      <td>0.00702</td>\n",
       "    </tr>\n",
       "  </tbody>\n",
       "</table>\n",
       "</div>"
      ],
      "text/plain": [
       "    PWS_ID PB90_RESULT\n",
       "0  1013000      0.0087\n",
       "1  1013001           0\n",
       "2  1022017      0.0037\n",
       "3  1022026      0.0006\n",
       "4  1024000     0.00702"
      ]
     },
     "execution_count": 33,
     "metadata": {},
     "output_type": "execute_result"
    }
   ],
   "source": [
    "pb90.head()"
   ]
  },
  {
   "cell_type": "code",
   "execution_count": 34,
   "metadata": {
    "collapsed": false
   },
   "outputs": [],
   "source": [
    "sch_pws = sch_pws.merge(pb90, how='left', on='PWS_ID')"
   ]
  },
  {
   "cell_type": "code",
   "execution_count": 35,
   "metadata": {
    "collapsed": false
   },
   "outputs": [
    {
     "data": {
      "text/plain": [
       "GW_RATIO         0.000000\n",
       "MWRA             0.000000\n",
       "PWS_CLASS        0.000000\n",
       "PWS_ID           0.000000\n",
       "PWS_NAME         0.000000\n",
       "TOTAL_INTAKES    0.000000\n",
       "TOWN             0.000000\n",
       "COUNT_CONN       0.000000\n",
       "PB90_RESULT      0.443005\n",
       "dtype: float64"
      ]
     },
     "execution_count": 35,
     "metadata": {},
     "output_type": "execute_result"
    }
   ],
   "source": [
    "sch_pws.isnull().sum()/len(sch_pws)"
   ]
  },
  {
   "cell_type": "code",
   "execution_count": 36,
   "metadata": {
    "collapsed": true
   },
   "outputs": [],
   "source": [
    "sch_pws['PB90_RESULT'].fillna(-1, inplace=True)"
   ]
  },
  {
   "cell_type": "code",
   "execution_count": 37,
   "metadata": {
    "collapsed": true
   },
   "outputs": [],
   "source": [
    "sch_pws.loc[sch_pws['PB90_RESULT'] >= 0, 'PB_90'] = 1\n",
    "sch_pws.loc[sch_pws['PB90_RESULT'] < 0, 'PB_90'] = 0"
   ]
  },
  {
   "cell_type": "code",
   "execution_count": 38,
   "metadata": {
    "collapsed": false
   },
   "outputs": [
    {
     "data": {
      "text/html": [
       "<div>\n",
       "<table border=\"1\" class=\"dataframe\">\n",
       "  <thead>\n",
       "    <tr style=\"text-align: right;\">\n",
       "      <th></th>\n",
       "      <th>GW_RATIO</th>\n",
       "      <th>MWRA</th>\n",
       "      <th>PWS_CLASS</th>\n",
       "      <th>PWS_ID</th>\n",
       "      <th>PWS_NAME</th>\n",
       "      <th>TOTAL_INTAKES</th>\n",
       "      <th>TOWN</th>\n",
       "      <th>COUNT_CONN</th>\n",
       "      <th>PB90_RESULT</th>\n",
       "      <th>PB_90</th>\n",
       "    </tr>\n",
       "  </thead>\n",
       "  <tbody>\n",
       "    <tr>\n",
       "      <th>0</th>\n",
       "      <td>0.833333</td>\n",
       "      <td>0</td>\n",
       "      <td>COM</td>\n",
       "      <td>2141000</td>\n",
       "      <td>HUDSON WATER SUPPLY</td>\n",
       "      <td>6.0</td>\n",
       "      <td>HUDSON</td>\n",
       "      <td>5819</td>\n",
       "      <td>0</td>\n",
       "      <td>1.0</td>\n",
       "    </tr>\n",
       "    <tr>\n",
       "      <th>1</th>\n",
       "      <td>1.000000</td>\n",
       "      <td>0</td>\n",
       "      <td>COM</td>\n",
       "      <td>1349000</td>\n",
       "      <td>WORTHINGTON FIRE DISTRICT</td>\n",
       "      <td>10.0</td>\n",
       "      <td>WORTHINGTON</td>\n",
       "      <td>170</td>\n",
       "      <td>0.0036</td>\n",
       "      <td>1.0</td>\n",
       "    </tr>\n",
       "    <tr>\n",
       "      <th>2</th>\n",
       "      <td>1.000000</td>\n",
       "      <td>0</td>\n",
       "      <td>COM</td>\n",
       "      <td>3023000</td>\n",
       "      <td>BEDFORD WATER DEPT.</td>\n",
       "      <td>3.0</td>\n",
       "      <td>BEDFORD</td>\n",
       "      <td>4399</td>\n",
       "      <td>-1</td>\n",
       "      <td>0.0</td>\n",
       "    </tr>\n",
       "    <tr>\n",
       "      <th>3</th>\n",
       "      <td>0.900000</td>\n",
       "      <td>0</td>\n",
       "      <td>COM</td>\n",
       "      <td>3067000</td>\n",
       "      <td>CONCORD WATER DEPT</td>\n",
       "      <td>10.0</td>\n",
       "      <td>CONCORD</td>\n",
       "      <td>5704</td>\n",
       "      <td>-1</td>\n",
       "      <td>0.0</td>\n",
       "    </tr>\n",
       "    <tr>\n",
       "      <th>4</th>\n",
       "      <td>1.000000</td>\n",
       "      <td>0</td>\n",
       "      <td>COM</td>\n",
       "      <td>3198000</td>\n",
       "      <td>NATICK WATER DEPARTMENT</td>\n",
       "      <td>10.0</td>\n",
       "      <td>NATICK</td>\n",
       "      <td>10967</td>\n",
       "      <td>-1</td>\n",
       "      <td>0.0</td>\n",
       "    </tr>\n",
       "  </tbody>\n",
       "</table>\n",
       "</div>"
      ],
      "text/plain": [
       "   GW_RATIO  MWRA PWS_CLASS   PWS_ID                   PWS_NAME  \\\n",
       "0  0.833333     0       COM  2141000        HUDSON WATER SUPPLY   \n",
       "1  1.000000     0       COM  1349000  WORTHINGTON FIRE DISTRICT   \n",
       "2  1.000000     0       COM  3023000        BEDFORD WATER DEPT.   \n",
       "3  0.900000     0       COM  3067000         CONCORD WATER DEPT   \n",
       "4  1.000000     0       COM  3198000    NATICK WATER DEPARTMENT   \n",
       "\n",
       "   TOTAL_INTAKES         TOWN COUNT_CONN PB90_RESULT  PB_90  \n",
       "0            6.0       HUDSON       5819           0    1.0  \n",
       "1           10.0  WORTHINGTON        170      0.0036    1.0  \n",
       "2            3.0      BEDFORD       4399          -1    0.0  \n",
       "3           10.0      CONCORD       5704          -1    0.0  \n",
       "4           10.0       NATICK      10967          -1    0.0  "
      ]
     },
     "execution_count": 38,
     "metadata": {},
     "output_type": "execute_result"
    }
   ],
   "source": [
    "sch_pws.head()"
   ]
  },
  {
   "cell_type": "code",
   "execution_count": 39,
   "metadata": {
    "collapsed": false
   },
   "outputs": [],
   "source": [
    "#sch_pws.drop('RESULT', axis=1, inplace=True)"
   ]
  },
  {
   "cell_type": "markdown",
   "metadata": {},
   "source": [
    "### Add whether responded to LCR survey from lcrsurvresp111616 csv"
   ]
  },
  {
   "cell_type": "code",
   "execution_count": 40,
   "metadata": {
    "collapsed": false
   },
   "outputs": [],
   "source": [
    "survey = pd.read_csv('../data/external/MassDEP/lcrsurvresp111616.csv', \n",
    "                   usecols=['Unnamed: 1', 'Unnamed: 2'],\n",
    "                   dtype='str')\n",
    "survey.columns = ['PWS_ID', 'SURVEY']"
   ]
  },
  {
   "cell_type": "code",
   "execution_count": 41,
   "metadata": {
    "collapsed": false
   },
   "outputs": [],
   "source": [
    "survey.drop(0, inplace=True)"
   ]
  },
  {
   "cell_type": "code",
   "execution_count": 42,
   "metadata": {
    "collapsed": true
   },
   "outputs": [],
   "source": [
    "survey['SURVEY'] = 1"
   ]
  },
  {
   "cell_type": "code",
   "execution_count": 43,
   "metadata": {
    "collapsed": false
   },
   "outputs": [],
   "source": [
    "sch_pws = sch_pws.merge(survey, how='left', on='PWS_ID')\n",
    "sch_pws['SURVEY'].fillna(0, inplace=True)"
   ]
  },
  {
   "cell_type": "code",
   "execution_count": 44,
   "metadata": {
    "collapsed": false
   },
   "outputs": [
    {
     "data": {
      "text/plain": [
       "GW_RATIO         0\n",
       "MWRA             0\n",
       "PWS_CLASS        0\n",
       "PWS_ID           0\n",
       "PWS_NAME         0\n",
       "TOTAL_INTAKES    0\n",
       "TOWN             0\n",
       "COUNT_CONN       0\n",
       "PB90_RESULT      0\n",
       "PB_90            0\n",
       "SURVEY           0\n",
       "dtype: int64"
      ]
     },
     "execution_count": 44,
     "metadata": {},
     "output_type": "execute_result"
    }
   ],
   "source": [
    "sch_pws.isnull().sum()"
   ]
  },
  {
   "cell_type": "code",
   "execution_count": 45,
   "metadata": {
    "collapsed": false
   },
   "outputs": [],
   "source": [
    "make_pickle(sch_pws, '../data/interim/sch_pws.pkl')"
   ]
  },
  {
   "cell_type": "code",
   "execution_count": null,
   "metadata": {
    "collapsed": true
   },
   "outputs": [],
   "source": []
  }
 ],
 "metadata": {
  "anaconda-cloud": {},
  "kernelspec": {
   "display_name": "Python [conda root]",
   "language": "python",
   "name": "conda-root-py"
  },
  "language_info": {
   "codemirror_mode": {
    "name": "ipython",
    "version": 2
   },
   "file_extension": ".py",
   "mimetype": "text/x-python",
   "name": "python",
   "nbconvert_exporter": "python",
   "pygments_lexer": "ipython2",
   "version": "2.7.12"
  }
 },
 "nbformat": 4,
 "nbformat_minor": 1
}
