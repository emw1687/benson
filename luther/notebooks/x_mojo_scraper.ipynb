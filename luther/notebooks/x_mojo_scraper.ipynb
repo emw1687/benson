{
 "cells": [
  {
   "cell_type": "markdown",
   "metadata": {},
   "source": [
    "### Use BeautifulSoup to scrape box office data by MPAA rating for 1982 to 2016 from BoxOfficeMojo\n",
    "\n",
    "Example page urls: \n",
    "\n",
    "**1982 - 132 movies**\n",
    "* 1982 Page 1\n",
    "http://www.boxofficemojo.com/yearly/chart/mpaarating.htm?yr=1982&view=releasedate&sort=gross&order=DESC&m=1&rating=G|PG|PG-13|R&p=.htm\n",
    "* 1982 Page 2\n",
    "http://www.boxofficemojo.com/yearly/chart/mpaarating.htm?page=2&yr=1982&rating=G|PG|PG-13|R&view=releasedate&m=1&p=.htm\n",
    "\n",
    "**2016 - 357 movies**\n",
    "* 2016 Page 1\n",
    "http://www.boxofficemojo.com/yearly/chart/mpaarating.htm?page=1&yr=2016&rating=G|PG|PG-13|R&view=releasedate&m=1&p=.htm\n",
    "* 2016 Page 2\n",
    "http://www.boxofficemojo.com/yearly/chart/mpaarating.htm?page=2&yr=2016&rating=G|PG|PG-13|R&view=releasedate&m=1&p=.htm\n",
    "* 2016 Page 3\n",
    "http://www.boxofficemojo.com/yearly/chart/mpaarating.htm?page=3&yr=2016&rating=G|PG|PG-13|R&view=releasedate&m=1&p=.htm\n",
    "* 2016 Page 4\n",
    "http://www.boxofficemojo.com/yearly/chart/mpaarating.htm?page=4&yr=2016&rating=G|PG|PG-13|R&view=releasedate&m=1&p=.htm"
   ]
  },
  {
   "cell_type": "code",
   "execution_count": 1,
   "metadata": {
    "collapsed": false
   },
   "outputs": [],
   "source": [
    "import requests\n",
    "from bs4 import BeautifulSoup\n",
    "from math import ceil\n",
    "import numpy as np\n",
    "import re\n",
    "import urllib\n",
    "import pandas as pd"
   ]
  },
  {
   "cell_type": "code",
   "execution_count": 2,
   "metadata": {
    "collapsed": false
   },
   "outputs": [],
   "source": [
    "def try_mojo_url(url):\n",
    "    '''\n",
    "    Attempt to access BoxOfficeMojo page\n",
    "    '''\n",
    "    response = requests.get(url)\n",
    "    status = response.status_code\n",
    "    if status != 200:\n",
    "        print status\n",
    "    else:\n",
    "        page = response.text\n",
    "        soup = BeautifulSoup(page, 'lxml')\n",
    "        return soup"
   ]
  },
  {
   "cell_type": "code",
   "execution_count": 3,
   "metadata": {
    "collapsed": true
   },
   "outputs": [],
   "source": [
    "def number(string):\n",
    "    '''\n",
    "    Convert string (currency, totals with thousands separators) to ints\n",
    "    '''\n",
    "    try:\n",
    "        return int(re.sub('[^\\d]', '', string))\n",
    "    except:\n",
    "        return string"
   ]
  },
  {
   "cell_type": "code",
   "execution_count": 9,
   "metadata": {
    "collapsed": false
   },
   "outputs": [],
   "source": [
    "mojo_df = pd.DataFrame(data=None)\n",
    "\n",
    "def get_data_from_table(df, movie_table, year):\n",
    "    '''\n",
    "    Retrieves data for table on boxofficemojo site\n",
    "    movie_table is BeautifulSoup(page)\n",
    "    '''\n",
    "    #number of records in movie table\n",
    "    num_records = len(movie_table.find_all('tr')) - 6\n",
    "    for i in np.arange(num_records):\n",
    "        row = movie_table.find_all('tr')[i+2].find_all('font')\n",
    "        rank = row[0].text\n",
    "        title = row[1].text\n",
    "        studio = row[2].text\n",
    "        mpaa = row[3].text\n",
    "        gross_revenue = number(row[4].text)\n",
    "        gross_theaters = number(row[5].text)\n",
    "        opening_revenue = number(row[6].text)\n",
    "        opening_theaters = number(row[7].text)\n",
    "        #convert to datetime        \n",
    "        #p.agent_info = u' '.join((agent_contact, agent_telno)).encode('utf-8').strip()\n",
    "        release_date = str(row[8].text) + '/' + str(year)\n",
    "        release_date = release_date.encode('utf-8')\n",
    "        results = pd.Series((rank, title, studio, mpaa, gross_revenue, gross_theaters, opening_revenue, opening_theaters, release_date))\n",
    "        #print rank, title, studio, mpaa, gross_revenue, gross_theaters, opening_revenue, opening_theaters, release_date\n",
    "        df = df.append(results, ignore_index=True)\n",
    "    return df"
   ]
  },
  {
   "cell_type": "code",
   "execution_count": 5,
   "metadata": {
    "collapsed": false
   },
   "outputs": [],
   "source": [
    "years = np.arange(1982, 2017)\n",
    "#years = np.arange(1982, 1990)\n",
    "\n",
    "base_url = 'http://www.boxofficemojo.com/yearly/chart/mpaarating.htm?'\n",
    "search_criteria = {'page': '1',\n",
    "                   'yr': None,\n",
    "                   'rating': 'G|PG|PG-13|R',\n",
    "                   'view': 'releasedate',\n",
    "                   'm': '1',\n",
    "                   'p': '.'\n",
    "                   }\n",
    "page_1_urls = []\n",
    "\n",
    "for year in years:\n",
    "    search_criteria['yr'] = year\n",
    "    url = base_url + urllib.urlencode(search_criteria)\n",
    "    page_1_urls.append(url)"
   ]
  },
  {
   "cell_type": "code",
   "execution_count": 6,
   "metadata": {
    "collapsed": false
   },
   "outputs": [],
   "source": [
    "all_urls = []\n",
    "\n",
    "#get list of all links from first page\n",
    "for url in page_1_urls:\n",
    "    year = re.findall('yr=(\\d*)', url)[0]\n",
    "    all_urls.append(url)\n",
    "    soup = try_mojo_url(url)\n",
    "    #last link title bar with number of movies; only use on first page\n",
    "    num_movies = soup.find_all('center')[1].find_all('a')[-1].text\n",
    "    #number of pages for given year\n",
    "    num_pages = int(ceil(float(num_movies[-3:])/100))\n",
    "    for page in np.arange(2, num_pages+1):\n",
    "        search_criteria['yr'] = year\n",
    "        search_criteria['page'] = page\n",
    "        url = base_url + urllib.urlencode(search_criteria)\n",
    "        all_urls.append(url)"
   ]
  },
  {
   "cell_type": "code",
   "execution_count": 7,
   "metadata": {
    "collapsed": false
   },
   "outputs": [
    {
     "data": {
      "text/plain": [
       "118"
      ]
     },
     "execution_count": 7,
     "metadata": {},
     "output_type": "execute_result"
    }
   ],
   "source": [
    "len(all_urls)"
   ]
  },
  {
   "cell_type": "code",
   "execution_count": 10,
   "metadata": {
    "collapsed": false
   },
   "outputs": [],
   "source": [
    "#get all data for all urls\n",
    "for url in all_urls:\n",
    "    year = re.findall('yr=(\\d*)', url)[0]\n",
    "    soup = try_mojo_url(url)\n",
    "    #table of movie data\n",
    "    movie_table = soup.find_all('table')[9].find_all('tr')[1]\n",
    "    mojo_df = get_data_from_table(mojo_df, movie_table, year)"
   ]
  },
  {
   "cell_type": "code",
   "execution_count": 11,
   "metadata": {
    "collapsed": false
   },
   "outputs": [
    {
     "data": {
      "text/plain": [
       "10221"
      ]
     },
     "execution_count": 11,
     "metadata": {},
     "output_type": "execute_result"
    }
   ],
   "source": [
    "len(mojo_df)"
   ]
  },
  {
   "cell_type": "code",
   "execution_count": 12,
   "metadata": {
    "collapsed": true
   },
   "outputs": [],
   "source": [
    "columns = {0: 'rank',\n",
    "           1: 'title',\n",
    "           2: 'studio',\n",
    "           3: 'mpaa', \n",
    "           4: 'gross_revenue', \n",
    "           5: 'gross_theaters',\n",
    "           6: 'opening_revenue',\n",
    "           7: 'opening_theaters',\n",
    "           8: 'release_date'\n",
    "          }\n",
    "mojo_df.rename(columns=columns, inplace=True)"
   ]
  },
  {
   "cell_type": "code",
   "execution_count": 13,
   "metadata": {
    "collapsed": false
   },
   "outputs": [
    {
     "data": {
      "text/html": [
       "<div>\n",
       "<table border=\"1\" class=\"dataframe\">\n",
       "  <thead>\n",
       "    <tr style=\"text-align: right;\">\n",
       "      <th></th>\n",
       "      <th>rank</th>\n",
       "      <th>title</th>\n",
       "      <th>studio</th>\n",
       "      <th>mpaa</th>\n",
       "      <th>gross_revenue</th>\n",
       "      <th>gross_theaters</th>\n",
       "      <th>opening_revenue</th>\n",
       "      <th>opening_theaters</th>\n",
       "      <th>release_date</th>\n",
       "    </tr>\n",
       "  </thead>\n",
       "  <tbody>\n",
       "    <tr>\n",
       "      <th>0</th>\n",
       "      <td>1</td>\n",
       "      <td>E.T.: The Extra-Terrestrial</td>\n",
       "      <td>Uni.</td>\n",
       "      <td>PG</td>\n",
       "      <td>359197037.0</td>\n",
       "      <td>1778</td>\n",
       "      <td>1.18354e+07</td>\n",
       "      <td>1103</td>\n",
       "      <td>6/11/1982</td>\n",
       "    </tr>\n",
       "    <tr>\n",
       "      <th>1</th>\n",
       "      <td>2</td>\n",
       "      <td>Tootsie</td>\n",
       "      <td>Col.</td>\n",
       "      <td>PG</td>\n",
       "      <td>177200000.0</td>\n",
       "      <td>1222</td>\n",
       "      <td>5.54047e+06</td>\n",
       "      <td>943</td>\n",
       "      <td>12/17/1982</td>\n",
       "    </tr>\n",
       "    <tr>\n",
       "      <th>2</th>\n",
       "      <td>3</td>\n",
       "      <td>An Officer and a Gentleman</td>\n",
       "      <td>Par.</td>\n",
       "      <td>R</td>\n",
       "      <td>129795554.0</td>\n",
       "      <td>1050</td>\n",
       "      <td>3.30468e+06</td>\n",
       "      <td>346</td>\n",
       "      <td>7/30/1982</td>\n",
       "    </tr>\n",
       "    <tr>\n",
       "      <th>3</th>\n",
       "      <td>4</td>\n",
       "      <td>Rocky III</td>\n",
       "      <td>UA</td>\n",
       "      <td>PG</td>\n",
       "      <td>124146897.0</td>\n",
       "      <td>1317</td>\n",
       "      <td>1.24315e+07</td>\n",
       "      <td>939</td>\n",
       "      <td>5/28/1982</td>\n",
       "    </tr>\n",
       "    <tr>\n",
       "      <th>4</th>\n",
       "      <td>5</td>\n",
       "      <td>Porky's</td>\n",
       "      <td>Fox</td>\n",
       "      <td>R</td>\n",
       "      <td>105492483.0</td>\n",
       "      <td>1605</td>\n",
       "      <td>7.62399e+06</td>\n",
       "      <td>1148</td>\n",
       "      <td>3/19/1982</td>\n",
       "    </tr>\n",
       "  </tbody>\n",
       "</table>\n",
       "</div>"
      ],
      "text/plain": [
       "  rank                        title studio mpaa  gross_revenue gross_theaters  \\\n",
       "0    1  E.T.: The Extra-Terrestrial   Uni.   PG    359197037.0           1778   \n",
       "1    2                      Tootsie   Col.   PG    177200000.0           1222   \n",
       "2    3   An Officer and a Gentleman   Par.    R    129795554.0           1050   \n",
       "3    4                    Rocky III     UA   PG    124146897.0           1317   \n",
       "4    5                      Porky's    Fox    R    105492483.0           1605   \n",
       "\n",
       "  opening_revenue opening_theaters release_date  \n",
       "0     1.18354e+07             1103    6/11/1982  \n",
       "1     5.54047e+06              943   12/17/1982  \n",
       "2     3.30468e+06              346    7/30/1982  \n",
       "3     1.24315e+07              939    5/28/1982  \n",
       "4     7.62399e+06             1148    3/19/1982  "
      ]
     },
     "execution_count": 13,
     "metadata": {},
     "output_type": "execute_result"
    }
   ],
   "source": [
    "mojo_df.head()"
   ]
  },
  {
   "cell_type": "code",
   "execution_count": 15,
   "metadata": {
    "collapsed": false
   },
   "outputs": [],
   "source": [
    "mojo_df.to_csv('mojo.csv', encoding='utf-8')"
   ]
  },
  {
   "cell_type": "code",
   "execution_count": null,
   "metadata": {
    "collapsed": true
   },
   "outputs": [],
   "source": []
  }
 ],
 "metadata": {
  "anaconda-cloud": {},
  "kernelspec": {
   "display_name": "Python [conda root]",
   "language": "python",
   "name": "conda-root-py"
  },
  "language_info": {
   "codemirror_mode": {
    "name": "ipython",
    "version": 2
   },
   "file_extension": ".py",
   "mimetype": "text/x-python",
   "name": "python",
   "nbconvert_exporter": "python",
   "pygments_lexer": "ipython2",
   "version": "2.7.12"
  }
 },
 "nbformat": 4,
 "nbformat_minor": 1
}
