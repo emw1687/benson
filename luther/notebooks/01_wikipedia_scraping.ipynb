{
 "cells": [
  {
   "cell_type": "markdown",
   "metadata": {},
   "source": [
    "### Goal: write a webscraper for Wikipedia to get _The New York Times_ Fiction Best Sellers for a range of years between 1942-2016\n",
    "\n",
    "Sample urls:\n",
    "* https://en.wikipedia.org/wiki/The_New_York_Times_Fiction_Best_Sellers_of_1945\n",
    "* https://en.wikipedia.org/wiki/The_New_York_Times_Fiction_Best_Sellers_of_1970\n",
    "* https://en.wikipedia.org/wiki/The_New_York_Times_Fiction_Best_Sellers_of_1995\n",
    "* https://en.wikipedia.org/wiki/The_New_York_Times_Fiction_Best_Sellers_of_2015\n",
    "\n",
    "Data to collect:\n",
    "* date = Sunday of week during which the book was on the NYT best sellers list\n",
    "* title = title of the book\n",
    "* author = author of the book (first name first)"
   ]
  },
  {
   "cell_type": "code",
   "execution_count": 1,
   "metadata": {
    "collapsed": true
   },
   "outputs": [],
   "source": [
    "import requests\n",
    "from bs4 import BeautifulSoup\n",
    "import numpy as np\n",
    "import re\n",
    "import urllib\n",
    "import pandas as pd"
   ]
  },
  {
   "cell_type": "code",
   "execution_count": 2,
   "metadata": {
    "collapsed": true
   },
   "outputs": [],
   "source": [
    "def try_url(url):\n",
    "    '''\n",
    "    Attempt to access webpage\n",
    "    '''\n",
    "    response = requests.get(url)\n",
    "    status = response.status_code\n",
    "    if status != 200:\n",
    "        return status\n",
    "    else:\n",
    "        page = response.text\n",
    "        soup = BeautifulSoup(page, 'lxml')\n",
    "        return soup"
   ]
  },
  {
   "cell_type": "code",
   "execution_count": 3,
   "metadata": {
    "collapsed": false
   },
   "outputs": [],
   "source": [
    "def get_data_from_table(df, bestsellers_table, year):\n",
    "    '''\n",
    "    Retrieves data from table from Wikipedia page\n",
    "    bestsellers_table is BeautifulSoup(page)\n",
    "    '''\n",
    "    num_rows = len(bestsellers_table)\n",
    "    for row_i in np.arange(1, num_rows): \n",
    "        row = bestsellers_table[row_i].find_all('td') #all columns in row\n",
    "        date = row[0].text\n",
    "        date = re.findall('([A-Za-z]+\\s\\d*)', date)\n",
    "        if date:\n",
    "            date = date[0]\n",
    "            if len(row) ==2:\n",
    "                title = row[1].text\n",
    "                author = 'N/A'\n",
    "            if len(row) == 3:\n",
    "                title = row[1].text\n",
    "                author = row[2].text\n",
    "            results = pd.Series((year, date, title, author))\n",
    "            #print results\n",
    "            df = df.append(results, ignore_index=True)\n",
    "    return df"
   ]
  },
  {
   "cell_type": "code",
   "execution_count": 4,
   "metadata": {
    "collapsed": true
   },
   "outputs": [],
   "source": [
    "urls = []\n",
    "years = np.arange(1942, 2017)\n",
    "\n",
    "base_url = 'https://en.wikipedia.org/wiki/The_New_York_Times_Fiction_Best_Sellers_of_'\n",
    "\n",
    "for year in years:\n",
    "    url = base_url + str(year)\n",
    "    urls.append(url)"
   ]
  },
  {
   "cell_type": "code",
   "execution_count": 5,
   "metadata": {
    "collapsed": false
   },
   "outputs": [],
   "source": [
    "#get all data for all urls\n",
    "wiki_df = pd.DataFrame(data=None)\n",
    "\n",
    "for url in urls:\n",
    "    year = url[-4:]\n",
    "    soup = try_url(url)\n",
    "    #table of best sellers\n",
    "    bestsellers_table = soup.find_all(id='bodyContent')[0].find_all('table', attrs = {'class': 'wikitable'})[0].find_all('tr')\n",
    "    wiki_df = get_data_from_table(wiki_df, bestsellers_table, year)"
   ]
  },
  {
   "cell_type": "code",
   "execution_count": 6,
   "metadata": {
    "collapsed": false,
    "scrolled": true
   },
   "outputs": [
    {
     "data": {
      "text/plain": [
       "True"
      ]
     },
     "execution_count": 6,
     "metadata": {},
     "output_type": "execute_result"
    }
   ],
   "source": [
    "len(wiki_df)/52 == len(years)"
   ]
  },
  {
   "cell_type": "code",
   "execution_count": 7,
   "metadata": {
    "collapsed": false
   },
   "outputs": [],
   "source": [
    "columns = {0: 'year',\n",
    "           1: 'date',\n",
    "           2: 'title',\n",
    "           3: 'author'\n",
    "          }\n",
    "wiki_df.rename(columns=columns, inplace=True)"
   ]
  },
  {
   "cell_type": "code",
   "execution_count": 8,
   "metadata": {
    "collapsed": false
   },
   "outputs": [
    {
     "data": {
      "text/html": [
       "<div>\n",
       "<table border=\"1\" class=\"dataframe\">\n",
       "  <thead>\n",
       "    <tr style=\"text-align: right;\">\n",
       "      <th></th>\n",
       "      <th>year</th>\n",
       "      <th>date</th>\n",
       "      <th>title</th>\n",
       "      <th>author</th>\n",
       "    </tr>\n",
       "  </thead>\n",
       "  <tbody>\n",
       "    <tr>\n",
       "      <th>0</th>\n",
       "      <td>1942</td>\n",
       "      <td>January 4</td>\n",
       "      <td>The Keys of the Kingdom</td>\n",
       "      <td>A. J. Cronin</td>\n",
       "    </tr>\n",
       "    <tr>\n",
       "      <th>1</th>\n",
       "      <td>1942</td>\n",
       "      <td>January 11</td>\n",
       "      <td>Windswept</td>\n",
       "      <td>Mary Ellen Chase</td>\n",
       "    </tr>\n",
       "    <tr>\n",
       "      <th>2</th>\n",
       "      <td>1942</td>\n",
       "      <td>January 18</td>\n",
       "      <td>Windswept</td>\n",
       "      <td>Mary Ellen Chase</td>\n",
       "    </tr>\n",
       "    <tr>\n",
       "      <th>3</th>\n",
       "      <td>1942</td>\n",
       "      <td>January 25</td>\n",
       "      <td>Windswept</td>\n",
       "      <td>Mary Ellen Chase</td>\n",
       "    </tr>\n",
       "    <tr>\n",
       "      <th>4</th>\n",
       "      <td>1942</td>\n",
       "      <td>February 1</td>\n",
       "      <td>Windswept</td>\n",
       "      <td>Mary Ellen Chase</td>\n",
       "    </tr>\n",
       "  </tbody>\n",
       "</table>\n",
       "</div>"
      ],
      "text/plain": [
       "   year        date                    title            author\n",
       "0  1942   January 4  The Keys of the Kingdom      A. J. Cronin\n",
       "1  1942  January 11                Windswept  Mary Ellen Chase\n",
       "2  1942  January 18                Windswept  Mary Ellen Chase\n",
       "3  1942  January 25                Windswept  Mary Ellen Chase\n",
       "4  1942  February 1                Windswept  Mary Ellen Chase"
      ]
     },
     "execution_count": 8,
     "metadata": {},
     "output_type": "execute_result"
    }
   ],
   "source": [
    "wiki_df.head()"
   ]
  },
  {
   "cell_type": "code",
   "execution_count": 9,
   "metadata": {
    "collapsed": false
   },
   "outputs": [],
   "source": [
    "wiki_df.to_csv('nyt_scraped.csv', encoding='utf-8')"
   ]
  },
  {
   "cell_type": "code",
   "execution_count": null,
   "metadata": {
    "collapsed": true
   },
   "outputs": [],
   "source": []
  }
 ],
 "metadata": {
  "anaconda-cloud": {},
  "kernelspec": {
   "display_name": "Python [conda root]",
   "language": "python",
   "name": "conda-root-py"
  },
  "language_info": {
   "codemirror_mode": {
    "name": "ipython",
    "version": 2
   },
   "file_extension": ".py",
   "mimetype": "text/x-python",
   "name": "python",
   "nbconvert_exporter": "python",
   "pygments_lexer": "ipython2",
   "version": "2.7.12"
  }
 },
 "nbformat": 4,
 "nbformat_minor": 1
}
