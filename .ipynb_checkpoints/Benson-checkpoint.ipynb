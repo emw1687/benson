{
 "cells": [
  {
   "cell_type": "markdown",
   "metadata": {},
   "source": [
    "# Benson Project\n",
    "\n",
    "Analysis performed by Team Awesomesauce"
   ]
  },
  {
   "cell_type": "code",
   "execution_count": 2,
   "metadata": {
    "collapsed": false
   },
   "outputs": [],
   "source": [
    "#import relavant packages\n",
    "import pandas as pd\n",
    "import numpy as np\n",
    "import matplotlib as plt\n",
    "%matplotlib inline"
   ]
  },
  {
   "cell_type": "markdown",
   "metadata": {},
   "source": [
    "Before loading our data into Python, we concatenated 6 relevant .csv files into a master file"
   ]
  },
  {
   "cell_type": "code",
   "execution_count": 3,
   "metadata": {
    "collapsed": false
   },
   "outputs": [
    {
     "name": "stdout",
     "output_type": "stream",
     "text": [
      "    C/A  UNIT       SCP STATION LINENAME DIVISION        DATE      TIME  \\\n",
      "0  A002  R051  02-00-00   59 ST   NQR456      BMT  05/28/2016  00:00:00   \n",
      "1  A002  R051  02-00-00   59 ST   NQR456      BMT  05/28/2016  04:00:00   \n",
      "2  A002  R051  02-00-00   59 ST   NQR456      BMT  05/28/2016  08:00:00   \n",
      "3  A002  R051  02-00-00   59 ST   NQR456      BMT  05/28/2016  12:00:00   \n",
      "4  A002  R051  02-00-00   59 ST   NQR456      BMT  05/28/2016  16:00:00   \n",
      "\n",
      "      DESC     ENTRIES  \\\n",
      "0  REGULAR  0005682962   \n",
      "1  REGULAR  0005683000   \n",
      "2  REGULAR  0005683030   \n",
      "3  REGULAR  0005683175   \n",
      "4  REGULAR  0005683437   \n",
      "\n",
      "  EXITS                                                                 \n",
      "0  0001924340                                    ...                    \n",
      "1  0001924347                                    ...                    \n",
      "2  0001924381                                    ...                    \n",
      "3  0001924474                                    ...                    \n",
      "4  0001924533                                    ...                    \n"
     ]
    }
   ],
   "source": [
    "#load the master csv file into \n",
    "#print first 5 rows\n",
    "df = pd.read_csv('finalfile.txt', low_memory=False)\n",
    "print(df.head())"
   ]
  },
  {
   "cell_type": "code",
   "execution_count": 4,
   "metadata": {
    "collapsed": false
   },
   "outputs": [
    {
     "name": "stdout",
     "output_type": "stream",
     "text": [
      "Index(['C/A', 'UNIT', 'SCP', 'STATION', 'LINENAME', 'DIVISION', 'DATE', 'TIME',\n",
      "       'DESC', 'ENTRIES',\n",
      "       'EXITS                                                               '],\n",
      "      dtype='object')\n"
     ]
    }
   ],
   "source": [
    "#look at and rename column names\n",
    "col_names = df.columns\n",
    "print(col_names)"
   ]
  },
  {
   "cell_type": "code",
   "execution_count": null,
   "metadata": {
    "collapsed": true
   },
   "outputs": [],
   "source": []
  }
 ],
 "metadata": {
  "anaconda-cloud": {},
  "kernelspec": {
   "display_name": "Python [conda root]",
   "language": "python",
   "name": "conda-root-py"
  },
  "language_info": {
   "codemirror_mode": {
    "name": "ipython",
    "version": 3
   },
   "file_extension": ".py",
   "mimetype": "text/x-python",
   "name": "python",
   "nbconvert_exporter": "python",
   "pygments_lexer": "ipython3",
   "version": "3.5.2"
  }
 },
 "nbformat": 4,
 "nbformat_minor": 2
}
