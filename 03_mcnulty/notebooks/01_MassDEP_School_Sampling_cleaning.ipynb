{
 "cells": [
  {
   "cell_type": "code",
   "execution_count": 72,
   "metadata": {
    "collapsed": true
   },
   "outputs": [],
   "source": [
    "import pandas as pd\n",
    "import numpy as np\n",
    "import datetime as dt\n",
    "\n",
    "from dbfread import DBF\n",
    "\n",
    "import pickle\n",
    "\n",
    "import matplotlib.pyplot as plt\n",
    "%matplotlib inline\n",
    "\n",
    "import seaborn as sns\n",
    "sns.set_style('whitegrid')"
   ]
  },
  {
   "cell_type": "code",
   "execution_count": 2,
   "metadata": {
    "collapsed": true
   },
   "outputs": [],
   "source": [
    "from sklearn import preprocessing"
   ]
  },
  {
   "cell_type": "code",
   "execution_count": 3,
   "metadata": {
    "collapsed": true
   },
   "outputs": [],
   "source": [
    "def load_dbf_to_df(file_name):\n",
    "    dbf = DBF(data_path + file_name, load=True, raw=True)\n",
    "    df = pd.DataFrame(dbf.records)\n",
    "    df.apply(lambda x: x.astype(str).str.upper())\n",
    "    return df.applymap(lambda x: x.rstrip())"
   ]
  },
  {
   "cell_type": "code",
   "execution_count": 4,
   "metadata": {
    "collapsed": true
   },
   "outputs": [],
   "source": [
    "#pickle objects\n",
    "def make_pickle(obj, filename):\n",
    "    with open(filename, 'wb') as picklefile:\n",
    "        pickle.dump(obj, picklefile)"
   ]
  },
  {
   "cell_type": "markdown",
   "metadata": {},
   "source": [
    "## MassDEP Lead and Copper in School Drinking Water Sampling Results"
   ]
  },
  {
   "cell_type": "code",
   "execution_count": 5,
   "metadata": {
    "collapsed": true
   },
   "outputs": [],
   "source": [
    "dateparse = lambda x: pd.datetime.strptime(x, '%m/%d/%Y %H:%M:%S')\n",
    "\n",
    "file_path = '../data/external/MassDEP/lcca/lccasampres02032017 - Results.csv'\n",
    "\n",
    "schools = pd.read_csv(file_path,\n",
    "                     parse_dates = ['COLLECTION_DATE'],\n",
    "                     date_parser = dateparse,\n",
    "                     na_values = 'NAN',\n",
    "                     skipinitialspace = True)"
   ]
  },
  {
   "cell_type": "raw",
   "metadata": {
    "collapsed": false
   },
   "source": [
    "file_path = '../data/external/MassDEP/lcca/lccasampres02172017.xlsx'\n",
    "\n",
    "schools = pd.read_excel(file_path, \n",
    "                        sheetname = 'Results',\n",
    "                        na_values = 'NAN',\n",
    "                        skipinitialspace = True)"
   ]
  },
  {
   "cell_type": "code",
   "execution_count": 6,
   "metadata": {
    "collapsed": false
   },
   "outputs": [
    {
     "data": {
      "text/html": [
       "<div>\n",
       "<table border=\"1\" class=\"dataframe\">\n",
       "  <thead>\n",
       "    <tr style=\"text-align: right;\">\n",
       "      <th></th>\n",
       "      <th>ORGCODE</th>\n",
       "      <th>TOWN</th>\n",
       "      <th>NAME</th>\n",
       "      <th>LOCATION_CODE</th>\n",
       "      <th>LOCATION_DESCRIPTION</th>\n",
       "      <th>LOCATION_TYPE</th>\n",
       "      <th>COLLECTION_DATE</th>\n",
       "      <th>ANALYTE_NAME</th>\n",
       "      <th>RESULT</th>\n",
       "      <th>REMEDIATION_ACTIONS_TAKEN</th>\n",
       "    </tr>\n",
       "  </thead>\n",
       "  <tbody>\n",
       "    <tr>\n",
       "      <th>0</th>\n",
       "      <td>02070005</td>\n",
       "      <td>Waban</td>\n",
       "      <td>Newton: A E Angier</td>\n",
       "      <td>LCCA</td>\n",
       "      <td>Angier--Close, 1st draw</td>\n",
       "      <td>NaN</td>\n",
       "      <td>2016-04-22 06:00:00</td>\n",
       "      <td>COPPER</td>\n",
       "      <td>0.195</td>\n",
       "      <td>NaN</td>\n",
       "    </tr>\n",
       "    <tr>\n",
       "      <th>1</th>\n",
       "      <td>02070005</td>\n",
       "      <td>Waban</td>\n",
       "      <td>Newton: A E Angier</td>\n",
       "      <td>LCCA</td>\n",
       "      <td>Angier--Close, 1st draw</td>\n",
       "      <td>NaN</td>\n",
       "      <td>2016-04-22 06:00:00</td>\n",
       "      <td>LEAD</td>\n",
       "      <td>0.000191</td>\n",
       "      <td>NaN</td>\n",
       "    </tr>\n",
       "    <tr>\n",
       "      <th>2</th>\n",
       "      <td>02070005</td>\n",
       "      <td>Waban</td>\n",
       "      <td>Newton: A E Angier</td>\n",
       "      <td>LCCA</td>\n",
       "      <td>Angier--Close, flush</td>\n",
       "      <td>NaN</td>\n",
       "      <td>2016-04-22 06:15:00</td>\n",
       "      <td>COPPER</td>\n",
       "      <td>0.13</td>\n",
       "      <td>NaN</td>\n",
       "    </tr>\n",
       "    <tr>\n",
       "      <th>3</th>\n",
       "      <td>02070005</td>\n",
       "      <td>Waban</td>\n",
       "      <td>Newton: A E Angier</td>\n",
       "      <td>LCCA</td>\n",
       "      <td>Angier--Close, flush</td>\n",
       "      <td>NaN</td>\n",
       "      <td>2016-04-22 06:15:00</td>\n",
       "      <td>LEAD</td>\n",
       "      <td>0.000319</td>\n",
       "      <td>NaN</td>\n",
       "    </tr>\n",
       "    <tr>\n",
       "      <th>4</th>\n",
       "      <td>02070005</td>\n",
       "      <td>Waban</td>\n",
       "      <td>Newton: A E Angier</td>\n",
       "      <td>LCCA</td>\n",
       "      <td>Angier--Far, 1st draw</td>\n",
       "      <td>NaN</td>\n",
       "      <td>2016-04-22 06:00:00</td>\n",
       "      <td>COPPER</td>\n",
       "      <td>0.194</td>\n",
       "      <td>NaN</td>\n",
       "    </tr>\n",
       "  </tbody>\n",
       "</table>\n",
       "</div>"
      ],
      "text/plain": [
       "    ORGCODE   TOWN                NAME LOCATION_CODE     LOCATION_DESCRIPTION  \\\n",
       "0  02070005  Waban  Newton: A E Angier          LCCA  Angier--Close, 1st draw   \n",
       "1  02070005  Waban  Newton: A E Angier          LCCA  Angier--Close, 1st draw   \n",
       "2  02070005  Waban  Newton: A E Angier          LCCA     Angier--Close, flush   \n",
       "3  02070005  Waban  Newton: A E Angier          LCCA     Angier--Close, flush   \n",
       "4  02070005  Waban  Newton: A E Angier          LCCA    Angier--Far, 1st draw   \n",
       "\n",
       "  LOCATION_TYPE     COLLECTION_DATE ANALYTE_NAME    RESULT  \\\n",
       "0           NaN 2016-04-22 06:00:00       COPPER     0.195   \n",
       "1           NaN 2016-04-22 06:00:00         LEAD  0.000191   \n",
       "2           NaN 2016-04-22 06:15:00       COPPER      0.13   \n",
       "3           NaN 2016-04-22 06:15:00         LEAD  0.000319   \n",
       "4           NaN 2016-04-22 06:00:00       COPPER     0.194   \n",
       "\n",
       "  REMEDIATION_ACTIONS_TAKEN  \n",
       "0                       NaN  \n",
       "1                       NaN  \n",
       "2                       NaN  \n",
       "3                       NaN  \n",
       "4                       NaN  "
      ]
     },
     "execution_count": 6,
     "metadata": {},
     "output_type": "execute_result"
    }
   ],
   "source": [
    "schools.head()"
   ]
  },
  {
   "cell_type": "code",
   "execution_count": 7,
   "metadata": {
    "collapsed": true
   },
   "outputs": [],
   "source": [
    "schools.drop('REMEDIATION_ACTIONS_TAKEN', axis=1, inplace=True)"
   ]
  },
  {
   "cell_type": "code",
   "execution_count": 8,
   "metadata": {
    "collapsed": false
   },
   "outputs": [],
   "source": [
    "schools['LOCATION_TYPE'].fillna('Unknown', inplace=True)"
   ]
  },
  {
   "cell_type": "code",
   "execution_count": 9,
   "metadata": {
    "collapsed": false
   },
   "outputs": [
    {
     "data": {
      "text/plain": [
       "0.2651284591973954"
      ]
     },
     "execution_count": 9,
     "metadata": {},
     "output_type": "execute_result"
    }
   ],
   "source": [
    "#percent ND\n",
    "float(len(schools[schools['RESULT'] == 'ND']))/len(schools)"
   ]
  },
  {
   "cell_type": "code",
   "execution_count": 10,
   "metadata": {
    "collapsed": true
   },
   "outputs": [],
   "source": [
    "#replace ND with reasonable DL (0.005 mg/L)\n",
    "schools.replace('ND', 0.0005, inplace=True)"
   ]
  },
  {
   "cell_type": "code",
   "execution_count": 11,
   "metadata": {
    "collapsed": false
   },
   "outputs": [],
   "source": [
    "schools = schools.apply(lambda x: x.astype(str).str.upper())\n",
    "schools.applymap(lambda x: x.rstrip())\n",
    "schools['RESULT'] = pd.to_numeric(schools['RESULT'])"
   ]
  },
  {
   "cell_type": "markdown",
   "metadata": {},
   "source": [
    "### How many schools participated?"
   ]
  },
  {
   "cell_type": "code",
   "execution_count": 15,
   "metadata": {
    "collapsed": false
   },
   "outputs": [
    {
     "data": {
      "text/plain": [
       "875"
      ]
     },
     "execution_count": 15,
     "metadata": {},
     "output_type": "execute_result"
    }
   ],
   "source": [
    "len(schools['ORGCODE'].value_counts())"
   ]
  },
  {
   "cell_type": "markdown",
   "metadata": {},
   "source": [
    "### How many schools had one result above the action levels?"
   ]
  },
  {
   "cell_type": "code",
   "execution_count": 18,
   "metadata": {
    "collapsed": true
   },
   "outputs": [],
   "source": [
    "#action levels (mg/L)\n",
    "pb_al = 0.015\n",
    "cu_al = 1.3"
   ]
  },
  {
   "cell_type": "code",
   "execution_count": 30,
   "metadata": {
    "collapsed": false
   },
   "outputs": [],
   "source": [
    "def percent_above_al(df, al):\n",
    "    percent = float(len(df[df['RESULT'] >= al]))/len(df)\n",
    "    return round(percent*100, 2)"
   ]
  },
  {
   "cell_type": "code",
   "execution_count": 31,
   "metadata": {
    "collapsed": false
   },
   "outputs": [],
   "source": [
    "def above_al(df):\n",
    "    pb = df[df['ANALYTE_NAME'] == 'LEAD']\n",
    "    cu = df[df['ANALYTE_NAME'] == 'COPPER']\n",
    "    print 'pb:', percent_above_al(pb, pb_al), '%'\n",
    "    print 'cu:', percent_above_al(cu, cu_al), '%'"
   ]
  },
  {
   "cell_type": "code",
   "execution_count": 21,
   "metadata": {
    "collapsed": false
   },
   "outputs": [],
   "source": [
    "sch_grouped = schools.groupby(['NAME', 'ANALYTE_NAME'], as_index=False)"
   ]
  },
  {
   "cell_type": "code",
   "execution_count": 32,
   "metadata": {
    "collapsed": false
   },
   "outputs": [
    {
     "name": "stdout",
     "output_type": "stream",
     "text": [
      "pb: 55.77 %\n",
      "cu: 23.14 %\n"
     ]
    }
   ],
   "source": [
    "max_results = sch_grouped.max()\n",
    "above_al(max_results)"
   ]
  },
  {
   "cell_type": "code",
   "execution_count": 34,
   "metadata": {
    "collapsed": false
   },
   "outputs": [
    {
     "name": "stderr",
     "output_type": "stream",
     "text": [
      "/Users/evaward/anaconda/lib/python2.7/site-packages/pandas/core/generic.py:3191: SettingWithCopyWarning: \n",
      "A value is trying to be set on a copy of a slice from a DataFrame\n",
      "\n",
      "See the caveats in the documentation: http://pandas.pydata.org/pandas-docs/stable/indexing.html#indexing-view-versus-copy\n",
      "  self._update_inplace(new_data)\n"
     ]
    }
   ],
   "source": [
    "max_results_pb = max_results[max_results['ANALYTE_NAME'] == 'LEAD']\n",
    "max_results_pb.loc[max_results_pb['RESULT'] > pb_al, 'EXCEED'] = 1\n",
    "max_results_pb['EXCEED'].fillna(0, inplace=True)"
   ]
  },
  {
   "cell_type": "code",
   "execution_count": 51,
   "metadata": {
    "collapsed": false
   },
   "outputs": [],
   "source": [
    "exceeds = pd.DataFrame(max_results_pb['EXCEED'].value_counts())"
   ]
  },
  {
   "cell_type": "code",
   "execution_count": 118,
   "metadata": {
    "collapsed": false
   },
   "outputs": [],
   "source": [
    "exceeds.loc[exceeds['EXCEED'] == 485, 'LABEL'] = 'Above PBAL'\n",
    "exceeds.loc[exceeds['EXCEED'] == 390, 'LABEL'] = 'Below PBAL'"
   ]
  },
  {
   "cell_type": "code",
   "execution_count": 59,
   "metadata": {
    "collapsed": false
   },
   "outputs": [
    {
     "data": {
      "text/plain": [
       "875"
      ]
     },
     "execution_count": 59,
     "metadata": {},
     "output_type": "execute_result"
    }
   ],
   "source": [
    "485+390"
   ]
  },
  {
   "cell_type": "code",
   "execution_count": 65,
   "metadata": {
    "collapsed": false
   },
   "outputs": [],
   "source": [
    "exceeds['PERCENT'] = exceeds['EXCEED'].apply(lambda x: x/875.0*100)"
   ]
  },
  {
   "cell_type": "code",
   "execution_count": 134,
   "metadata": {
    "collapsed": false
   },
   "outputs": [
    {
     "data": {
      "image/png": "[encoded data removed]",
      "text/plain": [
       "<matplotlib.figure.Figure at 0x1140b80d0>"
      ]
     },
     "metadata": {},
     "output_type": "display_data"
    }
   ],
   "source": [
    "clrs = ['k' if (x == 'Above PBAL') else 'white' for x in exceeds['LABEL']]\n",
    "fig, ax = plt.subplots(figsize=(10, 4))\n",
    "sns.barplot(x='PERCENT',\n",
    "            y='LABEL',\n",
    "            data=exceeds,\n",
    "            palette=clrs)\n",
    "ax.set(ylabel=\"\",\n",
    "       xlabel=\"\")\n",
    "sns.despine(left=True, bottom=True);"
   ]
  },
  {
   "cell_type": "code",
   "execution_count": 135,
   "metadata": {
    "collapsed": false
   },
   "outputs": [],
   "source": [
    "fig.savefig('../reports/figures/PBAL.png')"
   ]
  },
  {
   "cell_type": "code",
   "execution_count": 24,
   "metadata": {
    "collapsed": false
   },
   "outputs": [
    {
     "data": {
      "image/png": "[encoded data removed]",
      "text/plain": [
       "<matplotlib.figure.Figure at 0x112aa80d0>"
      ]
     },
     "metadata": {},
     "output_type": "display_data"
    }
   ],
   "source": [
    "sns.countplot(max_results['LOCATION_TYPE']);"
   ]
  },
  {
   "cell_type": "markdown",
   "metadata": {},
   "source": [
    "### At how many schools was the median of the samples above action levels?"
   ]
  },
  {
   "cell_type": "code",
   "execution_count": 25,
   "metadata": {
    "collapsed": false
   },
   "outputs": [
    {
     "name": "stdout",
     "output_type": "stream",
     "text": [
      "pb: 1.14 %\n",
      "cu: 0.11 %\n"
     ]
    }
   ],
   "source": [
    "median_results = sch_grouped.median()\n",
    "above_al(median_results)"
   ]
  },
  {
   "cell_type": "markdown",
   "metadata": {},
   "source": [
    "### At how many schools was the mean of the samples above action levels?"
   ]
  },
  {
   "cell_type": "code",
   "execution_count": 26,
   "metadata": {
    "collapsed": false
   },
   "outputs": [
    {
     "name": "stdout",
     "output_type": "stream",
     "text": [
      "pb: 12.69 %\n",
      "cu: 0.57 %\n"
     ]
    }
   ],
   "source": [
    "mean_results = sch_grouped.mean()\n",
    "above_al(mean_results)"
   ]
  },
  {
   "cell_type": "markdown",
   "metadata": {},
   "source": [
    "### At how many schools was the 90th percentile sample above action levels?"
   ]
  },
  {
   "cell_type": "code",
   "execution_count": 27,
   "metadata": {
    "collapsed": false
   },
   "outputs": [
    {
     "name": "stdout",
     "output_type": "stream",
     "text": [
      "pb: 19.09 %\n",
      "cu: 3.89 %\n"
     ]
    }
   ],
   "source": [
    "percentile_90 = sch_grouped.quantile(0.90).reset_index()\n",
    "above_al(percentile_90)"
   ]
  },
  {
   "cell_type": "markdown",
   "metadata": {},
   "source": [
    "### Join school building data to sampling results (lead only)"
   ]
  },
  {
   "cell_type": "code",
   "execution_count": 28,
   "metadata": {
    "collapsed": false
   },
   "outputs": [],
   "source": [
    "#only lead results\n",
    "pb = max_results[max_results['ANALYTE_NAME'] == 'LEAD']"
   ]
  },
  {
   "cell_type": "code",
   "execution_count": 29,
   "metadata": {
    "collapsed": false
   },
   "outputs": [],
   "source": [
    "#load school building data\n",
    "data_path = '../data/interim/'\n",
    "bldgs = load_dbf_to_df('school_bldgs.dbf')"
   ]
  },
  {
   "cell_type": "code",
   "execution_count": 30,
   "metadata": {
    "collapsed": false
   },
   "outputs": [],
   "source": [
    "pb = pb.merge(bldgs, how='left', left_on='ORGCODE', right_on='SCHID')"
   ]
  },
  {
   "cell_type": "markdown",
   "metadata": {},
   "source": [
    "### Join environmental justice data to sampling results"
   ]
  },
  {
   "cell_type": "code",
   "execution_count": 31,
   "metadata": {
    "collapsed": true
   },
   "outputs": [],
   "source": [
    "#load ej data\n",
    "ej = load_dbf_to_df('ej_schools.dbf')"
   ]
  },
  {
   "cell_type": "code",
   "execution_count": 32,
   "metadata": {
    "collapsed": false
   },
   "outputs": [],
   "source": [
    "ej = pd.DataFrame(ej['SCHID'])"
   ]
  },
  {
   "cell_type": "code",
   "execution_count": 33,
   "metadata": {
    "collapsed": false
   },
   "outputs": [],
   "source": [
    "ej['EJ'] = 1"
   ]
  },
  {
   "cell_type": "code",
   "execution_count": 34,
   "metadata": {
    "collapsed": false
   },
   "outputs": [],
   "source": [
    "pb = pb.merge(ej, how='left', left_on='ORGCODE', right_on='SCHID')"
   ]
  },
  {
   "cell_type": "code",
   "execution_count": 35,
   "metadata": {
    "collapsed": true
   },
   "outputs": [],
   "source": [
    "pb['EJ'].fillna(0, inplace=True)"
   ]
  },
  {
   "cell_type": "code",
   "execution_count": 36,
   "metadata": {
    "collapsed": true
   },
   "outputs": [],
   "source": [
    "make_pickle(pb, '../data/interim/schools.pkl')"
   ]
  },
  {
   "cell_type": "markdown",
   "metadata": {},
   "source": [
    "### Make csv with results for all schools for qgis (not sampled, below, above)"
   ]
  },
  {
   "cell_type": "code",
   "execution_count": 37,
   "metadata": {
    "collapsed": false
   },
   "outputs": [],
   "source": [
    "qgis_results = bldgs.merge(max_results[max_results['ANALYTE_NAME'] == 'LEAD'], how='left', left_on='SCHID', right_on='ORGCODE')"
   ]
  },
  {
   "cell_type": "code",
   "execution_count": 38,
   "metadata": {
    "collapsed": false
   },
   "outputs": [],
   "source": [
    "qgis_results = qgis_results[['SCHID', 'RESULT']]"
   ]
  },
  {
   "cell_type": "code",
   "execution_count": 39,
   "metadata": {
    "collapsed": true
   },
   "outputs": [],
   "source": [
    "qgis_results.loc[qgis_results['RESULT'] > pb_al, 'EXCEED'] = 'above'\n",
    "qgis_results.loc[qgis_results['RESULT'] < pb_al, 'EXCEED'] = 'below'\n",
    "qgis_results['EXCEED'].fillna('not sampled', inplace=True)"
   ]
  },
  {
   "cell_type": "code",
   "execution_count": 40,
   "metadata": {
    "collapsed": false
   },
   "outputs": [],
   "source": [
    "qgis_results.drop('RESULT', axis=1, inplace=True)"
   ]
  },
  {
   "cell_type": "code",
   "execution_count": 41,
   "metadata": {
    "collapsed": true
   },
   "outputs": [],
   "source": [
    "qgis_results.to_csv('../data/interim/school_results.csv')"
   ]
  },
  {
   "cell_type": "code",
   "execution_count": null,
   "metadata": {
    "collapsed": true
   },
   "outputs": [],
   "source": []
  }
 ],
 "metadata": {
  "anaconda-cloud": {},
  "kernelspec": {
   "display_name": "Python [conda root]",
   "language": "python",
   "name": "conda-root-py"
  },
  "language_info": {
   "codemirror_mode": {
    "name": "ipython",
    "version": 2
   },
   "file_extension": ".py",
   "mimetype": "text/x-python",
   "name": "python",
   "nbconvert_exporter": "python",
   "pygments_lexer": "ipython2",
   "version": "2.7.12"
  }
 },
 "nbformat": 4,
 "nbformat_minor": 1
}
