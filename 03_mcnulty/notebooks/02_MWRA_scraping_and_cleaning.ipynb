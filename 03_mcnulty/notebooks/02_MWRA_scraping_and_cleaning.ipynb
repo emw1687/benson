{
 "cells": [
  {
   "cell_type": "markdown",
   "metadata": {},
   "source": [
    "### MWRA Scraping\n",
    "\n",
    "Goal: get list of towns with MWRA water service"
   ]
  },
  {
   "cell_type": "code",
   "execution_count": 1,
   "metadata": {
    "collapsed": true
   },
   "outputs": [],
   "source": [
    "import requests\n",
    "from bs4 import BeautifulSoup\n",
    "import numpy as np\n",
    "import re\n",
    "import urllib\n",
    "import pandas as pd\n",
    "import pickle"
   ]
  },
  {
   "cell_type": "code",
   "execution_count": 2,
   "metadata": {
    "collapsed": true
   },
   "outputs": [],
   "source": [
    "def try_url(url):\n",
    "    '''\n",
    "    Attempt to access webpage\n",
    "    '''\n",
    "    response = requests.get(url)\n",
    "    status = response.status_code\n",
    "    if status != 200:\n",
    "        return status\n",
    "    else:\n",
    "        page = response.text\n",
    "        soup = BeautifulSoup(page, 'lxml')\n",
    "        return soup"
   ]
  },
  {
   "cell_type": "code",
   "execution_count": 3,
   "metadata": {
    "collapsed": true
   },
   "outputs": [],
   "source": [
    "url = 'http://www.mwra.state.ma.us/02org/html/whatis.htm'"
   ]
  },
  {
   "cell_type": "code",
   "execution_count": 4,
   "metadata": {
    "collapsed": true
   },
   "outputs": [],
   "source": [
    "soup = try_url(url)"
   ]
  },
  {
   "cell_type": "code",
   "execution_count": 5,
   "metadata": {
    "collapsed": true
   },
   "outputs": [],
   "source": [
    "customers = soup.find_all('table')[8].find_all('tr')"
   ]
  },
  {
   "cell_type": "code",
   "execution_count": 6,
   "metadata": {
    "collapsed": false
   },
   "outputs": [],
   "source": [
    "mwra = pd.DataFrame()\n",
    "\n",
    "for i in range(2, len(customers)):\n",
    "    town = customers[i].find_all('td')[0].text.encode('utf-8').upper()\n",
    "    service = customers[i].find_all('td')[1].text.encode('utf-8').upper()\n",
    "    mwra = mwra.append(pd.Series((town, service)), ignore_index=True)"
   ]
  },
  {
   "cell_type": "code",
   "execution_count": 7,
   "metadata": {
    "collapsed": false
   },
   "outputs": [],
   "source": [
    "mwra = mwra.applymap(lambda x: x.upper())"
   ]
  },
  {
   "cell_type": "code",
   "execution_count": 8,
   "metadata": {
    "collapsed": true
   },
   "outputs": [],
   "source": [
    "columns = {0: 'TOWN',\n",
    "           1: 'SERVICES',\n",
    "          }\n",
    "\n",
    "mwra.rename(columns=columns, inplace=True)"
   ]
  },
  {
   "cell_type": "markdown",
   "metadata": {},
   "source": [
    "### MWRA Cleaning\n",
    "\n",
    "Goal: classify as full, partial, or none (emergency back-up only classified as none)"
   ]
  },
  {
   "cell_type": "code",
   "execution_count": 9,
   "metadata": {
    "collapsed": false
   },
   "outputs": [
    {
     "data": {
      "text/plain": [
       "WATER AND SEWER                          23\n",
       "SEWER                                    10\n",
       "WATER                                    10\n",
       "SEWER, WATER (PARTIALLY SUPPLIED)         6\n",
       "WATER (PARTIALLY SUPPLIED)                4\n",
       "WATER (PARTIALLY SUPPLIED), SEWER         3\n",
       " SEWER, WATER (PARTIALLY SUPPLIED)        1\n",
       "WATER (PARTIALLY SUPPLIED), SEWER         1\n",
       "WATER (EMERGENCY BACK-UP ONLY)            1\n",
       "WATER (EMERGENCY BACK-UP ONLY)            1\n",
       "WATER (EMERGENCY BACKUP ONLY), SEWER      1\n",
       "Name: SERVICES, dtype: int64"
      ]
     },
     "execution_count": 9,
     "metadata": {},
     "output_type": "execute_result"
    }
   ],
   "source": [
    "mwra['SERVICES'].value_counts()"
   ]
  },
  {
   "cell_type": "code",
   "execution_count": 10,
   "metadata": {
    "collapsed": false
   },
   "outputs": [],
   "source": [
    "mwra.loc[mwra['SERVICES'] == 'WATER', 'WATER_SERVICE'] = 'FULL'\n",
    "mwra.loc[mwra['SERVICES'] == 'WATER AND SEWER', 'WATER_SERVICE'] = 'FULL'\n",
    "#mwra.loc[mwra['SERVICES'].str.find('WATER (PARTIALLY SUPPLIED)') > -1, 'WATER_SERVICE'] = 'PARTIAL'\n",
    "mwra.dropna(inplace=True)"
   ]
  },
  {
   "cell_type": "code",
   "execution_count": 11,
   "metadata": {
    "collapsed": false
   },
   "outputs": [
    {
     "data": {
      "text/html": [
       "<div>\n",
       "<table border=\"1\" class=\"dataframe\">\n",
       "  <thead>\n",
       "    <tr style=\"text-align: right;\">\n",
       "      <th></th>\n",
       "      <th>TOWN</th>\n",
       "      <th>SERVICES</th>\n",
       "      <th>WATER_SERVICE</th>\n",
       "    </tr>\n",
       "  </thead>\n",
       "  <tbody>\n",
       "    <tr>\n",
       "      <th>0</th>\n",
       "      <td>ARLINGTON</td>\n",
       "      <td>WATER AND SEWER</td>\n",
       "      <td>FULL</td>\n",
       "    </tr>\n",
       "    <tr>\n",
       "      <th>3</th>\n",
       "      <td>BELMONT</td>\n",
       "      <td>WATER AND SEWER</td>\n",
       "      <td>FULL</td>\n",
       "    </tr>\n",
       "    <tr>\n",
       "      <th>4</th>\n",
       "      <td>BOSTON</td>\n",
       "      <td>WATER AND SEWER</td>\n",
       "      <td>FULL</td>\n",
       "    </tr>\n",
       "    <tr>\n",
       "      <th>6</th>\n",
       "      <td>BROOKLINE</td>\n",
       "      <td>WATER AND SEWER</td>\n",
       "      <td>FULL</td>\n",
       "    </tr>\n",
       "    <tr>\n",
       "      <th>10</th>\n",
       "      <td>CHELSEA</td>\n",
       "      <td>WATER AND SEWER</td>\n",
       "      <td>FULL</td>\n",
       "    </tr>\n",
       "    <tr>\n",
       "      <th>11</th>\n",
       "      <td>CHICOPEE</td>\n",
       "      <td>WATER</td>\n",
       "      <td>FULL</td>\n",
       "    </tr>\n",
       "    <tr>\n",
       "      <th>12</th>\n",
       "      <td>CLINTON</td>\n",
       "      <td>WATER AND SEWER</td>\n",
       "      <td>FULL</td>\n",
       "    </tr>\n",
       "    <tr>\n",
       "      <th>14</th>\n",
       "      <td>EVERETT</td>\n",
       "      <td>WATER AND SEWER</td>\n",
       "      <td>FULL</td>\n",
       "    </tr>\n",
       "    <tr>\n",
       "      <th>15</th>\n",
       "      <td>FRAMINGHAM</td>\n",
       "      <td>WATER AND SEWER</td>\n",
       "      <td>FULL</td>\n",
       "    </tr>\n",
       "    <tr>\n",
       "      <th>20</th>\n",
       "      <td>LEXINGTON</td>\n",
       "      <td>WATER AND SEWER</td>\n",
       "      <td>FULL</td>\n",
       "    </tr>\n",
       "  </tbody>\n",
       "</table>\n",
       "</div>"
      ],
      "text/plain": [
       "          TOWN         SERVICES WATER_SERVICE\n",
       "0    ARLINGTON  WATER AND SEWER          FULL\n",
       "3      BELMONT  WATER AND SEWER          FULL\n",
       "4       BOSTON  WATER AND SEWER          FULL\n",
       "6    BROOKLINE  WATER AND SEWER          FULL\n",
       "10     CHELSEA  WATER AND SEWER          FULL\n",
       "11    CHICOPEE            WATER          FULL\n",
       "12     CLINTON  WATER AND SEWER          FULL\n",
       "14     EVERETT  WATER AND SEWER          FULL\n",
       "15  FRAMINGHAM  WATER AND SEWER          FULL\n",
       "20   LEXINGTON  WATER AND SEWER          FULL"
      ]
     },
     "execution_count": 11,
     "metadata": {},
     "output_type": "execute_result"
    }
   ],
   "source": [
    "mwra.head(10)"
   ]
  },
  {
   "cell_type": "code",
   "execution_count": 12,
   "metadata": {
    "collapsed": false
   },
   "outputs": [
    {
     "data": {
      "text/plain": [
       "FULL    33\n",
       "Name: WATER_SERVICE, dtype: int64"
      ]
     },
     "execution_count": 12,
     "metadata": {},
     "output_type": "execute_result"
    }
   ],
   "source": [
    "mwra['WATER_SERVICE'].value_counts()"
   ]
  },
  {
   "cell_type": "markdown",
   "metadata": {},
   "source": [
    "### Add rest of info to match PWS df\n",
    "[Source](http://www.mwra.state.ma.us/04water/html/watsys.htm)\n",
    "* PWS_ID: from pwscont\n",
    "* PWS_NAME: from pwscont\n",
    "* TOWN: from pwscont\n",
    "* PWS_CLASS: COM\n",
    "* TOTAL_INTAKES: 3\n",
    "* GW_RATIO: 0.0\n",
    "* MWRA: 1"
   ]
  },
  {
   "cell_type": "markdown",
   "metadata": {},
   "source": [
    "### Add PWS_ID, PWS_NAME, TOWN from pwscont csv"
   ]
  },
  {
   "cell_type": "code",
   "execution_count": 13,
   "metadata": {
    "collapsed": false
   },
   "outputs": [],
   "source": [
    "pws_ids = pd.read_csv('../data/external/MassDEP/pwscont.csv',\n",
    "                          usecols=['CITY/TOWN', 'PWSID', 'PWS NAME', 'CLASS'], \n",
    "                          dtype='str')\n",
    "\n",
    "pws_ids.columns = ['TOWN', 'PWS_ID', 'PWS_NAME', 'PWS_CLASS']"
   ]
  },
  {
   "cell_type": "code",
   "execution_count": 14,
   "metadata": {
    "collapsed": false
   },
   "outputs": [],
   "source": [
    "mwra_keywords = ['MWRA', 'DIST', 'DEP', 'DIV']\n",
    "\n",
    "mwra_ids = pws_ids.loc[pws_ids['PWS_NAME'].str.contains('|'.join(mwra_keywords))]\n",
    "#pts.loc[pts['PWS_NAME'].str.contains('|'.join(towns))), 'SCH_SUPPLY'] = 1\n",
    "#mwra_ids = pws_ids[pws_ids['PWS_NAME'].str.contains('MWRA')]"
   ]
  },
  {
   "cell_type": "code",
   "execution_count": 15,
   "metadata": {
    "collapsed": false
   },
   "outputs": [],
   "source": [
    "mwra_with_ids = mwra.merge(mwra_ids, how='left', on='TOWN')"
   ]
  },
  {
   "cell_type": "code",
   "execution_count": 16,
   "metadata": {
    "collapsed": false
   },
   "outputs": [
    {
     "data": {
      "text/html": [
       "<div>\n",
       "<table border=\"1\" class=\"dataframe\">\n",
       "  <thead>\n",
       "    <tr style=\"text-align: right;\">\n",
       "      <th></th>\n",
       "      <th>TOWN</th>\n",
       "      <th>SERVICES</th>\n",
       "      <th>WATER_SERVICE</th>\n",
       "      <th>PWS_ID</th>\n",
       "      <th>PWS_NAME</th>\n",
       "      <th>PWS_CLASS</th>\n",
       "    </tr>\n",
       "  </thead>\n",
       "  <tbody>\n",
       "    <tr>\n",
       "      <th>12</th>\n",
       "      <td>LYNNFIELD WATER DISTRICT</td>\n",
       "      <td>WATER</td>\n",
       "      <td>FULL</td>\n",
       "      <td>NaN</td>\n",
       "      <td>NaN</td>\n",
       "      <td>NaN</td>\n",
       "    </tr>\n",
       "    <tr>\n",
       "      <th>27</th>\n",
       "      <td>SOUTH HADLEY FIRE DISTRICT #1</td>\n",
       "      <td>WATER</td>\n",
       "      <td>FULL</td>\n",
       "      <td>NaN</td>\n",
       "      <td>NaN</td>\n",
       "      <td>NaN</td>\n",
       "    </tr>\n",
       "  </tbody>\n",
       "</table>\n",
       "</div>"
      ],
      "text/plain": [
       "                             TOWN SERVICES WATER_SERVICE PWS_ID PWS_NAME  \\\n",
       "12       LYNNFIELD WATER DISTRICT    WATER          FULL    NaN      NaN   \n",
       "27  SOUTH HADLEY FIRE DISTRICT #1    WATER          FULL    NaN      NaN   \n",
       "\n",
       "   PWS_CLASS  \n",
       "12       NaN  \n",
       "27       NaN  "
      ]
     },
     "execution_count": 16,
     "metadata": {},
     "output_type": "execute_result"
    }
   ],
   "source": [
    "mwra_with_ids[mwra_with_ids['PWS_ID'].isnull()]"
   ]
  },
  {
   "cell_type": "code",
   "execution_count": 17,
   "metadata": {
    "collapsed": false
   },
   "outputs": [],
   "source": [
    "mwra_with_ids.iloc[12, 3] = '3164001'\n",
    "mwra_with_ids.iloc[12, 4] = 'LYNNFIELD WATER DIST. (MWRA)'\n",
    "mwra_with_ids.iloc[12, 5] = 'COM'\n",
    "mwra_with_ids.iloc[27, 3] = '1275000'\n",
    "mwra_with_ids.iloc[27, 4] = 'SOUTH HADLEY FD #1 (MWRA)'\n",
    "mwra_with_ids.iloc[27, 5] = 'COM'"
   ]
  },
  {
   "cell_type": "code",
   "execution_count": 18,
   "metadata": {
    "collapsed": false
   },
   "outputs": [],
   "source": [
    "#Drop MWRA overall, drop Deer Island\n",
    "mwra_with_ids.drop(3, inplace=True)\n",
    "mwra_with_ids.drop(4, inplace=True)"
   ]
  },
  {
   "cell_type": "code",
   "execution_count": 19,
   "metadata": {
    "collapsed": true
   },
   "outputs": [],
   "source": [
    "#mwra_with_ids['PWS_CLASS'] = 'COM'\n",
    "mwra_with_ids['TOTAL_INTAKES'] = 4\n",
    "mwra_with_ids['GW_RATIO'] = 0.0\n",
    "mwra_with_ids['MWRA'] = 1"
   ]
  },
  {
   "cell_type": "code",
   "execution_count": 20,
   "metadata": {
    "collapsed": false
   },
   "outputs": [],
   "source": [
    "mwra_with_ids.drop(['SERVICES', 'WATER_SERVICE'], axis=1, inplace=True)"
   ]
  },
  {
   "cell_type": "code",
   "execution_count": 21,
   "metadata": {
    "collapsed": false
   },
   "outputs": [],
   "source": [
    "with open('../data/interim/mwra.pkl', 'wb') as picklefile:\n",
    "    pickle.dump(mwra_with_ids, picklefile)"
   ]
  },
  {
   "cell_type": "code",
   "execution_count": null,
   "metadata": {
    "collapsed": true
   },
   "outputs": [],
   "source": []
  }
 ],
 "metadata": {
  "anaconda-cloud": {},
  "kernelspec": {
   "display_name": "Python [conda root]",
   "language": "python",
   "name": "conda-root-py"
  },
  "language_info": {
   "codemirror_mode": {
    "name": "ipython",
    "version": 2
   },
   "file_extension": ".py",
   "mimetype": "text/x-python",
   "name": "python",
   "nbconvert_exporter": "python",
   "pygments_lexer": "ipython2",
   "version": "2.7.12"
  }
 },
 "nbformat": 4,
 "nbformat_minor": 1
}
