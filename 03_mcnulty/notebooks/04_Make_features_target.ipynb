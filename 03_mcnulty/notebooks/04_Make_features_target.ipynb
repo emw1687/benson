{
 "cells": [
  {
   "cell_type": "code",
   "execution_count": 1,
   "metadata": {
    "collapsed": true
   },
   "outputs": [],
   "source": [
    "import pandas as pd\n",
    "import numpy as np\n",
    "import datetime as dt\n",
    "import re\n",
    "import string\n",
    "\n",
    "from dbfread import DBF\n",
    "\n",
    "import operator\n",
    "import pickle\n",
    "\n",
    "import matplotlib.pyplot as plt\n",
    "%matplotlib inline\n",
    "\n",
    "import seaborn as sns\n",
    "sns.set_style('white')"
   ]
  },
  {
   "cell_type": "code",
   "execution_count": 2,
   "metadata": {
    "collapsed": false
   },
   "outputs": [],
   "source": [
    "from sklearn import preprocessing\n",
    "from sklearn.model_selection import train_test_split\n",
    "from mlxtend.preprocessing import standardize"
   ]
  },
  {
   "cell_type": "code",
   "execution_count": 3,
   "metadata": {
    "collapsed": true
   },
   "outputs": [],
   "source": [
    "#pickle objects\n",
    "def make_pickle(obj, filename):\n",
    "    with open(filename, 'wb') as picklefile:\n",
    "        pickle.dump(obj, picklefile)\n",
    "\n",
    "#open pickled objects\n",
    "def open_pickle(filename):\n",
    "    with open(filename, 'rb') as picklefile:\n",
    "        return pickle.load(picklefile)"
   ]
  },
  {
   "cell_type": "markdown",
   "metadata": {},
   "source": [
    "### Load and merge schools and PWS data"
   ]
  },
  {
   "cell_type": "code",
   "execution_count": 4,
   "metadata": {
    "collapsed": true
   },
   "outputs": [],
   "source": [
    "#load school df, remove punct, make upper case, keep relevant columns\n",
    "schools = open_pickle('../data/interim/schools.pkl')\n",
    "schools['NAME_y'].fillna(schools['NAME_x'], inplace=True)\n",
    "schools['NAME_y'] = schools['NAME_y'].apply(lambda x: x.translate(None, string.punctuation).upper())\n",
    "schools = schools[['NAME_y', 'ORGCODE', 'RESULT', 'TOWN_x', 'YEAR_BUILT', 'TOTAL_VAL', 'TYPE', 'EJ']]"
   ]
  },
  {
   "cell_type": "code",
   "execution_count": 5,
   "metadata": {
    "collapsed": false
   },
   "outputs": [
    {
     "data": {
      "text/plain": [
       "875"
      ]
     },
     "execution_count": 5,
     "metadata": {},
     "output_type": "execute_result"
    }
   ],
   "source": [
    "len(schools)"
   ]
  },
  {
   "cell_type": "code",
   "execution_count": 6,
   "metadata": {
    "collapsed": false
   },
   "outputs": [],
   "source": [
    "#drop schools without building data\n",
    "schools.dropna(inplace=True)"
   ]
  },
  {
   "cell_type": "code",
   "execution_count": 7,
   "metadata": {
    "collapsed": false
   },
   "outputs": [
    {
     "data": {
      "text/plain": [
       "NAME_y        0\n",
       "ORGCODE       0\n",
       "RESULT        0\n",
       "TOWN_x        0\n",
       "YEAR_BUILT    0\n",
       "TOTAL_VAL     0\n",
       "TYPE          0\n",
       "EJ            0\n",
       "dtype: int64"
      ]
     },
     "execution_count": 7,
     "metadata": {},
     "output_type": "execute_result"
    }
   ],
   "source": [
    "schools.isnull().sum()"
   ]
  },
  {
   "cell_type": "code",
   "execution_count": 8,
   "metadata": {
    "collapsed": false
   },
   "outputs": [
    {
     "data": {
      "text/plain": [
       "791"
      ]
     },
     "execution_count": 8,
     "metadata": {},
     "output_type": "execute_result"
    }
   ],
   "source": [
    "len(schools)"
   ]
  },
  {
   "cell_type": "code",
   "execution_count": 9,
   "metadata": {
    "collapsed": true
   },
   "outputs": [],
   "source": [
    "#load pws df, remove punct, make upper case\n",
    "pws = open_pickle('../data/interim/sch_pws.pkl')\n",
    "pws['PWS_NAME'] = pws['PWS_NAME'].apply(lambda x: x.translate(None, string.punctuation).upper())"
   ]
  },
  {
   "cell_type": "code",
   "execution_count": 10,
   "metadata": {
    "collapsed": true
   },
   "outputs": [],
   "source": [
    "school_pws = pws[pws['PWS_NAME'].str.contains('SCHOOL')]\n",
    "town_pws = pws[~pws['PWS_NAME'].str.contains('SCHOOL')]"
   ]
  },
  {
   "cell_type": "code",
   "execution_count": 11,
   "metadata": {
    "collapsed": false
   },
   "outputs": [],
   "source": [
    "#create substring for matching school names to pws name\n",
    "schools['MATCH_NAME'] = schools['NAME_y'].apply(lambda x: re.findall('(\\w+\\s+\\w+)', x))\n",
    "schools.loc[schools['NAME_y'] == 'GOALS', 'MATCH_NAME'] = ['GOALS']\n",
    "schools.loc[schools['NAME_y'] == 'MOPPETS', 'MATCH_NAME'] = ['MOPPETS']"
   ]
  },
  {
   "cell_type": "code",
   "execution_count": 12,
   "metadata": {
    "collapsed": false
   },
   "outputs": [],
   "source": [
    "schools['MATCH_NAME'] = schools['MATCH_NAME'].apply(lambda x: x[0])"
   ]
  },
  {
   "cell_type": "code",
   "execution_count": 13,
   "metadata": {
    "collapsed": false
   },
   "outputs": [
    {
     "name": "stderr",
     "output_type": "stream",
     "text": [
      "/Users/evaward/anaconda/lib/python2.7/site-packages/ipykernel/__main__.py:1: SettingWithCopyWarning: \n",
      "A value is trying to be set on a copy of a slice from a DataFrame.\n",
      "Try using .loc[row_indexer,col_indexer] = value instead\n",
      "\n",
      "See the caveats in the documentation: http://pandas.pydata.org/pandas-docs/stable/indexing.html#indexing-view-versus-copy\n",
      "  if __name__ == '__main__':\n"
     ]
    }
   ],
   "source": [
    "school_pws['MATCH_NAME'] = school_pws['PWS_NAME'].apply(lambda x: re.findall('(\\w+\\s+\\w+)', x)[0])"
   ]
  },
  {
   "cell_type": "code",
   "execution_count": 14,
   "metadata": {
    "collapsed": false
   },
   "outputs": [],
   "source": [
    "match_name_merge = schools.merge(school_pws, how='left', on='MATCH_NAME', indicator=True)"
   ]
  },
  {
   "cell_type": "code",
   "execution_count": 15,
   "metadata": {
    "collapsed": false
   },
   "outputs": [
    {
     "data": {
      "text/plain": [
       "left_only     774\n",
       "both           17\n",
       "right_only      0\n",
       "Name: _merge, dtype: int64"
      ]
     },
     "execution_count": 15,
     "metadata": {},
     "output_type": "execute_result"
    }
   ],
   "source": [
    "match_name_merge['_merge'].value_counts()"
   ]
  },
  {
   "cell_type": "code",
   "execution_count": 16,
   "metadata": {
    "collapsed": false
   },
   "outputs": [],
   "source": [
    "match_name = match_name_merge[match_name_merge['_merge'] == 'both']\n",
    "schools = match_name_merge[match_name_merge['_merge'] == 'left_only']"
   ]
  },
  {
   "cell_type": "code",
   "execution_count": 17,
   "metadata": {
    "collapsed": false
   },
   "outputs": [
    {
     "name": "stderr",
     "output_type": "stream",
     "text": [
      "/Users/evaward/anaconda/lib/python2.7/site-packages/ipykernel/__main__.py:3: SettingWithCopyWarning: \n",
      "A value is trying to be set on a copy of a slice from a DataFrame\n",
      "\n",
      "See the caveats in the documentation: http://pandas.pydata.org/pandas-docs/stable/indexing.html#indexing-view-versus-copy\n",
      "  app.launch_new_instance()\n"
     ]
    }
   ],
   "source": [
    "drop_cols = list(school_pws.columns)\n",
    "drop_cols.append('_merge')\n",
    "schools.drop(labels=drop_cols, axis=1, inplace=True)"
   ]
  },
  {
   "cell_type": "code",
   "execution_count": 18,
   "metadata": {
    "collapsed": false
   },
   "outputs": [
    {
     "data": {
      "text/plain": [
       "774"
      ]
     },
     "execution_count": 18,
     "metadata": {},
     "output_type": "execute_result"
    }
   ],
   "source": [
    "len(schools)"
   ]
  },
  {
   "cell_type": "code",
   "execution_count": 19,
   "metadata": {
    "collapsed": false
   },
   "outputs": [
    {
     "data": {
      "text/plain": [
       "Index([    u'NAME_y',    u'ORGCODE',     u'RESULT',     u'TOWN_x',\n",
       "       u'YEAR_BUILT',  u'TOTAL_VAL',       u'TYPE',         u'EJ'],\n",
       "      dtype='object')"
      ]
     },
     "execution_count": 19,
     "metadata": {},
     "output_type": "execute_result"
    }
   ],
   "source": [
    "schools.columns"
   ]
  },
  {
   "cell_type": "code",
   "execution_count": 20,
   "metadata": {
    "collapsed": false
   },
   "outputs": [],
   "source": [
    "town_name = schools.merge(town_pws, how = 'left', left_on='TOWN_x', right_on='TOWN', indicator=True)"
   ]
  },
  {
   "cell_type": "code",
   "execution_count": 21,
   "metadata": {
    "collapsed": false
   },
   "outputs": [
    {
     "data": {
      "text/plain": [
       "both          747\n",
       "left_only     119\n",
       "right_only      0\n",
       "Name: _merge, dtype: int64"
      ]
     },
     "execution_count": 21,
     "metadata": {},
     "output_type": "execute_result"
    }
   ],
   "source": [
    "town_name['_merge'].value_counts()"
   ]
  },
  {
   "cell_type": "code",
   "execution_count": 22,
   "metadata": {
    "collapsed": true
   },
   "outputs": [],
   "source": [
    "town_name.dropna(inplace=True)\n",
    "town_name.drop_duplicates(inplace=True)"
   ]
  },
  {
   "cell_type": "code",
   "execution_count": 23,
   "metadata": {
    "collapsed": true
   },
   "outputs": [],
   "source": [
    "#town_name[town_name[['NAME_y', 'TOWN']].duplicated(keep=False)].sort_values('NAME_y')[['NAME_y', 'TOWN_x']]\n",
    "#town_name.drop_duplicates(['NAME_y', 'TOWN'], inplace=True)"
   ]
  },
  {
   "cell_type": "code",
   "execution_count": 24,
   "metadata": {
    "collapsed": false
   },
   "outputs": [],
   "source": [
    "sch_pws = pd.concat([town_name, match_name])"
   ]
  },
  {
   "cell_type": "code",
   "execution_count": 25,
   "metadata": {
    "collapsed": false
   },
   "outputs": [
    {
     "data": {
      "text/plain": [
       "691"
      ]
     },
     "execution_count": 25,
     "metadata": {},
     "output_type": "execute_result"
    }
   ],
   "source": [
    "len(sch_pws)"
   ]
  },
  {
   "cell_type": "code",
   "execution_count": 26,
   "metadata": {
    "collapsed": false
   },
   "outputs": [],
   "source": [
    "sch_pws.drop_duplicates(subset=['NAME_y', 'TOWN_x'], inplace=True)"
   ]
  },
  {
   "cell_type": "code",
   "execution_count": 27,
   "metadata": {
    "collapsed": false
   },
   "outputs": [],
   "source": [
    "schools = sch_pws[['ORGCODE', 'NAME_y', 'TOWN', 'EJ', 'YEAR_BUILT', 'TOTAL_VAL', 'TYPE', 'RESULT', 'PWS_ID', 'PWS_NAME', 'PWS_CLASS', 'COUNT_CONN', 'TOTAL_INTAKES', 'GW_RATIO', 'SURVEY', 'PB90_RESULT', 'PB_90', 'MWRA']]"
   ]
  },
  {
   "cell_type": "code",
   "execution_count": 28,
   "metadata": {
    "collapsed": false
   },
   "outputs": [
    {
     "name": "stderr",
     "output_type": "stream",
     "text": [
      "/Users/evaward/anaconda/lib/python2.7/site-packages/pandas/core/frame.py:2754: SettingWithCopyWarning: \n",
      "A value is trying to be set on a copy of a slice from a DataFrame\n",
      "\n",
      "See the caveats in the documentation: http://pandas.pydata.org/pandas-docs/stable/indexing.html#indexing-view-versus-copy\n",
      "  **kwargs)\n"
     ]
    }
   ],
   "source": [
    "schools.rename(columns={'ORGCODE': 'SCH_ID',\n",
    "               'NAME_y': 'SCH_NAME'},\n",
    "              inplace=True)"
   ]
  },
  {
   "cell_type": "markdown",
   "metadata": {},
   "source": [
    "### Create features"
   ]
  },
  {
   "cell_type": "markdown",
   "metadata": {},
   "source": [
    "** Potential features related to parcels: **\n",
    "* TOTAL_VAL: Current total assessed value for land and structures\n",
    "* _LS__DATE: Last sale date formatted as YYYYMMDD - DROP FOR NOW_\n",
    "* YEAR_BUILT: format YYYY\n",
    "\n",
    "** Potential features related to schools: **\n",
    "* TYPE: Identifies school type:\n",
    "    * PUB - Public\n",
    "    * PRI - Private\n",
    "    * CHA - Charter\n",
    "    * SPE - Special Education (Approved)\n",
    "    * SPU - Special Education (Unapproved)\n",
    "* _GRADES: Grade levels offered at the school - DROP FOR NOW_\n",
    "* EJ\n",
    "\n",
    "** Potential features related to PWS: **\n",
    "* COUNT_CONN:\n",
    "* TOTAL_INTAKES:\n",
    "* GW_RATIO:\n",
    "* SW_RATIO:\n",
    "* SURVEY:\n",
    "* PB_90:\n",
    "\n",
    "** Target **\n",
    "* RESULTS: max concentration (mg/L) of lead in samples collected from given school"
   ]
  },
  {
   "cell_type": "code",
   "execution_count": 29,
   "metadata": {
    "collapsed": false
   },
   "outputs": [
    {
     "name": "stdout",
     "output_type": "stream",
     "text": [
      "<class 'pandas.core.frame.DataFrame'>\n",
      "Int64Index: 672 entries, 0 to 712\n",
      "Data columns (total 18 columns):\n",
      "SCH_ID           672 non-null object\n",
      "SCH_NAME         672 non-null object\n",
      "TOWN             672 non-null object\n",
      "EJ               672 non-null float64\n",
      "YEAR_BUILT       672 non-null object\n",
      "TOTAL_VAL        672 non-null object\n",
      "TYPE             672 non-null object\n",
      "RESULT           672 non-null float64\n",
      "PWS_ID           672 non-null object\n",
      "PWS_NAME         672 non-null object\n",
      "PWS_CLASS        672 non-null object\n",
      "COUNT_CONN       672 non-null object\n",
      "TOTAL_INTAKES    672 non-null float64\n",
      "GW_RATIO         672 non-null float64\n",
      "SURVEY           672 non-null float64\n",
      "PB90_RESULT      672 non-null object\n",
      "PB_90            672 non-null float64\n",
      "MWRA             672 non-null float64\n",
      "dtypes: float64(7), object(11)\n",
      "memory usage: 99.8+ KB\n"
     ]
    }
   ],
   "source": [
    "schools.info()"
   ]
  },
  {
   "cell_type": "code",
   "execution_count": 30,
   "metadata": {
    "collapsed": false
   },
   "outputs": [
    {
     "name": "stderr",
     "output_type": "stream",
     "text": [
      "/Users/evaward/anaconda/lib/python2.7/site-packages/ipykernel/__main__.py:2: SettingWithCopyWarning: \n",
      "A value is trying to be set on a copy of a slice from a DataFrame.\n",
      "Try using .loc[row_indexer,col_indexer] = value instead\n",
      "\n",
      "See the caveats in the documentation: http://pandas.pydata.org/pandas-docs/stable/indexing.html#indexing-view-versus-copy\n",
      "  from ipykernel import kernelapp as app\n"
     ]
    }
   ],
   "source": [
    "for column in ['YEAR_BUILT', 'RESULT', 'TOTAL_VAL', 'COUNT_CONN', 'PB90_RESULT']:\n",
    "    schools[column] = pd.to_numeric(schools[column])"
   ]
  },
  {
   "cell_type": "code",
   "execution_count": 31,
   "metadata": {
    "collapsed": true
   },
   "outputs": [],
   "source": [
    "#drop schools without year built data\n",
    "schools = schools[schools['YEAR_BUILT'] != 0]\n",
    "schools.reset_index(drop=True, inplace=True)"
   ]
  },
  {
   "cell_type": "code",
   "execution_count": 32,
   "metadata": {
    "collapsed": false
   },
   "outputs": [],
   "source": [
    "#fill empty val strings with NaN\n",
    "schools['TOTAL_VAL'] = schools['TOTAL_VAL'].apply(lambda x: np.nan if not x else x)"
   ]
  },
  {
   "cell_type": "markdown",
   "metadata": {},
   "source": [
    "### Clean features"
   ]
  },
  {
   "cell_type": "code",
   "execution_count": 33,
   "metadata": {
    "collapsed": false
   },
   "outputs": [],
   "source": [
    "dummies = ['SURVEY', 'PB_90', 'MWRA', 'EJ']\n",
    "categoricals = ['TYPE', 'PWS_CLASS']\n",
    "numericals = ['TOTAL_VAL', 'YEAR_BUILT', 'COUNT_CONN', 'TOTAL_INTAKES', 'GW_RATIO', 'PB90_RESULT']\n",
    "target = ['RESULT']\n",
    "features = dummies + categoricals + numericals + target\n",
    "X = schools[features]"
   ]
  },
  {
   "cell_type": "code",
   "execution_count": 34,
   "metadata": {
    "collapsed": false
   },
   "outputs": [
    {
     "name": "stderr",
     "output_type": "stream",
     "text": [
      "/Users/evaward/anaconda/lib/python2.7/site-packages/pandas/core/generic.py:3191: SettingWithCopyWarning: \n",
      "A value is trying to be set on a copy of a slice from a DataFrame\n",
      "\n",
      "See the caveats in the documentation: http://pandas.pydata.org/pandas-docs/stable/indexing.html#indexing-view-versus-copy\n",
      "  self._update_inplace(new_data)\n"
     ]
    }
   ],
   "source": [
    "#fill missing total parcel value with median\n",
    "#X.loc[:,'TOTAL_VAL'] = X.loc[:,'TOTAL_VAL'].fillna(X['TOTAL_VAL'].median())\n",
    "X['TOTAL_VAL'].fillna(X['TOTAL_VAL'].median(), inplace=True)"
   ]
  },
  {
   "cell_type": "code",
   "execution_count": 35,
   "metadata": {
    "collapsed": false
   },
   "outputs": [
    {
     "name": "stderr",
     "output_type": "stream",
     "text": [
      "/Users/evaward/anaconda/lib/python2.7/site-packages/ipykernel/__main__.py:3: SettingWithCopyWarning: \n",
      "A value is trying to be set on a copy of a slice from a DataFrame.\n",
      "Try using .loc[row_indexer,col_indexer] = value instead\n",
      "\n",
      "See the caveats in the documentation: http://pandas.pydata.org/pandas-docs/stable/indexing.html#indexing-view-versus-copy\n",
      "  app.launch_new_instance()\n"
     ]
    }
   ],
   "source": [
    "#convert YEAR_BUILT to year since 1800 (earliest YEAR_BUILT)\n",
    "#X.loc[:,'YEAR_SINCE_1800'] = X['YEAR_BUILT'].apply(lambda x: x - 1800)\n",
    "X['YEAR_SINCE_1800'] = X['YEAR_BUILT'].apply(lambda x: x - 1800)\n",
    "X = X.drop('YEAR_BUILT', axis=1)"
   ]
  },
  {
   "cell_type": "code",
   "execution_count": 36,
   "metadata": {
    "collapsed": false
   },
   "outputs": [],
   "source": [
    "#create dummy variables for categoricals\n",
    "#all_dummies = pd.DataFrame(schools['RESULT'])\n",
    "#for dummy in dummies:\n",
    "#    all_dummies = all_dummies.merge(pd.DataFrame(X.pop(dummy)), left_index=True, right_index=True)\n",
    "\n",
    "for category in categoricals:\n",
    "    cat_dummies = pd.get_dummies(X[category], drop_first=True)\n",
    "    X = X.merge(cat_dummies, left_index=True, right_index=True)\n",
    "    X = X.drop(category, axis=1)"
   ]
  },
  {
   "cell_type": "code",
   "execution_count": 37,
   "metadata": {
    "collapsed": false
   },
   "outputs": [],
   "source": [
    "dummy_cols = {'PRI': 'SCH_PRI',\n",
    "              'PUB': 'SCH_PUB', \n",
    "              'SPE': 'SCH_SPE', \n",
    "              'SPU': 'SCH_SPU', \n",
    "              'NC': 'PWS_NC', \n",
    "              'NTNC': 'PWS_NTNC'}\n",
    "X.rename(columns=dummy_cols, inplace=True)"
   ]
  },
  {
   "cell_type": "code",
   "execution_count": 38,
   "metadata": {
    "collapsed": true
   },
   "outputs": [],
   "source": [
    "pb_al = 0.015"
   ]
  },
  {
   "cell_type": "code",
   "execution_count": 39,
   "metadata": {
    "collapsed": false
   },
   "outputs": [],
   "source": [
    "#for whether a result is greater than action level\n",
    "X.loc[X['RESULT'] > pb_al, 'EXCEED'] = 1\n",
    "X['EXCEED'].fillna(0, inplace=True)\n",
    "X.drop('RESULT', axis=1, inplace=True)"
   ]
  },
  {
   "cell_type": "code",
   "execution_count": 40,
   "metadata": {
    "collapsed": false
   },
   "outputs": [
    {
     "data": {
      "text/html": [
       "<div>\n",
       "<table border=\"1\" class=\"dataframe\">\n",
       "  <thead>\n",
       "    <tr style=\"text-align: right;\">\n",
       "      <th></th>\n",
       "      <th>SURVEY</th>\n",
       "      <th>PB_90</th>\n",
       "      <th>MWRA</th>\n",
       "      <th>EJ</th>\n",
       "      <th>TOTAL_VAL</th>\n",
       "      <th>COUNT_CONN</th>\n",
       "      <th>TOTAL_INTAKES</th>\n",
       "      <th>GW_RATIO</th>\n",
       "      <th>PB90_RESULT</th>\n",
       "      <th>YEAR_SINCE_1800</th>\n",
       "      <th>SCH_PRI</th>\n",
       "      <th>SCH_PUB</th>\n",
       "      <th>SCH_SPE</th>\n",
       "      <th>SCH_SPU</th>\n",
       "      <th>PWS_NC</th>\n",
       "      <th>PWS_NTNC</th>\n",
       "      <th>EXCEED</th>\n",
       "    </tr>\n",
       "  </thead>\n",
       "  <tbody>\n",
       "    <tr>\n",
       "      <th>0</th>\n",
       "      <td>1.0</td>\n",
       "      <td>1.0</td>\n",
       "      <td>0.0</td>\n",
       "      <td>1.0</td>\n",
       "      <td>5357900.0</td>\n",
       "      <td>43034</td>\n",
       "      <td>11.0</td>\n",
       "      <td>0.0</td>\n",
       "      <td>0.003</td>\n",
       "      <td>140</td>\n",
       "      <td>0.0</td>\n",
       "      <td>0.0</td>\n",
       "      <td>0.0</td>\n",
       "      <td>0.0</td>\n",
       "      <td>0.0</td>\n",
       "      <td>0.0</td>\n",
       "      <td>1.0</td>\n",
       "    </tr>\n",
       "    <tr>\n",
       "      <th>1</th>\n",
       "      <td>1.0</td>\n",
       "      <td>1.0</td>\n",
       "      <td>0.0</td>\n",
       "      <td>0.0</td>\n",
       "      <td>15958200.0</td>\n",
       "      <td>11272</td>\n",
       "      <td>5.0</td>\n",
       "      <td>0.6</td>\n",
       "      <td>0.003</td>\n",
       "      <td>162</td>\n",
       "      <td>0.0</td>\n",
       "      <td>1.0</td>\n",
       "      <td>0.0</td>\n",
       "      <td>0.0</td>\n",
       "      <td>0.0</td>\n",
       "      <td>0.0</td>\n",
       "      <td>0.0</td>\n",
       "    </tr>\n",
       "    <tr>\n",
       "      <th>2</th>\n",
       "      <td>1.0</td>\n",
       "      <td>1.0</td>\n",
       "      <td>0.0</td>\n",
       "      <td>0.0</td>\n",
       "      <td>8307600.0</td>\n",
       "      <td>11272</td>\n",
       "      <td>5.0</td>\n",
       "      <td>0.6</td>\n",
       "      <td>0.003</td>\n",
       "      <td>151</td>\n",
       "      <td>0.0</td>\n",
       "      <td>1.0</td>\n",
       "      <td>0.0</td>\n",
       "      <td>0.0</td>\n",
       "      <td>0.0</td>\n",
       "      <td>0.0</td>\n",
       "      <td>1.0</td>\n",
       "    </tr>\n",
       "    <tr>\n",
       "      <th>3</th>\n",
       "      <td>1.0</td>\n",
       "      <td>1.0</td>\n",
       "      <td>0.0</td>\n",
       "      <td>0.0</td>\n",
       "      <td>2403400.0</td>\n",
       "      <td>11272</td>\n",
       "      <td>5.0</td>\n",
       "      <td>0.6</td>\n",
       "      <td>0.003</td>\n",
       "      <td>140</td>\n",
       "      <td>0.0</td>\n",
       "      <td>1.0</td>\n",
       "      <td>0.0</td>\n",
       "      <td>0.0</td>\n",
       "      <td>0.0</td>\n",
       "      <td>0.0</td>\n",
       "      <td>0.0</td>\n",
       "    </tr>\n",
       "    <tr>\n",
       "      <th>4</th>\n",
       "      <td>1.0</td>\n",
       "      <td>1.0</td>\n",
       "      <td>0.0</td>\n",
       "      <td>0.0</td>\n",
       "      <td>5306600.0</td>\n",
       "      <td>11272</td>\n",
       "      <td>5.0</td>\n",
       "      <td>0.6</td>\n",
       "      <td>0.003</td>\n",
       "      <td>136</td>\n",
       "      <td>0.0</td>\n",
       "      <td>1.0</td>\n",
       "      <td>0.0</td>\n",
       "      <td>0.0</td>\n",
       "      <td>0.0</td>\n",
       "      <td>0.0</td>\n",
       "      <td>0.0</td>\n",
       "    </tr>\n",
       "  </tbody>\n",
       "</table>\n",
       "</div>"
      ],
      "text/plain": [
       "   SURVEY  PB_90  MWRA   EJ   TOTAL_VAL  COUNT_CONN  TOTAL_INTAKES  GW_RATIO  \\\n",
       "0     1.0    1.0   0.0  1.0   5357900.0       43034           11.0       0.0   \n",
       "1     1.0    1.0   0.0  0.0  15958200.0       11272            5.0       0.6   \n",
       "2     1.0    1.0   0.0  0.0   8307600.0       11272            5.0       0.6   \n",
       "3     1.0    1.0   0.0  0.0   2403400.0       11272            5.0       0.6   \n",
       "4     1.0    1.0   0.0  0.0   5306600.0       11272            5.0       0.6   \n",
       "\n",
       "   PB90_RESULT  YEAR_SINCE_1800  SCH_PRI  SCH_PUB  SCH_SPE  SCH_SPU  PWS_NC  \\\n",
       "0        0.003              140      0.0      0.0      0.0      0.0     0.0   \n",
       "1        0.003              162      0.0      1.0      0.0      0.0     0.0   \n",
       "2        0.003              151      0.0      1.0      0.0      0.0     0.0   \n",
       "3        0.003              140      0.0      1.0      0.0      0.0     0.0   \n",
       "4        0.003              136      0.0      1.0      0.0      0.0     0.0   \n",
       "\n",
       "   PWS_NTNC  EXCEED  \n",
       "0       0.0     1.0  \n",
       "1       0.0     0.0  \n",
       "2       0.0     1.0  \n",
       "3       0.0     0.0  \n",
       "4       0.0     0.0  "
      ]
     },
     "execution_count": 40,
     "metadata": {},
     "output_type": "execute_result"
    }
   ],
   "source": [
    "X.head()"
   ]
  },
  {
   "cell_type": "code",
   "execution_count": 41,
   "metadata": {
    "collapsed": false
   },
   "outputs": [],
   "source": [
    "#use all PWS \n",
    "X.drop(['PB90_RESULT'], axis=1, inplace=True)\n",
    "\n",
    "#use only PWS with pb90 results\n",
    "#X = X[X['PB90_RESULT'] >= 0]\n",
    "#X.drop(['PB_90'], axis=1, inplace=True)"
   ]
  },
  {
   "cell_type": "code",
   "execution_count": 42,
   "metadata": {
    "collapsed": false
   },
   "outputs": [],
   "source": [
    "y = X.pop('EXCEED')"
   ]
  },
  {
   "cell_type": "code",
   "execution_count": 43,
   "metadata": {
    "collapsed": false
   },
   "outputs": [
    {
     "data": {
      "text/plain": [
       "580"
      ]
     },
     "execution_count": 43,
     "metadata": {},
     "output_type": "execute_result"
    }
   ],
   "source": [
    "len(X)"
   ]
  },
  {
   "cell_type": "code",
   "execution_count": 44,
   "metadata": {
    "collapsed": true
   },
   "outputs": [],
   "source": [
    "#train/test split, then cv on only training data, score on testing data\n",
    "X_train, X_test, y_train, y_test = train_test_split(X, y, test_size=120, random_state=4444, stratify=y)\n",
    "#X_train, X_test, y_train, y_test = train_test_split(X, y, test_size=80, random_state=4444)"
   ]
  },
  {
   "cell_type": "code",
   "execution_count": 45,
   "metadata": {
    "collapsed": true
   },
   "outputs": [],
   "source": [
    "for df in [X_train, X_test, y_train, y_test]:\n",
    "    df.reset_index(inplace=True, drop=True)"
   ]
  },
  {
   "cell_type": "code",
   "execution_count": 46,
   "metadata": {
    "collapsed": false
   },
   "outputs": [
    {
     "data": {
      "text/html": [
       "<div>\n",
       "<table border=\"1\" class=\"dataframe\">\n",
       "  <thead>\n",
       "    <tr style=\"text-align: right;\">\n",
       "      <th></th>\n",
       "      <th>SURVEY</th>\n",
       "      <th>PB_90</th>\n",
       "      <th>MWRA</th>\n",
       "      <th>EJ</th>\n",
       "      <th>TOTAL_VAL</th>\n",
       "      <th>COUNT_CONN</th>\n",
       "      <th>TOTAL_INTAKES</th>\n",
       "      <th>GW_RATIO</th>\n",
       "      <th>YEAR_SINCE_1800</th>\n",
       "      <th>SCH_PRI</th>\n",
       "      <th>SCH_PUB</th>\n",
       "      <th>SCH_SPE</th>\n",
       "      <th>SCH_SPU</th>\n",
       "      <th>PWS_NC</th>\n",
       "      <th>PWS_NTNC</th>\n",
       "    </tr>\n",
       "  </thead>\n",
       "  <tbody>\n",
       "    <tr>\n",
       "      <th>0</th>\n",
       "      <td>1.0</td>\n",
       "      <td>1.0</td>\n",
       "      <td>1.0</td>\n",
       "      <td>0.0</td>\n",
       "      <td>14214000.0</td>\n",
       "      <td>9242</td>\n",
       "      <td>4.0</td>\n",
       "      <td>0.0</td>\n",
       "      <td>162</td>\n",
       "      <td>0.0</td>\n",
       "      <td>1.0</td>\n",
       "      <td>0.0</td>\n",
       "      <td>0.0</td>\n",
       "      <td>0.0</td>\n",
       "      <td>0.0</td>\n",
       "    </tr>\n",
       "    <tr>\n",
       "      <th>1</th>\n",
       "      <td>1.0</td>\n",
       "      <td>1.0</td>\n",
       "      <td>0.0</td>\n",
       "      <td>1.0</td>\n",
       "      <td>17544500.0</td>\n",
       "      <td>42650</td>\n",
       "      <td>4.0</td>\n",
       "      <td>0.0</td>\n",
       "      <td>131</td>\n",
       "      <td>0.0</td>\n",
       "      <td>1.0</td>\n",
       "      <td>0.0</td>\n",
       "      <td>0.0</td>\n",
       "      <td>0.0</td>\n",
       "      <td>0.0</td>\n",
       "    </tr>\n",
       "    <tr>\n",
       "      <th>2</th>\n",
       "      <td>1.0</td>\n",
       "      <td>1.0</td>\n",
       "      <td>0.0</td>\n",
       "      <td>1.0</td>\n",
       "      <td>9679600.0</td>\n",
       "      <td>19809</td>\n",
       "      <td>2.0</td>\n",
       "      <td>0.0</td>\n",
       "      <td>201</td>\n",
       "      <td>0.0</td>\n",
       "      <td>1.0</td>\n",
       "      <td>0.0</td>\n",
       "      <td>0.0</td>\n",
       "      <td>0.0</td>\n",
       "      <td>0.0</td>\n",
       "    </tr>\n",
       "    <tr>\n",
       "      <th>3</th>\n",
       "      <td>1.0</td>\n",
       "      <td>1.0</td>\n",
       "      <td>0.0</td>\n",
       "      <td>1.0</td>\n",
       "      <td>1274400.0</td>\n",
       "      <td>42650</td>\n",
       "      <td>4.0</td>\n",
       "      <td>0.0</td>\n",
       "      <td>163</td>\n",
       "      <td>0.0</td>\n",
       "      <td>1.0</td>\n",
       "      <td>0.0</td>\n",
       "      <td>0.0</td>\n",
       "      <td>0.0</td>\n",
       "      <td>0.0</td>\n",
       "    </tr>\n",
       "    <tr>\n",
       "      <th>4</th>\n",
       "      <td>1.0</td>\n",
       "      <td>1.0</td>\n",
       "      <td>0.0</td>\n",
       "      <td>1.0</td>\n",
       "      <td>47661500.0</td>\n",
       "      <td>43034</td>\n",
       "      <td>11.0</td>\n",
       "      <td>0.0</td>\n",
       "      <td>190</td>\n",
       "      <td>0.0</td>\n",
       "      <td>1.0</td>\n",
       "      <td>0.0</td>\n",
       "      <td>0.0</td>\n",
       "      <td>0.0</td>\n",
       "      <td>0.0</td>\n",
       "    </tr>\n",
       "  </tbody>\n",
       "</table>\n",
       "</div>"
      ],
      "text/plain": [
       "   SURVEY  PB_90  MWRA   EJ   TOTAL_VAL  COUNT_CONN  TOTAL_INTAKES  GW_RATIO  \\\n",
       "0     1.0    1.0   1.0  0.0  14214000.0        9242            4.0       0.0   \n",
       "1     1.0    1.0   0.0  1.0  17544500.0       42650            4.0       0.0   \n",
       "2     1.0    1.0   0.0  1.0   9679600.0       19809            2.0       0.0   \n",
       "3     1.0    1.0   0.0  1.0   1274400.0       42650            4.0       0.0   \n",
       "4     1.0    1.0   0.0  1.0  47661500.0       43034           11.0       0.0   \n",
       "\n",
       "   YEAR_SINCE_1800  SCH_PRI  SCH_PUB  SCH_SPE  SCH_SPU  PWS_NC  PWS_NTNC  \n",
       "0              162      0.0      1.0      0.0      0.0     0.0       0.0  \n",
       "1              131      0.0      1.0      0.0      0.0     0.0       0.0  \n",
       "2              201      0.0      1.0      0.0      0.0     0.0       0.0  \n",
       "3              163      0.0      1.0      0.0      0.0     0.0       0.0  \n",
       "4              190      0.0      1.0      0.0      0.0     0.0       0.0  "
      ]
     },
     "execution_count": 46,
     "metadata": {},
     "output_type": "execute_result"
    }
   ],
   "source": [
    "X_train.head()"
   ]
  },
  {
   "cell_type": "code",
   "execution_count": 47,
   "metadata": {
    "collapsed": false
   },
   "outputs": [],
   "source": [
    "s_cols = ['TOTAL_VAL', 'YEAR_SINCE_1800', 'COUNT_CONN', 'TOTAL_INTAKES']\n",
    "X_train_s = X_train[s_cols]\n",
    "X_test_s = X_test[s_cols]"
   ]
  },
  {
   "cell_type": "code",
   "execution_count": 48,
   "metadata": {
    "collapsed": false
   },
   "outputs": [],
   "source": [
    "#standardize numericals (train and test separately)\n",
    "scaler = preprocessing.StandardScaler()\n",
    "X_train_s = pd.DataFrame(scaler.fit_transform(X_train_s))\n",
    "X_train_s.columns = s_cols\n",
    "\n",
    "X_test_s = pd.DataFrame(scaler.transform(X_test_s))\n",
    "X_test_s.columns = s_cols"
   ]
  },
  {
   "cell_type": "code",
   "execution_count": 49,
   "metadata": {
    "collapsed": false
   },
   "outputs": [
    {
     "data": {
      "text/html": [
       "<div>\n",
       "<table border=\"1\" class=\"dataframe\">\n",
       "  <thead>\n",
       "    <tr style=\"text-align: right;\">\n",
       "      <th></th>\n",
       "      <th>TOTAL_VAL</th>\n",
       "      <th>YEAR_SINCE_1800</th>\n",
       "      <th>COUNT_CONN</th>\n",
       "      <th>TOTAL_INTAKES</th>\n",
       "    </tr>\n",
       "  </thead>\n",
       "  <tbody>\n",
       "    <tr>\n",
       "      <th>0</th>\n",
       "      <td>0.005019</td>\n",
       "      <td>-1.851993</td>\n",
       "      <td>-0.873431</td>\n",
       "      <td>-0.330923</td>\n",
       "    </tr>\n",
       "    <tr>\n",
       "      <th>1</th>\n",
       "      <td>-0.812502</td>\n",
       "      <td>-0.294093</td>\n",
       "      <td>2.234522</td>\n",
       "      <td>-0.330923</td>\n",
       "    </tr>\n",
       "    <tr>\n",
       "      <th>2</th>\n",
       "      <td>-0.003957</td>\n",
       "      <td>1.073043</td>\n",
       "      <td>-0.171449</td>\n",
       "      <td>-0.330923</td>\n",
       "    </tr>\n",
       "    <tr>\n",
       "      <th>3</th>\n",
       "      <td>0.135122</td>\n",
       "      <td>0.596135</td>\n",
       "      <td>2.234522</td>\n",
       "      <td>-0.330923</td>\n",
       "    </tr>\n",
       "    <tr>\n",
       "      <th>4</th>\n",
       "      <td>1.115713</td>\n",
       "      <td>0.723311</td>\n",
       "      <td>-0.938915</td>\n",
       "      <td>-0.061499</td>\n",
       "    </tr>\n",
       "  </tbody>\n",
       "</table>\n",
       "</div>"
      ],
      "text/plain": [
       "   TOTAL_VAL  YEAR_SINCE_1800  COUNT_CONN  TOTAL_INTAKES\n",
       "0   0.005019        -1.851993   -0.873431      -0.330923\n",
       "1  -0.812502        -0.294093    2.234522      -0.330923\n",
       "2  -0.003957         1.073043   -0.171449      -0.330923\n",
       "3   0.135122         0.596135    2.234522      -0.330923\n",
       "4   1.115713         0.723311   -0.938915      -0.061499"
      ]
     },
     "execution_count": 49,
     "metadata": {},
     "output_type": "execute_result"
    }
   ],
   "source": [
    "X_test_s.head()"
   ]
  },
  {
   "cell_type": "code",
   "execution_count": 50,
   "metadata": {
    "collapsed": false
   },
   "outputs": [
    {
     "name": "stderr",
     "output_type": "stream",
     "text": [
      "/Users/evaward/anaconda/lib/python2.7/site-packages/ipykernel/__main__.py:2: SettingWithCopyWarning: \n",
      "A value is trying to be set on a copy of a slice from a DataFrame\n",
      "\n",
      "See the caveats in the documentation: http://pandas.pydata.org/pandas-docs/stable/indexing.html#indexing-view-versus-copy\n",
      "  from ipykernel import kernelapp as app\n",
      "/Users/evaward/anaconda/lib/python2.7/site-packages/ipykernel/__main__.py:3: SettingWithCopyWarning: \n",
      "A value is trying to be set on a copy of a slice from a DataFrame\n",
      "\n",
      "See the caveats in the documentation: http://pandas.pydata.org/pandas-docs/stable/indexing.html#indexing-view-versus-copy\n",
      "  app.launch_new_instance()\n"
     ]
    }
   ],
   "source": [
    "#standardize numericals (train and test separately)\n",
    "X_train.drop(labels=s_cols, axis=1, inplace=True)\n",
    "X_test.drop(labels=s_cols, axis=1, inplace=True)\n",
    "\n",
    "X_train = X_train.merge(X_train_s, how='left', left_index=True, right_index=True)\n",
    "X_test = X_test.merge(X_test_s, how='left', left_index=True, right_index=True)"
   ]
  },
  {
   "cell_type": "code",
   "execution_count": 51,
   "metadata": {
    "collapsed": true
   },
   "outputs": [],
   "source": [
    "make_pickle((X_train, X_test, y_train, y_test), '../data/processed/train_test.pkl')"
   ]
  },
  {
   "cell_type": "code",
   "execution_count": null,
   "metadata": {
    "collapsed": true
   },
   "outputs": [],
   "source": []
  }
 ],
 "metadata": {
  "anaconda-cloud": {},
  "kernelspec": {
   "display_name": "Python [conda root]",
   "language": "python",
   "name": "conda-root-py"
  },
  "language_info": {
   "codemirror_mode": {
    "name": "ipython",
    "version": 2
   },
   "file_extension": ".py",
   "mimetype": "text/x-python",
   "name": "python",
   "nbconvert_exporter": "python",
   "pygments_lexer": "ipython2",
   "version": "2.7.12"
  }
 },
 "nbformat": 4,
 "nbformat_minor": 1
}
