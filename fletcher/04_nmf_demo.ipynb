{
 "cells": [
  {
   "cell_type": "code",
   "execution_count": 14,
   "metadata": {
    "collapsed": true
   },
   "outputs": [],
   "source": [
    "import pickle\n",
    "import numpy as np"
   ]
  },
  {
   "cell_type": "code",
   "execution_count": 15,
   "metadata": {
    "collapsed": true
   },
   "outputs": [],
   "source": [
    "with open('data/s_listings.pkl', 'rb') as picklefile:\n",
    "    s_listings = pickle.load(picklefile)"
   ]
  },
  {
   "cell_type": "code",
   "execution_count": 16,
   "metadata": {
    "collapsed": true
   },
   "outputs": [],
   "source": [
    "with open('data/nmf_demo.pkl', 'rb') as picklefile:\n",
    "    nmf, nmf_vectorizer, nmf_doc_topic, nmf_topics = pickle.load(picklefile)"
   ]
  },
  {
   "cell_type": "code",
   "execution_count": 28,
   "metadata": {
    "collapsed": false
   },
   "outputs": [],
   "source": [
    "def match_me(description, level):\n",
    "    '''\n",
    "    description: string, description of traveller\n",
    "    level: ['same', 'mix', 'opposite']\n",
    "            same : find host similar to traveller\n",
    "            mix : find host equally similar and dissimilar to traveller\n",
    "            opposite : find host dissimilar to traveller\n",
    "    '''\n",
    "    levels = {'same': 0, \n",
    "              'mix': int(round(np.median(range(len(nmf_topics))), 0)), \n",
    "              'opposite': len(nmf_topics)-1}\n",
    "    desc = [description]\n",
    "    description_vec = nmf_vectorizer.transform(desc)\n",
    "    \n",
    "    topic_index = np.argsort(nmf.transform(description_vec))[0][::-1][levels[level]]\n",
    "    print nmf_topics[topic_index].title()\n",
    "    print\n",
    "    \n",
    "    host_index = np.argsort(nmf_doc_topic[:,topic_index])[::-1][0]\n",
    "    print s_listings['host_about'].iloc[host_index]"
   ]
  },
  {
   "cell_type": "code",
   "execution_count": 29,
   "metadata": {
    "collapsed": true
   },
   "outputs": [],
   "source": [
    "me = \"I'm a data science student in Chicago. \\\n",
    "      Love to kayak, hike, and practice yoga. \\\n",
    "      Excited to explore Seattle!\""
   ]
  },
  {
   "cell_type": "code",
   "execution_count": null,
   "metadata": {
    "collapsed": false
   },
   "outputs": [],
   "source": [
    "match_me(me, 'same')"
   ]
  },
  {
   "cell_type": "code",
   "execution_count": null,
   "metadata": {
    "collapsed": true
   },
   "outputs": [],
   "source": []
  }
 ],
 "metadata": {
  "anaconda-cloud": {},
  "kernelspec": {
   "display_name": "Python [conda root]",
   "language": "python",
   "name": "conda-root-py"
  },
  "language_info": {
   "codemirror_mode": {
    "name": "ipython",
    "version": 2
   },
   "file_extension": ".py",
   "mimetype": "text/x-python",
   "name": "python",
   "nbconvert_exporter": "python",
   "pygments_lexer": "ipython2",
   "version": "2.7.12"
  }
 },
 "nbformat": 4,
 "nbformat_minor": 1
}
