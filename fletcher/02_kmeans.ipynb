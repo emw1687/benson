{
 "cells": [
  {
   "cell_type": "markdown",
   "metadata": {},
   "source": [
    "### K-means\n",
    "\n",
    "1. Load dataframe of Seattle listings and extract lemmatized host descriptions\n",
    "2. Vectorize lemmatized host descriptions\n",
    "3. Extract features with SVD\n",
    "4. Cluster using kmeans\n",
    "5. Assign each listing a cluster\n",
    "6. Pickle dataframe"
   ]
  },
  {
   "cell_type": "code",
   "execution_count": 1,
   "metadata": {
    "collapsed": true
   },
   "outputs": [],
   "source": [
    "import pickle\n",
    "\n",
    "import pandas as pd\n",
    "\n",
    "from sklearn.feature_extraction.text import TfidfVectorizer\n",
    "from sklearn.decomposition import TruncatedSVD\n",
    "from sklearn.preprocessing import Normalizer\n",
    "from sklearn.pipeline import make_pipeline\n",
    "\n",
    "from sklearn.cluster import KMeans\n",
    "\n",
    "from sklearn.metrics.pairwise import pairwise_distances, cosine_similarity\n",
    "from sklearn.metrics import silhouette_score\n",
    "\n",
    "import matplotlib.pyplot as plt\n",
    "%matplotlib inline"
   ]
  },
  {
   "cell_type": "markdown",
   "metadata": {},
   "source": [
    "#### Load Seattle listings dataframe and extract lemmatized host descriptions"
   ]
  },
  {
   "cell_type": "code",
   "execution_count": 2,
   "metadata": {
    "collapsed": true
   },
   "outputs": [],
   "source": [
    "with open('data/s_listings.pkl', 'rb') as picklefile:\n",
    "    s_listings = pickle.load(picklefile)"
   ]
  },
  {
   "cell_type": "code",
   "execution_count": 3,
   "metadata": {
    "collapsed": true
   },
   "outputs": [],
   "source": [
    "host_lemmas = s_listings['host_lemmas']"
   ]
  },
  {
   "cell_type": "markdown",
   "metadata": {},
   "source": [
    "#### Create TFIDF vector of lemmatized host descriptions\n",
    "In an attempt to only include meaninful words:\n",
    "* Minimum document frequency set to 10: given word must appear in at least 10 host descriptions\n",
    "* Token pattern returns words with 2 or more letters\n",
    "* Only unigrams (default settings of ngram_range)"
   ]
  },
  {
   "cell_type": "code",
   "execution_count": 4,
   "metadata": {
    "collapsed": false
   },
   "outputs": [],
   "source": [
    "tfidf = TfidfVectorizer(ngram_range=(1,2),\n",
    "                        min_df=10,\n",
    "                        token_pattern=\"\\\\b[a-z][a-z]+\\\\b\")\n",
    "tfidf.fit(host_lemmas)\n",
    "x = tfidf.transform(host_lemmas)"
   ]
  },
  {
   "cell_type": "code",
   "execution_count": 5,
   "metadata": {
    "collapsed": false
   },
   "outputs": [
    {
     "name": "stdout",
     "output_type": "stream",
     "text": [
      "1178\n"
     ]
    }
   ],
   "source": [
    "#words in tfidf vector\n",
    "features = tfidf.get_feature_names()\n",
    "print len(features)"
   ]
  },
  {
   "cell_type": "code",
   "execution_count": 6,
   "metadata": {
    "collapsed": false
   },
   "outputs": [
    {
     "data": {
      "text/plain": [
       "[(u'make', 2.8323329856752215),\n",
       " (u'family', 2.9131523924169302),\n",
       " (u'food', 2.9720949280503803),\n",
       " (u'get', 3.0695502642010934),\n",
       " (u'hike', 3.0894316347549222),\n",
       " (u'experience', 3.1304209792881195),\n",
       " (u'look', 3.1388243900844985),\n",
       " (u'explore', 3.19523847936459),\n",
       " (u'friend', 3.1997127597595112),\n",
       " (u'music', 3.2087218297018771)]"
      ]
     },
     "execution_count": 6,
     "metadata": {},
     "output_type": "execute_result"
    }
   ],
   "source": [
    "#10 words with highest tfidf\n",
    "top = tfidf.idf_.argsort()[:10].tolist()\n",
    "[(features[i], tfidf.idf_[i]) for i in top]"
   ]
  },
  {
   "cell_type": "code",
   "execution_count": 7,
   "metadata": {
    "collapsed": false
   },
   "outputs": [
    {
     "data": {
      "text/plain": [
       "[(u'fun thing', 6.2089892584212594),\n",
       " (u'map', 6.2089892584212594),\n",
       " (u'take pride', 6.2089892584212594),\n",
       " (u'draw', 6.2089892584212594),\n",
       " (u'eager', 6.2089892584212594),\n",
       " (u'ease', 6.2089892584212594),\n",
       " (u'embrace', 6.2089892584212594),\n",
       " (u'ensure', 6.2089892584212594),\n",
       " (u'many wonderful', 6.2089892584212594),\n",
       " (u'develop', 6.2089892584212594)]"
      ]
     },
     "execution_count": 7,
     "metadata": {},
     "output_type": "execute_result"
    }
   ],
   "source": [
    "#10 words with lowest tfidf\n",
    "bottom = tfidf.idf_.argsort()[::-1].tolist()[:10]\n",
    "[(features[i], tfidf.idf_[i]) for i in bottom]"
   ]
  },
  {
   "cell_type": "markdown",
   "metadata": {},
   "source": [
    "#### Extract features with SVD"
   ]
  },
  {
   "cell_type": "code",
   "execution_count": 8,
   "metadata": {
    "collapsed": false
   },
   "outputs": [],
   "source": [
    "svd = TruncatedSVD(n_components=650,\n",
    "                   random_state=16)\n",
    "normalizer = Normalizer(copy=False)\n",
    "lsa = make_pipeline(svd, normalizer)"
   ]
  },
  {
   "cell_type": "code",
   "execution_count": 9,
   "metadata": {
    "collapsed": true
   },
   "outputs": [],
   "source": [
    "x_svd = lsa.fit_transform(x)"
   ]
  },
  {
   "cell_type": "code",
   "execution_count": 10,
   "metadata": {
    "collapsed": false
   },
   "outputs": [
    {
     "data": {
      "text/plain": [
       "0.91046837563743943"
      ]
     },
     "execution_count": 10,
     "metadata": {},
     "output_type": "execute_result"
    }
   ],
   "source": [
    "sum(svd.explained_variance_ratio_)"
   ]
  },
  {
   "cell_type": "markdown",
   "metadata": {},
   "source": [
    "As it takes 600 features (of my original 1063) to explain 90% of the variance in my data, I'll just use the original set to preserve interpretability when clustering using kmeans.\n",
    "\n",
    "Also, this implies that my data does not have a strong structure that can be explained in a handful of components"
   ]
  },
  {
   "cell_type": "markdown",
   "metadata": {},
   "source": [
    "#### Cluster using kmeans"
   ]
  },
  {
   "cell_type": "code",
   "execution_count": 11,
   "metadata": {
    "collapsed": false
   },
   "outputs": [],
   "source": [
    "k=12\n",
    "kmeans = KMeans(n_clusters=k, init='k-means++', random_state=16)\n",
    "kmeans.fit(x)\n",
    "clusters = kmeans.labels_.tolist()"
   ]
  },
  {
   "cell_type": "markdown",
   "metadata": {},
   "source": [
    "#### Interpretation\n",
    "* Show top 5 words (features in each cluster centroid with highest TFIDF)\n",
    "* Show host closest to centroid of cluster (either smallest pairwise cosine distance or largest pairwise cosine similarity between host and cluster centroid)"
   ]
  },
  {
   "cell_type": "code",
   "execution_count": 12,
   "metadata": {
    "collapsed": false
   },
   "outputs": [],
   "source": [
    "#\"coordinates\" of cluster centers (tfidf vectors)\n",
    "centroids = kmeans.cluster_centers_\n",
    "\n",
    "#indexes of features in descending order by tfidf value\n",
    "ordered_centroids = centroids.argsort()[:, ::-1]\n",
    "\n",
    "#hosts closest to centroids by either:\n",
    "#1. smallest pairwise cosine distance\n",
    "#center_hosts = pd.DataFrame(pairwise_distances(x, centroids, metric='cosine')).idxmin().tolist()\n",
    "#2. largest pairwise cosine similarity\n",
    "center_hosts = pd.DataFrame(cosine_similarity(x, centroids)).idxmax().tolist()"
   ]
  },
  {
   "cell_type": "code",
   "execution_count": 13,
   "metadata": {
    "collapsed": false,
    "scrolled": false
   },
   "outputs": [
    {
     "name": "stdout",
     "output_type": "stream",
     "text": [
      "Cluster 0\n",
      "TOP 5 WORDS:\n",
      "traveler\n",
      "avid\n",
      "photographer\n",
      "avid traveler\n",
      "fellow traveler\n",
      "REPRESENTATIVE HOST:\n",
      "i am a world traveler who loves an adventure and meeting new people.\n",
      "\n",
      "Cluster 1\n",
      "TOP 5 WORDS:\n",
      "family\n",
      "house\n",
      "friend\n",
      "son\n",
      "name\n",
      "REPRESENTATIVE HOST:\n",
      "we are a family of four from seattle.\n",
      "\n",
      "Cluster 2\n",
      "TOP 5 WORDS:\n",
      "music\n",
      "art\n",
      "food\n",
      "hike\n",
      "play\n",
      "REPRESENTATIVE HOST:\n",
      "i love to travel, garden, backpack, play and listen to music. \r\n",
      "\r\n",
      "i work in the theatre arts making costumes. it's great to be creative in my work. \r\n",
      "\r\n",
      "i like to read and relax on the patio in the evening, but also go out and explore nature by day and music, dance by night. \n",
      "\n",
      "Cluster 3\n",
      "TOP 5 WORDS:\n",
      "husband\n",
      "hike\n",
      "outdoors\n",
      "explore\n",
      "wife\n",
      "REPRESENTATIVE HOST:\n",
      "originally from chicago, i have adapted to my last ten years in seattle by exploring the many neighborhoods the city has to offer and getting out of the city for hiking whenever possible.  my chihuahua annabelle is usually by my side, and is very good at finding sun spots whenever they appear (this is seattle, yes, but they do appear!).  i'm amazed by how many new restaurants and bars have opened in the last couple of years, and like to try new spots whenever possible; having said that, as a vegan i do have my favorites.  i have an art background and enjoy visiting the sam, and also like to bob my head with the rest of the crowd at many of seattle's many music venues. i volunteer at the local animal shelter, am a huge fan of innovative design, and sometimes can be found on a yoga mat.  \r\n",
      " \r\n",
      "if you're looking for things to do while you are in town, here are a few suggestions:\r\n",
      "\r\n",
      "favorite thai place: jai thai in fremont\r\n",
      "favorite breakfast spot: sunlight cafe on roosevelt and 65th\r\n",
      "favorite new-agey store: east-west book store \r\n",
      "best theater for independent films: guild 45 theater in wallingford\r\n",
      "favorite music venue: showbox at the market\r\n",
      "favorite neighborhood for lively night-life: capitol hill\r\n",
      "favorite yoga studio: 8 limbs\r\n",
      "favorite hiking area for moderate hiking: darrington, north cascades.  (try boulder river for a scenic drive and nice day hike).\r\n",
      "favorite challenging hike: mount pilchuck\r\n",
      "\r\n",
      "as a host, i mostly like to offer the house and yard in great shape and let you enjoy your stay on your terms.  if you need or want help or suggestions, please reach out by text or whenever you see me out and about. i have a pretty quick response time whenever possible!  \n",
      "\n",
      "Cluster 4\n",
      "TOP 5 WORDS:\n",
      "look\n",
      "look forward\n",
      "forward\n",
      "meeting\n",
      "forward meeting\n",
      "REPRESENTATIVE HOST:\n",
      "we love travel and travelers.  looking forward to meeting you in the future.\n",
      "\n",
      "Cluster 5\n",
      "TOP 5 WORDS:\n",
      "hill\n",
      "capitol\n",
      "capitol hill\n",
      "neighborhood\n",
      "many\n",
      "REPRESENTATIVE HOST:\n",
      "i have lived in the capitol hill neighborhood for over 20 years.   i enjoy hosting travelers in my favorite neighborhood in seattle - capitol hill near pike/pine, broadway, and downtown seattle.\n",
      "\n",
      "Cluster 6\n",
      "TOP 5 WORDS:\n",
      "real estate\n",
      "estate\n",
      "real\n",
      "agent\n",
      "estate agent\n",
      "REPRESENTATIVE HOST:\n",
      "kim is  an active  licensed real estate broker who manages properties in the bellevue-seattle area.  this location in bellevue is the best. kim manages and sells real estate as a full time agent. \n",
      "\n",
      "Cluster 7\n",
      "TOP 5 WORDS:\n",
      "experience\n",
      "help\n",
      "make\n",
      "local\n",
      "know\n",
      "REPRESENTATIVE HOST:\n",
      "i am originally from california and moved to seattle in 2006. i love music, movies, reading, and trying new bars and restaurants, which makes seattle a great fit for me. i also like traveling and seeing new places, having time to really experience a place, walking around, people-watching, and trying local favorites. \r\n",
      "\r\n",
      "when traveling, i try to be economical while also making sure i have a full, rich experience. i think there are plenty of great places to stay, restaurants to try, and experiences to have that are special and don't have to cost a fortune. \r\n",
      "\r\n",
      "as a host, i want to help my guests have the best experience possible. if that consists of giving them suggestions or even helping them with transportation, i am happy to oblige. if they just want me to show them the space, give them the key, and nothing more, that is fine too. seattle is a great place, and everyone should be able to experience it in the way that suits them best.\r\n",
      "\r\n",
      "as a guest, i am very respectful of the space i am using. i take care with other people's property and always follow my rule of leaving things in at least as good of a state as i find them.\n",
      "\n",
      "Cluster 8\n",
      "TOP 5 WORDS:\n",
      "software\n",
      "designer\n",
      "software engineer\n",
      "engineer\n",
      "graphic designer\n",
      "REPRESENTATIVE HOST:\n",
      "software engineer in facebook living in seattle, wa\n",
      "\n",
      "Cluster 9\n",
      "TOP 5 WORDS:\n",
      "professional\n",
      "young professional\n",
      "young\n",
      "business\n",
      "beautiful\n",
      "REPRESENTATIVE HOST:\n",
      "professional living in seattle.\n",
      "\n",
      "Cluster 10\n",
      "TOP 5 WORDS:\n",
      "food\n",
      "san\n",
      "san francisco\n",
      "francisco\n",
      "non\n",
      "REPRESENTATIVE HOST:\n",
      "liverpool supporter\n",
      "san francisco living\n",
      "love exploring\n",
      "\n",
      "Cluster 11\n",
      "TOP 5 WORDS:\n",
      "northwest\n",
      "pacific northwest\n",
      "pacific\n",
      "beautiful\n",
      "explore\n",
      "REPRESENTATIVE HOST:\n",
      "business professional loving the pacific northwest!\n",
      "\n"
     ]
    }
   ],
   "source": [
    "#number of words to print\n",
    "n=5\n",
    "\n",
    "for i in range(k):\n",
    "    print 'Cluster %d' % i\n",
    "    print 'TOP %d WORDS:' % n\n",
    "    for index in ordered_centroids[i, :n]:\n",
    "        print features[index]\n",
    "    print 'REPRESENTATIVE HOST:'\n",
    "    print s_listings['abouts'].iloc[center_hosts[i]]\n",
    "    print"
   ]
  },
  {
   "cell_type": "markdown",
   "metadata": {},
   "source": [
    "#### Assign clusters to each listing"
   ]
  },
  {
   "cell_type": "code",
   "execution_count": 14,
   "metadata": {
    "collapsed": true
   },
   "outputs": [],
   "source": [
    "clusters = kmeans.labels_"
   ]
  },
  {
   "cell_type": "code",
   "execution_count": 15,
   "metadata": {
    "collapsed": false
   },
   "outputs": [],
   "source": [
    "s_listings['kmeans'] = clusters"
   ]
  },
  {
   "cell_type": "code",
   "execution_count": 16,
   "metadata": {
    "collapsed": false
   },
   "outputs": [
    {
     "data": {
      "text/plain": [
       "0     106\n",
       "1     221\n",
       "2     176\n",
       "3     621\n",
       "4     136\n",
       "5      63\n",
       "6      40\n",
       "7     327\n",
       "8      58\n",
       "9      65\n",
       "10     99\n",
       "11     99\n",
       "Name: kmeans, dtype: int64"
      ]
     },
     "execution_count": 16,
     "metadata": {},
     "output_type": "execute_result"
    }
   ],
   "source": [
    "s_listings['kmeans'].value_counts(sort=False)"
   ]
  },
  {
   "cell_type": "markdown",
   "metadata": {},
   "source": [
    "#### Pickle dataframe"
   ]
  },
  {
   "cell_type": "code",
   "execution_count": 17,
   "metadata": {
    "collapsed": false
   },
   "outputs": [],
   "source": [
    "km = s_listings['kmeans']"
   ]
  },
  {
   "cell_type": "code",
   "execution_count": 18,
   "metadata": {
    "collapsed": true
   },
   "outputs": [],
   "source": [
    "with open('data/kmeans.pkl', 'wb') as picklefile:\n",
    "    pickle.dump(km, picklefile)"
   ]
  },
  {
   "cell_type": "markdown",
   "metadata": {},
   "source": [
    "#### Check inertia and silhouette score for various numbers of clusters (just for kicks)"
   ]
  },
  {
   "cell_type": "code",
   "execution_count": 19,
   "metadata": {
    "collapsed": false
   },
   "outputs": [],
   "source": [
    "inertias = {}\n",
    "silhouettes = {}\n",
    "for k in range(2,20):\n",
    "    kmeans = KMeans(n_clusters=k, init='k-means++', random_state=16)\n",
    "    data_clustered = kmeans.fit_transform(x)\n",
    "    clusters = kmeans.labels_.tolist()\n",
    "    inertias[k] = kmeans.inertia_\n",
    "    silhouettes[k] = silhouette_score(data_clustered, clusters, random_state=16)"
   ]
  },
  {
   "cell_type": "code",
   "execution_count": 20,
   "metadata": {
    "collapsed": false
   },
   "outputs": [
    {
     "data": {
      "image/png": "[encoded data removed]",
      "text/plain": [
       "<matplotlib.figure.Figure at 0x11295db10>"
      ]
     },
     "metadata": {},
     "output_type": "display_data"
    }
   ],
   "source": [
    "plt.scatter(inertias.keys(), inertias.values());"
   ]
  },
  {
   "cell_type": "code",
   "execution_count": 21,
   "metadata": {
    "collapsed": false
   },
   "outputs": [
    {
     "data": {
      "image/png": "[encoded data removed]",
      "text/plain": [
       "<matplotlib.figure.Figure at 0x112c37510>"
      ]
     },
     "metadata": {},
     "output_type": "display_data"
    }
   ],
   "source": [
    "plt.scatter(silhouettes.keys(), silhouettes.values());"
   ]
  },
  {
   "cell_type": "markdown",
   "metadata": {},
   "source": [
    "Low, erratic scores: not good, but not surprising given my data."
   ]
  },
  {
   "cell_type": "code",
   "execution_count": null,
   "metadata": {
    "collapsed": true
   },
   "outputs": [],
   "source": []
  }
 ],
 "metadata": {
  "anaconda-cloud": {},
  "kernelspec": {
   "display_name": "Python [conda root]",
   "language": "python",
   "name": "conda-root-py"
  },
  "language_info": {
   "codemirror_mode": {
    "name": "ipython",
    "version": 2
   },
   "file_extension": ".py",
   "mimetype": "text/x-python",
   "name": "python",
   "nbconvert_exporter": "python",
   "pygments_lexer": "ipython2",
   "version": "2.7.12"
  }
 },
 "nbformat": 4,
 "nbformat_minor": 1
}
