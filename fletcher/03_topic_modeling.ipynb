{
 "cells": [
  {
   "cell_type": "markdown",
   "metadata": {},
   "source": [
    "### Topic modeling with NMF and LDA\n",
    "\n",
    "1. Load dataframe of Seattle listings and extract host descriptions with stopwords removed (but not lemmatized)\n",
    "2. Create vector, run NMF, assign topic distributions to each listing, and pickle results using:\n",
    "    * NMF\n",
    "    * LDA\n",
    "4. Visualize topics LDA topics with pyLDAvis\n",
    "5. Complete LDA with gensim\n",
    "\n",
    "Resources:\n",
    "* [Topic extraction with Non-negative Matrix Factorization and Latent Dirichlet Allocation](http://scikit-learn.org/stable/auto_examples/applications/topics_extraction_with_nmf_lda.html#sphx-glr-auto-examples-applications-topics-extraction-with-nmf-lda-py)\n",
    "* [Practical Topic Finding for Short-Sentence Texts](http://nbviewer.jupyter.org/github/dolaameng/tutorials/blob/master/topic-finding-for-short-texts/topics_for_short_texts.ipynb)\n",
    "* [Topic Modeling with Scikit Learn](https://medium.com/@aneesha/topic-modeling-with-scikit-learn-e80d33668730#.gabw32h5e)\n",
    "* [Improving the Interpretation of Topic Models](https://medium.com/towards-data-science/improving-the-interpretation-of-topic-models-87fd2ee3847d#.8j9ngyi91)\n",
    "* [Care and Feeding of Topic Models: Problems, Diagnostics, and Improvements](https://mimno.infosci.cornell.edu/papers/2014_book_chapter_care_and_feeding.pdf)\n",
    "* [Getting started with Latent Dirichlet Allocation in Python](http://chrisstrelioff.ws/sandbox/2014/11/13/getting_started_with_latent_dirichlet_allocation_in_python.html)\n",
    "* [Exporting Python Data to GeoJSON](http://geoffboeing.com/2015/10/exporting-python-data-geojson/)"
   ]
  },
  {
   "cell_type": "code",
   "execution_count": 1,
   "metadata": {
    "collapsed": true
   },
   "outputs": [],
   "source": [
    "import pickle\n",
    "\n",
    "import pandas as pd\n",
    "import numpy as np\n",
    "\n",
    "from sklearn.feature_extraction.text import CountVectorizer, TfidfVectorizer \n",
    "from sklearn.decomposition import NMF, LatentDirichletAllocation\n",
    "\n",
    "import json\n",
    "\n",
    "from gensim import corpora, models, similarities, matutils\n",
    "\n",
    "import pyLDAvis\n",
    "import pyLDAvis.gensim\n",
    "import pyLDAvis.sklearn\n",
    "pyLDAvis.enable_notebook()\n",
    "\n",
    "import matplotlib.pyplot as plt\n",
    "%matplotlib inline"
   ]
  },
  {
   "cell_type": "code",
   "execution_count": 2,
   "metadata": {
    "collapsed": true
   },
   "outputs": [],
   "source": [
    "#function to display top words within each topic\n",
    "def display_topics(model, W, features, n):\n",
    "    best_hosts = []\n",
    "    for index, topic in enumerate(model.components_):\n",
    "        print 'Topic %d:' % index\n",
    "        print 'TOP %d WORDS:' % n\n",
    "        for i in topic.argsort()[:-n - 1:-1]:\n",
    "            print features[i]\n",
    "        print 'REPRESENTATIVE HOST:'\n",
    "        ind = np.argsort(W[:,index])[::-1][0]\n",
    "        best_hosts.append(ind)\n",
    "        print s_listings['abouts'].iloc[ind]\n",
    "        print\n",
    "    return best_hosts"
   ]
  },
  {
   "cell_type": "code",
   "execution_count": 3,
   "metadata": {
    "collapsed": true
   },
   "outputs": [],
   "source": [
    "#parameters for topic models\n",
    "num_topics = 12\n",
    "num_top_words = 10"
   ]
  },
  {
   "cell_type": "markdown",
   "metadata": {},
   "source": [
    "#### Load Seattle listings dataframe and extract host descriptions (stopwords removed during preprocessing)"
   ]
  },
  {
   "cell_type": "code",
   "execution_count": 4,
   "metadata": {
    "collapsed": true
   },
   "outputs": [],
   "source": [
    "with open('data/s_listings.pkl', 'rb') as picklefile:\n",
    "    s_listings = pickle.load(picklefile)"
   ]
  },
  {
   "cell_type": "code",
   "execution_count": 5,
   "metadata": {
    "collapsed": false
   },
   "outputs": [],
   "source": [
    "nonstop_abouts = s_listings['nonstop_abouts']\n",
    "host_lemmas = s_listings['host_lemmas']"
   ]
  },
  {
   "cell_type": "markdown",
   "metadata": {},
   "source": [
    "### NMF (sklearn)"
   ]
  },
  {
   "cell_type": "markdown",
   "metadata": {},
   "source": [
    "#### Create TFIDF vector using host descriptions (stopwords removed)"
   ]
  },
  {
   "cell_type": "code",
   "execution_count": 6,
   "metadata": {
    "collapsed": false
   },
   "outputs": [
    {
     "data": {
      "text/plain": [
       "4262"
      ]
     },
     "execution_count": 6,
     "metadata": {},
     "output_type": "execute_result"
    }
   ],
   "source": [
    "nmf_vectorizer = TfidfVectorizer(ngram_range=(1,2),\n",
    "                                 min_df=3,\n",
    "                                 token_pattern=\"\\\\b[a-z][a-z]+\\\\b\")\n",
    "\n",
    "tfidf = nmf_vectorizer.fit_transform(host_lemmas)\n",
    "nmf_features = nmf_vectorizer.get_feature_names()\n",
    "len(nmf_features)"
   ]
  },
  {
   "cell_type": "code",
   "execution_count": 7,
   "metadata": {
    "collapsed": false
   },
   "outputs": [
    {
     "data": {
      "text/plain": [
       "[(u'make', 2.8323329856752215),\n",
       " (u'family', 2.9131523924169302),\n",
       " (u'food', 2.9720949280503803),\n",
       " (u'get', 3.0695502642010934),\n",
       " (u'hike', 3.0894316347549222),\n",
       " (u'experience', 3.1304209792881195),\n",
       " (u'look', 3.1388243900844985),\n",
       " (u'explore', 3.19523847936459),\n",
       " (u'friend', 3.1997127597595112),\n",
       " (u'music', 3.2087218297018771)]"
      ]
     },
     "execution_count": 7,
     "metadata": {},
     "output_type": "execute_result"
    }
   ],
   "source": [
    "#10 words with highest tfidf\n",
    "top = nmf_vectorizer.idf_.argsort()[:10].tolist()\n",
    "[(nmf_features[i], nmf_vectorizer.idf_[i]) for i in top]"
   ]
  },
  {
   "cell_type": "code",
   "execution_count": 8,
   "metadata": {
    "collapsed": false
   },
   "outputs": [
    {
     "data": {
      "text/plain": [
       "[(u'abbey', 7.2205901700997392),\n",
       " (u'find cool', 7.2205901700997392),\n",
       " (u'menu', 7.2205901700997392),\n",
       " (u'college student', 7.2205901700997392),\n",
       " (u'college spend', 7.2205901700997392),\n",
       " (u'college graduate', 7.2205901700997392),\n",
       " (u'right heart', 7.2205901700997392),\n",
       " (u'right next', 7.2205901700997392),\n",
       " (u'rise', 7.2205901700997392),\n",
       " (u'mention', 7.2205901700997392)]"
      ]
     },
     "execution_count": 8,
     "metadata": {},
     "output_type": "execute_result"
    }
   ],
   "source": [
    "#10 words with lowest tfidf\n",
    "bottom = nmf_vectorizer.idf_.argsort()[::-1].tolist()[:10]\n",
    "[(nmf_features[i], nmf_vectorizer.idf_[i]) for i in bottom]"
   ]
  },
  {
   "cell_type": "markdown",
   "metadata": {},
   "source": [
    "#### Extract topics using NMF on TFIDF vector of host descriptions\n",
    "* Number of components set to number of topics\n",
    "* init set to Nonnegative Double Singular Value Decomposition (nndsvd), which is better for sparse matrices\n",
    "* solver set to cd (recommended in documentation)"
   ]
  },
  {
   "cell_type": "code",
   "execution_count": 9,
   "metadata": {
    "collapsed": false
   },
   "outputs": [
    {
     "data": {
      "text/plain": [
       "(2011, 12)"
      ]
     },
     "execution_count": 9,
     "metadata": {},
     "output_type": "execute_result"
    }
   ],
   "source": [
    "nmf = NMF(n_components=num_topics,\n",
    "          init='nndsvd',\n",
    "          solver = 'cd',\n",
    "          random_state=16)\n",
    "nmf_doc_topic = nmf.fit_transform(tfidf)\n",
    "nmf_doc_topic.shape"
   ]
  },
  {
   "cell_type": "code",
   "execution_count": 10,
   "metadata": {
    "collapsed": false
   },
   "outputs": [
    {
     "name": "stderr",
     "output_type": "stream",
     "text": [
      "/Users/evaward/anaconda/lib/python2.7/site-packages/ipykernel/__main__.py:1: RuntimeWarning: invalid value encountered in divide\n",
      "  if __name__ == '__main__':\n"
     ]
    }
   ],
   "source": [
    "nmf_doc_topic_norm = nmf_doc_topic/np.sum(nmf_doc_topic, axis=1, keepdims=True)"
   ]
  },
  {
   "cell_type": "code",
   "execution_count": 11,
   "metadata": {
    "collapsed": false
   },
   "outputs": [
    {
     "data": {
      "text/plain": [
       "0.99999999999999978"
      ]
     },
     "execution_count": 11,
     "metadata": {},
     "output_type": "execute_result"
    }
   ],
   "source": [
    "sum(nmf_doc_topic_norm[1])"
   ]
  },
  {
   "cell_type": "code",
   "execution_count": 12,
   "metadata": {
    "collapsed": false
   },
   "outputs": [
    {
     "data": {
      "text/plain": [
       "(12, 4262)"
      ]
     },
     "execution_count": 12,
     "metadata": {},
     "output_type": "execute_result"
    }
   ],
   "source": [
    "nmf_topic_word = nmf.components_\n",
    "nmf_topic_word.shape"
   ]
  },
  {
   "cell_type": "code",
   "execution_count": 13,
   "metadata": {
    "collapsed": false,
    "scrolled": false
   },
   "outputs": [
    {
     "name": "stdout",
     "output_type": "stream",
     "text": [
      "Topic 0:\n",
      "TOP 10 WORDS:\n",
      "make\n",
      "experience\n",
      "help\n",
      "get\n",
      "want\n",
      "know\n",
      "happy\n",
      "feel\n",
      "house\n",
      "visit\n",
      "REPRESENTATIVE HOST:\n",
      "i am originally from california and moved to seattle in 2006. i love music, movies, reading, and trying new bars and restaurants, which makes seattle a great fit for me. i also like traveling and seeing new places, having time to really experience a place, walking around, people-watching, and trying local favorites. \r\n",
      "\r\n",
      "when traveling, i try to be economical while also making sure i have a full, rich experience. i think there are plenty of great places to stay, restaurants to try, and experiences to have that are special and don't have to cost a fortune. \r\n",
      "\r\n",
      "as a host, i want to help my guests have the best experience possible. if that consists of giving them suggestions or even helping them with transportation, i am happy to oblige. if they just want me to show them the space, give them the key, and nothing more, that is fine too. seattle is a great place, and everyone should be able to experience it in the way that suits them best.\r\n",
      "\r\n",
      "as a guest, i am very respectful of the space i am using. i take care with other people's property and always follow my rule of leaving things in at least as good of a state as i find them.\n",
      "\n",
      "Topic 1:\n",
      "TOP 10 WORDS:\n",
      "professional\n",
      "young\n",
      "young professional\n",
      "business professional\n",
      "business\n",
      "meeting\n",
      "company\n",
      "working\n",
      "technology\n",
      "couple\n",
      "REPRESENTATIVE HOST:\n",
      "professional living in seattle.\n",
      "\n",
      "Topic 2:\n",
      "TOP 10 WORDS:\n",
      "look\n",
      "forward\n",
      "look forward\n",
      "meeting\n",
      "forward meeting\n",
      "traveler\n",
      "welcome\n",
      "adventurous\n",
      "house\n",
      "forward welcome\n",
      "REPRESENTATIVE HOST:\n",
      "adventurous and have a love for travel and eagerly look forward to showing our guests a great time! \n",
      "\n",
      "Topic 3:\n",
      "TOP 10 WORDS:\n",
      "northwest\n",
      "pacific northwest\n",
      "pacific\n",
      "beauty\n",
      "beautiful\n",
      "native\n",
      "beautiful pacific\n",
      "area\n",
      "beauty pacific\n",
      "offer\n",
      "REPRESENTATIVE HOST:\n",
      "we love the northwest. \n",
      "\n",
      "Topic 4:\n",
      "TOP 10 WORDS:\n",
      "hike\n",
      "outdoors\n",
      "ski\n",
      "bike\n",
      "sport\n",
      "camp\n",
      "run\n",
      "mountain\n",
      "climb\n",
      "spend\n",
      "REPRESENTATIVE HOST:\n",
      "we are all about sports and the outdoors.\n",
      "\n",
      "Topic 5:\n",
      "TOP 10 WORDS:\n",
      "family\n",
      "friend\n",
      "friend family\n",
      "young\n",
      "young family\n",
      "cook\n",
      "child\n",
      "spend\n",
      "kid\n",
      "spend family\n",
      "REPRESENTATIVE HOST:\n",
      "we are a family of four from seattle.\n",
      "\n",
      "Topic 6:\n",
      "TOP 10 WORDS:\n",
      "school\n",
      "move\n",
      "student\n",
      "university\n",
      "raise\n",
      "business\n",
      "san\n",
      "husband\n",
      "designer\n",
      "wife\n",
      "REPRESENTATIVE HOST:\n",
      "born and raised in hawaii . went to college and grad school in michigan . moved to san francisco for work . now in seattle . architect . like to travel + eat . interested in photography + apparel design\n",
      "\n",
      "Topic 7:\n",
      "TOP 10 WORDS:\n",
      "hill\n",
      "capitol\n",
      "capitol hill\n",
      "neighborhood\n",
      "apartment\n",
      "many\n",
      "area\n",
      "hill neighborhood\n",
      "favorite\n",
      "downtown\n",
      "REPRESENTATIVE HOST:\n",
      "i have lived in the capitol hill neighborhood for over 20 years.   i enjoy hosting travelers in my favorite neighborhood in seattle - capitol hill near pike/pine, broadway, and downtown seattle.\n",
      "\n",
      "Topic 8:\n",
      "TOP 10 WORDS:\n",
      "real\n",
      "real estate\n",
      "estate\n",
      "agent\n",
      "estate agent\n",
      "property\n",
      "wife\n",
      "manage\n",
      "estate broker\n",
      "broker\n",
      "REPRESENTATIVE HOST:\n",
      "local real estate agent and property owner\n",
      "\n",
      "Topic 9:\n",
      "TOP 10 WORDS:\n",
      "explore\n",
      "adventure\n",
      "explore outdoors\n",
      "name\n",
      "husband\n",
      "filmmaker\n",
      "local\n",
      "pleasure\n",
      "wonderful\n",
      "excite\n",
      "REPRESENTATIVE HOST:\n",
      "love to travel and explore new places.\n",
      "\n",
      "Topic 10:\n",
      "TOP 10 WORDS:\n",
      "food\n",
      "music\n",
      "art\n",
      "music food\n",
      "dance\n",
      "cook\n",
      "wine\n",
      "yoga\n",
      "movie\n",
      "eat\n",
      "REPRESENTATIVE HOST:\n",
      "i love people, food, and traveling.\n",
      "\n",
      "Topic 11:\n",
      "TOP 10 WORDS:\n",
      "software\n",
      "engineer\n",
      "software engineer\n",
      "name\n",
      "responsible\n",
      "wife\n",
      "startup\n",
      "facebook\n",
      "microsoft\n",
      "play\n",
      "REPRESENTATIVE HOST:\n",
      "software engineer exploring seattle\n",
      "\n"
     ]
    }
   ],
   "source": [
    "best_nmf_hosts = display_topics(nmf, nmf_doc_topic, nmf_features, num_top_words)"
   ]
  },
  {
   "cell_type": "code",
   "execution_count": 14,
   "metadata": {
    "collapsed": false
   },
   "outputs": [
    {
     "data": {
      "text/plain": [
       "[435, 301, 1829, 581, 1913, 572, 1965, 1402, 23, 1672, 1742, 1743]"
      ]
     },
     "execution_count": 14,
     "metadata": {},
     "output_type": "execute_result"
    }
   ],
   "source": [
    "best_nmf_hosts"
   ]
  },
  {
   "cell_type": "code",
   "execution_count": 15,
   "metadata": {
    "collapsed": false
   },
   "outputs": [
    {
     "data": {
      "text/plain": [
       "u'software engineer exploring seattle'"
      ]
     },
     "execution_count": 15,
     "metadata": {},
     "output_type": "execute_result"
    }
   ],
   "source": [
    "s_listings['abouts'].iloc[best_nmf_hosts[-1]]"
   ]
  },
  {
   "cell_type": "code",
   "execution_count": 120,
   "metadata": {
    "collapsed": true
   },
   "outputs": [],
   "source": [
    "nmf_topics = ['local guide', 'professional', 'excited traveler', \\\n",
    "           'pnw', 'outdoorsy', 'family & friends', 'educational transplants', \\\n",
    "          'capitol hill', 'real_estate', 'explorers', 'artsy', 'engineer']"
   ]
  },
  {
   "cell_type": "code",
   "execution_count": 17,
   "metadata": {
    "collapsed": false
   },
   "outputs": [],
   "source": [
    "#test_host = ['love to kayak, hike, climb, and be outdoors in pnw']\n",
    "test_host = ['love to kayak, hike, climb, and be outdoors in pacific northwest']"
   ]
  },
  {
   "cell_type": "code",
   "execution_count": 119,
   "metadata": {
    "collapsed": false
   },
   "outputs": [
    {
     "data": {
      "text/plain": [
       "12"
      ]
     },
     "execution_count": 119,
     "metadata": {},
     "output_type": "execute_result"
    }
   ],
   "source": [
    "len(nmf_topics)"
   ]
  },
  {
   "cell_type": "code",
   "execution_count": 18,
   "metadata": {
    "collapsed": false
   },
   "outputs": [],
   "source": [
    "test_host_vec = nmf_vectorizer.transform(test_host)"
   ]
  },
  {
   "cell_type": "code",
   "execution_count": 19,
   "metadata": {
    "collapsed": false
   },
   "outputs": [
    {
     "data": {
      "text/plain": [
       "3"
      ]
     },
     "execution_count": 19,
     "metadata": {},
     "output_type": "execute_result"
    }
   ],
   "source": [
    "np.argmax(nmf.transform(test_host_vec)[0])"
   ]
  },
  {
   "cell_type": "code",
   "execution_count": 121,
   "metadata": {
    "collapsed": true
   },
   "outputs": [],
   "source": [
    "nmf_demo = [nmf, nmf_vectorizer, nmf_doc_topic, nmf_topics]\n",
    "with open('data/nmf_demo.pkl', 'wb') as picklefile:\n",
    "    pickle.dump(nmf_demo, picklefile)"
   ]
  },
  {
   "cell_type": "markdown",
   "metadata": {},
   "source": [
    "#### A couple visualizations!"
   ]
  },
  {
   "cell_type": "code",
   "execution_count": 20,
   "metadata": {
    "collapsed": false
   },
   "outputs": [
    {
     "data": {
      "text/plain": [
       "4262"
      ]
     },
     "execution_count": 20,
     "metadata": {},
     "output_type": "execute_result"
    }
   ],
   "source": [
    "len(nmf_topic_word[0])"
   ]
  },
  {
   "cell_type": "code",
   "execution_count": null,
   "metadata": {
    "collapsed": false
   },
   "outputs": [],
   "source": [
    "#plot importance of each word for each topic (1 plot per topic)\n",
    "def plot_word_prob(topics, topic_word):\n",
    "    f, ax= plt.subplots(len(topics), 1, figsize=(8, 24), sharex=True)\n",
    "    x_min = -50\n",
    "    x_max = len(topic_word[0]) + 50\n",
    "    y_min = 0\n",
    "    \n",
    "    for i, k in enumerate(topics):\n",
    "        y_max = round(max(topic_word[i])*1.1, 1)\n",
    "        ax[i].stem(topic_word[i], linefmt='b-', markerfmt='bo', basefmt='w-')\n",
    "        ax[i].set_xlim(x_min, x_max)\n",
    "        ax[i].set_ylim(y_min, y_max)\n",
    "        ax[i].set_ylabel(\"Importance\")\n",
    "        ax[i].set_title(\"topic {}\".format(k))\n",
    "\n",
    "    plt.tight_layout()\n",
    "    plt.show()"
   ]
  },
  {
   "cell_type": "code",
   "execution_count": null,
   "metadata": {
    "collapsed": false
   },
   "outputs": [],
   "source": [
    "round(max(nmf_topic_word.flatten())*1.1, 1)"
   ]
  },
  {
   "cell_type": "code",
   "execution_count": null,
   "metadata": {
    "collapsed": false
   },
   "outputs": [],
   "source": [
    "plot_word_prob(nmf_topics, nmf_topic_word)"
   ]
  },
  {
   "cell_type": "code",
   "execution_count": null,
   "metadata": {
    "collapsed": false
   },
   "outputs": [],
   "source": [
    "#plot importance of all topics for document most representative of each topic (1 plot per topic)\n",
    "def plot_doc_prob(best_hosts, doc_topic):\n",
    "    f, ax= plt.subplots(len(best_hosts), 1, figsize=(8, 24), sharex=True)\n",
    "    x_min = -1\n",
    "    x_max = len(best_hosts)\n",
    "    y_min = 0\n",
    "    y_max = max(1, round(max(doc_topic.flatten())*1.1, 1))\n",
    "    \n",
    "    for i, k in enumerate(best_hosts):\n",
    "        ax[i].stem(doc_topic[k], linefmt='r-', markerfmt='ro', basefmt='w-')\n",
    "        ax[i].set_xlim(x_min, x_max)\n",
    "        ax[i].set_ylim(y_min, y_max)\n",
    "        ax[i].set_ylabel(\"Importance\")\n",
    "        ax[i].set_title(\"Document {}\".format(k))\n",
    "\n",
    "    plt.tight_layout()\n",
    "    plt.show()"
   ]
  },
  {
   "cell_type": "code",
   "execution_count": null,
   "metadata": {
    "collapsed": false,
    "scrolled": false
   },
   "outputs": [],
   "source": [
    "plot_doc_prob(best_nmf_hosts, nmf_doc_topic)"
   ]
  },
  {
   "cell_type": "markdown",
   "metadata": {},
   "source": [
    "#### Visualizations for presenting"
   ]
  },
  {
   "cell_type": "code",
   "execution_count": 53,
   "metadata": {
    "collapsed": false
   },
   "outputs": [],
   "source": [
    "import seaborn as sns\n",
    "sns.set_style('white')"
   ]
  },
  {
   "cell_type": "code",
   "execution_count": null,
   "metadata": {
    "collapsed": true
   },
   "outputs": [],
   "source": [
    "viz_topics = {0: 1, 1: 4}"
   ]
  },
  {
   "cell_type": "code",
   "execution_count": 94,
   "metadata": {
    "collapsed": true
   },
   "outputs": [],
   "source": [
    "def plot_for_viz(index, topic, topic_word, features):\n",
    "    print features[topic_word[index].argmax()[:3]]\n",
    "    \n",
    "    f, ax= plt.subplots(1, 1, figsize=(8, 2), sharex=True)\n",
    "    x_min = -10\n",
    "    x_max = len(topic_word[0])+10\n",
    "    y_min = 0\n",
    "    y_max = round(max(topic_word[index])*1.1, 1)\n",
    "    \n",
    "    ax.set_xlim(x_min, x_max)\n",
    "    ax.set_ylim(y_min, y_max)\n",
    "    ax.set_frame_on(False)\n",
    "    ax.xaxis.set_visible(False)\n",
    "    ax.yaxis.set_visible(False)\n",
    "    \n",
    "    markerline, stemlines, baseline = ax.stem(topic_word[index]) #, linefmt='k-', markerfmt='ko', basefmt='k-')\n",
    "    plt.setp(markerline, 'color', '#595959')\n",
    "    plt.setp(stemlines, 'color', '#595959')\n",
    "    plt.setp(baseline, 'color', '#595959')\n",
    "    \n",
    "    plt.tight_layout()\n",
    "    plt.show()"
   ]
  },
  {
   "cell_type": "code",
   "execution_count": 96,
   "metadata": {
    "collapsed": false
   },
   "outputs": [
    {
     "name": "stdout",
     "output_type": "stream",
     "text": [
      "hike\n"
     ]
    },
    {
     "data": {
      "image/png": "[encoded data removed]",
      "text/plain": [
       "<matplotlib.figure.Figure at 0x125e845d0>"
      ]
     },
     "metadata": {},
     "output_type": "display_data"
    }
   ],
   "source": [
    "plot_for_viz(4, 'outdoorsy', nmf_topic_word, nmf_features)"
   ]
  },
  {
   "cell_type": "code",
   "execution_count": 97,
   "metadata": {
    "collapsed": false
   },
   "outputs": [
    {
     "name": "stdout",
     "output_type": "stream",
     "text": [
      "professional\n"
     ]
    },
    {
     "data": {
      "image/png": "[encoded data removed]",
      "text/plain": [
       "<matplotlib.figure.Figure at 0x12f9363d0>"
      ]
     },
     "metadata": {},
     "output_type": "display_data"
    }
   ],
   "source": [
    "plot_for_viz(1, 'professional', nmf_topic_word, nmf_features)"
   ]
  },
  {
   "cell_type": "markdown",
   "metadata": {
    "collapsed": false
   },
   "source": [
    "#### Assign topic distribution to each listing"
   ]
  },
  {
   "cell_type": "code",
   "execution_count": 98,
   "metadata": {
    "collapsed": false
   },
   "outputs": [],
   "source": [
    "nmf_topics = pd.DataFrame(nmf_doc_topic, columns=nmf_topics)"
   ]
  },
  {
   "cell_type": "code",
   "execution_count": 99,
   "metadata": {
    "collapsed": false
   },
   "outputs": [],
   "source": [
    "nmf_topics = nmf_topics.merge(s_listings[['abouts', 'latitude', 'longitude']], left_index=True, right_index=True)"
   ]
  },
  {
   "cell_type": "code",
   "execution_count": 100,
   "metadata": {
    "collapsed": true
   },
   "outputs": [],
   "source": [
    "#create geojson of topic distributions for visualization on web map\n",
    "def df_to_geojson(df, properties, lat='latitude', lon='longitude'):\n",
    "    geojson = {'type':'FeatureCollection', 'features':[]}\n",
    "    for _, row in df.iterrows():\n",
    "        feature = {'type':'Feature',\n",
    "                   'properties':{},\n",
    "                   'geometry':{'type':'Point',\n",
    "                               'coordinates':[]}}\n",
    "        feature['geometry']['coordinates'] = [row[lon],row[lat]]\n",
    "        for prop in properties:\n",
    "            feature['properties'][prop] = row[prop]\n",
    "        geojson['features'].append(feature)\n",
    "    return geojson"
   ]
  },
  {
   "cell_type": "code",
   "execution_count": 101,
   "metadata": {
    "collapsed": false
   },
   "outputs": [],
   "source": [
    "columns = nmf_topics.columns.tolist()\n",
    "columns += ['abouts']\n",
    "geojson = df_to_geojson(nmf_topics, columns)"
   ]
  },
  {
   "cell_type": "code",
   "execution_count": 102,
   "metadata": {
    "collapsed": false
   },
   "outputs": [],
   "source": [
    "output_filename='viz/nmf_topics.json'\n",
    "with open(output_filename, 'wb') as output_file:\n",
    "    json.dump(geojson, output_file, indent=2)"
   ]
  },
  {
   "cell_type": "code",
   "execution_count": 103,
   "metadata": {
    "collapsed": false
   },
   "outputs": [],
   "source": [
    "nmf_topics.to_csv('viz/nmf_topics.csv', encoding='utf-8')"
   ]
  },
  {
   "cell_type": "markdown",
   "metadata": {},
   "source": [
    "#### Pickle nmf topics dataframe"
   ]
  },
  {
   "cell_type": "code",
   "execution_count": 104,
   "metadata": {
    "collapsed": false
   },
   "outputs": [],
   "source": [
    "with open('data/nmf_topics.pkl', 'wb') as picklefile:\n",
    "    pickle.dump(nmf_topics, picklefile)"
   ]
  },
  {
   "cell_type": "markdown",
   "metadata": {},
   "source": [
    "### LDA (sklearn)"
   ]
  },
  {
   "cell_type": "markdown",
   "metadata": {},
   "source": [
    "#### Create term frequency vector using host descriptions (stopwords removed)"
   ]
  },
  {
   "cell_type": "code",
   "execution_count": 105,
   "metadata": {
    "collapsed": false
   },
   "outputs": [
    {
     "data": {
      "text/plain": [
       "4262"
      ]
     },
     "execution_count": 105,
     "metadata": {},
     "output_type": "execute_result"
    }
   ],
   "source": [
    "# Create a CountVectorizer for parsing/counting words\n",
    "lda_vectorizer = CountVectorizer(ngram_range=(1,2),\n",
    "                                 min_df=3,\n",
    "                                 token_pattern=\"\\\\b[a-z][a-z]+\\\\b\")\n",
    "counts = lda_vectorizer.fit_transform(host_lemmas)\n",
    "lda_features = lda_vectorizer.get_feature_names()\n",
    "len(lda_features)"
   ]
  },
  {
   "cell_type": "markdown",
   "metadata": {},
   "source": [
    "#### Extract topics using LDA on counts vector of host descriptions\n",
    "* Number of components set to number of topics\n",
    "* Learning method set to online for better performance"
   ]
  },
  {
   "cell_type": "code",
   "execution_count": 106,
   "metadata": {
    "collapsed": false
   },
   "outputs": [],
   "source": [
    "lda = LatentDirichletAllocation(n_topics=num_topics,\n",
    "                                learning_method='online',\n",
    "                                random_state=16)\n",
    "lda_doc_topic = lda.fit_transform(counts)"
   ]
  },
  {
   "cell_type": "code",
   "execution_count": 107,
   "metadata": {
    "collapsed": false
   },
   "outputs": [],
   "source": [
    "lda_topic_word = lda.components_"
   ]
  },
  {
   "cell_type": "code",
   "execution_count": 108,
   "metadata": {
    "collapsed": false,
    "scrolled": false
   },
   "outputs": [
    {
     "name": "stdout",
     "output_type": "stream",
     "text": [
      "Topic 0:\n",
      "TOP 10 WORDS:\n",
      "make\n",
      "experience\n",
      "house\n",
      "get\n",
      "family\n",
      "look\n",
      "visit\n",
      "local\n",
      "well\n",
      "explore\n",
      "REPRESENTATIVE HOST:\n",
      "i am originally from naples, italy, but i also lived for a few years in london, uk, before moving to seattle six years ago. i try to go back to europe at least once a year. my roots there are still really strong, even though i find myself more and more falling in love with this crazy unique place that is the us.\r\n",
      "\r\n",
      "i love to travel and visit different places. in the last few years i visited mexico (quite a few times), bali, hong kong, dubai, oman, doha, vietnam, and i can't wait to start planning my next big trip: scandinavia!\r\n",
      "\r\n",
      "being a traveler myself, i believe i understand what a person is looking for when moving from point a to point b: comfort, good vibes, good locations, good transport options, and i believe that our space offers that in abundance. of course, no place is perfect for everyone. in italian we have a saying: la vita è bella perché è varia (life is beautiful because it's varied). and i live by that. \r\n",
      "\r\n",
      "in 2014 i finally became a fully-fledged yoga teacher in the anusara tradition. although i practice regularly, i have not yet found a space (more a mental space than an actual studio) to teach. but i patiently wait. it will happen once it's time. in the meantime, i enjoy exploring different studios and traditions. seattle has so much to offer when it comes to yoga. ask me for tips!\r\n",
      "\r\n",
      "diversity and equality for all!!!\n",
      "\n",
      "Topic 1:\n",
      "TOP 10 WORDS:\n",
      "design\n",
      "food\n",
      "house\n",
      "retire\n",
      "child\n",
      "photographer\n",
      "music\n",
      "coach\n",
      "freelance\n",
      "grown\n",
      "REPRESENTATIVE HOST:\n",
      "retired yet busier than ever with a part time job as a german translator for (website hidden), selling on ebay and and taking care of our house with the help of my husband. \r\n",
      "hobbies include travel, photography and writing, vintage jazz among other interests.\r\n",
      "ever since i got involved and introduced the european bed and breakfast concept to the northwest in 1981 i have also dedicated myself to the comfort and care of my guests from around the world. the smallest detail is not overlooked and i have so many returning happy guests. stay here and judge for yourself!\n",
      "\n",
      "Topic 2:\n",
      "TOP 10 WORDS:\n",
      "yoga\n",
      "artist\n",
      "art\n",
      "practice\n",
      "cup\n",
      "respectful\n",
      "kind\n",
      "earth\n",
      "thing\n",
      "mother\n",
      "REPRESENTATIVE HOST:\n",
      "i'm a mother, an artist, a thinker and meditator.\r\n",
      "a pragmatic idealist and romantic dreamer. \r\n",
      "im complex but with simple needs, in a constant search for balance, beauty and harmony.....\r\n",
      "and i'm growing, evolving into true self more every day.....as an artist and art instructor,  i travel extensively, chasing the unique light, right color or perfect spot to paint. art, oil painting, nature, healthy lifestyle  are my biggest passions in life.\r\n",
      "i'm also an avid reader, salsa dancer and yoga practitioner.\r\n",
      " \r\n",
      "i'm easy going, but attentive to your needs. good, kind and flowing communication is a paramount for me. i try to treat all people just like want to be treated, be helpful and humble in any ways and aspects. and i know for sure , it's better be kind than be right! \n",
      "\n",
      "Topic 3:\n",
      "TOP 10 WORDS:\n",
      "queen\n",
      "anne\n",
      "queen anne\n",
      "neighborhood\n",
      "video\n",
      "see soon\n",
      "video game\n",
      "game\n",
      "joe\n",
      "hope see\n",
      "REPRESENTATIVE HOST:\n",
      "hi, my name is becky and i'd be delighted to host you in seattle.  queen anne is really a great neighborhood for travelers -- the homey-ness of a beautiful neighborhood and close to everything.  hope to see you soon!\n",
      "\n",
      "Topic 4:\n",
      "TOP 10 WORDS:\n",
      "anywhere\n",
      "hiking\n",
      "found\n",
      "locate\n",
      "alki\n",
      "anywhere else\n",
      "bar restaurant\n",
      "ray\n",
      "bustle\n",
      "else\n",
      "REPRESENTATIVE HOST:\n",
      "i'm a preschool teacher and artist here in silver-skied seattle. i own a lot of books and cool sweaters.\n",
      "\n",
      "Topic 5:\n",
      "TOP 10 WORDS:\n",
      "move\n",
      "art\n",
      "hill\n",
      "food\n",
      "raise\n",
      "friend\n",
      "read\n",
      "born\n",
      "capitol\n",
      "capitol hill\n",
      "REPRESENTATIVE HOST:\n",
      "i'm a writer/editor/project manager who works from home for a consulting company headquartered in seattle. i have also, to name a few former professions, written cookware catalogs, marketed wine, and run a professional theatre company. \r\n",
      "i'm originally from the east coast, but have lived for many years in the pacific northwest (alaska, oregon, and washington). i love to travel, especially in europe, and also am passionate about cooking, baking, reading, and knitting. \r\n",
      "\n",
      "\n",
      "Topic 6:\n",
      "TOP 10 WORDS:\n",
      "apartment\n",
      "beer\n",
      "st\n",
      "rico\n",
      "veterinarian\n",
      "puerto rico\n",
      "st john\n",
      "alive\n",
      "lodge\n",
      "puerto\n",
      "REPRESENTATIVE HOST:\n",
      "from seattle, veterinarian- love to travel!\n",
      "\n",
      "Topic 7:\n",
      "TOP 10 WORDS:\n",
      "please\n",
      "let know\n",
      "board\n",
      "hesitate\n",
      "los\n",
      "let\n",
      "angeles\n",
      "los angeles\n",
      "question\n",
      "know\n",
      "REPRESENTATIVE HOST:\n",
      "my name is blair and i'm glad you are interested in this house.  i've lived in seattle my entire life, and would be happy to help you plan your trip.  \r\n",
      "\r\n",
      "please let me know if you have any questions.\r\n",
      "\r\n",
      "-blair\n",
      "\n",
      "Topic 8:\n",
      "TOP 10 WORDS:\n",
      "lay\n",
      "lay back\n",
      "back\n",
      "everyday\n",
      "photos\n",
      "newlywed\n",
      "pretty lay\n",
      "outdoors explore\n",
      "friend dinner\n",
      "pioneer square\n",
      "REPRESENTATIVE HOST:\n",
      "i am a writer on the rise who loves traveling, meeting interesting people, and soccer! there is more imagination in life than exist in our dreams, and i carry that with me everyday. this life is meant to explore the boundaries of our minds and the world around us.\n",
      "\n",
      "Topic 9:\n",
      "TOP 10 WORDS:\n",
      "hike\n",
      "bike\n",
      "art\n",
      "play\n",
      "music\n",
      "ski\n",
      "camp\n",
      "west\n",
      "spend\n",
      "mountain\n",
      "REPRESENTATIVE HOST:\n",
      "i am a 35 yr old female born and raised in seattle. moved back here after 7 years in olympia. i spent the last year traveling to isreal, haiti, dominican republic, new york , kenya and tanzania. my background is in education and counseling. recently i was at the seattle girls' school for 5 years running the mentoring program, athletics and elective program. i am currently applying for grad school at uw in public administration. i love to garden, bike, snowboard, dance and bbq.\n",
      "\n",
      "Topic 10:\n",
      "TOP 10 WORDS:\n",
      "young\n",
      "professional\n",
      "young professional\n",
      "northwest\n",
      "sound\n",
      "business\n",
      "trail\n",
      "beauty\n",
      "puget\n",
      "puget sound\n",
      "REPRESENTATIVE HOST:\n",
      "my wife and i are property owners and managers for 8 years now of multiple properties in greater seattle area and south puget sound.  we love the natural beauty of the pacific northwest and enjoy sharing our properties with others.\n",
      "\n",
      "Topic 11:\n",
      "TOP 10 WORDS:\n",
      "real\n",
      "estate\n",
      "real estate\n",
      "agent\n",
      "estate agent\n",
      "property\n",
      "southern california\n",
      "southern\n",
      "specialize\n",
      "hotel room\n",
      "REPRESENTATIVE HOST:\n",
      "local real estate agent and property owner\n",
      "\n"
     ]
    }
   ],
   "source": [
    "best_lda_hosts = display_topics(lda, lda_doc_topic, lda_features, num_top_words)"
   ]
  },
  {
   "cell_type": "code",
   "execution_count": 109,
   "metadata": {
    "collapsed": true
   },
   "outputs": [],
   "source": [
    "lda_topics = ['local guide', 'retired w/hobbies', 'hippies', 'queen anne', \\\n",
    "             'topic 4', 'capitol hill', 'topic 6', 'from LA', 'laid back', \\\n",
    "              'outdoorsy', 'professional', 'real estate']"
   ]
  },
  {
   "cell_type": "code",
   "execution_count": 110,
   "metadata": {
    "collapsed": true
   },
   "outputs": [],
   "source": [
    "lda_topic_word_norm = lda_topic_word/np.sum(lda_topic_word, axis=1, keepdims=True)"
   ]
  },
  {
   "cell_type": "code",
   "execution_count": 111,
   "metadata": {
    "collapsed": false
   },
   "outputs": [
    {
     "data": {
      "text/plain": [
       "350.0"
      ]
     },
     "execution_count": 111,
     "metadata": {},
     "output_type": "execute_result"
    }
   ],
   "source": [
    "round(max(lda_topic_word.flatten())*1.1, -1)"
   ]
  },
  {
   "cell_type": "code",
   "execution_count": null,
   "metadata": {
    "collapsed": false
   },
   "outputs": [],
   "source": [
    "plot_word_prob(lda_topics, lda_topic_word)"
   ]
  },
  {
   "cell_type": "code",
   "execution_count": null,
   "metadata": {
    "collapsed": false
   },
   "outputs": [],
   "source": [
    "plot_doc_prob(best_lda_hosts, lda_doc_topic)"
   ]
  },
  {
   "cell_type": "code",
   "execution_count": null,
   "metadata": {
    "collapsed": false
   },
   "outputs": [],
   "source": [
    "test_host = ['east coast']"
   ]
  },
  {
   "cell_type": "code",
   "execution_count": null,
   "metadata": {
    "collapsed": false
   },
   "outputs": [],
   "source": [
    "test_host_vec = lda_vectorizer.transform(test_host)"
   ]
  },
  {
   "cell_type": "code",
   "execution_count": null,
   "metadata": {
    "collapsed": false
   },
   "outputs": [],
   "source": [
    "np.argmax(lda.transform(test_host_vec)[0])"
   ]
  },
  {
   "cell_type": "code",
   "execution_count": null,
   "metadata": {
    "collapsed": false
   },
   "outputs": [],
   "source": [
    "test_host_vec"
   ]
  },
  {
   "cell_type": "markdown",
   "metadata": {},
   "source": [
    "#### Visualizations for presenting"
   ]
  },
  {
   "cell_type": "code",
   "execution_count": 112,
   "metadata": {
    "collapsed": false
   },
   "outputs": [
    {
     "name": "stdout",
     "output_type": "stream",
     "text": [
      "hike\n"
     ]
    },
    {
     "data": {
      "image/png": "[encoded data removed]",
      "text/plain": [
       "<matplotlib.figure.Figure at 0x1238235d0>"
      ]
     },
     "metadata": {},
     "output_type": "display_data"
    }
   ],
   "source": [
    "plot_for_viz(9, 'outdoorsy', lda_topic_word, lda_features)"
   ]
  },
  {
   "cell_type": "code",
   "execution_count": 113,
   "metadata": {
    "collapsed": false
   },
   "outputs": [
    {
     "name": "stdout",
     "output_type": "stream",
     "text": [
      "young\n"
     ]
    },
    {
     "data": {
      "image/png": "[encoded data removed]",
      "text/plain": [
       "<matplotlib.figure.Figure at 0x12fb59bd0>"
      ]
     },
     "metadata": {},
     "output_type": "display_data"
    }
   ],
   "source": [
    "plot_for_viz(10, 'professional', lda_topic_word, lda_features)"
   ]
  },
  {
   "cell_type": "markdown",
   "metadata": {
    "collapsed": false
   },
   "source": [
    "#### Assign topic distribution to each listing"
   ]
  },
  {
   "cell_type": "code",
   "execution_count": null,
   "metadata": {
    "collapsed": false
   },
   "outputs": [],
   "source": [
    "lda_topics = pd.DataFrame(lda_doc_topic, columns=lda_topics)"
   ]
  },
  {
   "cell_type": "code",
   "execution_count": null,
   "metadata": {
    "collapsed": false
   },
   "outputs": [],
   "source": [
    "lda_topics.head()"
   ]
  },
  {
   "cell_type": "markdown",
   "metadata": {},
   "source": [
    "#### Pickle lda topics dataframe"
   ]
  },
  {
   "cell_type": "code",
   "execution_count": null,
   "metadata": {
    "collapsed": false
   },
   "outputs": [],
   "source": [
    "with open('data/lda_topics.pkl', 'wb') as picklefile:\n",
    "    pickle.dump(lda_topics, picklefile)"
   ]
  },
  {
   "cell_type": "markdown",
   "metadata": {},
   "source": [
    "### gensim LDA"
   ]
  },
  {
   "cell_type": "code",
   "execution_count": null,
   "metadata": {
    "collapsed": false
   },
   "outputs": [],
   "source": [
    "# Create the term-document matrix\n",
    "# Transpose it so the terms are the rows\n",
    "gensim_counts = tfidf.transpose()"
   ]
  },
  {
   "cell_type": "code",
   "execution_count": null,
   "metadata": {
    "collapsed": false
   },
   "outputs": [],
   "source": [
    "gensim_counts.shape"
   ]
  },
  {
   "cell_type": "markdown",
   "metadata": {},
   "source": [
    "##### Convert to gensim\n",
    "We need to convert our sparse `scipy` matrix to a `gensim`-friendly object called a Corpus:"
   ]
  },
  {
   "cell_type": "code",
   "execution_count": null,
   "metadata": {
    "collapsed": false
   },
   "outputs": [],
   "source": [
    "# Convert sparse matrix of counts to a gensim corpus\n",
    "corpus = matutils.Sparse2Corpus(gensim_counts)"
   ]
  },
  {
   "cell_type": "code",
   "execution_count": null,
   "metadata": {
    "collapsed": true
   },
   "outputs": [],
   "source": [
    "id2word = dict((v, k) for k, v in lda_vectorizer.vocabulary_.items())"
   ]
  },
  {
   "cell_type": "markdown",
   "metadata": {},
   "source": [
    "At this point we can simply plow ahead in creating an LDA model.  It requires our corpus of word counts, mapping of row ids to words, and the number of topics."
   ]
  },
  {
   "cell_type": "code",
   "execution_count": null,
   "metadata": {
    "collapsed": false
   },
   "outputs": [],
   "source": [
    "# Create lda model (equivalent to \"fit\" in sklearn)\n",
    "lda = models.LdaModel(corpus=corpus, num_topics=num_topics, id2word=id2word, passes=10)"
   ]
  },
  {
   "cell_type": "markdown",
   "metadata": {},
   "source": [
    "Let's take a look at what happened.  Here are the 5 most important words for each of the topics we found:"
   ]
  },
  {
   "cell_type": "code",
   "execution_count": null,
   "metadata": {
    "collapsed": false
   },
   "outputs": [],
   "source": [
    "lda.print_topics()"
   ]
  },
  {
   "cell_type": "markdown",
   "metadata": {},
   "source": [
    "#### Topic Space\n",
    "If we want to map our documents to the topic space we need to actually use the LdaModel transformer that we created above, like so:"
   ]
  },
  {
   "cell_type": "code",
   "execution_count": null,
   "metadata": {
    "collapsed": false
   },
   "outputs": [],
   "source": [
    "# Transform the docs from the word space to the topic space (like \"transform\" in sklearn)\n",
    "lda_corpus = lda[corpus]\n",
    "lda_corpus"
   ]
  },
  {
   "cell_type": "code",
   "execution_count": null,
   "metadata": {
    "collapsed": true
   },
   "outputs": [],
   "source": [
    "# Store the documents' topic vectors in a list so we can take a peak\n",
    "lda_docs = [doc for doc in lda_corpus]"
   ]
  },
  {
   "cell_type": "code",
   "execution_count": null,
   "metadata": {
    "collapsed": false
   },
   "outputs": [],
   "source": [
    "# Check out the document vectors in the topic space for the first 5 documents\n",
    "lda_docs[245]"
   ]
  },
  {
   "cell_type": "code",
   "execution_count": null,
   "metadata": {
    "collapsed": false
   },
   "outputs": [],
   "source": [
    "s_listings['abouts'].iloc[245]"
   ]
  },
  {
   "cell_type": "markdown",
   "metadata": {
    "collapsed": true
   },
   "source": [
    "### pyLDAvis"
   ]
  },
  {
   "cell_type": "code",
   "execution_count": null,
   "metadata": {
    "collapsed": true
   },
   "outputs": [],
   "source": [
    "pyLDAvis.enable_notebook()"
   ]
  },
  {
   "cell_type": "code",
   "execution_count": null,
   "metadata": {
    "collapsed": false
   },
   "outputs": [],
   "source": [
    "tf_vectorizer = CountVectorizer(ngram_range=(1,2),\n",
    "                                 min_df=5,\n",
    "                                 token_pattern=\"\\\\b[a-z][a-z]+\\\\b\")\n",
    "dtm_tf = tf_vectorizer.fit_transform(host_lemmas)\n",
    "print dtm_tf.shape"
   ]
  },
  {
   "cell_type": "code",
   "execution_count": null,
   "metadata": {
    "collapsed": false
   },
   "outputs": [],
   "source": [
    "lda_tf = LatentDirichletAllocation(n_topics=12, random_state=0)\n",
    "lda_tf.fit(dtm_tf)"
   ]
  },
  {
   "cell_type": "code",
   "execution_count": null,
   "metadata": {
    "collapsed": false
   },
   "outputs": [],
   "source": [
    "pyLDAvis.sklearn.prepare(lda_tf, dtm_tf, tf_vectorizer)"
   ]
  },
  {
   "cell_type": "code",
   "execution_count": null,
   "metadata": {
    "collapsed": true
   },
   "outputs": [],
   "source": []
  }
 ],
 "metadata": {
  "anaconda-cloud": {},
  "kernelspec": {
   "display_name": "Python [conda root]",
   "language": "python",
   "name": "conda-root-py"
  },
  "language_info": {
   "codemirror_mode": {
    "name": "ipython",
    "version": 2
   },
   "file_extension": ".py",
   "mimetype": "text/x-python",
   "name": "python",
   "nbconvert_exporter": "python",
   "pygments_lexer": "ipython2",
   "version": "2.7.12"
  }
 },
 "nbformat": 4,
 "nbformat_minor": 1
}
