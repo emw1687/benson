{
 "cells": [
  {
   "cell_type": "code",
   "execution_count": 1,
   "metadata": {
    "collapsed": true
   },
   "outputs": [],
   "source": [
    "import pandas as pd"
   ]
  },
  {
   "cell_type": "code",
   "execution_count": 2,
   "metadata": {
    "collapsed": true
   },
   "outputs": [],
   "source": [
    "s_listings = pd.read_csv('seattle/listings.csv')"
   ]
  },
  {
   "cell_type": "code",
   "execution_count": 3,
   "metadata": {
    "collapsed": false
   },
   "outputs": [],
   "source": [
    "s_reviews = pd.read_csv('seattle/reviews.csv')"
   ]
  },
  {
   "cell_type": "code",
   "execution_count": 15,
   "metadata": {
    "collapsed": false
   },
   "outputs": [
    {
     "data": {
      "text/plain": [
       "84849"
      ]
     },
     "execution_count": 15,
     "metadata": {},
     "output_type": "execute_result"
    }
   ],
   "source": [
    "len(s_reviews)"
   ]
  },
  {
   "cell_type": "code",
   "execution_count": 5,
   "metadata": {
    "collapsed": false
   },
   "outputs": [
    {
     "data": {
      "text/plain": [
       "0.22498690413829231"
      ]
     },
     "execution_count": 5,
     "metadata": {},
     "output_type": "execute_result"
    }
   ],
   "source": [
    "s_listings['host_about'].isnull().sum()/float(len(s_listings))"
   ]
  },
  {
   "cell_type": "code",
   "execution_count": 7,
   "metadata": {
    "collapsed": false
   },
   "outputs": [],
   "source": [
    "b_listings = pd.read_csv('boston/listings.csv')\n",
    "b_reviews = pd.read_csv('boston/reviews.csv')"
   ]
  },
  {
   "cell_type": "code",
   "execution_count": 8,
   "metadata": {
    "collapsed": false
   },
   "outputs": [
    {
     "data": {
      "text/plain": [
       "0.36513249651324964"
      ]
     },
     "execution_count": 8,
     "metadata": {},
     "output_type": "execute_result"
    }
   ],
   "source": [
    "b_listings['host_about'].isnull().sum()/float(len(b_listings))"
   ]
  },
  {
   "cell_type": "code",
   "execution_count": 12,
   "metadata": {
    "collapsed": false
   },
   "outputs": [
    {
     "data": {
      "text/plain": [
       "listing_id       0.000000\n",
       "id               0.000000\n",
       "date             0.000000\n",
       "reviewer_id      0.000000\n",
       "reviewer_name    0.000000\n",
       "comments         0.014505\n",
       "dtype: float64"
      ]
     },
     "execution_count": 12,
     "metadata": {},
     "output_type": "execute_result"
    }
   ],
   "source": [
    "b_reviews.isnull().sum()/float(len(b_listings))"
   ]
  },
  {
   "cell_type": "code",
   "execution_count": 13,
   "metadata": {
    "collapsed": false
   },
   "outputs": [
    {
     "data": {
      "text/plain": [
       "0        My stay at islam's place was really cool! Good...\n",
       "1        Great location for both airport and city - gre...\n",
       "2        We really enjoyed our stay at Islams house. Fr...\n",
       "3        The room was nice and clean and so were the co...\n",
       "4        Great location. Just 5 mins walk from the Airp...\n",
       "5        A truely exeptional place to stay. The hosts a...\n",
       "6        It was a really nice time in Boston - best pla...\n",
       "7        Islam is a very nice guy ! Attentive, funny, h...\n",
       "8        The place is really well furnished, pleasant a...\n",
       "9        Our stay at Islam's place was fantastic. We co...\n",
       "10       Our stay at Islam's was very enjoyable, Islam ...\n",
       "11       Communication with Islam and his brother was g...\n",
       "12       Mi estadía en Boston aunque corta fue muy buen...\n",
       "13       Well sized room for two people with the basic ...\n",
       "14       GREAT SPACE, PERFECT LOCATION, AWESOME PEOPLE!...\n",
       "15       The room was exactly as pictured, no frills, y...\n",
       "16       The room was clean and very comfortable. Havin...\n",
       "17       Izzy was great... had clear instructions and n...\n",
       "18       The place was really good, it is like 10 minut...\n",
       "19       The host wasn't there, but it was fine. He lef...\n",
       "20       Izzy was a nice and helpful host with detailed...\n",
       "21       We arrived late from the airport, so the locat...\n",
       "22       Izzy was quick to reply to our request, and pr...\n",
       "23       Everything is exactly as posted! super conveni...\n",
       "24       We didn´t meet Izzy at all!!!! After we arrive...\n",
       "25       I didn't get a chance to meet Izzy but I thoug...\n",
       "26       Izzy's assistant was a nice and helpful person...\n",
       "27       Host wasn't there, but instructions were clear...\n",
       "28       Izzy's place was very convenient for getting t...\n",
       "29       Well we were kind of annoyed to be honest. We ...\n",
       "                               ...                        \n",
       "68245    Yi was a great host. He was responsive and hel...\n",
       "68246    The host canceled this reservation 13 days bef...\n",
       "68247    Yi was a great host. My arrival, departure, an...\n",
       "68248    Joe our host was very welcoming. The house was...\n",
       "68249    Joe was timely with communications.  The setup...\n",
       "68250    The room was perfect for a one night stay befo...\n",
       "68251    Joe is an incredible host. He made me and my b...\n",
       "68252    I have very good experience with Joe. He is re...\n",
       "68253    Joe has a really great system here! It has the...\n",
       "68254    Joe is nice. The house is close to Harvard and...\n",
       "68255    Joe was very nice. The heater is the room was ...\n",
       "68256    Joe was a great host. He was there at the agre...\n",
       "68257    Joe was a very nice host! The bedroom and the ...\n",
       "68258    The place was exactly as described and Joe was...\n",
       "68259    Staying at Joe's for a short period of time wa...\n",
       "68260    Joe did a great job. Truly hospitable. Did exa...\n",
       "68261    Wauw what a nice place! \\r\\nSo easy to have yo...\n",
       "68262    Joe was very welcoming and showed me around th...\n",
       "68263    The host precontacted us about our arrival and...\n",
       "68264    Un lugar limpio y seguro, con un anfitrión ama...\n",
       "68265    Joe was a great host. The room was clean and w...\n",
       "68266    Quiet, clean, and convenient. The place is as ...\n",
       "68267    Joe is a flexible and helpful host. His place ...\n",
       "68268    The room D was clean and neat. As was the bath...\n",
       "68269    Wonderful location. Bus stop right at the corn...\n",
       "68270    Joe y su mujer son encantadores. La habitación...\n",
       "68271    Joe was on his way to Jamaica to be married! o...\n",
       "68272    The room was very clean as were the bathrooms ...\n",
       "68273    Staying in Lower Allston at Joe and Nancy's pl...\n",
       "68274    The room itself and the aprtment were very cle...\n",
       "Name: comments, dtype: object"
      ]
     },
     "execution_count": 13,
     "metadata": {},
     "output_type": "execute_result"
    }
   ],
   "source": [
    "b_reviews['comments']"
   ]
  },
  {
   "cell_type": "code",
   "execution_count": null,
   "metadata": {
    "collapsed": true
   },
   "outputs": [],
   "source": []
  }
 ],
 "metadata": {
  "anaconda-cloud": {},
  "kernelspec": {
   "display_name": "Python [conda root]",
   "language": "python",
   "name": "conda-root-py"
  },
  "language_info": {
   "codemirror_mode": {
    "name": "ipython",
    "version": 2
   },
   "file_extension": ".py",
   "mimetype": "text/x-python",
   "name": "python",
   "nbconvert_exporter": "python",
   "pygments_lexer": "ipython2",
   "version": "2.7.12"
  }
 },
 "nbformat": 4,
 "nbformat_minor": 1
}
