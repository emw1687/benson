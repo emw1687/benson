{
 "cells": [
  {
   "cell_type": "code",
   "execution_count": 1,
   "metadata": {
    "collapsed": false
   },
   "outputs": [],
   "source": [
    "import pandas as pd\n",
    "pd.options.display.max_rows = 1000\n",
    "\n",
    "import pickle\n",
    "\n",
    "import numpy as np\n",
    "\n",
    "import re\n",
    "import string\n",
    "\n",
    "import nltk\n",
    "from nltk.stem import WordNetLemmatizer\n",
    "from nltk import pos_tag\n",
    "\n",
    "import matplotlib.pyplot as plt\n",
    "%matplotlib inline\n",
    "\n",
    "import seaborn as sns\n",
    "sns.set_style('white')"
   ]
  },
  {
   "cell_type": "code",
   "execution_count": 2,
   "metadata": {
    "collapsed": false
   },
   "outputs": [],
   "source": [
    "with open('../data/interim/02_cleaned.pkl', 'rb') as picklefile:\n",
    "    df_listings = pickle.load(picklefile)"
   ]
  },
  {
   "cell_type": "code",
   "execution_count": 3,
   "metadata": {
    "collapsed": false
   },
   "outputs": [
    {
     "data": {
      "text/plain": [
       "0    OUTSIDE ZILLOW\n",
       "1    OUTSIDE ZILLOW\n",
       "2    OUTSIDE ZILLOW\n",
       "3    OUTSIDE ZILLOW\n",
       "4    OUTSIDE ZILLOW\n",
       "Name: neighborhood, dtype: object"
      ]
     },
     "execution_count": 3,
     "metadata": {},
     "output_type": "execute_result"
    }
   ],
   "source": [
    "df_listings['neighborhood'].head()"
   ]
  },
  {
   "cell_type": "code",
   "execution_count": 4,
   "metadata": {
    "collapsed": false
   },
   "outputs": [],
   "source": [
    "df_listings = df_listings[df_listings['neighborhood'] != 'OUTSIDE ZILLOW']"
   ]
  },
  {
   "cell_type": "code",
   "execution_count": 5,
   "metadata": {
    "collapsed": false
   },
   "outputs": [
    {
     "data": {
      "text/plain": [
       "85033"
      ]
     },
     "execution_count": 5,
     "metadata": {},
     "output_type": "execute_result"
    }
   ],
   "source": [
    "len(df_listings)"
   ]
  },
  {
   "cell_type": "code",
   "execution_count": 11,
   "metadata": {
    "collapsed": false
   },
   "outputs": [
    {
     "data": {
      "text/html": [
       "<div>\n",
       "<table border=\"1\" class=\"dataframe\">\n",
       "  <thead>\n",
       "    <tr style=\"text-align: right;\">\n",
       "      <th></th>\n",
       "      <th>neighborhood</th>\n",
       "      <th>price</th>\n",
       "    </tr>\n",
       "  </thead>\n",
       "  <tbody>\n",
       "    <tr>\n",
       "      <th>10269</th>\n",
       "      <td>East Pilsen</td>\n",
       "      <td>340.0</td>\n",
       "    </tr>\n",
       "    <tr>\n",
       "      <th>10271</th>\n",
       "      <td>Pilsen</td>\n",
       "      <td>90.0</td>\n",
       "    </tr>\n",
       "    <tr>\n",
       "      <th>10273</th>\n",
       "      <td>Pilsen</td>\n",
       "      <td>90.0</td>\n",
       "    </tr>\n",
       "    <tr>\n",
       "      <th>10274</th>\n",
       "      <td>East Pilsen</td>\n",
       "      <td>52.0</td>\n",
       "    </tr>\n",
       "    <tr>\n",
       "      <th>10276</th>\n",
       "      <td>East Pilsen</td>\n",
       "      <td>168.0</td>\n",
       "    </tr>\n",
       "    <tr>\n",
       "      <th>10277</th>\n",
       "      <td>East Pilsen</td>\n",
       "      <td>75.0</td>\n",
       "    </tr>\n",
       "    <tr>\n",
       "      <th>10279</th>\n",
       "      <td>East Pilsen</td>\n",
       "      <td>170.0</td>\n",
       "    </tr>\n",
       "    <tr>\n",
       "      <th>10280</th>\n",
       "      <td>Pilsen</td>\n",
       "      <td>79.0</td>\n",
       "    </tr>\n",
       "    <tr>\n",
       "      <th>10284</th>\n",
       "      <td>Pilsen</td>\n",
       "      <td>75.0</td>\n",
       "    </tr>\n",
       "    <tr>\n",
       "      <th>10285</th>\n",
       "      <td>East Pilsen</td>\n",
       "      <td>150.0</td>\n",
       "    </tr>\n",
       "    <tr>\n",
       "      <th>10288</th>\n",
       "      <td>East Pilsen</td>\n",
       "      <td>225.0</td>\n",
       "    </tr>\n",
       "    <tr>\n",
       "      <th>10289</th>\n",
       "      <td>Pilsen</td>\n",
       "      <td>73.0</td>\n",
       "    </tr>\n",
       "    <tr>\n",
       "      <th>10290</th>\n",
       "      <td>Pilsen</td>\n",
       "      <td>59.0</td>\n",
       "    </tr>\n",
       "    <tr>\n",
       "      <th>10292</th>\n",
       "      <td>Pilsen</td>\n",
       "      <td>83.0</td>\n",
       "    </tr>\n",
       "    <tr>\n",
       "      <th>10294</th>\n",
       "      <td>Pilsen</td>\n",
       "      <td>150.0</td>\n",
       "    </tr>\n",
       "    <tr>\n",
       "      <th>10295</th>\n",
       "      <td>Pilsen</td>\n",
       "      <td>125.0</td>\n",
       "    </tr>\n",
       "    <tr>\n",
       "      <th>10296</th>\n",
       "      <td>Pilsen</td>\n",
       "      <td>105.0</td>\n",
       "    </tr>\n",
       "    <tr>\n",
       "      <th>10298</th>\n",
       "      <td>East Pilsen</td>\n",
       "      <td>130.0</td>\n",
       "    </tr>\n",
       "    <tr>\n",
       "      <th>10299</th>\n",
       "      <td>Pilsen</td>\n",
       "      <td>66.0</td>\n",
       "    </tr>\n",
       "    <tr>\n",
       "      <th>10300</th>\n",
       "      <td>East Pilsen</td>\n",
       "      <td>140.0</td>\n",
       "    </tr>\n",
       "    <tr>\n",
       "      <th>10301</th>\n",
       "      <td>Pilsen</td>\n",
       "      <td>185.0</td>\n",
       "    </tr>\n",
       "    <tr>\n",
       "      <th>10302</th>\n",
       "      <td>Pilsen</td>\n",
       "      <td>200.0</td>\n",
       "    </tr>\n",
       "    <tr>\n",
       "      <th>10303</th>\n",
       "      <td>Pilsen</td>\n",
       "      <td>79.0</td>\n",
       "    </tr>\n",
       "    <tr>\n",
       "      <th>10304</th>\n",
       "      <td>East Pilsen</td>\n",
       "      <td>75.0</td>\n",
       "    </tr>\n",
       "    <tr>\n",
       "      <th>10305</th>\n",
       "      <td>Pilsen</td>\n",
       "      <td>70.0</td>\n",
       "    </tr>\n",
       "    <tr>\n",
       "      <th>10306</th>\n",
       "      <td>Pilsen</td>\n",
       "      <td>120.0</td>\n",
       "    </tr>\n",
       "    <tr>\n",
       "      <th>10309</th>\n",
       "      <td>Pilsen</td>\n",
       "      <td>59.0</td>\n",
       "    </tr>\n",
       "    <tr>\n",
       "      <th>10310</th>\n",
       "      <td>Pilsen</td>\n",
       "      <td>30.0</td>\n",
       "    </tr>\n",
       "    <tr>\n",
       "      <th>10311</th>\n",
       "      <td>Pilsen</td>\n",
       "      <td>90.0</td>\n",
       "    </tr>\n",
       "    <tr>\n",
       "      <th>10313</th>\n",
       "      <td>Pilsen</td>\n",
       "      <td>140.0</td>\n",
       "    </tr>\n",
       "    <tr>\n",
       "      <th>10315</th>\n",
       "      <td>East Pilsen</td>\n",
       "      <td>140.0</td>\n",
       "    </tr>\n",
       "    <tr>\n",
       "      <th>10322</th>\n",
       "      <td>Pilsen</td>\n",
       "      <td>120.0</td>\n",
       "    </tr>\n",
       "    <tr>\n",
       "      <th>10323</th>\n",
       "      <td>East Pilsen</td>\n",
       "      <td>88.0</td>\n",
       "    </tr>\n",
       "    <tr>\n",
       "      <th>10325</th>\n",
       "      <td>Pilsen</td>\n",
       "      <td>89.0</td>\n",
       "    </tr>\n",
       "    <tr>\n",
       "      <th>10326</th>\n",
       "      <td>Pilsen</td>\n",
       "      <td>89.0</td>\n",
       "    </tr>\n",
       "    <tr>\n",
       "      <th>10337</th>\n",
       "      <td>East Pilsen</td>\n",
       "      <td>250.0</td>\n",
       "    </tr>\n",
       "    <tr>\n",
       "      <th>10339</th>\n",
       "      <td>Pilsen</td>\n",
       "      <td>62.0</td>\n",
       "    </tr>\n",
       "    <tr>\n",
       "      <th>10342</th>\n",
       "      <td>Pilsen</td>\n",
       "      <td>104.0</td>\n",
       "    </tr>\n",
       "    <tr>\n",
       "      <th>10343</th>\n",
       "      <td>Pilsen</td>\n",
       "      <td>149.0</td>\n",
       "    </tr>\n",
       "    <tr>\n",
       "      <th>10344</th>\n",
       "      <td>Pilsen</td>\n",
       "      <td>119.0</td>\n",
       "    </tr>\n",
       "    <tr>\n",
       "      <th>10346</th>\n",
       "      <td>Pilsen</td>\n",
       "      <td>40.0</td>\n",
       "    </tr>\n",
       "    <tr>\n",
       "      <th>10349</th>\n",
       "      <td>Pilsen</td>\n",
       "      <td>65.0</td>\n",
       "    </tr>\n",
       "    <tr>\n",
       "      <th>10350</th>\n",
       "      <td>Pilsen</td>\n",
       "      <td>100.0</td>\n",
       "    </tr>\n",
       "    <tr>\n",
       "      <th>10351</th>\n",
       "      <td>Pilsen</td>\n",
       "      <td>160.0</td>\n",
       "    </tr>\n",
       "    <tr>\n",
       "      <th>10357</th>\n",
       "      <td>Pilsen</td>\n",
       "      <td>79.0</td>\n",
       "    </tr>\n",
       "    <tr>\n",
       "      <th>10358</th>\n",
       "      <td>Pilsen</td>\n",
       "      <td>129.0</td>\n",
       "    </tr>\n",
       "    <tr>\n",
       "      <th>10359</th>\n",
       "      <td>Pilsen</td>\n",
       "      <td>150.0</td>\n",
       "    </tr>\n",
       "    <tr>\n",
       "      <th>10360</th>\n",
       "      <td>Pilsen</td>\n",
       "      <td>110.0</td>\n",
       "    </tr>\n",
       "    <tr>\n",
       "      <th>10361</th>\n",
       "      <td>Pilsen</td>\n",
       "      <td>160.0</td>\n",
       "    </tr>\n",
       "    <tr>\n",
       "      <th>10363</th>\n",
       "      <td>Pilsen</td>\n",
       "      <td>40.0</td>\n",
       "    </tr>\n",
       "    <tr>\n",
       "      <th>10367</th>\n",
       "      <td>Pilsen</td>\n",
       "      <td>110.0</td>\n",
       "    </tr>\n",
       "    <tr>\n",
       "      <th>10368</th>\n",
       "      <td>Pilsen</td>\n",
       "      <td>86.0</td>\n",
       "    </tr>\n",
       "    <tr>\n",
       "      <th>10374</th>\n",
       "      <td>Pilsen</td>\n",
       "      <td>80.0</td>\n",
       "    </tr>\n",
       "    <tr>\n",
       "      <th>10381</th>\n",
       "      <td>Pilsen</td>\n",
       "      <td>99.0</td>\n",
       "    </tr>\n",
       "    <tr>\n",
       "      <th>10382</th>\n",
       "      <td>Pilsen</td>\n",
       "      <td>145.0</td>\n",
       "    </tr>\n",
       "    <tr>\n",
       "      <th>10383</th>\n",
       "      <td>East Pilsen</td>\n",
       "      <td>250.0</td>\n",
       "    </tr>\n",
       "    <tr>\n",
       "      <th>10385</th>\n",
       "      <td>Pilsen</td>\n",
       "      <td>75.0</td>\n",
       "    </tr>\n",
       "    <tr>\n",
       "      <th>10388</th>\n",
       "      <td>Pilsen</td>\n",
       "      <td>130.0</td>\n",
       "    </tr>\n",
       "    <tr>\n",
       "      <th>10389</th>\n",
       "      <td>Pilsen</td>\n",
       "      <td>125.0</td>\n",
       "    </tr>\n",
       "    <tr>\n",
       "      <th>10390</th>\n",
       "      <td>Pilsen</td>\n",
       "      <td>78.0</td>\n",
       "    </tr>\n",
       "    <tr>\n",
       "      <th>10391</th>\n",
       "      <td>Pilsen</td>\n",
       "      <td>100.0</td>\n",
       "    </tr>\n",
       "    <tr>\n",
       "      <th>10393</th>\n",
       "      <td>Pilsen</td>\n",
       "      <td>60.0</td>\n",
       "    </tr>\n",
       "    <tr>\n",
       "      <th>10395</th>\n",
       "      <td>Pilsen</td>\n",
       "      <td>50.0</td>\n",
       "    </tr>\n",
       "    <tr>\n",
       "      <th>10396</th>\n",
       "      <td>Pilsen</td>\n",
       "      <td>65.0</td>\n",
       "    </tr>\n",
       "    <tr>\n",
       "      <th>10398</th>\n",
       "      <td>East Pilsen</td>\n",
       "      <td>225.0</td>\n",
       "    </tr>\n",
       "    <tr>\n",
       "      <th>10399</th>\n",
       "      <td>Pilsen</td>\n",
       "      <td>43.0</td>\n",
       "    </tr>\n",
       "    <tr>\n",
       "      <th>10400</th>\n",
       "      <td>Pilsen</td>\n",
       "      <td>49.0</td>\n",
       "    </tr>\n",
       "    <tr>\n",
       "      <th>10401</th>\n",
       "      <td>Pilsen</td>\n",
       "      <td>41.0</td>\n",
       "    </tr>\n",
       "    <tr>\n",
       "      <th>10404</th>\n",
       "      <td>Pilsen</td>\n",
       "      <td>175.0</td>\n",
       "    </tr>\n",
       "    <tr>\n",
       "      <th>10406</th>\n",
       "      <td>Pilsen</td>\n",
       "      <td>69.0</td>\n",
       "    </tr>\n",
       "    <tr>\n",
       "      <th>10407</th>\n",
       "      <td>Pilsen</td>\n",
       "      <td>80.0</td>\n",
       "    </tr>\n",
       "    <tr>\n",
       "      <th>10408</th>\n",
       "      <td>Pilsen</td>\n",
       "      <td>90.0</td>\n",
       "    </tr>\n",
       "    <tr>\n",
       "      <th>10410</th>\n",
       "      <td>Pilsen</td>\n",
       "      <td>70.0</td>\n",
       "    </tr>\n",
       "    <tr>\n",
       "      <th>10412</th>\n",
       "      <td>Pilsen</td>\n",
       "      <td>384.0</td>\n",
       "    </tr>\n",
       "    <tr>\n",
       "      <th>10413</th>\n",
       "      <td>Pilsen</td>\n",
       "      <td>82.0</td>\n",
       "    </tr>\n",
       "    <tr>\n",
       "      <th>10416</th>\n",
       "      <td>East Pilsen</td>\n",
       "      <td>75.0</td>\n",
       "    </tr>\n",
       "    <tr>\n",
       "      <th>10417</th>\n",
       "      <td>Pilsen</td>\n",
       "      <td>80.0</td>\n",
       "    </tr>\n",
       "  </tbody>\n",
       "</table>\n",
       "</div>"
      ],
      "text/plain": [
       "      neighborhood  price\n",
       "10269  East Pilsen  340.0\n",
       "10271       Pilsen   90.0\n",
       "10273       Pilsen   90.0\n",
       "10274  East Pilsen   52.0\n",
       "10276  East Pilsen  168.0\n",
       "10277  East Pilsen   75.0\n",
       "10279  East Pilsen  170.0\n",
       "10280       Pilsen   79.0\n",
       "10284       Pilsen   75.0\n",
       "10285  East Pilsen  150.0\n",
       "10288  East Pilsen  225.0\n",
       "10289       Pilsen   73.0\n",
       "10290       Pilsen   59.0\n",
       "10292       Pilsen   83.0\n",
       "10294       Pilsen  150.0\n",
       "10295       Pilsen  125.0\n",
       "10296       Pilsen  105.0\n",
       "10298  East Pilsen  130.0\n",
       "10299       Pilsen   66.0\n",
       "10300  East Pilsen  140.0\n",
       "10301       Pilsen  185.0\n",
       "10302       Pilsen  200.0\n",
       "10303       Pilsen   79.0\n",
       "10304  East Pilsen   75.0\n",
       "10305       Pilsen   70.0\n",
       "10306       Pilsen  120.0\n",
       "10309       Pilsen   59.0\n",
       "10310       Pilsen   30.0\n",
       "10311       Pilsen   90.0\n",
       "10313       Pilsen  140.0\n",
       "10315  East Pilsen  140.0\n",
       "10322       Pilsen  120.0\n",
       "10323  East Pilsen   88.0\n",
       "10325       Pilsen   89.0\n",
       "10326       Pilsen   89.0\n",
       "10337  East Pilsen  250.0\n",
       "10339       Pilsen   62.0\n",
       "10342       Pilsen  104.0\n",
       "10343       Pilsen  149.0\n",
       "10344       Pilsen  119.0\n",
       "10346       Pilsen   40.0\n",
       "10349       Pilsen   65.0\n",
       "10350       Pilsen  100.0\n",
       "10351       Pilsen  160.0\n",
       "10357       Pilsen   79.0\n",
       "10358       Pilsen  129.0\n",
       "10359       Pilsen  150.0\n",
       "10360       Pilsen  110.0\n",
       "10361       Pilsen  160.0\n",
       "10363       Pilsen   40.0\n",
       "10367       Pilsen  110.0\n",
       "10368       Pilsen   86.0\n",
       "10374       Pilsen   80.0\n",
       "10381       Pilsen   99.0\n",
       "10382       Pilsen  145.0\n",
       "10383  East Pilsen  250.0\n",
       "10385       Pilsen   75.0\n",
       "10388       Pilsen  130.0\n",
       "10389       Pilsen  125.0\n",
       "10390       Pilsen   78.0\n",
       "10391       Pilsen  100.0\n",
       "10393       Pilsen   60.0\n",
       "10395       Pilsen   50.0\n",
       "10396       Pilsen   65.0\n",
       "10398  East Pilsen  225.0\n",
       "10399       Pilsen   43.0\n",
       "10400       Pilsen   49.0\n",
       "10401       Pilsen   41.0\n",
       "10404       Pilsen  175.0\n",
       "10406       Pilsen   69.0\n",
       "10407       Pilsen   80.0\n",
       "10408       Pilsen   90.0\n",
       "10410       Pilsen   70.0\n",
       "10412       Pilsen  384.0\n",
       "10413       Pilsen   82.0\n",
       "10416  East Pilsen   75.0\n",
       "10417       Pilsen   80.0"
      ]
     },
     "execution_count": 11,
     "metadata": {},
     "output_type": "execute_result"
    }
   ],
   "source": [
    "df_listings[df_listings['neighborhood'].str.contains('Pilsen')][['neighborhood', 'price']]"
   ]
  },
  {
   "cell_type": "code",
   "execution_count": 28,
   "metadata": {
    "collapsed": false
   },
   "outputs": [
    {
     "data": {
      "text/plain": [
       "'The Colorwheel is located in the Pilsen Neighborhood of Chicago.   What Pilsen is: Pilsen is the main artistic district of Chicago and is home to some of the most creative artistic endeavors in the city.   Where Pilsen is: Pilsen is located roughly 1 mile from downtown Chicago.  Anyone staying in Pilsen can easily travel to most of the main attractions, business centers, and conference venues of the city.  '"
      ]
     },
     "execution_count": 28,
     "metadata": {},
     "output_type": "execute_result"
    }
   ],
   "source": [
    "df_listings['neighborhood_overview'][10270]"
   ]
  },
  {
   "cell_type": "code",
   "execution_count": 6,
   "metadata": {
    "collapsed": false
   },
   "outputs": [
    {
     "name": "stdout",
     "output_type": "stream",
     "text": [
      "15409\n"
     ]
    },
    {
     "data": {
      "text/plain": [
       "\"Having lived in the neighborhood for quite some time, it's always felt like home to me. It's a short stay away from the hustle and bustle of Hollywood so you get the peace and quiet when you want it. It's so close to so many places and attractions like Universal Studios as well as the trendy bars and restaurants of the NoHo arts district.\""
      ]
     },
     "execution_count": 6,
     "metadata": {},
     "output_type": "execute_result"
    }
   ],
   "source": [
    "i = np.random.randint(low=42, high=80000)\n",
    "print i\n",
    "df_listings['neighborhood_overview'][i]"
   ]
  },
  {
   "cell_type": "markdown",
   "metadata": {},
   "source": [
    "#### Preprocess neighborhood overviews for topic modeling"
   ]
  },
  {
   "cell_type": "code",
   "execution_count": 29,
   "metadata": {
    "collapsed": false
   },
   "outputs": [],
   "source": [
    "num_punct = string.punctuation\n",
    "num_punct.replace(\"'\", \"\")\n",
    "num_punct += '0123456789'"
   ]
  },
  {
   "cell_type": "code",
   "execution_count": 30,
   "metadata": {
    "collapsed": false
   },
   "outputs": [],
   "source": [
    "df_listings.loc[:,'lower'] = df_listings['neighborhood_overview'].map(lambda s: s.lower().translate(None, num_punct).decode('utf-8').split())"
   ]
  },
  {
   "cell_type": "code",
   "execution_count": 31,
   "metadata": {
    "collapsed": false
   },
   "outputs": [
    {
     "data": {
      "text/plain": [
       "[u'the',\n",
       " u'colorwheel',\n",
       " u'is',\n",
       " u'located',\n",
       " u'in',\n",
       " u'the',\n",
       " u'pilsen',\n",
       " u'neighborhood',\n",
       " u'of',\n",
       " u'chicago',\n",
       " u'what',\n",
       " u'pilsen',\n",
       " u'is',\n",
       " u'pilsen',\n",
       " u'is',\n",
       " u'the',\n",
       " u'main',\n",
       " u'artistic',\n",
       " u'district',\n",
       " u'of',\n",
       " u'chicago',\n",
       " u'and',\n",
       " u'is',\n",
       " u'home',\n",
       " u'to',\n",
       " u'some',\n",
       " u'of',\n",
       " u'the',\n",
       " u'most',\n",
       " u'creative',\n",
       " u'artistic',\n",
       " u'endeavors',\n",
       " u'in',\n",
       " u'the',\n",
       " u'city',\n",
       " u'where',\n",
       " u'pilsen',\n",
       " u'is',\n",
       " u'pilsen',\n",
       " u'is',\n",
       " u'located',\n",
       " u'roughly',\n",
       " u'mile',\n",
       " u'from',\n",
       " u'downtown',\n",
       " u'chicago',\n",
       " u'anyone',\n",
       " u'staying',\n",
       " u'in',\n",
       " u'pilsen',\n",
       " u'can',\n",
       " u'easily',\n",
       " u'travel',\n",
       " u'to',\n",
       " u'most',\n",
       " u'of',\n",
       " u'the',\n",
       " u'main',\n",
       " u'attractions',\n",
       " u'business',\n",
       " u'centers',\n",
       " u'and',\n",
       " u'conference',\n",
       " u'venues',\n",
       " u'of',\n",
       " u'the',\n",
       " u'city']"
      ]
     },
     "execution_count": 31,
     "metadata": {},
     "output_type": "execute_result"
    }
   ],
   "source": [
    "df_listings['lower'][10270]"
   ]
  },
  {
   "cell_type": "code",
   "execution_count": 32,
   "metadata": {
    "collapsed": false
   },
   "outputs": [
    {
     "data": {
      "text/plain": [
       "[u'the',\n",
       " u'colorwheel',\n",
       " u'is',\n",
       " u'located',\n",
       " u'in',\n",
       " u'the',\n",
       " u'pilsen',\n",
       " u'neighborhood',\n",
       " u'of',\n",
       " u'chicago',\n",
       " u'what',\n",
       " u'pilsen',\n",
       " u'is',\n",
       " u'pilsen',\n",
       " u'is',\n",
       " u'the',\n",
       " u'main',\n",
       " u'artistic',\n",
       " u'district',\n",
       " u'of',\n",
       " u'chicago',\n",
       " u'and',\n",
       " u'is',\n",
       " u'home',\n",
       " u'to',\n",
       " u'some',\n",
       " u'of',\n",
       " u'the',\n",
       " u'most',\n",
       " u'creative',\n",
       " u'artistic',\n",
       " u'endeavors',\n",
       " u'in',\n",
       " u'the',\n",
       " u'city',\n",
       " u'where',\n",
       " u'pilsen',\n",
       " u'is',\n",
       " u'pilsen',\n",
       " u'is',\n",
       " u'located',\n",
       " u'roughly',\n",
       " u'mile',\n",
       " u'from',\n",
       " u'downtown',\n",
       " u'chicago',\n",
       " u'anyone',\n",
       " u'staying',\n",
       " u'in',\n",
       " u'pilsen',\n",
       " u'can',\n",
       " u'easily',\n",
       " u'travel',\n",
       " u'to',\n",
       " u'most',\n",
       " u'of',\n",
       " u'the',\n",
       " u'main',\n",
       " u'attractions',\n",
       " u'business',\n",
       " u'centers',\n",
       " u'and',\n",
       " u'conference',\n",
       " u'venues',\n",
       " u'of',\n",
       " u'the',\n",
       " u'city',\n",
       " u'tulane',\n",
       " u'smithsonian',\n",
       " u'walgreens']"
      ]
     },
     "execution_count": 32,
     "metadata": {},
     "output_type": "execute_result"
    }
   ],
   "source": [
    "test = df_listings['lower'][10270]\n",
    "test.append('tulane'.decode('utf-8'))\n",
    "test.append('smithsonian'.decode('utf-8'))\n",
    "test.append('walgreens'.decode('utf-8'))\n",
    "test"
   ]
  },
  {
   "cell_type": "code",
   "execution_count": 33,
   "metadata": {
    "collapsed": false
   },
   "outputs": [],
   "source": [
    "neighborhood_stopwords = []\n",
    "for neighborhood in df_listings['neighborhood'].drop_duplicates().tolist()[1:]:\n",
    "    neighborhood_stopwords.extend(neighborhood.encode('utf-8').lower().translate(None, num_punct).split())"
   ]
  },
  {
   "cell_type": "code",
   "execution_count": 34,
   "metadata": {
    "collapsed": false
   },
   "outputs": [],
   "source": [
    "location_stopwords = neighborhood_stopwords + \\\n",
    "                    [#cities\n",
    "                    'san', 'francisco', 'sf', 'diego', 'sd', 'los', 'angeles', 'la', 'santa', 'monica', \\\n",
    "                    'new', 'york', 'city', 'nyc', 'orleans', 'nola', 'chicago', 'chi', 'boston', 'bos', \\\n",
    "                    'nashville', 'washington', 'dc', 'denver', 'portland', 'oakland', 'austin', 'seattle', \\\n",
    "                    'brooklyn', 'boulder', \\\n",
    "        \n",
    "                    #cities possessive\n",
    "                    'franciscos', 'sfs', 'diegos', 'sds', 'las', 'monicas', 'citys', 'nycs', 'nolas', \\\n",
    "                    'chicagos', 'chis', 'bostons', 'nashvilles', 'dcs', 'denvers', 'portlands', 'oaklands', \\\n",
    "                    'austins', 'seattles', 'brooklyns', \\\n",
    "        \n",
    "                    #states\n",
    "                    'california', 'washington', 'massachusetts', 'oregon', 'northwest', 'texas', 'colorado', \\\n",
    "                    'ca', 'ny', 'ma', 'co', 'wa', 'or', 'la', 'wa', 'tx', 'il', 'tn', 'mi', \\\n",
    "        \n",
    "                    #regions\n",
    "                    'pacific', 'northeast', 'nw', 'northwest', 'pacific', 'pnw', 'england', \\\n",
    "                    \n",
    "                    #city specific stopwords\n",
    "                    #san francisco\n",
    "                    'bart', 'divisadero', 'haight', 'ucsf', 'fisherman', 'wharf', 'sausalito', 'nopa', \\\n",
    "                    'soma', 'muni', 'paint', ''\\\n",
    "        \n",
    "                    #san diego\n",
    "                    'sdsu', 'petco', 'seaworld', 'world', \\\n",
    "                    \n",
    "                    #los angeles\n",
    "                    'pasadena', 'universal', 'lax', 'hollywood', 'griffith', 'silverlake', 'ucla', 'ventura', \\\n",
    "                    'theater', 'dodgers', 'disney', 'runyon', 'lacma', 'staple', 'rise', 'bowl', 'jpl', 'norton', \\\n",
    "                    'simon', 'kinney', \\\n",
    "                    \n",
    "                    #new york city\n",
    "                    'bed', 'stuy', 'bedstuy', 'barclays', 'hell', 'kitchen', 'hudson', 'empire', 'broadway', 'statue', 'liberty', \\\n",
    "        \n",
    "                    #new orleans\n",
    "                    'tulane', 'loyola', 'bourbon', 'katrina', 'mississippi', 'superdome', 'magazine', 'mardi', 'gras', \\\n",
    "        \n",
    "                    #chicago\n",
    "                    'cta', 'metra', 'boystown', 'clark', 'cub', 'divvy', 'halsted', 'lakefront', \\\n",
    "        \n",
    "                    #boston\n",
    "                    'charles', 'copley', 'seaport', 'newbury', 'prudential', \\\n",
    "        \n",
    "                    #nashville\n",
    "                    'opry', \\\n",
    "                    \n",
    "                    #washingtondc\n",
    "                    'smithsonian', 'adam', 'mall', 'metro', 'national', \\\n",
    "        \n",
    "                    #denver\n",
    "                    'coors', 'bronco', 'breckinridge', 'lodo', 'pepsi', 'rino', 'convention', \\\n",
    "                    \n",
    "                    #portland\n",
    "                    'powell', 'willamette', 'alberta', 'division', 'ne', 'se', \\\n",
    "        \n",
    "                    \n",
    "                    #oakland\n",
    "                    \n",
    "        \n",
    "                    #austin\n",
    "                    'sxsw', 'acl', 'ut', 'soco', 'rainey', 'greenbelt', 'mueller', \\\n",
    "        \n",
    "                    #seattle\n",
    "                    'space', 'needle', 'pike', 'starbucks', 'puget', 'sound', \\\n",
    "        \n",
    "                    #other/misc\n",
    "                    'website', 'line', 'height', 'sensitive', 'content', 'distance', 'mile', \\\n",
    "                    'minute', 'min', 'away', 'lot', 'ton', 'direction', 'close', \\\n",
    "                    'many', 'also', 'enough', 'location', 'locate', 'reade', 'joes', 'ave', 'really', \\\n",
    "                    'everything', 'less']"
   ]
  },
  {
   "cell_type": "code",
   "execution_count": 35,
   "metadata": {
    "collapsed": false
   },
   "outputs": [
    {
     "data": {
      "text/plain": [
       "'market'"
      ]
     },
     "execution_count": 35,
     "metadata": {},
     "output_type": "execute_result"
    }
   ],
   "source": [
    "location_stopwords.pop(location_stopwords.index('market'))"
   ]
  },
  {
   "cell_type": "code",
   "execution_count": 36,
   "metadata": {
    "collapsed": false
   },
   "outputs": [
    {
     "data": {
      "text/plain": [
       "'university'"
      ]
     },
     "execution_count": 36,
     "metadata": {},
     "output_type": "execute_result"
    }
   ],
   "source": [
    "location_stopwords.pop(location_stopwords.index('university'))"
   ]
  },
  {
   "cell_type": "code",
   "execution_count": 37,
   "metadata": {
    "collapsed": false
   },
   "outputs": [
    {
     "data": {
      "text/plain": [
       "True"
      ]
     },
     "execution_count": 37,
     "metadata": {},
     "output_type": "execute_result"
    }
   ],
   "source": [
    "'university' in location_stopwords"
   ]
  },
  {
   "cell_type": "code",
   "execution_count": 38,
   "metadata": {
    "collapsed": true
   },
   "outputs": [],
   "source": [
    "replace_words = {'subway': ['cta', 'metra', 'bart', 'muni', 'metro'],\n",
    "                 'museum': ['smithsonian'],\n",
    "                 'sports': ['bronco', 'sox', 'cub', 'superdome', 'petco', 'dodgers', 'staple'],\n",
    "                 'pharmacy': ['duane', 'walgreens'],\n",
    "                 'grocery': ['whole', 'trader', 'ralphs', 'safeway'], \n",
    "                 'campus': ['ut', 'tulane', 'loyola', 'ucla', 'ucsf', 'uw']}"
   ]
  },
  {
   "cell_type": "code",
   "execution_count": 39,
   "metadata": {
    "collapsed": false
   },
   "outputs": [],
   "source": [
    "replace_words_decoded = {}\n",
    "for key, lst in replace_words.items():\n",
    "    replace_words_decoded[key.decode('utf-8')] = [s.decode('utf-8') for s in lst]"
   ]
  },
  {
   "cell_type": "code",
   "execution_count": 40,
   "metadata": {
    "collapsed": false
   },
   "outputs": [],
   "source": [
    "stopwords = nltk.corpus.stopwords.words('english')\n",
    "decoded_stopwords = [s.decode('utf-8') for s in location_stopwords]\n",
    "stopwords.extend(decoded_stopwords)"
   ]
  },
  {
   "cell_type": "code",
   "execution_count": 41,
   "metadata": {
    "collapsed": false
   },
   "outputs": [],
   "source": [
    "lemmatizer = WordNetLemmatizer()\n",
    "lemma_pos = {'JJ': 'a',\n",
    "             'NN': 'n',\n",
    "             'RB': 'r', \n",
    "             'VB': 'v'}\n",
    "\n",
    "def lemmatize(word_list):\n",
    "    lemmas = []\n",
    "    pos_tags = pos_tag(word_list)\n",
    "    #print pos_tags\n",
    "    for word, pos in pos_tags:\n",
    "        #print word, pos\n",
    "        #remove proper nouns\n",
    "        if pos != 'NNP' and pos != 'NNPS':\n",
    "            try:\n",
    "                p = lemma_pos[pos[:2]]\n",
    "                lemma = lemmatizer.lemmatize(word, pos=p)\n",
    "                #replace specific words with generic words\n",
    "                for key, lst in replace_words_decoded.items():\n",
    "                    for word in lst:\n",
    "                        if lemma == word:\n",
    "                            lemma = key\n",
    "                #remove stopwords\n",
    "                if lemma not in stopwords:\n",
    "                    lemmas.append(lemma)\n",
    "            except:\n",
    "                continue\n",
    "    return lemmas"
   ]
  },
  {
   "cell_type": "code",
   "execution_count": 42,
   "metadata": {
    "collapsed": false
   },
   "outputs": [
    {
     "data": {
      "text/plain": [
       "[u'the',\n",
       " u'colorwheel',\n",
       " u'is',\n",
       " u'located',\n",
       " u'in',\n",
       " u'the',\n",
       " u'pilsen',\n",
       " u'neighborhood',\n",
       " u'of',\n",
       " u'chicago',\n",
       " u'what',\n",
       " u'pilsen',\n",
       " u'is',\n",
       " u'pilsen',\n",
       " u'is',\n",
       " u'the',\n",
       " u'main',\n",
       " u'artistic',\n",
       " u'district',\n",
       " u'of',\n",
       " u'chicago',\n",
       " u'and',\n",
       " u'is',\n",
       " u'home',\n",
       " u'to',\n",
       " u'some',\n",
       " u'of',\n",
       " u'the',\n",
       " u'most',\n",
       " u'creative',\n",
       " u'artistic',\n",
       " u'endeavors',\n",
       " u'in',\n",
       " u'the',\n",
       " u'city',\n",
       " u'where',\n",
       " u'pilsen',\n",
       " u'is',\n",
       " u'pilsen',\n",
       " u'is',\n",
       " u'located',\n",
       " u'roughly',\n",
       " u'mile',\n",
       " u'from',\n",
       " u'downtown',\n",
       " u'chicago',\n",
       " u'anyone',\n",
       " u'staying',\n",
       " u'in',\n",
       " u'pilsen',\n",
       " u'can',\n",
       " u'easily',\n",
       " u'travel',\n",
       " u'to',\n",
       " u'most',\n",
       " u'of',\n",
       " u'the',\n",
       " u'main',\n",
       " u'attractions',\n",
       " u'business',\n",
       " u'centers',\n",
       " u'and',\n",
       " u'conference',\n",
       " u'venues',\n",
       " u'of',\n",
       " u'the',\n",
       " u'city',\n",
       " u'tulane',\n",
       " u'smithsonian',\n",
       " u'walgreens']"
      ]
     },
     "execution_count": 42,
     "metadata": {},
     "output_type": "execute_result"
    }
   ],
   "source": [
    "test"
   ]
  },
  {
   "cell_type": "code",
   "execution_count": 43,
   "metadata": {
    "collapsed": false
   },
   "outputs": [
    {
     "name": "stdout",
     "output_type": "stream",
     "text": [
      "The slowest run took 500.04 times longer than the fastest. This could mean that an intermediate result is being cached.\n",
      "1 loop, best of 3: 9.45 ms per loop\n"
     ]
    },
    {
     "data": {
      "text/plain": [
       "[u'colorwheel',\n",
       " u'main',\n",
       " u'artistic',\n",
       " u'home',\n",
       " u'creative',\n",
       " u'artistic',\n",
       " u'endeavor',\n",
       " u'roughly',\n",
       " u'anyone',\n",
       " u'stay',\n",
       " u'easily',\n",
       " u'travel',\n",
       " u'main',\n",
       " u'attraction',\n",
       " u'conference',\n",
       " u'venue',\n",
       " u'campus',\n",
       " u'museum',\n",
       " u'pharmacy']"
      ]
     },
     "execution_count": 43,
     "metadata": {},
     "output_type": "execute_result"
    }
   ],
   "source": [
    "%timeit lemmatize(test)\n",
    "lemmatize(test)"
   ]
  },
  {
   "cell_type": "code",
   "execution_count": 43,
   "metadata": {
    "collapsed": false
   },
   "outputs": [
    {
     "name": "stdout",
     "output_type": "stream",
     "text": [
      "CPU times: user 11min 38s, sys: 5.67 s, total: 11min 43s\n",
      "Wall time: 11min 43s\n"
     ]
    }
   ],
   "source": [
    "%%time\n",
    "df_listings.loc[:,'lemmas'] = df_listings['lower'].map(lambda lst: lemmatize(lst))"
   ]
  },
  {
   "cell_type": "code",
   "execution_count": 44,
   "metadata": {
    "collapsed": true
   },
   "outputs": [],
   "source": [
    "with open('../data/interim/04_lemmas.pkl', 'wb') as picklefile:\n",
    "    pickle.dump(df_listings, picklefile)"
   ]
  },
  {
   "cell_type": "raw",
   "metadata": {
    "collapsed": false
   },
   "source": [
    "%%time\n",
    "df_listings.loc[:,'lemmas'] = df_listings['lower'].map(lambda lst: lemmatize_nouns_only(lst))"
   ]
  },
  {
   "cell_type": "raw",
   "metadata": {
    "collapsed": true
   },
   "source": [
    "with open('../data/interim/04_nouns.pkl', 'wb') as picklefile:\n",
    "    pickle.dump(df_listings, picklefile)"
   ]
  },
  {
   "cell_type": "markdown",
   "metadata": {},
   "source": [
    "#### Create dataframes for clustering on neighborhoods"
   ]
  },
  {
   "cell_type": "raw",
   "metadata": {
    "collapsed": true
   },
   "source": [
    "with open('../data/interim/04_nouns.pkl', 'wb') as picklefile:\n",
    "    pickle.dump(df_listings, picklefile)"
   ]
  },
  {
   "cell_type": "code",
   "execution_count": 44,
   "metadata": {
    "collapsed": true
   },
   "outputs": [],
   "source": [
    "with open('../data/interim/04_lemmas.pkl', 'rb') as picklefile:\n",
    "    df_listings = pickle.load(picklefile)"
   ]
  },
  {
   "cell_type": "code",
   "execution_count": 45,
   "metadata": {
    "collapsed": false
   },
   "outputs": [],
   "source": [
    "df_descriptions = df_listings.groupby(['neighborhood', 'city', 'state'])['lemmas'].apply(lambda lst: [' '.join(x) for x in lst]).reset_index()\n",
    "df_descriptions['lemmas'] = df_descriptions['lemmas'].apply(lambda x: ' '.join(x))"
   ]
  },
  {
   "cell_type": "code",
   "execution_count": 46,
   "metadata": {
    "collapsed": false
   },
   "outputs": [
    {
     "name": "stdout",
     "output_type": "stream",
     "text": [
      "212 Castleton Corners newyorkcity\n"
     ]
    },
    {
     "data": {
      "text/plain": [
       "u'clean friendly bus foot'"
      ]
     },
     "execution_count": 46,
     "metadata": {},
     "output_type": "execute_result"
    }
   ],
   "source": [
    "i = np.random.randint(low=0, high=895)\n",
    "print i, df_descriptions['neighborhood'][i], df_descriptions['city'][i]\n",
    "df_descriptions['lemmas'][i]"
   ]
  },
  {
   "cell_type": "code",
   "execution_count": 47,
   "metadata": {
    "collapsed": false
   },
   "outputs": [
    {
     "data": {
      "text/plain": [
       "\"We are located in a quiet and safe residential neighborhood with easy street parking 4 blocks from Children's Hospital and less than 10 minutes drive to University Village Mall and UW.\""
      ]
     },
     "execution_count": 47,
     "metadata": {},
     "output_type": "execute_result"
    }
   ],
   "source": [
    "df_listings['neighborhood_overview'][86943]"
   ]
  },
  {
   "cell_type": "code",
   "execution_count": 48,
   "metadata": {
    "collapsed": false
   },
   "outputs": [
    {
     "data": {
      "text/html": [
       "<div>\n",
       "<table border=\"1\" class=\"dataframe\">\n",
       "  <thead>\n",
       "    <tr style=\"text-align: right;\">\n",
       "      <th></th>\n",
       "      <th>city</th>\n",
       "      <th>neighborhood_overview</th>\n",
       "    </tr>\n",
       "  </thead>\n",
       "  <tbody>\n",
       "    <tr>\n",
       "      <th>71912</th>\n",
       "      <td>portland</td>\n",
       "      <td>Laurelhurst is one of Portland's first neighbo...</td>\n",
       "    </tr>\n",
       "    <tr>\n",
       "      <th>71913</th>\n",
       "      <td>portland</td>\n",
       "      <td>Historic Laurelhurst is one of Portland's most...</td>\n",
       "    </tr>\n",
       "    <tr>\n",
       "      <th>71914</th>\n",
       "      <td>portland</td>\n",
       "      <td>Laurelhurst is a neighborhood of vintage homes...</td>\n",
       "    </tr>\n",
       "    <tr>\n",
       "      <th>71915</th>\n",
       "      <td>portland</td>\n",
       "      <td>\"Keep Portland Weird\" is the next door neighbo...</td>\n",
       "    </tr>\n",
       "    <tr>\n",
       "      <th>71916</th>\n",
       "      <td>portland</td>\n",
       "      <td>Laurelhurst is the oldest neighbor in Portland...</td>\n",
       "    </tr>\n",
       "    <tr>\n",
       "      <th>71917</th>\n",
       "      <td>portland</td>\n",
       "      <td>This is a great neighborhood right around the ...</td>\n",
       "    </tr>\n",
       "    <tr>\n",
       "      <th>71918</th>\n",
       "      <td>portland</td>\n",
       "      <td>Laurelhurst Park, Hollywood Theatre, restauran...</td>\n",
       "    </tr>\n",
       "    <tr>\n",
       "      <th>71919</th>\n",
       "      <td>portland</td>\n",
       "      <td>The home is located in the Hollywood/Broadway ...</td>\n",
       "    </tr>\n",
       "    <tr>\n",
       "      <th>71920</th>\n",
       "      <td>portland</td>\n",
       "      <td>Laurelhurst is a neighborhood of vintage homes...</td>\n",
       "    </tr>\n",
       "    <tr>\n",
       "      <th>71921</th>\n",
       "      <td>portland</td>\n",
       "      <td>Such a great location!  Half block from Laurel...</td>\n",
       "    </tr>\n",
       "    <tr>\n",
       "      <th>71922</th>\n",
       "      <td>portland</td>\n",
       "      <td>Close to Hollywood District, 24hr fitness, TJ'...</td>\n",
       "    </tr>\n",
       "    <tr>\n",
       "      <th>71923</th>\n",
       "      <td>portland</td>\n",
       "      <td>Great family-friendly neighborhood with excell...</td>\n",
       "    </tr>\n",
       "    <tr>\n",
       "      <th>71924</th>\n",
       "      <td>portland</td>\n",
       "      <td>Hawthorne is my favorite neighborhood in all o...</td>\n",
       "    </tr>\n",
       "    <tr>\n",
       "      <th>71925</th>\n",
       "      <td>portland</td>\n",
       "      <td></td>\n",
       "    </tr>\n",
       "    <tr>\n",
       "      <th>71926</th>\n",
       "      <td>portland</td>\n",
       "      <td>One of Portland's best neighborhoods.</td>\n",
       "    </tr>\n",
       "    <tr>\n",
       "      <th>71927</th>\n",
       "      <td>portland</td>\n",
       "      <td>Laurelhurst is an historic old Portland neighb...</td>\n",
       "    </tr>\n",
       "    <tr>\n",
       "      <th>71928</th>\n",
       "      <td>portland</td>\n",
       "      <td>The Hollywood District is beautiful--mostly cr...</td>\n",
       "    </tr>\n",
       "    <tr>\n",
       "      <th>71929</th>\n",
       "      <td>portland</td>\n",
       "      <td>Laurelhurst park is one of the bests parks in ...</td>\n",
       "    </tr>\n",
       "    <tr>\n",
       "      <th>71930</th>\n",
       "      <td>portland</td>\n",
       "      <td>The house is located in the beautiful Laurelhu...</td>\n",
       "    </tr>\n",
       "    <tr>\n",
       "      <th>71931</th>\n",
       "      <td>portland</td>\n",
       "      <td>Laurelhurst is a neighborhood of vintage homes...</td>\n",
       "    </tr>\n",
       "    <tr>\n",
       "      <th>71932</th>\n",
       "      <td>portland</td>\n",
       "      <td>This neighborhood is a special place; it is a ...</td>\n",
       "    </tr>\n",
       "    <tr>\n",
       "      <th>71933</th>\n",
       "      <td>portland</td>\n",
       "      <td>We instanly fell in love with the tree-lined s...</td>\n",
       "    </tr>\n",
       "    <tr>\n",
       "      <th>71934</th>\n",
       "      <td>portland</td>\n",
       "      <td></td>\n",
       "    </tr>\n",
       "    <tr>\n",
       "      <th>71935</th>\n",
       "      <td>portland</td>\n",
       "      <td>The house is located in the beautiful Laurelhu...</td>\n",
       "    </tr>\n",
       "    <tr>\n",
       "      <th>71936</th>\n",
       "      <td>portland</td>\n",
       "      <td></td>\n",
       "    </tr>\n",
       "    <tr>\n",
       "      <th>71937</th>\n",
       "      <td>portland</td>\n",
       "      <td>This house is situated in the heart of the Lau...</td>\n",
       "    </tr>\n",
       "    <tr>\n",
       "      <th>86931</th>\n",
       "      <td>seattle</td>\n",
       "      <td></td>\n",
       "    </tr>\n",
       "    <tr>\n",
       "      <th>86935</th>\n",
       "      <td>seattle</td>\n",
       "      <td>Our neighborhood is in the city but feels like...</td>\n",
       "    </tr>\n",
       "    <tr>\n",
       "      <th>86936</th>\n",
       "      <td>seattle</td>\n",
       "      <td></td>\n",
       "    </tr>\n",
       "    <tr>\n",
       "      <th>86937</th>\n",
       "      <td>seattle</td>\n",
       "      <td></td>\n",
       "    </tr>\n",
       "    <tr>\n",
       "      <th>86938</th>\n",
       "      <td>seattle</td>\n",
       "      <td>Laurelhurst is a beautiful area of Seattle.  Y...</td>\n",
       "    </tr>\n",
       "    <tr>\n",
       "      <th>86939</th>\n",
       "      <td>seattle</td>\n",
       "      <td>Larureulhurst is a sought-after residential ne...</td>\n",
       "    </tr>\n",
       "    <tr>\n",
       "      <th>86940</th>\n",
       "      <td>seattle</td>\n",
       "      <td>Our home is in a safe, quiet, family neighborh...</td>\n",
       "    </tr>\n",
       "    <tr>\n",
       "      <th>86941</th>\n",
       "      <td>seattle</td>\n",
       "      <td></td>\n",
       "    </tr>\n",
       "    <tr>\n",
       "      <th>86942</th>\n",
       "      <td>seattle</td>\n",
       "      <td></td>\n",
       "    </tr>\n",
       "    <tr>\n",
       "      <th>86943</th>\n",
       "      <td>seattle</td>\n",
       "      <td>We are located in a quiet and safe residential...</td>\n",
       "    </tr>\n",
       "  </tbody>\n",
       "</table>\n",
       "</div>"
      ],
      "text/plain": [
       "           city                              neighborhood_overview\n",
       "71912  portland  Laurelhurst is one of Portland's first neighbo...\n",
       "71913  portland  Historic Laurelhurst is one of Portland's most...\n",
       "71914  portland  Laurelhurst is a neighborhood of vintage homes...\n",
       "71915  portland  \"Keep Portland Weird\" is the next door neighbo...\n",
       "71916  portland  Laurelhurst is the oldest neighbor in Portland...\n",
       "71917  portland  This is a great neighborhood right around the ...\n",
       "71918  portland  Laurelhurst Park, Hollywood Theatre, restauran...\n",
       "71919  portland  The home is located in the Hollywood/Broadway ...\n",
       "71920  portland  Laurelhurst is a neighborhood of vintage homes...\n",
       "71921  portland  Such a great location!  Half block from Laurel...\n",
       "71922  portland  Close to Hollywood District, 24hr fitness, TJ'...\n",
       "71923  portland  Great family-friendly neighborhood with excell...\n",
       "71924  portland  Hawthorne is my favorite neighborhood in all o...\n",
       "71925  portland                                                   \n",
       "71926  portland              One of Portland's best neighborhoods.\n",
       "71927  portland  Laurelhurst is an historic old Portland neighb...\n",
       "71928  portland  The Hollywood District is beautiful--mostly cr...\n",
       "71929  portland  Laurelhurst park is one of the bests parks in ...\n",
       "71930  portland  The house is located in the beautiful Laurelhu...\n",
       "71931  portland  Laurelhurst is a neighborhood of vintage homes...\n",
       "71932  portland  This neighborhood is a special place; it is a ...\n",
       "71933  portland  We instanly fell in love with the tree-lined s...\n",
       "71934  portland                                                   \n",
       "71935  portland  The house is located in the beautiful Laurelhu...\n",
       "71936  portland                                                   \n",
       "71937  portland  This house is situated in the heart of the Lau...\n",
       "86931   seattle                                                   \n",
       "86935   seattle  Our neighborhood is in the city but feels like...\n",
       "86936   seattle                                                   \n",
       "86937   seattle                                                   \n",
       "86938   seattle  Laurelhurst is a beautiful area of Seattle.  Y...\n",
       "86939   seattle  Larureulhurst is a sought-after residential ne...\n",
       "86940   seattle  Our home is in a safe, quiet, family neighborh...\n",
       "86941   seattle                                                   \n",
       "86942   seattle                                                   \n",
       "86943   seattle  We are located in a quiet and safe residential..."
      ]
     },
     "execution_count": 48,
     "metadata": {},
     "output_type": "execute_result"
    }
   ],
   "source": [
    "df_listings[df_listings['neighborhood']=='Laurelhurst'][['city', 'neighborhood_overview']]"
   ]
  },
  {
   "cell_type": "code",
   "execution_count": 49,
   "metadata": {
    "collapsed": false
   },
   "outputs": [
    {
     "data": {
      "text/html": [
       "<div>\n",
       "<table border=\"1\" class=\"dataframe\">\n",
       "  <thead>\n",
       "    <tr style=\"text-align: right;\">\n",
       "      <th></th>\n",
       "      <th>neighborhood</th>\n",
       "      <th>city</th>\n",
       "      <th>state</th>\n",
       "      <th>lemmas</th>\n",
       "    </tr>\n",
       "  </thead>\n",
       "  <tbody>\n",
       "    <tr>\n",
       "      <th>1187</th>\n",
       "      <td>Pilsen</td>\n",
       "      <td>chicago</td>\n",
       "      <td>IL</td>\n",
       "      <td>restaurant bar art coffee shop mccormick mus...</td>\n",
       "    </tr>\n",
       "  </tbody>\n",
       "</table>\n",
       "</div>"
      ],
      "text/plain": [
       "     neighborhood     city state  \\\n",
       "1187       Pilsen  chicago    IL   \n",
       "\n",
       "                                                 lemmas  \n",
       "1187    restaurant bar art coffee shop mccormick mus...  "
      ]
     },
     "execution_count": 49,
     "metadata": {},
     "output_type": "execute_result"
    }
   ],
   "source": [
    "df_descriptions[df_descriptions['neighborhood']=='Pilsen']"
   ]
  },
  {
   "cell_type": "code",
   "execution_count": 57,
   "metadata": {
    "collapsed": false
   },
   "outputs": [
    {
     "data": {
      "text/plain": [
       "u' feel yet coffee shop public transportation   beautiful able take beautiful large short childrens hospital pound dog go use front dog go backyard use larureulhurst soughtafter residential wellknown people live bill banderas detail url home safe childrens hospital husky coffee restaurant campus car   safe residential easy childrens hospital campus campus museum pharmacy'"
      ]
     },
     "execution_count": 57,
     "metadata": {},
     "output_type": "execute_result"
    }
   ],
   "source": [
    "df_descriptions['lemmas'][804]"
   ]
  },
  {
   "cell_type": "code",
   "execution_count": 51,
   "metadata": {
    "collapsed": false
   },
   "outputs": [
    {
     "data": {
      "text/html": [
       "<div>\n",
       "<table border=\"1\" class=\"dataframe\">\n",
       "  <thead>\n",
       "    <tr style=\"text-align: right;\">\n",
       "      <th></th>\n",
       "      <th>neighborhood</th>\n",
       "      <th>city</th>\n",
       "      <th>state</th>\n",
       "      <th>num_listings</th>\n",
       "    </tr>\n",
       "  </thead>\n",
       "  <tbody>\n",
       "    <tr>\n",
       "      <th>0</th>\n",
       "      <td>Abbington Park Condos</td>\n",
       "      <td>nashville</td>\n",
       "      <td>TN</td>\n",
       "      <td>2</td>\n",
       "    </tr>\n",
       "    <tr>\n",
       "      <th>1</th>\n",
       "      <td>Abbot Martin Estates</td>\n",
       "      <td>nashville</td>\n",
       "      <td>TN</td>\n",
       "      <td>1</td>\n",
       "    </tr>\n",
       "    <tr>\n",
       "      <th>2</th>\n",
       "      <td>Acklen Avenue Alliance</td>\n",
       "      <td>nashville</td>\n",
       "      <td>TN</td>\n",
       "      <td>5</td>\n",
       "    </tr>\n",
       "    <tr>\n",
       "      <th>3</th>\n",
       "      <td>Acorn</td>\n",
       "      <td>oakland</td>\n",
       "      <td>CA</td>\n",
       "      <td>1</td>\n",
       "    </tr>\n",
       "    <tr>\n",
       "      <th>4</th>\n",
       "      <td>Adams Hill</td>\n",
       "      <td>losangeles</td>\n",
       "      <td>CA</td>\n",
       "      <td>9</td>\n",
       "    </tr>\n",
       "    <tr>\n",
       "      <th>5</th>\n",
       "      <td>Adams Morgan</td>\n",
       "      <td>washingtondc</td>\n",
       "      <td>DC</td>\n",
       "      <td>185</td>\n",
       "    </tr>\n",
       "    <tr>\n",
       "      <th>6</th>\n",
       "      <td>Adams North</td>\n",
       "      <td>sandiego</td>\n",
       "      <td>CA</td>\n",
       "      <td>26</td>\n",
       "    </tr>\n",
       "    <tr>\n",
       "      <th>7</th>\n",
       "      <td>Adams Point</td>\n",
       "      <td>oakland</td>\n",
       "      <td>CA</td>\n",
       "      <td>33</td>\n",
       "    </tr>\n",
       "    <tr>\n",
       "      <th>8</th>\n",
       "      <td>Adams-Normandie</td>\n",
       "      <td>losangeles</td>\n",
       "      <td>CA</td>\n",
       "      <td>36</td>\n",
       "    </tr>\n",
       "    <tr>\n",
       "      <th>9</th>\n",
       "      <td>Admiral</td>\n",
       "      <td>seattle</td>\n",
       "      <td>WA</td>\n",
       "      <td>39</td>\n",
       "    </tr>\n",
       "  </tbody>\n",
       "</table>\n",
       "</div>"
      ],
      "text/plain": [
       "             neighborhood          city state  num_listings\n",
       "0   Abbington Park Condos     nashville    TN             2\n",
       "1    Abbot Martin Estates     nashville    TN             1\n",
       "2  Acklen Avenue Alliance     nashville    TN             5\n",
       "3                   Acorn       oakland    CA             1\n",
       "4              Adams Hill    losangeles    CA             9\n",
       "5            Adams Morgan  washingtondc    DC           185\n",
       "6             Adams North      sandiego    CA            26\n",
       "7             Adams Point       oakland    CA            33\n",
       "8         Adams-Normandie    losangeles    CA            36\n",
       "9                 Admiral       seattle    WA            39"
      ]
     },
     "execution_count": 51,
     "metadata": {},
     "output_type": "execute_result"
    }
   ],
   "source": [
    "df_counts = df_listings.groupby(['neighborhood', 'city', 'state']).count()['id'].reset_index()\n",
    "df_counts.rename(columns={'id': 'num_listings'}, inplace=True)\n",
    "df_counts.head(10)"
   ]
  },
  {
   "cell_type": "code",
   "execution_count": 52,
   "metadata": {
    "collapsed": false
   },
   "outputs": [],
   "source": [
    "df_neighborhoods = df_descriptions.merge(df_counts)"
   ]
  },
  {
   "cell_type": "code",
   "execution_count": 53,
   "metadata": {
    "collapsed": false
   },
   "outputs": [
    {
     "data": {
      "image/png": "[encoded data removed]",
      "text/plain": [
       "<matplotlib.figure.Figure at 0x13ad5ddd0>"
      ]
     },
     "metadata": {},
     "output_type": "display_data"
    }
   ],
   "source": [
    "df_neighborhoods[df_neighborhoods['num_listings'] >= 10]['city'].value_counts().plot(kind='bar');"
   ]
  },
  {
   "cell_type": "code",
   "execution_count": 54,
   "metadata": {
    "collapsed": true
   },
   "outputs": [],
   "source": [
    "df_neighborhoods = df_neighborhoods[df_neighborhoods['num_listings'] >= 10]"
   ]
  },
  {
   "cell_type": "code",
   "execution_count": 55,
   "metadata": {
    "collapsed": true
   },
   "outputs": [],
   "source": [
    "with open('../data/interim/04_neighborhoods_lemmas.pkl', 'wb') as picklefile:\n",
    "    pickle.dump(df_neighborhoods, picklefile)"
   ]
  },
  {
   "cell_type": "raw",
   "metadata": {
    "collapsed": true
   },
   "source": [
    "with open('../data/interim/04_neighborhoods_nouns.pkl', 'wb') as picklefile:\n",
    "    pickle.dump(df_neighborhoods, picklefile)"
   ]
  },
  {
   "cell_type": "code",
   "execution_count": null,
   "metadata": {
    "collapsed": true
   },
   "outputs": [],
   "source": []
  }
 ],
 "metadata": {
  "anaconda-cloud": {},
  "kernelspec": {
   "display_name": "Python [conda root]",
   "language": "python",
   "name": "conda-root-py"
  },
  "language_info": {
   "codemirror_mode": {
    "name": "ipython",
    "version": 2
   },
   "file_extension": ".py",
   "mimetype": "text/x-python",
   "name": "python",
   "nbconvert_exporter": "python",
   "pygments_lexer": "ipython2",
   "version": "2.7.12"
  }
 },
 "nbformat": 4,
 "nbformat_minor": 1
}
