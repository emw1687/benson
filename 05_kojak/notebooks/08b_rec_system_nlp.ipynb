{
 "cells": [
  {
   "cell_type": "code",
   "execution_count": 1,
   "metadata": {
    "collapsed": false
   },
   "outputs": [],
   "source": [
    "import pandas as pd\n",
    "\n",
    "import pickle\n",
    "\n",
    "import numpy as np\n",
    "\n",
    "import re\n",
    "import string\n",
    "\n",
    "import matplotlib.pyplot as plt\n",
    "%matplotlib inline\n",
    "\n",
    "import seaborn as sns\n",
    "sns.set_style('white')\n",
    "\n",
    "from scipy.spatial.distance import cosine\n",
    "from scipy.spatial.distance import cdist\n",
    "\n",
    "import operator"
   ]
  },
  {
   "cell_type": "code",
   "execution_count": 2,
   "metadata": {
    "collapsed": false
   },
   "outputs": [],
   "source": [
    "with open ('../models/05_kojak_demo.pkl', 'rb') as picklefile:\n",
    "    df_loc, df_doc_topics, nmf_topics = pickle.load(picklefile)"
   ]
  },
  {
   "cell_type": "code",
   "execution_count": 3,
   "metadata": {
    "collapsed": false
   },
   "outputs": [],
   "source": [
    "neighborhoods = df_loc['neighborhood'].apply(lambda u: u.encode('utf-8')).tolist()\n",
    "cities = df_loc['city'].tolist()\n",
    "topics = df_loc['topic'].tolist()\n",
    "\n",
    "zipped = zip(neighborhoods, cities, topics)"
   ]
  },
  {
   "cell_type": "code",
   "execution_count": 33,
   "metadata": {
    "collapsed": false
   },
   "outputs": [
    {
     "data": {
      "text/html": [
       "<div>\n",
       "<table border=\"1\" class=\"dataframe\">\n",
       "  <thead>\n",
       "    <tr style=\"text-align: right;\">\n",
       "      <th></th>\n",
       "      <th>neighborhood</th>\n",
       "      <th>city</th>\n",
       "      <th>topic</th>\n",
       "    </tr>\n",
       "  </thead>\n",
       "  <tbody>\n",
       "    <tr>\n",
       "      <th>0</th>\n",
       "      <td>Adams Morgan</td>\n",
       "      <td>washingtondc</td>\n",
       "      <td>10_attractions</td>\n",
       "    </tr>\n",
       "  </tbody>\n",
       "</table>\n",
       "</div>"
      ],
      "text/plain": [
       "   neighborhood          city           topic\n",
       "0  Adams Morgan  washingtondc  10_attractions"
      ]
     },
     "execution_count": 33,
     "metadata": {},
     "output_type": "execute_result"
    }
   ],
   "source": [
    "df_loc.head(1)"
   ]
  },
  {
   "cell_type": "code",
   "execution_count": null,
   "metadata": {
    "collapsed": true
   },
   "outputs": [],
   "source": [
    "df_loc['neighborhood']"
   ]
  },
  {
   "cell_type": "code",
   "execution_count": 45,
   "metadata": {
    "collapsed": true
   },
   "outputs": [],
   "source": [
    "neighborhood_name='Pilsen'\n",
    "neighborhood_index = df_loc[df_loc['neighborhood']==neighborhood_name].index[0]\n",
    "neighborhood_dist = np.array(df_doc_topics.iloc[neighborhood_index])"
   ]
  },
  {
   "cell_type": "code",
   "execution_count": 49,
   "metadata": {
    "collapsed": false
   },
   "outputs": [
    {
     "data": {
      "text/plain": [
       "array([[ 0.06977276,  0.16303613,  0.        ,  0.        ,  0.0292681 ,\n",
       "         0.        ,  0.02358973,  0.01133142,  0.13041557,  0.18408705,\n",
       "         0.        ,  0.01572815,  0.00821721,  0.        ,  0.        ,\n",
       "         0.        ]])"
      ]
     },
     "execution_count": 49,
     "metadata": {},
     "output_type": "execute_result"
    }
   ],
   "source": [
    "neighborhood_dist"
   ]
  },
  {
   "cell_type": "code",
   "execution_count": 4,
   "metadata": {
    "collapsed": true
   },
   "outputs": [],
   "source": [
    "test_list = [10.0, 0.0, 0.0, 0.0, \\\n",
    "       0.0, 0.0, 0.0, 0.0, \\\n",
    "       0.0, 0.0, 0.0, 0.0, \\\n",
    "       0.0, 0.0, 0.0, 0.0]"
   ]
  },
  {
   "cell_type": "code",
   "execution_count": 5,
   "metadata": {
    "collapsed": true
   },
   "outputs": [],
   "source": [
    "test_array = np.array(test_list)"
   ]
  },
  {
   "cell_type": "code",
   "execution_count": 6,
   "metadata": {
    "collapsed": false
   },
   "outputs": [
    {
     "data": {
      "text/plain": [
       "'1_taco'"
      ]
     },
     "execution_count": 6,
     "metadata": {},
     "output_type": "execute_result"
    }
   ],
   "source": [
    "nmf_topics[test_list.index(max(test_list))]"
   ]
  },
  {
   "cell_type": "code",
   "execution_count": 7,
   "metadata": {
    "collapsed": false
   },
   "outputs": [],
   "source": [
    "test_distribution = test_array/sum(test_array)"
   ]
  },
  {
   "cell_type": "code",
   "execution_count": 8,
   "metadata": {
    "collapsed": false
   },
   "outputs": [
    {
     "data": {
      "text/plain": [
       "1.0"
      ]
     },
     "execution_count": 8,
     "metadata": {},
     "output_type": "execute_result"
    }
   ],
   "source": [
    "sum(test_distribution)"
   ]
  },
  {
   "cell_type": "code",
   "execution_count": 58,
   "metadata": {
    "collapsed": false
   },
   "outputs": [],
   "source": [
    "def find_comps(df_doc_topics, test_distribution, city, num_comps=5):\n",
    "    dists = {}\n",
    "    for i in range(len(df_doc_topics)):\n",
    "        dists[i] = cosine(df_doc_topics.ix[i].T, np.array(test_distribution))\n",
    "    max_keys = sorted(dists, key=dists.get)#[:num_comps]\n",
    "    comps = []\n",
    "    count = 0\n",
    "    #print max_keys\n",
    "    #return dists\n",
    "    for key in max_keys:\n",
    "        if count <= 5:\n",
    "            if zipped[key][1] == city:\n",
    "                comps.append(zipped[key])\n",
    "                count += 1\n",
    "    return comps\n",
    "    #print float(nmf_topics.index(zipped[max_keys[0]][2]))\n",
    "    #print zipped[max_keys[0]][2]\n",
    "    #print nmf_topics.index(max_keys[0])\n",
    "    #return dists"
   ]
  },
  {
   "cell_type": "code",
   "execution_count": 60,
   "metadata": {
    "collapsed": false
   },
   "outputs": [],
   "source": [
    "comps = find_comps(df_doc_topics, pilsen, 'newyorkcity', num_comps=100)"
   ]
  },
  {
   "cell_type": "code",
   "execution_count": 62,
   "metadata": {
    "collapsed": false
   },
   "outputs": [
    {
     "data": {
      "text/plain": [
       "'8_art'"
      ]
     },
     "execution_count": 62,
     "metadata": {},
     "output_type": "execute_result"
    }
   ],
   "source": [
    "comps[0][2]"
   ]
  },
  {
   "cell_type": "code",
   "execution_count": 10,
   "metadata": {
    "collapsed": false
   },
   "outputs": [
    {
     "name": "stdout",
     "output_type": "stream",
     "text": [
      "[470, 236, 344, 48, 217]\n",
      "('Melrose', 'nashville', '1_taco')\n",
      "('Eastwood', 'nashville', '1_taco')\n",
      "('Historic Waverly Place', 'nashville', '1_taco')\n",
      "('Bellmont Hillsboro', 'nashville', '1_taco')\n",
      "('East End', 'nashville', '1_taco')\n",
      "0.0\n",
      "1_taco\n"
     ]
    }
   ],
   "source": [
    "find_comps(df_doc_topics, test_distribution)"
   ]
  },
  {
   "cell_type": "code",
   "execution_count": 11,
   "metadata": {
    "collapsed": false
   },
   "outputs": [
    {
     "data": {
      "text/plain": [
       "0     0.000000\n",
       "1     0.000000\n",
       "2     0.170987\n",
       "3     0.027954\n",
       "4     0.000000\n",
       "5     0.018020\n",
       "6     0.004866\n",
       "7     0.029608\n",
       "8     0.014814\n",
       "9     0.000000\n",
       "10    0.000000\n",
       "11    0.000000\n",
       "12    0.029614\n",
       "13    0.000000\n",
       "14    0.000000\n",
       "15    0.006484\n",
       "Name: 3, dtype: float64"
      ]
     },
     "execution_count": 11,
     "metadata": {},
     "output_type": "execute_result"
    }
   ],
   "source": [
    "df_doc_topics.iloc[3]"
   ]
  },
  {
   "cell_type": "code",
   "execution_count": 12,
   "metadata": {
    "collapsed": false
   },
   "outputs": [
    {
     "data": {
      "text/html": [
       "<div>\n",
       "<table border=\"1\" class=\"dataframe\">\n",
       "  <thead>\n",
       "    <tr style=\"text-align: right;\">\n",
       "      <th></th>\n",
       "      <th>0</th>\n",
       "      <th>1</th>\n",
       "      <th>2</th>\n",
       "      <th>3</th>\n",
       "      <th>4</th>\n",
       "      <th>5</th>\n",
       "      <th>6</th>\n",
       "      <th>7</th>\n",
       "      <th>8</th>\n",
       "      <th>9</th>\n",
       "      <th>10</th>\n",
       "      <th>11</th>\n",
       "      <th>12</th>\n",
       "      <th>13</th>\n",
       "      <th>14</th>\n",
       "      <th>15</th>\n",
       "    </tr>\n",
       "  </thead>\n",
       "  <tbody>\n",
       "    <tr>\n",
       "      <th>48</th>\n",
       "      <td>0.213651</td>\n",
       "      <td>0.000000</td>\n",
       "      <td>0.017951</td>\n",
       "      <td>0.009858</td>\n",
       "      <td>0.026662</td>\n",
       "      <td>0.063114</td>\n",
       "      <td>0.000000</td>\n",
       "      <td>0.000000</td>\n",
       "      <td>0.004009</td>\n",
       "      <td>0.000000</td>\n",
       "      <td>0.004336</td>\n",
       "      <td>0.000000</td>\n",
       "      <td>0.0</td>\n",
       "      <td>0.001202</td>\n",
       "      <td>0.0</td>\n",
       "      <td>0.000523</td>\n",
       "    </tr>\n",
       "    <tr>\n",
       "      <th>236</th>\n",
       "      <td>0.209811</td>\n",
       "      <td>0.000000</td>\n",
       "      <td>0.003849</td>\n",
       "      <td>0.000000</td>\n",
       "      <td>0.019200</td>\n",
       "      <td>0.000000</td>\n",
       "      <td>0.017186</td>\n",
       "      <td>0.009708</td>\n",
       "      <td>0.000000</td>\n",
       "      <td>0.000000</td>\n",
       "      <td>0.022532</td>\n",
       "      <td>0.000000</td>\n",
       "      <td>0.0</td>\n",
       "      <td>0.000000</td>\n",
       "      <td>0.0</td>\n",
       "      <td>0.000000</td>\n",
       "    </tr>\n",
       "    <tr>\n",
       "      <th>217</th>\n",
       "      <td>0.206879</td>\n",
       "      <td>0.000000</td>\n",
       "      <td>0.000000</td>\n",
       "      <td>0.005085</td>\n",
       "      <td>0.009752</td>\n",
       "      <td>0.002849</td>\n",
       "      <td>0.000000</td>\n",
       "      <td>0.040357</td>\n",
       "      <td>0.000000</td>\n",
       "      <td>0.000000</td>\n",
       "      <td>0.056353</td>\n",
       "      <td>0.016781</td>\n",
       "      <td>0.0</td>\n",
       "      <td>0.000000</td>\n",
       "      <td>0.0</td>\n",
       "      <td>0.007033</td>\n",
       "    </tr>\n",
       "    <tr>\n",
       "      <th>470</th>\n",
       "      <td>0.203356</td>\n",
       "      <td>0.000000</td>\n",
       "      <td>0.005755</td>\n",
       "      <td>0.010980</td>\n",
       "      <td>0.016846</td>\n",
       "      <td>0.009353</td>\n",
       "      <td>0.000000</td>\n",
       "      <td>0.000000</td>\n",
       "      <td>0.007240</td>\n",
       "      <td>0.004912</td>\n",
       "      <td>0.000463</td>\n",
       "      <td>0.000000</td>\n",
       "      <td>0.0</td>\n",
       "      <td>0.000000</td>\n",
       "      <td>0.0</td>\n",
       "      <td>0.000000</td>\n",
       "    </tr>\n",
       "    <tr>\n",
       "      <th>730</th>\n",
       "      <td>0.202145</td>\n",
       "      <td>0.001735</td>\n",
       "      <td>0.045036</td>\n",
       "      <td>0.000000</td>\n",
       "      <td>0.015897</td>\n",
       "      <td>0.008130</td>\n",
       "      <td>0.000000</td>\n",
       "      <td>0.000000</td>\n",
       "      <td>0.018570</td>\n",
       "      <td>0.000000</td>\n",
       "      <td>0.000000</td>\n",
       "      <td>0.057581</td>\n",
       "      <td>0.0</td>\n",
       "      <td>0.030845</td>\n",
       "      <td>0.0</td>\n",
       "      <td>0.021509</td>\n",
       "    </tr>\n",
       "  </tbody>\n",
       "</table>\n",
       "</div>"
      ],
      "text/plain": [
       "           0         1         2         3         4         5         6   \\\n",
       "48   0.213651  0.000000  0.017951  0.009858  0.026662  0.063114  0.000000   \n",
       "236  0.209811  0.000000  0.003849  0.000000  0.019200  0.000000  0.017186   \n",
       "217  0.206879  0.000000  0.000000  0.005085  0.009752  0.002849  0.000000   \n",
       "470  0.203356  0.000000  0.005755  0.010980  0.016846  0.009353  0.000000   \n",
       "730  0.202145  0.001735  0.045036  0.000000  0.015897  0.008130  0.000000   \n",
       "\n",
       "           7         8         9         10        11   12        13   14  \\\n",
       "48   0.000000  0.004009  0.000000  0.004336  0.000000  0.0  0.001202  0.0   \n",
       "236  0.009708  0.000000  0.000000  0.022532  0.000000  0.0  0.000000  0.0   \n",
       "217  0.040357  0.000000  0.000000  0.056353  0.016781  0.0  0.000000  0.0   \n",
       "470  0.000000  0.007240  0.004912  0.000463  0.000000  0.0  0.000000  0.0   \n",
       "730  0.000000  0.018570  0.000000  0.000000  0.057581  0.0  0.030845  0.0   \n",
       "\n",
       "           15  \n",
       "48   0.000523  \n",
       "236  0.000000  \n",
       "217  0.007033  \n",
       "470  0.000000  \n",
       "730  0.021509  "
      ]
     },
     "execution_count": 12,
     "metadata": {},
     "output_type": "execute_result"
    }
   ],
   "source": [
    "df_doc_topics.sort_values(by=0, ascending=False).head()"
   ]
  },
  {
   "cell_type": "code",
   "execution_count": 13,
   "metadata": {
    "collapsed": true
   },
   "outputs": [],
   "source": [
    "test_vec = pd.DataFrame([\n",
    "    [0.8, 0.2],\n",
    "    [0.6, 0.4],\n",
    "    [0.0, 0.7],\n",
    "    [0.8, 0.4],\n",
    "    [0.6, 0.8],\n",
    "    [0.6, 0.1]\n",
    "    ])\n",
    "\n",
    "check_vec = np.array([1.0, 0.0])"
   ]
  },
  {
   "cell_type": "code",
   "execution_count": 21,
   "metadata": {
    "collapsed": false
   },
   "outputs": [
    {
     "name": "stdout",
     "output_type": "stream",
     "text": [
      "[5, 0, 3, 1, 4]\n",
      "('Alameda', 'portland', '8_art')\n",
      "('Adams Morgan', 'washingtondc', '10_attractions')\n",
      "('Adams-Normandie', 'losangeles', '3_car')\n",
      "('Adams North', 'sandiego', '1_taco')\n",
      "('Admiral', 'seattle', '14_water')\n",
      "7.0\n",
      "8_art\n"
     ]
    }
   ],
   "source": [
    "dists = find_comps(test_vec, check_vec)"
   ]
  },
  {
   "cell_type": "code",
   "execution_count": 22,
   "metadata": {
    "collapsed": false
   },
   "outputs": [
    {
     "data": {
      "text/plain": [
       "{0: 0.029857499854668124,\n",
       " 1: 0.16794970566215628,\n",
       " 2: 1.0,\n",
       " 3: 0.10557280900008414,\n",
       " 4: 0.40000000000000002,\n",
       " 5: 0.013606076167856251}"
      ]
     },
     "execution_count": 22,
     "metadata": {},
     "output_type": "execute_result"
    }
   ],
   "source": [
    "dists"
   ]
  },
  {
   "cell_type": "code",
   "execution_count": 23,
   "metadata": {
    "collapsed": false
   },
   "outputs": [
    {
     "data": {
      "text/plain": [
       "[(5, 0.013606076167856251),\n",
       " (0, 0.029857499854668124),\n",
       " (3, 0.10557280900008414),\n",
       " (1, 0.16794970566215628),\n",
       " (4, 0.40000000000000002),\n",
       " (2, 1.0)]"
      ]
     },
     "execution_count": 23,
     "metadata": {},
     "output_type": "execute_result"
    }
   ],
   "source": [
    "sorted(dists.items(), key=operator.itemgetter(1))"
   ]
  },
  {
   "cell_type": "code",
   "execution_count": 24,
   "metadata": {
    "collapsed": false
   },
   "outputs": [
    {
     "data": {
      "text/plain": [
       "(5, 0.013606076167856251)"
      ]
     },
     "execution_count": 24,
     "metadata": {},
     "output_type": "execute_result"
    }
   ],
   "source": [
    "sorted(dists.items(), key=operator.itemgetter(1))[0]"
   ]
  },
  {
   "cell_type": "code",
   "execution_count": 25,
   "metadata": {
    "collapsed": false
   },
   "outputs": [
    {
     "data": {
      "text/plain": [
       "[5, 0, 3, 1, 4]"
      ]
     },
     "execution_count": 25,
     "metadata": {},
     "output_type": "execute_result"
    }
   ],
   "source": [
    "sorted(dists, key=dists.get)[:5]"
   ]
  },
  {
   "cell_type": "code",
   "execution_count": null,
   "metadata": {
    "collapsed": true
   },
   "outputs": [],
   "source": []
  }
 ],
 "metadata": {
  "anaconda-cloud": {},
  "kernelspec": {
   "display_name": "Python [conda root]",
   "language": "python",
   "name": "conda-root-py"
  },
  "language_info": {
   "codemirror_mode": {
    "name": "ipython",
    "version": 2
   },
   "file_extension": ".py",
   "mimetype": "text/x-python",
   "name": "python",
   "nbconvert_exporter": "python",
   "pygments_lexer": "ipython2",
   "version": "2.7.12"
  }
 },
 "nbformat": 4,
 "nbformat_minor": 1
}
