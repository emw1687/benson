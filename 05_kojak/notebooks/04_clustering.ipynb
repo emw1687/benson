{
 "cells": [
  {
   "cell_type": "code",
   "execution_count": 1,
   "metadata": {
    "collapsed": false
   },
   "outputs": [],
   "source": [
    "import pandas as pd\n",
    "pd.options.display.max_rows = 1000\n",
    "\n",
    "import pickle\n",
    "\n",
    "import numpy as np\n",
    "\n",
    "import re\n",
    "import string\n",
    "\n",
    "import nltk\n",
    "from nltk.stem import WordNetLemmatizer\n",
    "from nltk import pos_tag\n",
    "\n",
    "import matplotlib.pyplot as plt\n",
    "%matplotlib inline\n",
    "\n",
    "import seaborn as sns\n",
    "sns.set_style('white')"
   ]
  },
  {
   "cell_type": "code",
   "execution_count": 2,
   "metadata": {
    "collapsed": false
   },
   "outputs": [],
   "source": [
    "with open('../data/interim/02_cleaned.pkl', 'rb') as picklefile:\n",
    "    df_listings = pickle.load(picklefile)"
   ]
  },
  {
   "cell_type": "code",
   "execution_count": 4,
   "metadata": {
    "collapsed": false
   },
   "outputs": [
    {
     "data": {
      "text/plain": [
       "0    OUTSIDE ZILLOW\n",
       "1    OUTSIDE ZILLOW\n",
       "2    OUTSIDE ZILLOW\n",
       "3    OUTSIDE ZILLOW\n",
       "4    OUTSIDE ZILLOW\n",
       "Name: neighborhood, dtype: object"
      ]
     },
     "execution_count": 4,
     "metadata": {},
     "output_type": "execute_result"
    }
   ],
   "source": [
    "df_listings['neighborhood'].head()"
   ]
  },
  {
   "cell_type": "code",
   "execution_count": 5,
   "metadata": {
    "collapsed": true
   },
   "outputs": [],
   "source": [
    "df_listings = df_listings[df_listings['neighborhood'] != 'OUTSIDE ZILLOW']"
   ]
  },
  {
   "cell_type": "code",
   "execution_count": 6,
   "metadata": {
    "collapsed": false
   },
   "outputs": [
    {
     "data": {
      "text/plain": [
       "85033"
      ]
     },
     "execution_count": 6,
     "metadata": {},
     "output_type": "execute_result"
    }
   ],
   "source": [
    "len(df_listings)"
   ]
  },
  {
   "cell_type": "markdown",
   "metadata": {},
   "source": [
    "#### Preprocess neighborhood overviews for topic modeling"
   ]
  },
  {
   "cell_type": "code",
   "execution_count": 7,
   "metadata": {
    "collapsed": false
   },
   "outputs": [],
   "source": [
    "num_punct = string.punctuation\n",
    "num_punct.replace(\"'\", \"\")\n",
    "num_punct += '0123456789'"
   ]
  },
  {
   "cell_type": "code",
   "execution_count": 8,
   "metadata": {
    "collapsed": false
   },
   "outputs": [],
   "source": [
    "df_listings.loc[:,'lower'] = df_listings['neighborhood_overview'].map(lambda s: s.lower().translate(None, num_punct).decode('utf-8').split())"
   ]
  },
  {
   "cell_type": "code",
   "execution_count": 9,
   "metadata": {
    "collapsed": false
   },
   "outputs": [
    {
     "data": {
      "text/plain": [
       "[u'although',\n",
       " u'we',\n",
       " u'are',\n",
       " u'close',\n",
       " u'to',\n",
       " u'downtown',\n",
       " u'we',\n",
       " u'are',\n",
       " u'tucked',\n",
       " u'away',\n",
       " u'on',\n",
       " u'a',\n",
       " u'quiet',\n",
       " u'street',\n",
       " u'which',\n",
       " u'makes',\n",
       " u'this',\n",
       " u'a',\n",
       " u'true',\n",
       " u'urban',\n",
       " u'oasis']"
      ]
     },
     "execution_count": 9,
     "metadata": {},
     "output_type": "execute_result"
    }
   ],
   "source": [
    "test = df_listings['lower'][864]\n",
    "test"
   ]
  },
  {
   "cell_type": "code",
   "execution_count": 10,
   "metadata": {
    "collapsed": false
   },
   "outputs": [],
   "source": [
    "neighborhood_stopwords = []\n",
    "for neighborhood in df_listings['neighborhood'].drop_duplicates().tolist()[1:]:\n",
    "    neighborhood_stopwords.extend(neighborhood.encode('utf-8').lower().translate(None, num_punct).split())"
   ]
  },
  {
   "cell_type": "code",
   "execution_count": 11,
   "metadata": {
    "collapsed": false
   },
   "outputs": [],
   "source": [
    "location_stopwords = neighborhood_stopwords + \\\n",
    "                    ['san', 'francisco', 'diego', 'los', 'angeles', 'santa', 'monica', \\\n",
    "                    'new', 'york', 'city', 'nyc', 'orleans', 'chicago', 'boston', 'nashville', \\\n",
    "                    'washington', 'dc', 'denver', 'portland', 'oakland', 'austin', 'seattle', \\\n",
    "                    'california', 'washington', 'massachusetts', 'oregon', 'northwest', \\\n",
    "                    'pacific', 'northeast', 'texas', 'hollywood', 'height', 'silverlake', 'griffith', \\\n",
    "                    'alberta', 'willamette', 'mississipii', 'powell', 'barclays', 'bed', 'stuy', 'bedstuy',\\\n",
    "                    'hell', 'kitchen', 'pasadena', 'franciscos', 'diegos', 'barclays', 'sf', 'haight', \n",
    "                    'bart', 'divisadero', 'nopa', 'smithsonian', 'adam', 'mall', 'dcs', 'tulane', \\\n",
    "                    'loyola', 'bourbon', 'ca', 'ny', 'ma', 'co', 'wa', 'or', 'la', 'wa', 'tx', \\\n",
    "                    'il', 'chi', 'bos', 'tn']"
   ]
  },
  {
   "cell_type": "code",
   "execution_count": 12,
   "metadata": {
    "collapsed": false
   },
   "outputs": [
    {
     "data": {
      "text/plain": [
       "['co', 'wa', 'or', 'la', 'wa', 'tx', 'il', 'chi', 'bos', 'tn']"
      ]
     },
     "execution_count": 12,
     "metadata": {},
     "output_type": "execute_result"
    }
   ],
   "source": [
    "location_stopwords[-10:]"
   ]
  },
  {
   "cell_type": "code",
   "execution_count": 13,
   "metadata": {
    "collapsed": false
   },
   "outputs": [],
   "source": [
    "stopwords = nltk.corpus.stopwords.words('english')\n",
    "decoded_stopwords = [s.decode('utf-8') for s in location_stopwords]\n",
    "stopwords.extend(decoded_stopwords)"
   ]
  },
  {
   "cell_type": "code",
   "execution_count": 14,
   "metadata": {
    "collapsed": false
   },
   "outputs": [
    {
     "data": {
      "text/plain": [
       "([u'i',\n",
       "  u'me',\n",
       "  u'my',\n",
       "  u'myself',\n",
       "  u'we',\n",
       "  u'our',\n",
       "  u'ours',\n",
       "  u'ourselves',\n",
       "  u'you',\n",
       "  u'your'],\n",
       " [u'co', u'wa', u'or', u'la', u'wa', u'tx', u'il', u'chi', u'bos', u'tn'])"
      ]
     },
     "execution_count": 14,
     "metadata": {},
     "output_type": "execute_result"
    }
   ],
   "source": [
    "stopwords[:10], stopwords[-10:]"
   ]
  },
  {
   "cell_type": "code",
   "execution_count": 15,
   "metadata": {
    "collapsed": false
   },
   "outputs": [],
   "source": [
    "lemmatizer = WordNetLemmatizer()\n",
    "lemma_pos = {'JJ': 'a',\n",
    "             'NN': 'n',\n",
    "             'RB': 'r', \n",
    "             'VB': 'v'}\n",
    "\n",
    "def lemmatize(word_list):\n",
    "    lemmas = []\n",
    "    pos_tags = pos_tag(word_list)\n",
    "    #print pos_tags\n",
    "    for word, pos in pos_tags:\n",
    "        #print word, pos\n",
    "        #remove proper nouns\n",
    "        if pos != 'NNP' and pos != 'NNPS':\n",
    "            try:\n",
    "                p = lemma_pos[pos[:2]]\n",
    "                lemma = lemmatizer.lemmatize(word, pos=p)\n",
    "                #remove stopwords\n",
    "                if lemma not in stopwords:\n",
    "                    lemmas.append(lemma)\n",
    "            except:\n",
    "                continue\n",
    "    return lemmas"
   ]
  },
  {
   "cell_type": "code",
   "execution_count": 16,
   "metadata": {
    "collapsed": false
   },
   "outputs": [
    {
     "name": "stdout",
     "output_type": "stream",
     "text": [
      "The slowest run took 1820.22 times longer than the fastest. This could mean that an intermediate result is being cached.\n",
      "1 loop, best of 3: 2.58 ms per loop\n"
     ]
    }
   ],
   "source": [
    "%%timeit\n",
    "lemmatize(test)"
   ]
  },
  {
   "cell_type": "code",
   "execution_count": 17,
   "metadata": {
    "collapsed": false
   },
   "outputs": [
    {
     "name": "stdout",
     "output_type": "stream",
     "text": [
      "CPU times: user 10min 50s, sys: 4.99 s, total: 10min 55s\n",
      "Wall time: 10min 55s\n"
     ]
    }
   ],
   "source": [
    "%%time\n",
    "df_listings.loc[:,'lemmas'] = df_listings['lower'].map(lambda lst: lemmatize(lst))"
   ]
  },
  {
   "cell_type": "code",
   "execution_count": 18,
   "metadata": {
    "collapsed": true
   },
   "outputs": [],
   "source": [
    "with open('../data/interim/04_lemmas.pkl', 'wb') as picklefile:\n",
    "    pickle.dump(df_listings, picklefile)"
   ]
  },
  {
   "cell_type": "markdown",
   "metadata": {},
   "source": [
    "#### Create dataframes for clustering on neighborhoods and cities"
   ]
  },
  {
   "cell_type": "code",
   "execution_count": 19,
   "metadata": {
    "collapsed": true
   },
   "outputs": [],
   "source": [
    "with open('../data/interim/04_lemmas.pkl', 'rb') as picklefile:\n",
    "    df_listings = pickle.load(picklefile)"
   ]
  },
  {
   "cell_type": "code",
   "execution_count": 20,
   "metadata": {
    "collapsed": false
   },
   "outputs": [],
   "source": [
    "df_descriptions = df_listings.groupby(['neighborhood', 'city', 'state'])['lemmas'].apply(lambda lst: [' '.join(x) for x in lst]).reset_index()\n",
    "df_descriptions['lemmas'] = df_descriptions['lemmas'].apply(lambda x: ' '.join(x))"
   ]
  },
  {
   "cell_type": "code",
   "execution_count": 21,
   "metadata": {
    "collapsed": false
   },
   "outputs": [
    {
     "data": {
      "text/html": [
       "<div>\n",
       "<table border=\"1\" class=\"dataframe\">\n",
       "  <thead>\n",
       "    <tr style=\"text-align: right;\">\n",
       "      <th></th>\n",
       "      <th>neighborhood</th>\n",
       "      <th>city</th>\n",
       "      <th>state</th>\n",
       "      <th>lemmas</th>\n",
       "    </tr>\n",
       "  </thead>\n",
       "  <tbody>\n",
       "    <tr>\n",
       "      <th>0</th>\n",
       "      <td>Abbington Park Condos</td>\n",
       "      <td>nashville</td>\n",
       "      <td>TN</td>\n",
       "      <td>locate safe familyfriendly also minute car ri...</td>\n",
       "    </tr>\n",
       "    <tr>\n",
       "      <th>1</th>\n",
       "      <td>Abbot Martin Estates</td>\n",
       "      <td>nashville</td>\n",
       "      <td>TN</td>\n",
       "      <td></td>\n",
       "    </tr>\n",
       "    <tr>\n",
       "      <th>2</th>\n",
       "      <td>Acklen Avenue Alliance</td>\n",
       "      <td>nashville</td>\n",
       "      <td>TN</td>\n",
       "      <td>location restaurant shop boutique offer need r...</td>\n",
       "    </tr>\n",
       "    <tr>\n",
       "      <th>3</th>\n",
       "      <td>Acorn</td>\n",
       "      <td>oakland</td>\n",
       "      <td>CA</td>\n",
       "      <td></td>\n",
       "    </tr>\n",
       "    <tr>\n",
       "      <th>4</th>\n",
       "      <td>Adams Hill</td>\n",
       "      <td>losangeles</td>\n",
       "      <td>CA</td>\n",
       "      <td>safe walkable shop metro bus friendly neighbor...</td>\n",
       "    </tr>\n",
       "    <tr>\n",
       "      <th>5</th>\n",
       "      <td>Adams Morgan</td>\n",
       "      <td>washingtondc</td>\n",
       "      <td>DC</td>\n",
       "      <td>walkability coffee grocery din shopping gy...</td>\n",
       "    </tr>\n",
       "    <tr>\n",
       "      <th>6</th>\n",
       "      <td>Adams North</td>\n",
       "      <td>sandiego</td>\n",
       "      <td>CA</td>\n",
       "      <td>renaissance recent year lot restaurant nearby ...</td>\n",
       "    </tr>\n",
       "    <tr>\n",
       "      <th>7</th>\n",
       "      <td>Adams Point</td>\n",
       "      <td>oakland</td>\n",
       "      <td>CA</td>\n",
       "      <td>restaurant whole food supermarket beauty      ...</td>\n",
       "    </tr>\n",
       "    <tr>\n",
       "      <th>8</th>\n",
       "      <td>Adams-Normandie</td>\n",
       "      <td>losangeles</td>\n",
       "      <td>CA</td>\n",
       "      <td>rich culture history win highly coveted year c...</td>\n",
       "    </tr>\n",
       "    <tr>\n",
       "      <th>9</th>\n",
       "      <td>Admiral</td>\n",
       "      <td>seattle</td>\n",
       "      <td>WA</td>\n",
       "      <td>make stretch puget sound best setting national...</td>\n",
       "    </tr>\n",
       "  </tbody>\n",
       "</table>\n",
       "</div>"
      ],
      "text/plain": [
       "             neighborhood          city state  \\\n",
       "0   Abbington Park Condos     nashville    TN   \n",
       "1    Abbot Martin Estates     nashville    TN   \n",
       "2  Acklen Avenue Alliance     nashville    TN   \n",
       "3                   Acorn       oakland    CA   \n",
       "4              Adams Hill    losangeles    CA   \n",
       "5            Adams Morgan  washingtondc    DC   \n",
       "6             Adams North      sandiego    CA   \n",
       "7             Adams Point       oakland    CA   \n",
       "8         Adams-Normandie    losangeles    CA   \n",
       "9                 Admiral       seattle    WA   \n",
       "\n",
       "                                              lemmas  \n",
       "0   locate safe familyfriendly also minute car ri...  \n",
       "1                                                     \n",
       "2  location restaurant shop boutique offer need r...  \n",
       "3                                                     \n",
       "4  safe walkable shop metro bus friendly neighbor...  \n",
       "5      walkability coffee grocery din shopping gy...  \n",
       "6  renaissance recent year lot restaurant nearby ...  \n",
       "7  restaurant whole food supermarket beauty      ...  \n",
       "8  rich culture history win highly coveted year c...  \n",
       "9  make stretch puget sound best setting national...  "
      ]
     },
     "execution_count": 21,
     "metadata": {},
     "output_type": "execute_result"
    }
   ],
   "source": [
    "df_descriptions.head(10)"
   ]
  },
  {
   "cell_type": "code",
   "execution_count": 22,
   "metadata": {
    "collapsed": false
   },
   "outputs": [
    {
     "data": {
      "text/html": [
       "<div>\n",
       "<table border=\"1\" class=\"dataframe\">\n",
       "  <thead>\n",
       "    <tr style=\"text-align: right;\">\n",
       "      <th></th>\n",
       "      <th>neighborhood</th>\n",
       "      <th>city</th>\n",
       "      <th>state</th>\n",
       "      <th>num_listings</th>\n",
       "    </tr>\n",
       "  </thead>\n",
       "  <tbody>\n",
       "    <tr>\n",
       "      <th>0</th>\n",
       "      <td>Abbington Park Condos</td>\n",
       "      <td>nashville</td>\n",
       "      <td>TN</td>\n",
       "      <td>2</td>\n",
       "    </tr>\n",
       "    <tr>\n",
       "      <th>1</th>\n",
       "      <td>Abbot Martin Estates</td>\n",
       "      <td>nashville</td>\n",
       "      <td>TN</td>\n",
       "      <td>1</td>\n",
       "    </tr>\n",
       "    <tr>\n",
       "      <th>2</th>\n",
       "      <td>Acklen Avenue Alliance</td>\n",
       "      <td>nashville</td>\n",
       "      <td>TN</td>\n",
       "      <td>5</td>\n",
       "    </tr>\n",
       "    <tr>\n",
       "      <th>3</th>\n",
       "      <td>Acorn</td>\n",
       "      <td>oakland</td>\n",
       "      <td>CA</td>\n",
       "      <td>1</td>\n",
       "    </tr>\n",
       "    <tr>\n",
       "      <th>4</th>\n",
       "      <td>Adams Hill</td>\n",
       "      <td>losangeles</td>\n",
       "      <td>CA</td>\n",
       "      <td>9</td>\n",
       "    </tr>\n",
       "    <tr>\n",
       "      <th>5</th>\n",
       "      <td>Adams Morgan</td>\n",
       "      <td>washingtondc</td>\n",
       "      <td>DC</td>\n",
       "      <td>185</td>\n",
       "    </tr>\n",
       "    <tr>\n",
       "      <th>6</th>\n",
       "      <td>Adams North</td>\n",
       "      <td>sandiego</td>\n",
       "      <td>CA</td>\n",
       "      <td>26</td>\n",
       "    </tr>\n",
       "    <tr>\n",
       "      <th>7</th>\n",
       "      <td>Adams Point</td>\n",
       "      <td>oakland</td>\n",
       "      <td>CA</td>\n",
       "      <td>33</td>\n",
       "    </tr>\n",
       "    <tr>\n",
       "      <th>8</th>\n",
       "      <td>Adams-Normandie</td>\n",
       "      <td>losangeles</td>\n",
       "      <td>CA</td>\n",
       "      <td>36</td>\n",
       "    </tr>\n",
       "    <tr>\n",
       "      <th>9</th>\n",
       "      <td>Admiral</td>\n",
       "      <td>seattle</td>\n",
       "      <td>WA</td>\n",
       "      <td>39</td>\n",
       "    </tr>\n",
       "  </tbody>\n",
       "</table>\n",
       "</div>"
      ],
      "text/plain": [
       "             neighborhood          city state  num_listings\n",
       "0   Abbington Park Condos     nashville    TN             2\n",
       "1    Abbot Martin Estates     nashville    TN             1\n",
       "2  Acklen Avenue Alliance     nashville    TN             5\n",
       "3                   Acorn       oakland    CA             1\n",
       "4              Adams Hill    losangeles    CA             9\n",
       "5            Adams Morgan  washingtondc    DC           185\n",
       "6             Adams North      sandiego    CA            26\n",
       "7             Adams Point       oakland    CA            33\n",
       "8         Adams-Normandie    losangeles    CA            36\n",
       "9                 Admiral       seattle    WA            39"
      ]
     },
     "execution_count": 22,
     "metadata": {},
     "output_type": "execute_result"
    }
   ],
   "source": [
    "df_counts = df_listings.groupby(['neighborhood', 'city', 'state']).count()['id'].reset_index()\n",
    "df_counts.rename(columns={'id': 'num_listings'}, inplace=True)\n",
    "df_counts.head(10)"
   ]
  },
  {
   "cell_type": "code",
   "execution_count": 23,
   "metadata": {
    "collapsed": false
   },
   "outputs": [],
   "source": [
    "df_neighborhoods = df_descriptions.merge(df_counts)"
   ]
  },
  {
   "cell_type": "code",
   "execution_count": 24,
   "metadata": {
    "collapsed": false
   },
   "outputs": [
    {
     "data": {
      "image/png": "[encoded data removed]",
      "text/plain": [
       "<matplotlib.figure.Figure at 0x1185e8650>"
      ]
     },
     "metadata": {},
     "output_type": "display_data"
    }
   ],
   "source": [
    "df_neighborhoods[df_neighborhoods['num_listings'] >= 10]['city'].value_counts().plot(kind='bar');"
   ]
  },
  {
   "cell_type": "code",
   "execution_count": 25,
   "metadata": {
    "collapsed": true
   },
   "outputs": [],
   "source": [
    "df_neighborhoods = df_neighborhoods[df_neighborhoods['num_listings'] >= 10]"
   ]
  },
  {
   "cell_type": "code",
   "execution_count": 26,
   "metadata": {
    "collapsed": true
   },
   "outputs": [],
   "source": [
    "with open('../data/interim/04_neighborhoods.pkl', 'wb') as picklefile:\n",
    "    pickle.dump(df_neighborhoods, picklefile)"
   ]
  },
  {
   "cell_type": "code",
   "execution_count": null,
   "metadata": {
    "collapsed": false
   },
   "outputs": [],
   "source": [
    "descriptions = df_neighborhoods['lemmas'].tolist()"
   ]
  },
  {
   "cell_type": "code",
   "execution_count": null,
   "metadata": {
    "collapsed": false
   },
   "outputs": [],
   "source": [
    "len(descriptions)"
   ]
  },
  {
   "cell_type": "code",
   "execution_count": null,
   "metadata": {
    "collapsed": true
   },
   "outputs": [],
   "source": [
    "from sklearn.feature_extraction.text import TfidfVectorizer\n",
    "from sklearn.metrics.pairwise import cosine_similarity\n",
    "from sklearn.cluster import AgglomerativeClustering\n",
    "\n",
    "from scipy.cluster.hierarchy import linkage, ward, dendrogram"
   ]
  },
  {
   "cell_type": "code",
   "execution_count": null,
   "metadata": {
    "collapsed": false
   },
   "outputs": [],
   "source": [
    "tfidf_vectorizer = TfidfVectorizer(max_df=0.95, \n",
    "                                   min_df=2,\n",
    "                                   max_features=1000,\n",
    "                                   stop_words=stopwords, \n",
    "                                   ngram_range=(1,2))\n",
    "tfidf = tfidf_vectorizer.fit_transform(descriptions).toarray()\n",
    "tfidf_features = tfidf_vectorizer.get_feature_names()"
   ]
  },
  {
   "cell_type": "code",
   "execution_count": null,
   "metadata": {
    "collapsed": false
   },
   "outputs": [],
   "source": [
    "#10 words with highest tfidf\n",
    "top = tfidf_vectorizer.idf_.argsort()[:10].tolist()\n",
    "[(tfidf_features[i], tfidf_vectorizer.idf_[i]) for i in top]"
   ]
  },
  {
   "cell_type": "code",
   "execution_count": null,
   "metadata": {
    "collapsed": false
   },
   "outputs": [],
   "source": [
    "#10 words with lowest tfidf\n",
    "bottom = tfidf_vectorizer.idf_.argsort()[::-1].tolist()[:10]\n",
    "[(tfidf_features[i], tfidf_vectorizer.idf_[i]) for i in bottom]"
   ]
  },
  {
   "cell_type": "code",
   "execution_count": null,
   "metadata": {
    "collapsed": false
   },
   "outputs": [],
   "source": [
    "tfidf.shape"
   ]
  },
  {
   "cell_type": "code",
   "execution_count": null,
   "metadata": {
    "collapsed": false
   },
   "outputs": [],
   "source": [
    "#cities = df_cities_grouped['city'].tolist()\n",
    "neighborhoods = df_neighborhoods['neighborhood'].tolist()\n",
    "cities = df_neighborhoods['city'].tolist()\n",
    "states = df_neighborhoods['state'].tolist()"
   ]
  },
  {
   "cell_type": "code",
   "execution_count": null,
   "metadata": {
    "collapsed": false
   },
   "outputs": [],
   "source": [
    "zipped = zip(neighborhoods, cities, states)"
   ]
  },
  {
   "cell_type": "code",
   "execution_count": null,
   "metadata": {
    "collapsed": true
   },
   "outputs": [],
   "source": [
    "terms = tfidf_vectorizer.get_feature_names()"
   ]
  },
  {
   "cell_type": "code",
   "execution_count": null,
   "metadata": {
    "collapsed": true
   },
   "outputs": [],
   "source": [
    "dist = 1 - cosine_similarity(tfidf)\n",
    "linkage_matrix = ward(dist)"
   ]
  },
  {
   "cell_type": "code",
   "execution_count": null,
   "metadata": {
    "collapsed": true
   },
   "outputs": [],
   "source": [
    "linkage_matrix = linkage(dist, method='complete', metric='cosine')"
   ]
  },
  {
   "cell_type": "code",
   "execution_count": null,
   "metadata": {
    "collapsed": false,
    "scrolled": false
   },
   "outputs": [],
   "source": [
    "fig, ax = plt.subplots(figsize=(20, 100)) # set size\n",
    "dend = dendrogram(linkage_matrix,\n",
    "                p=12,\n",
    "                #truncate_mode='lastp', \n",
    "                labels=zipped,\n",
    "                orientation='left');\n",
    "\n",
    "ax = dend\n",
    "\n",
    "plt.tick_params(\\\n",
    "    axis= 'x',          # changes apply to the x-axis\n",
    "    which='both',      # both major and minor ticks are affected\n",
    "    bottom='off',      # ticks along the bottom edge are off\n",
    "    top='off',         # ticks along the top edge are off\n",
    "    labelbottom='off')\n",
    "\n",
    "plt.tight_layout() #show plot with tight layout\n",
    "\n",
    "#uncomment below to save figure\n",
    "plt.savefig('ward_clusters.png', dpi=300) #save figure as ward_clusters"
   ]
  },
  {
   "cell_type": "code",
   "execution_count": null,
   "metadata": {
    "collapsed": true
   },
   "outputs": [],
   "source": [
    "from sklearn.cluster import DBSCAN\n",
    "from sklearn import metrics"
   ]
  },
  {
   "cell_type": "code",
   "execution_count": null,
   "metadata": {
    "collapsed": true
   },
   "outputs": [],
   "source": [
    "db = DBSCAN(metric='cosine', algorithm='brute').fit(tfidf)"
   ]
  },
  {
   "cell_type": "code",
   "execution_count": null,
   "metadata": {
    "collapsed": false
   },
   "outputs": [],
   "source": [
    "core_samples_mask = np.zeros_like(db.labels_, dtype=bool)\n",
    "core_samples_mask[db.core_sample_indices_] = True\n",
    "labels = db.labels_"
   ]
  },
  {
   "cell_type": "code",
   "execution_count": null,
   "metadata": {
    "collapsed": true
   },
   "outputs": [],
   "source": [
    "# Number of clusters in labels, ignoring noise if present.\n",
    "n_clusters_ = len(set(labels)) - (1 if -1 in labels else 0)"
   ]
  },
  {
   "cell_type": "code",
   "execution_count": null,
   "metadata": {
    "collapsed": false
   },
   "outputs": [],
   "source": [
    "print('Estimated number of clusters: %d' % n_clusters_)"
   ]
  },
  {
   "cell_type": "code",
   "execution_count": null,
   "metadata": {
    "collapsed": true
   },
   "outputs": [],
   "source": []
  }
 ],
 "metadata": {
  "anaconda-cloud": {},
  "kernelspec": {
   "display_name": "Python [conda root]",
   "language": "python",
   "name": "conda-root-py"
  },
  "language_info": {
   "codemirror_mode": {
    "name": "ipython",
    "version": 2
   },
   "file_extension": ".py",
   "mimetype": "text/x-python",
   "name": "python",
   "nbconvert_exporter": "python",
   "pygments_lexer": "ipython2",
   "version": "2.7.12"
  }
 },
 "nbformat": 4,
 "nbformat_minor": 1
}
