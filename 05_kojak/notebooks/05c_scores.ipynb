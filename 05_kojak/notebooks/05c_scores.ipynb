{
 "cells": [
  {
   "cell_type": "code",
   "execution_count": 4,
   "metadata": {
    "collapsed": false
   },
   "outputs": [],
   "source": [
    "import pandas as pd\n",
    "pd.options.display.max_rows = 1000\n",
    "\n",
    "import pickle\n",
    "\n",
    "import numpy as np\n",
    "\n",
    "import re\n",
    "import string\n",
    "\n",
    "import nltk\n",
    "from nltk.stem import WordNetLemmatizer\n",
    "from nltk import pos_tag\n",
    "\n",
    "import matplotlib.pyplot as plt\n",
    "%matplotlib inline\n",
    "\n",
    "import seaborn as sns\n",
    "sns.set_style('white')"
   ]
  },
  {
   "cell_type": "code",
   "execution_count": 7,
   "metadata": {
    "collapsed": false
   },
   "outputs": [],
   "source": [
    "with open('../data/interim/04_neighborhoods_lemmas.pkl', 'rb') as picklefile:\n",
    "    df_neighborhoods = pickle.load(picklefile)"
   ]
  },
  {
   "cell_type": "code",
   "execution_count": 5,
   "metadata": {
    "collapsed": true
   },
   "outputs": [],
   "source": [
    "touristy = ['tourist', 'attraction', 'fisherman', 'whart', 'paint', 'lady', 'seaworld', 'world', 'universal', \\\n",
    "           'hollywoord', 'theater', 'disney', 'rise', 'bowl', 'empire', 'broadway', 'bourbon', 'mardi', 'gras', \\\n",
    "           'prudential', 'newbury', 'copley', 'opry', 'smithsonian', 'mall', 'space', 'needle', 'starbucks', \\\n",
    "           'pike']\n",
    "hipster = ['hip', 'hipster', 'coffee', 'bike']\n",
    "sportsfans = ['petco', 'dodgers', 'staple', 'rise', 'bowl', 'superdome', 'cub', 'wrigley', 'sox', 'bronco', '']\n",
    "outdoorsy = ['runyon', 'trail', 'kayak', 'water', 'hike', '']\n",
    "nightlife = ['restaurant', 'bar', 'nightlift', 'club']\n",
    "campus = ['ucsf', 'sdsu', 'ucla', 'barclays', 'tulane', 'loyola', 'university', 'ut']\n",
    "artsy = ['art', 'music', 'artist', 'musician']\n",
    "transportation = ['bart', 'muni', 'cta', 'metra', 'divvy', 'metro', 'walkability', 'walkable']"
   ]
  },
  {
   "cell_type": "code",
   "execution_count": 88,
   "metadata": {
    "collapsed": false
   },
   "outputs": [],
   "source": [
    "descriptions = df_neighborhoods['lemmas'].tolist()"
   ]
  },
  {
   "cell_type": "code",
   "execution_count": 89,
   "metadata": {
    "collapsed": false
   },
   "outputs": [
    {
     "data": {
      "text/plain": [
       "895"
      ]
     },
     "execution_count": 89,
     "metadata": {},
     "output_type": "execute_result"
    }
   ],
   "source": [
    "len(descriptions)"
   ]
  },
  {
   "cell_type": "code",
   "execution_count": 90,
   "metadata": {
    "collapsed": true
   },
   "outputs": [],
   "source": [
    "from sklearn.feature_extraction.text import TfidfVectorizer\n",
    "from sklearn.metrics.pairwise import cosine_similarity\n",
    "from sklearn.cluster import AgglomerativeClustering\n",
    "\n",
    "from scipy.cluster.hierarchy import linkage, ward, dendrogram"
   ]
  },
  {
   "cell_type": "code",
   "execution_count": 91,
   "metadata": {
    "collapsed": false
   },
   "outputs": [],
   "source": [
    "tfidf_vectorizer = TfidfVectorizer(ngram_range=(1,2),\n",
    "                                   #max_df=0.5, \n",
    "                                   min_df=20,\n",
    "                                   max_features=1000)\n",
    "\n",
    "tfidf = tfidf_vectorizer.fit_transform(descriptions).toarray()\n",
    "tfidf_features = tfidf_vectorizer.get_feature_names()"
   ]
  },
  {
   "cell_type": "code",
   "execution_count": 92,
   "metadata": {
    "collapsed": false
   },
   "outputs": [
    {
     "data": {
      "text/plain": [
       "[(u'shop', 1.0813456394539525),\n",
       " (u'store', 1.1221171913400827),\n",
       " (u'home', 1.1399293671041821),\n",
       " (u'grocery', 1.1619938572882842),\n",
       " (u'easy', 1.1619938572882842),\n",
       " (u'safe', 1.1725480449669743),\n",
       " (u'bar', 1.1765347612107957),\n",
       " (u'food', 1.1858993781418385),\n",
       " (u'access', 1.1926424920267287),\n",
       " (u'well', 1.2062666809662723)]"
      ]
     },
     "execution_count": 92,
     "metadata": {},
     "output_type": "execute_result"
    }
   ],
   "source": [
    "#10 words with highest tfidf\n",
    "top = tfidf_vectorizer.idf_.argsort()[:10].tolist()\n",
    "[(tfidf_features[i], tfidf_vectorizer.idf_[i]) for i in top]"
   ]
  },
  {
   "cell_type": "code",
   "execution_count": 93,
   "metadata": {
    "collapsed": false
   },
   "outputs": [
    {
     "data": {
      "text/plain": [
       "[(u'frenchman', 4.7534179752515069),\n",
       " (u'museum botanical', 4.6624461970457807),\n",
       " (u'tokyo', 4.3967430313127753),\n",
       " (u'dodger', 4.3967430313127753),\n",
       " (u'km', 4.2715798883587688),\n",
       " (u'rockefeller', 4.2144214745188204),\n",
       " (u'botanic', 4.2144214745188204),\n",
       " (u'natural history', 4.1870225003307056),\n",
       " (u'arboretum', 4.1870225003307056),\n",
       " (u'esplanade', 4.134378766845284)]"
      ]
     },
     "execution_count": 93,
     "metadata": {},
     "output_type": "execute_result"
    }
   ],
   "source": [
    "#10 words with lowest tfidf\n",
    "bottom = tfidf_vectorizer.idf_.argsort()[::-1].tolist()[:10]\n",
    "[(tfidf_features[i], tfidf_vectorizer.idf_[i]) for i in bottom]"
   ]
  },
  {
   "cell_type": "code",
   "execution_count": 94,
   "metadata": {
    "collapsed": false
   },
   "outputs": [
    {
     "data": {
      "text/plain": [
       "(895, 1000)"
      ]
     },
     "execution_count": 94,
     "metadata": {},
     "output_type": "execute_result"
    }
   ],
   "source": [
    "tfidf.shape"
   ]
  },
  {
   "cell_type": "code",
   "execution_count": 95,
   "metadata": {
    "collapsed": false
   },
   "outputs": [],
   "source": [
    "#cities = df_cities_grouped['city'].tolist()\n",
    "neighborhoods = df_neighborhoods['neighborhood'].tolist()\n",
    "cities = df_neighborhoods['city'].tolist()\n",
    "states = df_neighborhoods['state'].tolist()"
   ]
  },
  {
   "cell_type": "markdown",
   "metadata": {},
   "source": [
    "### PCA"
   ]
  },
  {
   "cell_type": "code",
   "execution_count": 96,
   "metadata": {
    "collapsed": true
   },
   "outputs": [],
   "source": [
    "from sklearn.decomposition import PCA"
   ]
  },
  {
   "cell_type": "code",
   "execution_count": 97,
   "metadata": {
    "collapsed": true
   },
   "outputs": [],
   "source": [
    "pca = PCA(n_components=10, random_state=16)"
   ]
  },
  {
   "cell_type": "code",
   "execution_count": 108,
   "metadata": {
    "collapsed": false
   },
   "outputs": [
    {
     "data": {
      "text/plain": [
       "array([[ 0.28677069,  0.07824793, -0.03499322, ..., -0.08307502,\n",
       "        -0.12625819, -0.09051519],\n",
       "       [ 0.15088896, -0.15224201,  0.09720958, ..., -0.12142037,\n",
       "        -0.00597597, -0.06882234],\n",
       "       [ 0.18864988,  0.08508183, -0.01415991, ...,  0.00050788,\n",
       "         0.00056209,  0.14980713],\n",
       "       ..., \n",
       "       [ 0.12143806,  0.11429275,  0.16148524, ...,  0.08007493,\n",
       "        -0.20605281, -0.02155959],\n",
       "       [ 0.11607367,  0.04981465,  0.13954229, ..., -0.02044357,\n",
       "         0.03145779,  0.02195166],\n",
       "       [ 0.23436029, -0.18537359,  0.08339857, ...,  0.23429249,\n",
       "        -0.07463868,  0.08113307]])"
      ]
     },
     "execution_count": 108,
     "metadata": {},
     "output_type": "execute_result"
    }
   ],
   "source": [
    "pca.fit_transform(tfidf)"
   ]
  },
  {
   "cell_type": "code",
   "execution_count": 109,
   "metadata": {
    "collapsed": false
   },
   "outputs": [
    {
     "data": {
      "text/plain": [
       "array([ 0.041677  ,  0.02417318,  0.0199639 ,  0.01636349,  0.0136757 ,\n",
       "        0.0124156 ,  0.01137654,  0.01097487,  0.01061261,  0.01016486])"
      ]
     },
     "execution_count": 109,
     "metadata": {},
     "output_type": "execute_result"
    }
   ],
   "source": [
    "pca.explained_variance_ratio_"
   ]
  },
  {
   "cell_type": "code",
   "execution_count": 110,
   "metadata": {
    "collapsed": false
   },
   "outputs": [
    {
     "data": {
      "text/plain": [
       "0.17139774339738689"
      ]
     },
     "execution_count": 110,
     "metadata": {},
     "output_type": "execute_result"
    }
   ],
   "source": [
    "sum(pca.explained_variance_ratio_)"
   ]
  },
  {
   "cell_type": "code",
   "execution_count": 111,
   "metadata": {
    "collapsed": false
   },
   "outputs": [],
   "source": [
    "zipped = zip(neighborhoods, cities, states)"
   ]
  },
  {
   "cell_type": "code",
   "execution_count": 112,
   "metadata": {
    "collapsed": true
   },
   "outputs": [],
   "source": [
    "terms = tfidf_vectorizer.get_feature_names()"
   ]
  },
  {
   "cell_type": "code",
   "execution_count": 113,
   "metadata": {
    "collapsed": true
   },
   "outputs": [],
   "source": [
    "dist = 1 - cosine_similarity(tfidf)\n",
    "linkage_matrix = ward(dist)"
   ]
  },
  {
   "cell_type": "code",
   "execution_count": 114,
   "metadata": {
    "collapsed": true
   },
   "outputs": [],
   "source": [
    "linkage_matrix = linkage(dist, method='complete', metric='cosine')"
   ]
  },
  {
   "cell_type": "code",
   "execution_count": null,
   "metadata": {
    "collapsed": false,
    "scrolled": false
   },
   "outputs": [],
   "source": [
    "fig, ax = plt.subplots(figsize=(20, 100)) # set size\n",
    "dend = dendrogram(linkage_matrix,\n",
    "                p=12,\n",
    "                #truncate_mode='lastp', \n",
    "                labels=zipped,\n",
    "                orientation='left');\n",
    "\n",
    "ax = dend\n",
    "\n",
    "plt.tick_params(\\\n",
    "    axis= 'x',          # changes apply to the x-axis\n",
    "    which='both',      # both major and minor ticks are affected\n",
    "    bottom='off',      # ticks along the bottom edge are off\n",
    "    top='off',         # ticks along the top edge are off\n",
    "    labelbottom='off')\n",
    "\n",
    "plt.tight_layout() #show plot with tight layout\n",
    "\n",
    "#uncomment below to save figure\n",
    "plt.savefig('ward_clusters.png', dpi=300) #save figure as ward_clusters"
   ]
  },
  {
   "cell_type": "code",
   "execution_count": 16,
   "metadata": {
    "collapsed": true
   },
   "outputs": [],
   "source": [
    "from sklearn.cluster import DBSCAN\n",
    "from sklearn import metrics"
   ]
  },
  {
   "cell_type": "code",
   "execution_count": 17,
   "metadata": {
    "collapsed": true
   },
   "outputs": [],
   "source": [
    "db = DBSCAN(metric='cosine', algorithm='brute').fit(tfidf)"
   ]
  },
  {
   "cell_type": "code",
   "execution_count": 18,
   "metadata": {
    "collapsed": false
   },
   "outputs": [],
   "source": [
    "core_samples_mask = np.zeros_like(db.labels_, dtype=bool)\n",
    "core_samples_mask[db.core_sample_indices_] = True\n",
    "labels = db.labels_"
   ]
  },
  {
   "cell_type": "code",
   "execution_count": 19,
   "metadata": {
    "collapsed": true
   },
   "outputs": [],
   "source": [
    "# Number of clusters in labels, ignoring noise if present.\n",
    "n_clusters_ = len(set(labels)) - (1 if -1 in labels else 0)"
   ]
  },
  {
   "cell_type": "code",
   "execution_count": 20,
   "metadata": {
    "collapsed": false
   },
   "outputs": [
    {
     "name": "stdout",
     "output_type": "stream",
     "text": [
      "Estimated number of clusters: 1\n"
     ]
    }
   ],
   "source": [
    "print('Estimated number of clusters: %d' % n_clusters_)"
   ]
  },
  {
   "cell_type": "code",
   "execution_count": null,
   "metadata": {
    "collapsed": true
   },
   "outputs": [],
   "source": []
  }
 ],
 "metadata": {
  "anaconda-cloud": {},
  "kernelspec": {
   "display_name": "Python [conda root]",
   "language": "python",
   "name": "conda-root-py"
  },
  "language_info": {
   "codemirror_mode": {
    "name": "ipython",
    "version": 2
   },
   "file_extension": ".py",
   "mimetype": "text/x-python",
   "name": "python",
   "nbconvert_exporter": "python",
   "pygments_lexer": "ipython2",
   "version": "2.7.12"
  }
 },
 "nbformat": 4,
 "nbformat_minor": 1
}
