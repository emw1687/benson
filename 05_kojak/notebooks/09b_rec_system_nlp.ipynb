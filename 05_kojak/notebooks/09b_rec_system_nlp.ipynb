{
 "cells": [
  {
   "cell_type": "code",
   "execution_count": 2,
   "metadata": {
    "collapsed": false
   },
   "outputs": [],
   "source": [
    "import pandas as pd\n",
    "\n",
    "import pickle\n",
    "\n",
    "import numpy as np\n",
    "\n",
    "import re\n",
    "import string\n",
    "\n",
    "import matplotlib.pyplot as plt\n",
    "%matplotlib inline\n",
    "\n",
    "import seaborn as sns\n",
    "sns.set_style('white')\n",
    "\n",
    "from scipy.spatial.distance import cosine\n",
    "from scipy.spatial.distance import cdist\n",
    "\n",
    "import operator"
   ]
  },
  {
   "cell_type": "code",
   "execution_count": 21,
   "metadata": {
    "collapsed": false
   },
   "outputs": [],
   "source": [
    "with open ('../models/05_kojak_demo.pkl', 'rb') as picklefile:\n",
    "    df_loc, df_doc_topics, nmf_topics = pickle.load(picklefile)"
   ]
  },
  {
   "cell_type": "code",
   "execution_count": 30,
   "metadata": {
    "collapsed": false
   },
   "outputs": [],
   "source": [
    "neighborhoods = df_loc['neighborhood'].apply(lambda u: u.encode('utf-8')).tolist()\n",
    "cities = df_loc['city'].tolist()\n",
    "topics = df_loc['topic'].tolist()\n",
    "\n",
    "zipped = zip(neighborhoods, cities, topics)"
   ]
  },
  {
   "cell_type": "code",
   "execution_count": 23,
   "metadata": {
    "collapsed": true
   },
   "outputs": [],
   "source": [
    "test_list = [10.0, 10.0, 6.0, 10.0, \\\n",
    "       10.0, 7.0, 10.0, 0.0, \\\n",
    "       0.0, 10.0, 9.0, 10.0, \\\n",
    "       10.0, 10.0, 10.0, 10.0]"
   ]
  },
  {
   "cell_type": "code",
   "execution_count": 24,
   "metadata": {
    "collapsed": true
   },
   "outputs": [],
   "source": [
    "test_array = np.array(test_list)"
   ]
  },
  {
   "cell_type": "code",
   "execution_count": 25,
   "metadata": {
    "collapsed": false
   },
   "outputs": [
    {
     "data": {
      "text/plain": [
       "'1_taco'"
      ]
     },
     "execution_count": 25,
     "metadata": {},
     "output_type": "execute_result"
    }
   ],
   "source": [
    "nmf_topics[test_list.index(max(test_list))]"
   ]
  },
  {
   "cell_type": "code",
   "execution_count": 26,
   "metadata": {
    "collapsed": false
   },
   "outputs": [],
   "source": [
    "test_distribution = test_array/sum(test_array)"
   ]
  },
  {
   "cell_type": "code",
   "execution_count": 27,
   "metadata": {
    "collapsed": false
   },
   "outputs": [
    {
     "data": {
      "text/plain": [
       "1.0"
      ]
     },
     "execution_count": 27,
     "metadata": {},
     "output_type": "execute_result"
    }
   ],
   "source": [
    "sum(test_distribution)"
   ]
  },
  {
   "cell_type": "code",
   "execution_count": 31,
   "metadata": {
    "collapsed": false
   },
   "outputs": [],
   "source": [
    "def find_comps(test_distribution, num_comps=5):\n",
    "    dists = {}\n",
    "    for i in range(len(df_doc_topics)):\n",
    "        dists[i] = cosine(df_doc_topics.ix[i].T, np.array(test_distribution))\n",
    "    max_keys = dict(sorted(dists.iteritems(), key=operator.itemgetter(1), reverse=True)[:num_comps]).keys()\n",
    "    print max_keys\n",
    "    for key in max_keys:\n",
    "        print zipped[key]"
   ]
  },
  {
   "cell_type": "code",
   "execution_count": 32,
   "metadata": {
    "collapsed": false
   },
   "outputs": [
    {
     "name": "stdout",
     "output_type": "stream",
     "text": [
      "[852, 225, 715, 524, 201]\n",
      "('West Loop Gate', 'chicago', '9_nightlife')\n",
      "('East Pilsen', 'chicago', '8_art')\n",
      "('SoHo', 'newyorkcity', '9_nightlife')\n",
      "('Near North', 'chicago', '9_nightlife')\n",
      "('Downtown', 'sanfrancisco', '9_nightlife')\n"
     ]
    }
   ],
   "source": [
    "find_comps(test_distribution)"
   ]
  },
  {
   "cell_type": "code",
   "execution_count": null,
   "metadata": {
    "collapsed": true
   },
   "outputs": [],
   "source": []
  }
 ],
 "metadata": {
  "anaconda-cloud": {},
  "kernelspec": {
   "display_name": "Python [conda root]",
   "language": "python",
   "name": "conda-root-py"
  },
  "language_info": {
   "codemirror_mode": {
    "name": "ipython",
    "version": 2
   },
   "file_extension": ".py",
   "mimetype": "text/x-python",
   "name": "python",
   "nbconvert_exporter": "python",
   "pygments_lexer": "ipython2",
   "version": "2.7.12"
  }
 },
 "nbformat": 4,
 "nbformat_minor": 1
}
