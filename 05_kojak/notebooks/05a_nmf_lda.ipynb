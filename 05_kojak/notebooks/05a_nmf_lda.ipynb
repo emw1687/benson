{
 "cells": [
  {
   "cell_type": "markdown",
   "metadata": {},
   "source": [
    "### Topic modeling with NMF and LDA\n",
    "\n",
    "1. Load dataframe of neighborhoods and extract neighborhood descriptions (lemmas)\n",
    "2. Create vector, complete topic modeling, and assign topic distributions to each neighborhood:\n",
    "    * NMF\n",
    "    * LDA\n",
    "4. Visualize topics with tSNE\n",
    "\n",
    "Resources:\n",
    "* [Topic extraction with Non-negative Matrix Factorization and Latent Dirichlet Allocation](http://scikit-learn.org/stable/auto_examples/applications/topics_extraction_with_nmf_lda.html#sphx-glr-auto-examples-applications-topics-extraction-with-nmf-lda-py)\n",
    "* [Practical Topic Finding for Short-Sentence Texts](http://nbviewer.jupyter.org/github/dolaameng/tutorials/blob/master/topic-finding-for-short-texts/topics_for_short_texts.ipynb)\n",
    "* [Topic Modeling with Scikit Learn](https://medium.com/@aneesha/topic-modeling-with-scikit-learn-e80d33668730#.gabw32h5e)\n",
    "* [Improving the Interpretation of Topic Models](https://medium.com/towards-data-science/improving-the-interpretation-of-topic-models-87fd2ee3847d#.8j9ngyi91)\n",
    "* [Care and Feeding of Topic Models: Problems, Diagnostics, and Improvements](https://mimno.infosci.cornell.edu/papers/2014_book_chapter_care_and_feeding.pdf)\n",
    "* [Getting started with Latent Dirichlet Allocation in Python](http://chrisstrelioff.ws/sandbox/2014/11/13/getting_started_with_latent_dirichlet_allocation_in_python.html)\n",
    "* [An illustrated introduction to the t-SNE algorithm](https://github.com/oreillymedia/t-SNE-tutorial)"
   ]
  },
  {
   "cell_type": "code",
   "execution_count": 1,
   "metadata": {
    "collapsed": true
   },
   "outputs": [],
   "source": [
    "import pickle\n",
    "import operator\n",
    "\n",
    "import pandas as pd\n",
    "import numpy as np\n",
    "\n",
    "from sklearn.feature_extraction.text import CountVectorizer, TfidfVectorizer \n",
    "from sklearn.decomposition import NMF, LatentDirichletAllocation\n",
    "\n",
    "import json\n",
    "\n",
    "import matplotlib.pyplot as plt\n",
    "%matplotlib inline\n",
    "\n",
    "from sklearn.manifold import TSNE\n",
    "from sklearn.preprocessing import scale\n",
    "from sklearn.metrics.pairwise import pairwise_distances\n",
    "from sklearn.manifold.t_sne import _joint_probabilities, _kl_divergence\n",
    "from sklearn.utils.extmath import _ravel\n",
    "\n",
    "import matplotlib.patheffects as PathEffects"
   ]
  },
  {
   "cell_type": "code",
   "execution_count": 2,
   "metadata": {
    "collapsed": true
   },
   "outputs": [],
   "source": [
    "#function to display top words within each topic\n",
    "def display_topics(model, W, features, n):\n",
    "    best_hosts = []\n",
    "    for index, topic in enumerate(model.components_):\n",
    "        print 'Topic %d:' % index\n",
    "        print 'TOP %d WORDS:' % n\n",
    "        for i in topic.argsort()[:-n - 1:-1]:\n",
    "            print features[i]\n",
    "        print 'REPRESENTATIVE HOST:'\n",
    "        ind = np.argsort(W[:,index])[::-1][0]\n",
    "        best_hosts.append(ind)\n",
    "        print df_neighborhoods.iloc[ind][['neighborhood', 'city', 'state']]\n",
    "        print\n",
    "    return best_hosts"
   ]
  },
  {
   "cell_type": "code",
   "execution_count": 3,
   "metadata": {
    "collapsed": true
   },
   "outputs": [],
   "source": [
    "#parameters for topic models\n",
    "num_topics = 16\n",
    "num_top_words = 8"
   ]
  },
  {
   "cell_type": "markdown",
   "metadata": {},
   "source": [
    "#### Load AirBnB neighborhoods dataframe and extract preprocessed neighborhood descriptions"
   ]
  },
  {
   "cell_type": "code",
   "execution_count": 4,
   "metadata": {
    "collapsed": false
   },
   "outputs": [],
   "source": [
    "with open('../data/interim/04_neighborhoods_lemmas.pkl', 'rb') as picklefile:\n",
    "    df_neighborhoods = pickle.load(picklefile)"
   ]
  },
  {
   "cell_type": "code",
   "execution_count": 5,
   "metadata": {
    "collapsed": false
   },
   "outputs": [],
   "source": [
    "lemmas = df_neighborhoods['lemmas']"
   ]
  },
  {
   "cell_type": "code",
   "execution_count": 6,
   "metadata": {
    "collapsed": false
   },
   "outputs": [],
   "source": [
    "neighborhoods = df_neighborhoods['neighborhood'].tolist()\n",
    "cities = df_neighborhoods['city'].tolist()\n",
    "states = df_neighborhoods['state'].tolist()\n",
    "loc = zip(neighborhoods, cities, states)"
   ]
  },
  {
   "cell_type": "code",
   "execution_count": 7,
   "metadata": {
    "collapsed": false
   },
   "outputs": [],
   "source": [
    "df_neighborhoods.reset_index(drop=True, inplace=True)"
   ]
  },
  {
   "cell_type": "markdown",
   "metadata": {},
   "source": [
    "### NMF (sklearn)"
   ]
  },
  {
   "cell_type": "markdown",
   "metadata": {},
   "source": [
    "#### Create TFIDF vector using neighborhood descriptions"
   ]
  },
  {
   "cell_type": "code",
   "execution_count": 8,
   "metadata": {
    "collapsed": false
   },
   "outputs": [
    {
     "data": {
      "text/plain": [
       "1000"
      ]
     },
     "execution_count": 8,
     "metadata": {},
     "output_type": "execute_result"
    }
   ],
   "source": [
    "nmf_vectorizer = TfidfVectorizer(ngram_range=(1,2),\n",
    "                                 max_df=0.75,\n",
    "                                 min_df=20,\n",
    "                                 max_features = 1000)\n",
    "\n",
    "tfidf = nmf_vectorizer.fit_transform(lemmas)\n",
    "nmf_features = nmf_vectorizer.get_feature_names()\n",
    "len(nmf_features)"
   ]
  },
  {
   "cell_type": "code",
   "execution_count": 9,
   "metadata": {
    "collapsed": false
   },
   "outputs": [
    {
     "data": {
      "text/plain": [
       "[(u'include', 1.2936522394382846),\n",
       " (u'friendly', 1.2936522394382846),\n",
       " (u'love', 1.2951503670593068),\n",
       " (u'bus', 1.2981533723190763),\n",
       " (u'market', 1.2981533723190763),\n",
       " (u'offer', 1.3194307707663613),\n",
       " (u'ride', 1.3194307707663613),\n",
       " (u'enjoy', 1.3333521092849692),\n",
       " (u'go', 1.360188763238529),\n",
       " (u'residential', 1.3617900446055029)]"
      ]
     },
     "execution_count": 9,
     "metadata": {},
     "output_type": "execute_result"
    }
   ],
   "source": [
    "#10 words with highest tfidf\n",
    "top = nmf_vectorizer.idf_.argsort()[:10].tolist()\n",
    "[(nmf_features[i], nmf_vectorizer.idf_[i]) for i in top]"
   ]
  },
  {
   "cell_type": "code",
   "execution_count": 10,
   "metadata": {
    "collapsed": false
   },
   "outputs": [
    {
     "data": {
      "text/plain": [
       "[(u'frenchman', 4.7534179752515069),\n",
       " (u'museum botanical', 4.6624461970457807),\n",
       " (u'tokyo', 4.3967430313127753),\n",
       " (u'dodger', 4.3967430313127753),\n",
       " (u'km', 4.2715798883587688),\n",
       " (u'rockefeller', 4.2144214745188204),\n",
       " (u'botanic', 4.2144214745188204),\n",
       " (u'arboretum', 4.1870225003307056),\n",
       " (u'natural history', 4.1870225003307056),\n",
       " (u'childrens museum', 4.134378766845284),\n",
       " (u'esplanade', 4.134378766845284),\n",
       " (u'fifth', 4.0602707946915615),\n",
       " (u'caribbean', 3.9477928112648719),\n",
       " (u'fest', 3.8466966943935033),\n",
       " (u'sand', 3.8466966943935033),\n",
       " (u'westside', 3.8089563664106558),\n",
       " (u'sculpture', 3.8089563664106558),\n",
       " (u'flea market', 3.7906072277424596),\n",
       " (u'institute', 3.7548891451403801),\n",
       " (u'latino', 3.7374974024285113)]"
      ]
     },
     "execution_count": 10,
     "metadata": {},
     "output_type": "execute_result"
    }
   ],
   "source": [
    "#10 words with lowest tfidf\n",
    "bottom = nmf_vectorizer.idf_.argsort()[::-1].tolist()[:20]\n",
    "[(nmf_features[i], nmf_vectorizer.idf_[i]) for i in bottom]"
   ]
  },
  {
   "cell_type": "markdown",
   "metadata": {},
   "source": [
    "#### Extract topics using NMF on TFIDF vector of host descriptions\n",
    "* Number of components set to number of topics\n",
    "* init set to Nonnegative Double Singular Value Decomposition (nndsvd), which is better for sparse matrices\n",
    "* solver set to cd (recommended in documentation)"
   ]
  },
  {
   "cell_type": "code",
   "execution_count": 11,
   "metadata": {
    "collapsed": false
   },
   "outputs": [
    {
     "data": {
      "text/plain": [
       "(895, 16)"
      ]
     },
     "execution_count": 11,
     "metadata": {},
     "output_type": "execute_result"
    }
   ],
   "source": [
    "nmf = NMF(n_components=num_topics,\n",
    "          init='nndsvd',\n",
    "          solver = 'cd',\n",
    "          random_state=16)\n",
    "nmf_doc_topic = nmf.fit_transform(tfidf)\n",
    "nmf_doc_topic.shape"
   ]
  },
  {
   "cell_type": "code",
   "execution_count": 12,
   "metadata": {
    "collapsed": false
   },
   "outputs": [
    {
     "data": {
      "text/plain": [
       "(16, 1000)"
      ]
     },
     "execution_count": 12,
     "metadata": {},
     "output_type": "execute_result"
    }
   ],
   "source": [
    "nmf_topic_word = nmf.components_\n",
    "nmf_topic_word.shape"
   ]
  },
  {
   "cell_type": "code",
   "execution_count": 13,
   "metadata": {
    "collapsed": false,
    "scrolled": false
   },
   "outputs": [
    {
     "name": "stdout",
     "output_type": "stream",
     "text": [
      "Topic 0:\n",
      "TOP 8 WORDS:\n",
      "music\n",
      "coffee shop\n",
      "restaurant bar\n",
      "venue\n",
      "bar restaurant\n",
      "hip\n",
      "taco\n",
      "cafe\n",
      "REPRESENTATIVE HOST:\n",
      "neighborhood    Bellmont Hillsboro\n",
      "city                     nashville\n",
      "state                           TN\n",
      "Name: 48, dtype: object\n",
      "\n",
      "Topic 1:\n",
      "TOP 8 WORDS:\n",
      "subway\n",
      "subway stop\n",
      "stop\n",
      "subway subway\n",
      "apartment\n",
      "time\n",
      "monument\n",
      "building\n",
      "REPRESENTATIVE HOST:\n",
      "neighborhood    Ralph Bunche\n",
      "city                 oakland\n",
      "state                     CA\n",
      "Name: 646, dtype: object\n",
      "\n",
      "Topic 2:\n",
      "TOP 8 WORDS:\n",
      "train\n",
      "diverse\n",
      "supermarket\n",
      "pharmacy\n",
      "bus\n",
      "jfk\n",
      "laundromat\n",
      "chinese\n",
      "REPRESENTATIVE HOST:\n",
      "neighborhood     Ozone Park\n",
      "city            newyorkcity\n",
      "state                    NY\n",
      "Name: 593, dtype: object\n",
      "\n",
      "Topic 3:\n",
      "TOP 8 WORDS:\n",
      "museum\n",
      "science\n",
      "art museum\n",
      "academy\n",
      "art\n",
      "hospital\n",
      "aquarium\n",
      "botanical\n",
      "REPRESENTATIVE HOST:\n",
      "neighborhood    Carnegie Hill\n",
      "city              newyorkcity\n",
      "state                      NY\n",
      "Name: 105, dtype: object\n",
      "\n",
      "Topic 4:\n",
      "TOP 8 WORDS:\n",
      "market\n",
      "farmer\n",
      "farmer market\n",
      "sunday\n",
      "cafe\n",
      "saturday\n",
      "bakery\n",
      "market sunday\n",
      "REPRESENTATIVE HOST:\n",
      "neighborhood    Shafter\n",
      "city            oakland\n",
      "state                CA\n",
      "Name: 700, dtype: object\n",
      "\n",
      "Topic 5:\n",
      "TOP 8 WORDS:\n",
      "campus\n",
      "campus campus\n",
      "streetcar\n",
      "student\n",
      "hospital\n",
      "bus\n",
      "grocery food\n",
      "car\n",
      "REPRESENTATIVE HOST:\n",
      "neighborhood      Westwood\n",
      "city            losangeles\n",
      "state                   CA\n",
      "Name: 867, dtype: object\n",
      "\n",
      "Topic 6:\n",
      "TOP 8 WORDS:\n",
      "freeway\n",
      "airport\n",
      "major\n",
      "centrally\n",
      "neighbor\n",
      "movie\n",
      "nice\n",
      "residential\n",
      "REPRESENTATIVE HOST:\n",
      "neighborhood     Crestview\n",
      "city            losangeles\n",
      "state                   CA\n",
      "Name: 180, dtype: object\n",
      "\n",
      "Topic 7:\n",
      "TOP 8 WORDS:\n",
      "art\n",
      "gallery\n",
      "art gallery\n",
      "artist\n",
      "sports\n",
      "mexican\n",
      "friday\n",
      "culture\n",
      "REPRESENTATIVE HOST:\n",
      "neighborhood    East Pilsen\n",
      "city                chicago\n",
      "state                    IL\n",
      "Name: 225, dtype: object\n",
      "\n",
      "Topic 8:\n",
      "TOP 8 WORDS:\n",
      "apartment\n",
      "building\n",
      "step\n",
      "boutique\n",
      "famous\n",
      "restaurant bar\n",
      "nightlife\n",
      "bar restaurant\n",
      "REPRESENTATIVE HOST:\n",
      "neighborhood    Near North\n",
      "city               chicago\n",
      "state                   IL\n",
      "Name: 524, dtype: object\n",
      "\n",
      "Topic 9:\n",
      "TOP 8 WORDS:\n",
      "zoo\n",
      "brewery\n",
      "sports\n",
      "hospital\n",
      "attraction\n",
      "nature\n",
      "airport\n",
      "offer\n",
      "REPRESENTATIVE HOST:\n",
      "neighborhood    Phinney Ridge\n",
      "city                  seattle\n",
      "state                      WA\n",
      "Name: 615, dtype: object\n",
      "\n",
      "Topic 10:\n",
      "TOP 8 WORDS:\n",
      "golf\n",
      "golf course\n",
      "course\n",
      "hole\n",
      "tennis\n",
      "court\n",
      "playground\n",
      "tennis court\n",
      "REPRESENTATIVE HOST:\n",
      "neighborhood    Sylvan Park\n",
      "city              nashville\n",
      "state                    TN\n",
      "Name: 774, dtype: object\n",
      "\n",
      "Topic 11:\n",
      "TOP 8 WORDS:\n",
      "trail\n",
      "hike\n",
      "pool\n",
      "hike trail\n",
      "bike trail\n",
      "hiking\n",
      "nature\n",
      "tennis\n",
      "REPRESENTATIVE HOST:\n",
      "neighborhood    San Carlos\n",
      "city              sandiego\n",
      "state                   CA\n",
      "Name: 687, dtype: object\n",
      "\n",
      "Topic 12:\n",
      "TOP 8 WORDS:\n",
      "streetcar\n",
      "fest\n",
      "jazz\n",
      "frenchman\n",
      "parade\n",
      "esplanade\n",
      "canal\n",
      "music\n",
      "REPRESENTATIVE HOST:\n",
      "neighborhood    Seventh Ward\n",
      "city              neworleans\n",
      "state                     LA\n",
      "Name: 698, dtype: object\n",
      "\n",
      "Topic 13:\n",
      "TOP 8 WORDS:\n",
      "surf\n",
      "boardwalk\n",
      "bike\n",
      "water\n",
      "boat\n",
      "famous\n",
      "path\n",
      "kayak\n",
      "REPRESENTATIVE HOST:\n",
      "neighborhood    Mission Beach\n",
      "city                 sandiego\n",
      "state                      CA\n",
      "Name: 495, dtype: object\n",
      "\n",
      "Topic 14:\n",
      "TOP 8 WORDS:\n",
      "light rail\n",
      "rail\n",
      "light\n",
      "bus\n",
      "sport\n",
      "diverse\n",
      "brewery\n",
      "public\n",
      "REPRESENTATIVE HOST:\n",
      "neighborhood    Seward Park\n",
      "city                seattle\n",
      "state                    WA\n",
      "Name: 699, dtype: object\n",
      "\n",
      "Topic 15:\n",
      "TOP 8 WORDS:\n",
      "cart\n",
      "food cart\n",
      "season\n",
      "max\n",
      "bike\n",
      "bus\n",
      "coffee shop\n",
      "pub\n",
      "REPRESENTATIVE HOST:\n",
      "neighborhood    Hosford-Abernethy\n",
      "city                     portland\n",
      "state                          OR\n",
      "Name: 353, dtype: object\n",
      "\n"
     ]
    }
   ],
   "source": [
    "best_nmf_hosts = display_topics(nmf, nmf_doc_topic, nmf_features, num_top_words)"
   ]
  },
  {
   "cell_type": "code",
   "execution_count": 14,
   "metadata": {
    "collapsed": false
   },
   "outputs": [],
   "source": [
    "nmf_topics = ['1_taco', '2_subway', '3_car', '4_museum', '5_farmer', '6_campus', \\\n",
    "             '7_diverse', '8_art', '9_nightlife', '10_attractions', '11_golf', \\\n",
    "              '12_outdoors', '13_streetcars', '14_water', '15_breweries', '16_bikes']"
   ]
  },
  {
   "cell_type": "markdown",
   "metadata": {},
   "source": [
    "#### A couple visualizations!"
   ]
  },
  {
   "cell_type": "code",
   "execution_count": 15,
   "metadata": {
    "collapsed": false
   },
   "outputs": [
    {
     "data": {
      "text/plain": [
       "1000"
      ]
     },
     "execution_count": 15,
     "metadata": {},
     "output_type": "execute_result"
    }
   ],
   "source": [
    "len(nmf_topic_word[0])"
   ]
  },
  {
   "cell_type": "code",
   "execution_count": 16,
   "metadata": {
    "collapsed": false
   },
   "outputs": [],
   "source": [
    "#plot importance of each word for each topic (1 plot per topic)\n",
    "def plot_word_prob(topics, topic_word):\n",
    "    f, ax= plt.subplots(len(topics), 1, figsize=(8, 24), sharex=True)\n",
    "    x_min = -50\n",
    "    x_max = len(topic_word[0]) + 50\n",
    "    y_min = 0\n",
    "    \n",
    "    for i, k in enumerate(topics):\n",
    "        y_max = round(max(topic_word[i])*1.1, 1)\n",
    "        ax[i].stem(topic_word[i], linefmt='b-', markerfmt='bo', basefmt='w-')\n",
    "        ax[i].set_xlim(x_min, x_max)\n",
    "        ax[i].set_ylim(y_min, y_max)\n",
    "        ax[i].set_ylabel(\"Importance\")\n",
    "        ax[i].set_title(\"topic {}\".format(k))\n",
    "\n",
    "    plt.tight_layout()\n",
    "    plt.show()"
   ]
  },
  {
   "cell_type": "code",
   "execution_count": null,
   "metadata": {
    "collapsed": false
   },
   "outputs": [],
   "source": [
    "plot_word_prob(nmf_topics, nmf_topic_word)"
   ]
  },
  {
   "cell_type": "code",
   "execution_count": 17,
   "metadata": {
    "collapsed": false
   },
   "outputs": [],
   "source": [
    "#plot importance of all topics for document most representative of each topic (1 plot per topic)\n",
    "def plot_doc_prob(best_hosts, doc_topic):\n",
    "    f, ax= plt.subplots(len(best_hosts), 1, figsize=(8, 24), sharex=True)\n",
    "    x_min = -1\n",
    "    x_max = len(best_hosts)\n",
    "    y_min = 0\n",
    "    y_max = max(1, round(max(doc_topic.flatten())*1.1, 1))\n",
    "    \n",
    "    for i, k in enumerate(best_hosts):\n",
    "        ax[i].stem(doc_topic[k], linefmt='r-', markerfmt='ro', basefmt='w-')\n",
    "        ax[i].set_xlim(x_min, x_max)\n",
    "        ax[i].set_ylim(y_min, y_max)\n",
    "        ax[i].set_ylabel(\"Importance\")\n",
    "        ax[i].set_title(\"Document {}\".format(k))\n",
    "\n",
    "    plt.tight_layout()\n",
    "    plt.show()"
   ]
  },
  {
   "cell_type": "code",
   "execution_count": null,
   "metadata": {
    "collapsed": false,
    "scrolled": false
   },
   "outputs": [],
   "source": [
    "plot_doc_prob(best_nmf_hosts, nmf_doc_topic)"
   ]
  },
  {
   "cell_type": "markdown",
   "metadata": {},
   "source": [
    "#### Assign clusters"
   ]
  },
  {
   "cell_type": "code",
   "execution_count": 20,
   "metadata": {
    "collapsed": true
   },
   "outputs": [],
   "source": [
    "df_topics = pd.DataFrame(nmf_doc_topic)"
   ]
  },
  {
   "cell_type": "code",
   "execution_count": 21,
   "metadata": {
    "collapsed": false
   },
   "outputs": [],
   "source": [
    "df_topics['topic_num'] = df_topics.idxmax(axis=1)"
   ]
  },
  {
   "cell_type": "code",
   "execution_count": 22,
   "metadata": {
    "collapsed": false
   },
   "outputs": [],
   "source": [
    "df_topics['topic'] = df_topics['topic_num'].map(pd.Series(nmf_topics))"
   ]
  },
  {
   "cell_type": "code",
   "execution_count": 23,
   "metadata": {
    "collapsed": true
   },
   "outputs": [],
   "source": [
    "df_topics['neighborhood'] = df_neighborhoods['neighborhood']\n",
    "df_topics['city'] = df_neighborhoods['city']"
   ]
  },
  {
   "cell_type": "code",
   "execution_count": 36,
   "metadata": {
    "collapsed": false
   },
   "outputs": [],
   "source": [
    "pilsen_dist = np.array(df_topics[df_topics['neighborhood'] == 'Pilsen'][range(0,16)])[0]"
   ]
  },
  {
   "cell_type": "code",
   "execution_count": 37,
   "metadata": {
    "collapsed": false
   },
   "outputs": [
    {
     "data": {
      "text/plain": [
       "array([ 0.06650783,  0.0134261 ,  0.03119725,  0.03917936,  0.02348643,\n",
       "        0.01304718,  0.        ,  0.24286662,  0.        ,  0.        ,\n",
       "        0.        ,  0.        ,  0.        ,  0.00542338,  0.        ,  0.        ])"
      ]
     },
     "execution_count": 37,
     "metadata": {},
     "output_type": "execute_result"
    }
   ],
   "source": [
    "pilsen_dist"
   ]
  },
  {
   "cell_type": "code",
   "execution_count": 48,
   "metadata": {
    "collapsed": true
   },
   "outputs": [],
   "source": [
    "import seaborn as sns\n",
    "sns.set_style('white')"
   ]
  },
  {
   "cell_type": "code",
   "execution_count": 57,
   "metadata": {
    "collapsed": false
   },
   "outputs": [
    {
     "data": {
      "image/png": "[encoded data removed]",
      "text/plain": [
       "<matplotlib.figure.Figure at 0x11a28fb10>"
      ]
     },
     "metadata": {},
     "output_type": "display_data"
    }
   ],
   "source": [
    "f, ax= plt.subplots(1, 1, figsize=(10, 3), sharex=True)\n",
    "x_min = -1\n",
    "x_max = 17\n",
    "y_min = 0\n",
    "y_max = 0.25\n",
    "\n",
    "ax.set_xlim(x_min, x_max)\n",
    "ax.set_ylim(y_min, y_max)\n",
    "ax.set_frame_on(False)\n",
    "ax.xaxis.set_visible(False)\n",
    "ax.yaxis.set_visible(True)\n",
    "\n",
    "markerline, stemlines, baseline = ax.stem(pilsen_dist) #, linefmt='k-', markerfmt='ko', basefmt='k-')\n",
    "plt.setp(markerline, 'color', '#595959')\n",
    "plt.setp(stemlines, 'color', '#595959')\n",
    "plt.setp(baseline, 'color', '#595959')\n",
    "\n",
    "plt.tight_layout()\n",
    "plt.show()"
   ]
  },
  {
   "cell_type": "code",
   "execution_count": null,
   "metadata": {
    "collapsed": true
   },
   "outputs": [],
   "source": [
    "with open('../data/interim/05_nmf_topics.pkl', 'wb') as picklefile:\n",
    "    pickle.dump(df_topics, picklefile)"
   ]
  },
  {
   "cell_type": "code",
   "execution_count": null,
   "metadata": {
    "collapsed": true
   },
   "outputs": [],
   "source": []
  },
  {
   "cell_type": "code",
   "execution_count": null,
   "metadata": {
    "collapsed": false
   },
   "outputs": [],
   "source": [
    "#csv for d3 visualizations\n",
    "df_nmf_topic_word = pd.DataFrame(nmf_topic_word).T\n",
    "\n",
    "vocab = nmf_vectorizer.vocabulary_\n",
    "sorted_nmf_words = sorted(vocab.items(), key=operator.itemgetter(1))\n",
    "indices = [x[0].encode('utf-8') for x in sorted_nmf_words]\n",
    "\n",
    "df_nmf_topic_word['word'] = indices\n",
    "\n",
    "#all topic_word importances\n",
    "df_nmf_topic_word.to_csv('../reports/viz/data/nmf_topic_word.csv', index=False)"
   ]
  },
  {
   "cell_type": "code",
   "execution_count": null,
   "metadata": {
    "collapsed": true
   },
   "outputs": [],
   "source": [
    "#separate csv with top 10 words in each topic\n",
    "#function to display top words within each topic\n",
    "def export_words(model, W, features, n):\n",
    "    df_temp = pd.DataFrame()\n",
    "    for index, topic in enumerate(model.components_):\n",
    "        #print 'Topic %d:' % index\n",
    "        for i in topic.argsort()[:-n - 1:-1]:\n",
    "            word = features[i]\n",
    "            importance = round(topic[i]*1000000)\n",
    "            #print word, importance\n",
    "            df_temp = df_temp.append(pd.Series([index, word, importance]), ignore_index=True)\n",
    "        #print\n",
    "    df_temp.columns = ['topic', 'word', 'importance']\n",
    "    df_temp.to_csv('../reports/viz/data/nmf_top_10_words.csv', index=False)\n",
    "    return df_temp"
   ]
  },
  {
   "cell_type": "code",
   "execution_count": null,
   "metadata": {
    "collapsed": false
   },
   "outputs": [],
   "source": [
    "df = export_words(nmf, nmf_doc_topic, nmf_features, 10)"
   ]
  },
  {
   "cell_type": "code",
   "execution_count": null,
   "metadata": {
    "collapsed": true
   },
   "outputs": [],
   "source": [
    "#csv for distribution of neighborhood clusters\n",
    "cities = {'austin': 'Austin, TX',\n",
    "          'boston': 'Boston, MA',\n",
    "          'chicago': 'Chicago, IL',\n",
    "          'denver': 'Denver, CO',\n",
    "          'losangeles': 'Los Angeles, CA',\n",
    "          'nashville': 'Nasville, TN', \n",
    "          'neworleans': 'New Orleans, LA',\n",
    "          'newyorkcity': 'New York, NY', \n",
    "          'oakland' : 'Oakland, CA', \n",
    "          'portland': 'Portland, OR', \n",
    "          'sandiego': 'San Diego, CA', \n",
    "          'sanfrancisco': 'San Francisco, CA', \n",
    "          'seattle': 'Seattle, WA', \n",
    "          'washingtondc': 'Washington, DC'}\n",
    "\n",
    "df_cities = pd.DataFrame.from_dict(cities, orient='index').reset_index()\n",
    "df_cities.columns = ['index', 'city_proper']\n",
    "\n",
    "df_lat_long = pd.read_csv('../reports/viz/data/city_totals.csv', usecols=['city_proper', 'lat', 'lng'])\n",
    "\n",
    "df_cities = df_cities.merge(df_lat_long, on='city_proper')"
   ]
  },
  {
   "cell_type": "code",
   "execution_count": null,
   "metadata": {
    "collapsed": false
   },
   "outputs": [],
   "source": [
    "df_cities.head()"
   ]
  },
  {
   "cell_type": "code",
   "execution_count": null,
   "metadata": {
    "collapsed": false
   },
   "outputs": [],
   "source": [
    "df_city_topics = df_topics.groupby(['city', 'topic']).count()['topic_num'].unstack(fill_value=0).reset_index()"
   ]
  },
  {
   "cell_type": "code",
   "execution_count": null,
   "metadata": {
    "collapsed": false
   },
   "outputs": [],
   "source": [
    "df_cities.merge(df_city_topics, left_on='index', right_on='city').to_csv('../reports/viz/data/neighborhood_clusters.csv')"
   ]
  },
  {
   "cell_type": "markdown",
   "metadata": {},
   "source": [
    "#### Pickle files for flask app"
   ]
  },
  {
   "cell_type": "code",
   "execution_count": null,
   "metadata": {
    "collapsed": true
   },
   "outputs": [],
   "source": [
    "df_loc = df_topics[['neighborhood', 'city', 'topic']]"
   ]
  },
  {
   "cell_type": "code",
   "execution_count": null,
   "metadata": {
    "collapsed": true
   },
   "outputs": [],
   "source": [
    "df_nmf_doc_topic = pd.DataFrame(nmf_doc_topic)"
   ]
  },
  {
   "cell_type": "code",
   "execution_count": null,
   "metadata": {
    "collapsed": false
   },
   "outputs": [],
   "source": [
    "kojak_demo = [df_loc, df_nmf_doc_topic, nmf_topics]\n",
    "with open('../models/05_kojak_demo.pkl', 'wb') as picklefile:\n",
    "    pickle.dump(kojak_demo, picklefile)"
   ]
  },
  {
   "cell_type": "markdown",
   "metadata": {},
   "source": [
    "#### Visualizations for presenting"
   ]
  },
  {
   "cell_type": "code",
   "execution_count": null,
   "metadata": {
    "collapsed": false
   },
   "outputs": [],
   "source": [
    "import seaborn as sns\n",
    "sns.set_style('white')"
   ]
  },
  {
   "cell_type": "code",
   "execution_count": null,
   "metadata": {
    "collapsed": true
   },
   "outputs": [],
   "source": [
    "viz_topics = {0: 1, 1: 4}"
   ]
  },
  {
   "cell_type": "code",
   "execution_count": null,
   "metadata": {
    "collapsed": true
   },
   "outputs": [],
   "source": [
    "def plot_for_viz(index, topic, topic_word, features):\n",
    "    #print features[topic_word[index].argmax()[:3]]\n",
    "    \n",
    "    f, ax= plt.subplots(1, 1, figsize=(8, 2), sharex=True)\n",
    "    x_min = -10\n",
    "    x_max = len(topic_word[0])+10\n",
    "    y_min = 0\n",
    "    y_max = round(max(topic_word[index])*1.1, 1)\n",
    "    \n",
    "    ax.set_xlim(x_min, x_max)\n",
    "    ax.set_ylim(y_min, y_max)\n",
    "    ax.set_frame_on(False)\n",
    "    ax.xaxis.set_visible(False)\n",
    "    ax.yaxis.set_visible(False)\n",
    "    \n",
    "    markerline, stemlines, baseline = ax.stem(topic_word[index]) #, linefmt='k-', markerfmt='ko', basefmt='k-')\n",
    "    plt.setp(markerline, 'color', '#595959')\n",
    "    plt.setp(stemlines, 'color', '#595959')\n",
    "    plt.setp(baseline, 'color', '#595959')\n",
    "    \n",
    "    plt.tight_layout()\n",
    "    plt.show()"
   ]
  },
  {
   "cell_type": "code",
   "execution_count": null,
   "metadata": {
    "collapsed": false
   },
   "outputs": [],
   "source": [
    "plot_for_viz(4, 'outdoorsy', nmf_topic_word, nmf_features)"
   ]
  },
  {
   "cell_type": "code",
   "execution_count": null,
   "metadata": {
    "collapsed": false
   },
   "outputs": [],
   "source": [
    "plot_for_viz(1, 'professional', nmf_topic_word, nmf_features)"
   ]
  },
  {
   "cell_type": "markdown",
   "metadata": {
    "collapsed": false
   },
   "source": [
    "#### Assign topic distribution to each listing"
   ]
  },
  {
   "cell_type": "raw",
   "metadata": {
    "collapsed": false
   },
   "source": [
    "nmf_topics = pd.DataFrame(nmf_doc_topic, columns=nmf_topics)"
   ]
  },
  {
   "cell_type": "raw",
   "metadata": {
    "collapsed": false
   },
   "source": [
    "nmf_topics = nmf_topics.merge(s_listings[['abouts', 'latitude', 'longitude']], left_index=True, right_index=True)"
   ]
  },
  {
   "cell_type": "raw",
   "metadata": {
    "collapsed": true
   },
   "source": [
    "#create geojson of topic distributions for visualization on web map\n",
    "def df_to_geojson(df, properties, lat='latitude', lon='longitude'):\n",
    "    geojson = {'type':'FeatureCollection', 'features':[]}\n",
    "    for _, row in df.iterrows():\n",
    "        feature = {'type':'Feature',\n",
    "                   'properties':{},\n",
    "                   'geometry':{'type':'Point',\n",
    "                               'coordinates':[]}}\n",
    "        feature['geometry']['coordinates'] = [row[lon],row[lat]]\n",
    "        for prop in properties:\n",
    "            feature['properties'][prop] = row[prop]\n",
    "        geojson['features'].append(feature)\n",
    "    return geojson"
   ]
  },
  {
   "cell_type": "raw",
   "metadata": {
    "collapsed": false
   },
   "source": [
    "columns = nmf_topics.columns.tolist()\n",
    "columns += ['abouts']\n",
    "geojson = df_to_geojson(nmf_topics, columns)"
   ]
  },
  {
   "cell_type": "raw",
   "metadata": {
    "collapsed": false
   },
   "source": [
    "output_filename='../viz/nmf_topics.json'\n",
    "with open(output_filename, 'wb') as output_file:\n",
    "    json.dump(geojson, output_file, indent=2)"
   ]
  },
  {
   "cell_type": "raw",
   "metadata": {
    "collapsed": false
   },
   "source": [
    "nmf_topics.to_csv('../viz/nmf_topics.csv', encoding='utf-8')"
   ]
  },
  {
   "cell_type": "markdown",
   "metadata": {},
   "source": [
    "#### Pickle nmf topics dataframe"
   ]
  },
  {
   "cell_type": "raw",
   "metadata": {
    "collapsed": false
   },
   "source": [
    "with open('../data/interim/nmf_topics.pkl', 'wb') as picklefile:\n",
    "    pickle.dump(nmf_topics, picklefile)"
   ]
  },
  {
   "cell_type": "markdown",
   "metadata": {},
   "source": [
    "### LDA (sklearn)"
   ]
  },
  {
   "cell_type": "markdown",
   "metadata": {},
   "source": [
    "#### Create term frequency vector using host descriptions (stopwords removed)"
   ]
  },
  {
   "cell_type": "code",
   "execution_count": null,
   "metadata": {
    "collapsed": false
   },
   "outputs": [],
   "source": [
    "lda_vectorizer = CountVectorizer(#strip_accents = 'unicode',\n",
    "                                #stop_words = 'english',\n",
    "                                #lowercase = True,\n",
    "                                #token_pattern = r'\\b[a-zA-Z]{3,}\\b',\n",
    "                                max_features = 1000,\n",
    "                                ngram_range=(1,2),\n",
    "                                max_df = 0.75, \n",
    "                                min_df = 20)\n",
    "counts = lda_vectorizer.fit_transform(lemmas)\n",
    "lda_features = lda_vectorizer.get_feature_names()\n",
    "len(lda_features)"
   ]
  },
  {
   "cell_type": "markdown",
   "metadata": {},
   "source": [
    "#### Extract topics using LDA on counts vector of host descriptions\n",
    "* Number of components set to number of topics\n",
    "* Learning method set to online for better performance"
   ]
  },
  {
   "cell_type": "code",
   "execution_count": null,
   "metadata": {
    "collapsed": false
   },
   "outputs": [],
   "source": [
    "lda = LatentDirichletAllocation(n_topics=num_topics,\n",
    "                                learning_method='online',\n",
    "                                random_state=16)\n",
    "lda_doc_topic = lda.fit_transform(counts)"
   ]
  },
  {
   "cell_type": "code",
   "execution_count": null,
   "metadata": {
    "collapsed": false
   },
   "outputs": [],
   "source": [
    "lda_topic_word = lda.components_"
   ]
  },
  {
   "cell_type": "code",
   "execution_count": null,
   "metadata": {
    "collapsed": false,
    "scrolled": false
   },
   "outputs": [],
   "source": [
    "best_lda_hosts = display_topics(lda, lda_doc_topic, lda_features, num_top_words)"
   ]
  },
  {
   "cell_type": "markdown",
   "metadata": {},
   "source": [
    "#### Visualizations"
   ]
  },
  {
   "cell_type": "code",
   "execution_count": null,
   "metadata": {
    "collapsed": true
   },
   "outputs": [],
   "source": [
    "lda_topics = range(num_topics)"
   ]
  },
  {
   "cell_type": "code",
   "execution_count": null,
   "metadata": {
    "collapsed": true
   },
   "outputs": [],
   "source": [
    "lda_topic_word_norm = lda_topic_word/np.sum(lda_topic_word, axis=1, keepdims=True)"
   ]
  },
  {
   "cell_type": "code",
   "execution_count": null,
   "metadata": {
    "collapsed": false
   },
   "outputs": [],
   "source": [
    "plot_word_prob(lda_topics, lda_topic_word)"
   ]
  },
  {
   "cell_type": "code",
   "execution_count": null,
   "metadata": {
    "collapsed": false
   },
   "outputs": [],
   "source": [
    "plot_doc_prob(best_lda_hosts, lda_doc_topic)"
   ]
  },
  {
   "cell_type": "markdown",
   "metadata": {},
   "source": [
    "#### Visualizations for presenting"
   ]
  },
  {
   "cell_type": "code",
   "execution_count": null,
   "metadata": {
    "collapsed": false
   },
   "outputs": [],
   "source": [
    "plot_for_viz(9, 'outdoorsy', lda_topic_word, lda_features)"
   ]
  },
  {
   "cell_type": "code",
   "execution_count": null,
   "metadata": {
    "collapsed": false
   },
   "outputs": [],
   "source": [
    "plot_for_viz(10, 'professional', lda_topic_word, lda_features)"
   ]
  },
  {
   "cell_type": "markdown",
   "metadata": {
    "collapsed": false
   },
   "source": [
    "#### Assign topic distribution to each listing"
   ]
  },
  {
   "cell_type": "code",
   "execution_count": null,
   "metadata": {
    "collapsed": false
   },
   "outputs": [],
   "source": [
    "lda_topics = pd.DataFrame(lda_doc_topic, columns=lda_topics)"
   ]
  },
  {
   "cell_type": "code",
   "execution_count": null,
   "metadata": {
    "collapsed": false
   },
   "outputs": [],
   "source": [
    "lda_topics.head()"
   ]
  },
  {
   "cell_type": "markdown",
   "metadata": {},
   "source": [
    "#### Pickle lda topics dataframe"
   ]
  },
  {
   "cell_type": "code",
   "execution_count": null,
   "metadata": {
    "collapsed": false
   },
   "outputs": [],
   "source": [
    "with open('../data/interim/lda_topics.pkl', 'wb') as picklefile:\n",
    "    pickle.dump(lda_topics, picklefile)"
   ]
  },
  {
   "cell_type": "code",
   "execution_count": null,
   "metadata": {
    "collapsed": true
   },
   "outputs": [],
   "source": []
  }
 ],
 "metadata": {
  "anaconda-cloud": {},
  "kernelspec": {
   "display_name": "Python [conda root]",
   "language": "python",
   "name": "conda-root-py"
  },
  "language_info": {
   "codemirror_mode": {
    "name": "ipython",
    "version": 2
   },
   "file_extension": ".py",
   "mimetype": "text/x-python",
   "name": "python",
   "nbconvert_exporter": "python",
   "pygments_lexer": "ipython2",
   "version": "2.7.12"
  }
 },
 "nbformat": 4,
 "nbformat_minor": 1
}
