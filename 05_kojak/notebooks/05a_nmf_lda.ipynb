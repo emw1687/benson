{
 "cells": [
  {
   "cell_type": "markdown",
   "metadata": {},
   "source": [
    "### Topic modeling with NMF and LDA\n",
    "\n",
    "1. Load dataframe of neighborhoods and extract neighborhood descriptions (lemmas)\n",
    "2. Create vector, run NMF, assign topic distributions to each listing, and pickle results using:\n",
    "    * NMF\n",
    "    * LDA\n",
    "4. Visualize topics LDA topics with pyLDAvis\n",
    "5. Complete LDA with gensim\n",
    "\n",
    "Resources:\n",
    "* [Topic extraction with Non-negative Matrix Factorization and Latent Dirichlet Allocation](http://scikit-learn.org/stable/auto_examples/applications/topics_extraction_with_nmf_lda.html#sphx-glr-auto-examples-applications-topics-extraction-with-nmf-lda-py)\n",
    "* [Practical Topic Finding for Short-Sentence Texts](http://nbviewer.jupyter.org/github/dolaameng/tutorials/blob/master/topic-finding-for-short-texts/topics_for_short_texts.ipynb)\n",
    "* [Topic Modeling with Scikit Learn](https://medium.com/@aneesha/topic-modeling-with-scikit-learn-e80d33668730#.gabw32h5e)\n",
    "* [Improving the Interpretation of Topic Models](https://medium.com/towards-data-science/improving-the-interpretation-of-topic-models-87fd2ee3847d#.8j9ngyi91)\n",
    "* [Care and Feeding of Topic Models: Problems, Diagnostics, and Improvements](https://mimno.infosci.cornell.edu/papers/2014_book_chapter_care_and_feeding.pdf)\n",
    "* [Getting started with Latent Dirichlet Allocation in Python](http://chrisstrelioff.ws/sandbox/2014/11/13/getting_started_with_latent_dirichlet_allocation_in_python.html)\n",
    "* [Exporting Python Data to GeoJSON](http://geoffboeing.com/2015/10/exporting-python-data-geojson/)"
   ]
  },
  {
   "cell_type": "code",
   "execution_count": 1,
   "metadata": {
    "collapsed": true
   },
   "outputs": [],
   "source": [
    "import pickle\n",
    "\n",
    "import pandas as pd\n",
    "import numpy as np\n",
    "\n",
    "from sklearn.feature_extraction.text import CountVectorizer, TfidfVectorizer \n",
    "from sklearn.decomposition import NMF, LatentDirichletAllocation\n",
    "\n",
    "import json\n",
    "\n",
    "import matplotlib.pyplot as plt\n",
    "%matplotlib inline"
   ]
  },
  {
   "cell_type": "code",
   "execution_count": 2,
   "metadata": {
    "collapsed": true
   },
   "outputs": [],
   "source": [
    "#function to display top words within each topic\n",
    "def display_topics(model, W, features, n):\n",
    "    best_hosts = []\n",
    "    for index, topic in enumerate(model.components_):\n",
    "        print 'Topic %d:' % index\n",
    "        print 'TOP %d WORDS:' % n\n",
    "        for i in topic.argsort()[:-n - 1:-1]:\n",
    "            print features[i]\n",
    "        print 'REPRESENTATIVE HOST:'\n",
    "        ind = np.argsort(W[:,index])[::-1][0]\n",
    "        best_hosts.append(ind)\n",
    "        print df_neighborhoods.iloc[ind][['neighborhood', 'city', 'state']]\n",
    "        print\n",
    "    return best_hosts"
   ]
  },
  {
   "cell_type": "code",
   "execution_count": 4,
   "metadata": {
    "collapsed": true
   },
   "outputs": [],
   "source": [
    "#parameters for topic models\n",
    "num_topics = 8\n",
    "num_top_words = 15"
   ]
  },
  {
   "cell_type": "markdown",
   "metadata": {},
   "source": [
    "#### Load AirBnB neighborhoods dataframe and extract preprocessed neighborhood descriptions"
   ]
  },
  {
   "cell_type": "code",
   "execution_count": 5,
   "metadata": {
    "collapsed": false
   },
   "outputs": [],
   "source": [
    "with open('../data/interim/04_neighborhoods_lemmas.pkl', 'rb') as picklefile:\n",
    "    df_neighborhoods = pickle.load(picklefile)"
   ]
  },
  {
   "cell_type": "code",
   "execution_count": 6,
   "metadata": {
    "collapsed": false
   },
   "outputs": [],
   "source": [
    "lemmas = df_neighborhoods['lemmas']"
   ]
  },
  {
   "cell_type": "code",
   "execution_count": 7,
   "metadata": {
    "collapsed": false
   },
   "outputs": [],
   "source": [
    "neighborhoods = df_neighborhoods['neighborhood'].tolist()\n",
    "cities = df_neighborhoods['city'].tolist()\n",
    "states = df_neighborhoods['state'].tolist()\n",
    "loc = zip(neighborhoods, cities, states)"
   ]
  },
  {
   "cell_type": "markdown",
   "metadata": {},
   "source": [
    "### NMF (sklearn)"
   ]
  },
  {
   "cell_type": "markdown",
   "metadata": {},
   "source": [
    "#### Create TFIDF vector using neighborhood descriptions"
   ]
  },
  {
   "cell_type": "code",
   "execution_count": 8,
   "metadata": {
    "collapsed": false
   },
   "outputs": [
    {
     "data": {
      "text/plain": [
       "13393"
      ]
     },
     "execution_count": 8,
     "metadata": {},
     "output_type": "execute_result"
    }
   ],
   "source": [
    "nmf_vectorizer = TfidfVectorizer(ngram_range=(1,2),\n",
    "                                 max_df=0.75,\n",
    "                                 min_df=10)\n",
    "                                 #max_features = 1000)\n",
    "\n",
    "tfidf = nmf_vectorizer.fit_transform(lemmas)\n",
    "nmf_features = nmf_vectorizer.get_feature_names()\n",
    "len(nmf_features)"
   ]
  },
  {
   "cell_type": "code",
   "execution_count": 9,
   "metadata": {
    "collapsed": false
   },
   "outputs": [
    {
     "data": {
      "text/plain": [
       "[(u'include', 1.2936522394382846),\n",
       " (u'friendly', 1.2936522394382846),\n",
       " (u'love', 1.2951503670593068),\n",
       " (u'bus', 1.2981533723190763),\n",
       " (u'everything', 1.3102563944903198),\n",
       " (u'offer', 1.3194307707663613),\n",
       " (u'ride', 1.3194307707663613),\n",
       " (u'enjoy', 1.3333521092849692),\n",
       " (u'go', 1.360188763238529),\n",
       " (u'residential', 1.3617900446055029),\n",
       " (u'coffee shop', 1.365000320235751),\n",
       " (u'public', 1.365000320235751),\n",
       " (u'find', 1.3682209349357932),\n",
       " (u'see', 1.3943662150401155),\n",
       " (u'bike', 1.4060232995823283),\n",
       " (u'easy access', 1.4178178760751654),\n",
       " (u'people', 1.4195142293233438),\n",
       " (u'cafe', 1.4212134650763035),\n",
       " (u'night', 1.4280394301467034),\n",
       " (u'feel', 1.4280394301467034),\n",
       " (u'make', 1.4366379354019352),\n",
       " (u'nice', 1.440098146466831),\n",
       " (u'neighbor', 1.445311016655364),\n",
       " (u'day', 1.4505512033189203),\n",
       " (u'apartment', 1.4540599788485995),\n",
       " (u'convenient', 1.4593463347717475),\n",
       " (u'less', 1.4593463347717475),\n",
       " (u'several', 1.4611146818284895),\n",
       " (u'art', 1.4771721187243481),\n",
       " (u'know', 1.4789722992284959),\n",
       " (u'need', 1.4843923666978351),\n",
       " (u'car', 1.4898419714653999),\n",
       " (u'want', 1.5100818528131461),\n",
       " (u'spot', 1.5138062519041284),\n",
       " (u'much', 1.5138062519041284),\n",
       " (u'plenty', 1.5156736660789241),\n",
       " (u'small', 1.5194189888090861),\n",
       " (u'stop', 1.5194189888090861),\n",
       " (u'time', 1.5326392002372207),\n",
       " (u'part', 1.5345421503833068),\n",
       " (u'large', 1.5402728250922917),\n",
       " (u'etc', 1.5441116013994574),\n",
       " (u'come', 1.5518336474933676),\n",
       " (u'fun', 1.5518336474933676),\n",
       " (u'run', 1.5674589653964486),\n",
       " (u'transportation', 1.571403743687465),\n",
       " (u'attraction', 1.571403743687465),\n",
       " (u'favorite', 1.5733819836995706),\n",
       " (u'stay', 1.5753641449035618),\n",
       " (u'major', 1.5813343118900658),\n",
       " (u'thing', 1.5873403359502776),\n",
       " (u'youll', 1.5893503868783019),\n",
       " (u'famous', 1.5913644862500029),\n",
       " (u'trail', 1.5933826504062403),\n",
       " (u'unique', 1.5994616964826223),\n",
       " (u'popular', 1.603535021870258),\n",
       " (u'option', 1.6055779235000585),\n",
       " (u'visit', 1.6096762898923407),\n",
       " (u'free', 1.6096762898923407),\n",
       " (u'amazing', 1.6137915220374475),\n",
       " (u'youre', 1.6199962989243302),\n",
       " (u'year', 1.6220731428691693),\n",
       " (u'music', 1.6241543090729937),\n",
       " (u'perfect', 1.6262398155640152),\n",
       " (u'museum', 1.6346256089402891),\n",
       " (u'full', 1.6388450244829973),\n",
       " (u'door', 1.6388450244829973),\n",
       " (u'open', 1.6409614273893751),\n",
       " (u'even', 1.6409614273893751),\n",
       " (u'quick', 1.6452077182708262),\n",
       " (u'hour', 1.6732570220807257),\n",
       " (u'next', 1.6776429940239801),\n",
       " (u'wonderful', 1.6820482874918965),\n",
       " (u'explore', 1.688692830210565),\n",
       " (u'way', 1.688692830210565),\n",
       " (u'pizza', 1.6976214609548665),\n",
       " (u'lovely', 1.7021158505427056),\n",
       " (u'front', 1.7021158505427056),\n",
       " (u'diverse', 1.7043706429297949),\n",
       " (u'building', 1.7111656860626234),\n",
       " (u'check', 1.7111656860626234),\n",
       " (u'look', 1.7111656860626234),\n",
       " (u'still', 1.7225943818862464),\n",
       " (u'eat', 1.7248958788745257),\n",
       " (u'experience', 1.7248958788745257),\n",
       " (u'surround', 1.7272026849724407),\n",
       " (u'boutique', 1.7341552042873225),\n",
       " (u'couple', 1.7364834940469134),\n",
       " (u'centrally', 1.7388172173931336),\n",
       " (u'call', 1.7388172173931336),\n",
       " (u'walkable', 1.7482069577429726),\n",
       " (u'step', 1.7505682339286524),\n",
       " (u'proximity', 1.7505682339286524),\n",
       " (u'yet', 1.7505682339286524),\n",
       " (u'vibrant', 1.7529350989389187),\n",
       " (u'farmer', 1.755307579292549),\n",
       " (u'airport', 1.7576857016975165),\n",
       " (u'urban', 1.7600694930527927),\n",
       " (u'movie', 1.7624589804501742),\n",
       " (u'parking', 1.7648541911761289)]"
      ]
     },
     "execution_count": 9,
     "metadata": {},
     "output_type": "execute_result"
    }
   ],
   "source": [
    "#10 words with highest tfidf\n",
    "top = nmf_vectorizer.idf_.argsort()[:100].tolist()\n",
    "[(nmf_features[i], nmf_vectorizer.idf_[i]) for i in top]"
   ]
  },
  {
   "cell_type": "code",
   "execution_count": 10,
   "metadata": {
    "collapsed": false
   },
   "outputs": [
    {
     "data": {
      "text/plain": [
       "[(u'homegrown', 5.4000451401765597),\n",
       " (u'day parade', 5.4000451401765597),\n",
       " (u'laundromat coffee', 5.4000451401765597),\n",
       " (u'show time', 5.4000451401765597),\n",
       " (u'day safe', 5.4000451401765597),\n",
       " (u'truly everything', 5.4000451401765597),\n",
       " (u'truly feel', 5.4000451401765597),\n",
       " (u'day residential', 5.4000451401765597),\n",
       " (u'fun live', 5.4000451401765597),\n",
       " (u'latin flavor', 5.4000451401765597),\n",
       " (u'day peaceful', 5.4000451401765597),\n",
       " (u'music day', 5.4000451401765597),\n",
       " (u'music gallery', 5.4000451401765597),\n",
       " (u'day head', 5.4000451401765597),\n",
       " (u'day find', 5.4000451401765597),\n",
       " (u'day favorite', 5.4000451401765597),\n",
       " (u'day evening', 5.4000451401765597),\n",
       " (u'day dont', 5.4000451401765597),\n",
       " (u'day bar', 5.4000451401765597),\n",
       " (u'music easy', 5.4000451401765597)]"
      ]
     },
     "execution_count": 10,
     "metadata": {},
     "output_type": "execute_result"
    }
   ],
   "source": [
    "#10 words with lowest tfidf\n",
    "bottom = nmf_vectorizer.idf_.argsort()[::-1].tolist()[:20]\n",
    "[(nmf_features[i], nmf_vectorizer.idf_[i]) for i in bottom]"
   ]
  },
  {
   "cell_type": "markdown",
   "metadata": {},
   "source": [
    "#### Extract topics using NMF on TFIDF vector of host descriptions\n",
    "* Number of components set to number of topics\n",
    "* init set to Nonnegative Double Singular Value Decomposition (nndsvd), which is better for sparse matrices\n",
    "* solver set to cd (recommended in documentation)"
   ]
  },
  {
   "cell_type": "code",
   "execution_count": 11,
   "metadata": {
    "collapsed": false
   },
   "outputs": [
    {
     "data": {
      "text/plain": [
       "(895, 8)"
      ]
     },
     "execution_count": 11,
     "metadata": {},
     "output_type": "execute_result"
    }
   ],
   "source": [
    "nmf = NMF(n_components=num_topics,\n",
    "          init='nndsvd',\n",
    "          solver = 'cd',\n",
    "          random_state=16)\n",
    "nmf_doc_topic = nmf.fit_transform(tfidf)\n",
    "nmf_doc_topic.shape"
   ]
  },
  {
   "cell_type": "code",
   "execution_count": 12,
   "metadata": {
    "collapsed": false
   },
   "outputs": [],
   "source": [
    "nmf_doc_topic_norm = nmf_doc_topic/np.sum(nmf_doc_topic, axis=1, keepdims=True)"
   ]
  },
  {
   "cell_type": "code",
   "execution_count": 13,
   "metadata": {
    "collapsed": false
   },
   "outputs": [
    {
     "data": {
      "text/plain": [
       "1.0"
      ]
     },
     "execution_count": 13,
     "metadata": {},
     "output_type": "execute_result"
    }
   ],
   "source": [
    "sum(nmf_doc_topic_norm[1])"
   ]
  },
  {
   "cell_type": "code",
   "execution_count": 14,
   "metadata": {
    "collapsed": false
   },
   "outputs": [
    {
     "data": {
      "text/plain": [
       "(8, 13393)"
      ]
     },
     "execution_count": 14,
     "metadata": {},
     "output_type": "execute_result"
    }
   ],
   "source": [
    "nmf_topic_word = nmf.components_\n",
    "nmf_topic_word.shape"
   ]
  },
  {
   "cell_type": "code",
   "execution_count": 15,
   "metadata": {
    "collapsed": false,
    "scrolled": false
   },
   "outputs": [
    {
     "name": "stdout",
     "output_type": "stream",
     "text": [
      "Topic 0:\n",
      "TOP 15 WORDS:\n",
      "music\n",
      "art\n",
      "coffee shop\n",
      "venue\n",
      "hip\n",
      "cafe\n",
      "taco\n",
      "bike\n",
      "gallery\n",
      "eclectic\n",
      "favorite\n",
      "spot\n",
      "cool\n",
      "love\n",
      "music venue\n",
      "REPRESENTATIVE HOST:\n",
      "neighborhood    Bouldin\n",
      "city             austin\n",
      "state                TX\n",
      "Name: 130, dtype: object\n",
      "\n",
      "Topic 1:\n",
      "TOP 15 WORDS:\n",
      "train\n",
      "subway\n",
      "supermarket\n",
      "diverse\n",
      "apartment\n",
      "time\n",
      "museum\n",
      "pharmacy\n",
      "bus\n",
      "stop\n",
      "residential\n",
      "people\n",
      "laundromat\n",
      "botanical\n",
      "bank\n",
      "REPRESENTATIVE HOST:\n",
      "neighborhood    Washington Heights\n",
      "city                   newyorkcity\n",
      "state                           NY\n",
      "Name: 1598, dtype: object\n",
      "\n",
      "Topic 2:\n",
      "TOP 15 WORDS:\n",
      "freeway\n",
      "trader\n",
      "trader joes\n",
      "joes\n",
      "movie\n",
      "ralphs\n",
      "hike\n",
      "farmer\n",
      "centrally\n",
      "major\n",
      "friendly\n",
      "residential\n",
      "whole food\n",
      "neighbor\n",
      "airport\n",
      "REPRESENTATIVE HOST:\n",
      "neighborhood    Sherman Oaks\n",
      "city              losangeles\n",
      "state                     CA\n",
      "Name: 1351, dtype: object\n",
      "\n",
      "Topic 3:\n",
      "TOP 15 WORDS:\n",
      "apartment\n",
      "building\n",
      "step\n",
      "subway\n",
      "boutique\n",
      "famous\n",
      "nightlife\n",
      "whole food\n",
      "whole\n",
      "everything\n",
      "low\n",
      "time\n",
      "cafe\n",
      "attraction\n",
      "gallery\n",
      "REPRESENTATIVE HOST:\n",
      "neighborhood    Greenwich Village\n",
      "city                  newyorkcity\n",
      "state                          NY\n",
      "Name: 601, dtype: object\n",
      "\n",
      "Topic 4:\n",
      "TOP 15 WORDS:\n",
      "zoo\n",
      "golf\n",
      "golf course\n",
      "course\n",
      "trail\n",
      "surf\n",
      "bike\n",
      "airport\n",
      "water\n",
      "boat\n",
      "boardwalk\n",
      "nature\n",
      "enjoy\n",
      "hike\n",
      "pool\n",
      "REPRESENTATIVE HOST:\n",
      "neighborhood    Pacific Beach\n",
      "city                 sandiego\n",
      "state                      CA\n",
      "Name: 1130, dtype: object\n",
      "\n",
      "Topic 5:\n",
      "TOP 15 WORDS:\n",
      "bus\n",
      "coffee shop\n",
      "food cart\n",
      "cart\n",
      "trail\n",
      "bike\n",
      "season\n",
      "farmer\n",
      "safeway\n",
      "public\n",
      "max\n",
      "bakery\n",
      "several\n",
      "pub\n",
      "cafe\n",
      "REPRESENTATIVE HOST:\n",
      "neighborhood    Mount Tabor\n",
      "city               portland\n",
      "state                    OR\n",
      "Name: 982, dtype: object\n",
      "\n",
      "Topic 6:\n",
      "TOP 15 WORDS:\n",
      "museum\n",
      "convention\n",
      "art\n",
      "science\n",
      "art museum\n",
      "aquarium\n",
      "attraction\n",
      "museum science\n",
      "nature science\n",
      "zoo\n",
      "academy science\n",
      "brewery\n",
      "academy\n",
      "nearby attraction\n",
      "gallery\n",
      "REPRESENTATIVE HOST:\n",
      "neighborhood    Downtown\n",
      "city             seattle\n",
      "state                 WA\n",
      "Name: 373, dtype: object\n",
      "\n",
      "Topic 7:\n",
      "TOP 15 WORDS:\n",
      "streetcar\n",
      "frenchman\n",
      "fest\n",
      "jazz\n",
      "parade\n",
      "esplanade\n",
      "jazz fest\n",
      "canal\n",
      "music\n",
      "car\n",
      "famous\n",
      "fairground\n",
      "neighbor\n",
      "faubourg\n",
      "creole\n",
      "REPRESENTATIVE HOST:\n",
      "neighborhood    Seventh Ward\n",
      "city              neworleans\n",
      "state                     LA\n",
      "Name: 1336, dtype: object\n",
      "\n"
     ]
    }
   ],
   "source": [
    "best_nmf_hosts = display_topics(nmf, nmf_doc_topic, nmf_features, num_top_words)"
   ]
  },
  {
   "cell_type": "markdown",
   "metadata": {},
   "source": [
    "#### A couple visualizations!"
   ]
  },
  {
   "cell_type": "code",
   "execution_count": 16,
   "metadata": {
    "collapsed": false
   },
   "outputs": [
    {
     "data": {
      "text/plain": [
       "13393"
      ]
     },
     "execution_count": 16,
     "metadata": {},
     "output_type": "execute_result"
    }
   ],
   "source": [
    "len(nmf_topic_word[0])"
   ]
  },
  {
   "cell_type": "code",
   "execution_count": 17,
   "metadata": {
    "collapsed": true
   },
   "outputs": [],
   "source": [
    "nmf_topics = range(num_topics)"
   ]
  },
  {
   "cell_type": "code",
   "execution_count": 18,
   "metadata": {
    "collapsed": false
   },
   "outputs": [],
   "source": [
    "#plot importance of each word for each topic (1 plot per topic)\n",
    "def plot_word_prob(topics, topic_word):\n",
    "    f, ax= plt.subplots(len(topics), 1, figsize=(8, 24), sharex=True)\n",
    "    x_min = -50\n",
    "    x_max = len(topic_word[0]) + 50\n",
    "    y_min = 0\n",
    "    \n",
    "    for i, k in enumerate(topics):\n",
    "        y_max = round(max(topic_word[i])*1.1, 1)\n",
    "        ax[i].stem(topic_word[i], linefmt='b-', markerfmt='bo', basefmt='w-')\n",
    "        ax[i].set_xlim(x_min, x_max)\n",
    "        ax[i].set_ylim(y_min, y_max)\n",
    "        ax[i].set_ylabel(\"Importance\")\n",
    "        ax[i].set_title(\"topic {}\".format(k))\n",
    "\n",
    "    plt.tight_layout()\n",
    "    plt.show()"
   ]
  },
  {
   "cell_type": "code",
   "execution_count": null,
   "metadata": {
    "collapsed": false
   },
   "outputs": [],
   "source": [
    "round(max(nmf_topic_word.flatten())*1.1, 1)"
   ]
  },
  {
   "cell_type": "code",
   "execution_count": null,
   "metadata": {
    "collapsed": false
   },
   "outputs": [],
   "source": [
    "plot_word_prob(nmf_topics, nmf_topic_word)"
   ]
  },
  {
   "cell_type": "code",
   "execution_count": null,
   "metadata": {
    "collapsed": false
   },
   "outputs": [],
   "source": [
    "#plot importance of all topics for document most representative of each topic (1 plot per topic)\n",
    "def plot_doc_prob(best_hosts, doc_topic):\n",
    "    f, ax= plt.subplots(len(best_hosts), 1, figsize=(8, 24), sharex=True)\n",
    "    x_min = -1\n",
    "    x_max = len(best_hosts)\n",
    "    y_min = 0\n",
    "    y_max = max(1, round(max(doc_topic.flatten())*1.1, 1))\n",
    "    \n",
    "    for i, k in enumerate(best_hosts):\n",
    "        ax[i].stem(doc_topic[k], linefmt='r-', markerfmt='ro', basefmt='w-')\n",
    "        ax[i].set_xlim(x_min, x_max)\n",
    "        ax[i].set_ylim(y_min, y_max)\n",
    "        ax[i].set_ylabel(\"Importance\")\n",
    "        ax[i].set_title(\"Document {}\".format(k))\n",
    "\n",
    "    plt.tight_layout()\n",
    "    plt.show()"
   ]
  },
  {
   "cell_type": "code",
   "execution_count": null,
   "metadata": {
    "collapsed": false,
    "scrolled": false
   },
   "outputs": [],
   "source": [
    "plot_doc_prob(best_nmf_hosts, nmf_doc_topic)"
   ]
  },
  {
   "cell_type": "markdown",
   "metadata": {},
   "source": [
    "#### Visualizations for presenting"
   ]
  },
  {
   "cell_type": "code",
   "execution_count": null,
   "metadata": {
    "collapsed": false
   },
   "outputs": [],
   "source": [
    "import seaborn as sns\n",
    "sns.set_style('white')"
   ]
  },
  {
   "cell_type": "code",
   "execution_count": null,
   "metadata": {
    "collapsed": true
   },
   "outputs": [],
   "source": [
    "viz_topics = {0: 1, 1: 4}"
   ]
  },
  {
   "cell_type": "code",
   "execution_count": null,
   "metadata": {
    "collapsed": true
   },
   "outputs": [],
   "source": [
    "def plot_for_viz(index, topic, topic_word, features):\n",
    "    #print features[topic_word[index].argmax()[:3]]\n",
    "    \n",
    "    f, ax= plt.subplots(1, 1, figsize=(8, 2), sharex=True)\n",
    "    x_min = -10\n",
    "    x_max = len(topic_word[0])+10\n",
    "    y_min = 0\n",
    "    y_max = round(max(topic_word[index])*1.1, 1)\n",
    "    \n",
    "    ax.set_xlim(x_min, x_max)\n",
    "    ax.set_ylim(y_min, y_max)\n",
    "    ax.set_frame_on(False)\n",
    "    ax.xaxis.set_visible(False)\n",
    "    ax.yaxis.set_visible(False)\n",
    "    \n",
    "    markerline, stemlines, baseline = ax.stem(topic_word[index]) #, linefmt='k-', markerfmt='ko', basefmt='k-')\n",
    "    plt.setp(markerline, 'color', '#595959')\n",
    "    plt.setp(stemlines, 'color', '#595959')\n",
    "    plt.setp(baseline, 'color', '#595959')\n",
    "    \n",
    "    plt.tight_layout()\n",
    "    plt.show()"
   ]
  },
  {
   "cell_type": "code",
   "execution_count": null,
   "metadata": {
    "collapsed": false
   },
   "outputs": [],
   "source": [
    "plot_for_viz(4, 'outdoorsy', nmf_topic_word, nmf_features)"
   ]
  },
  {
   "cell_type": "code",
   "execution_count": null,
   "metadata": {
    "collapsed": false
   },
   "outputs": [],
   "source": [
    "plot_for_viz(1, 'professional', nmf_topic_word, nmf_features)"
   ]
  },
  {
   "cell_type": "markdown",
   "metadata": {
    "collapsed": false
   },
   "source": [
    "#### Assign topic distribution to each listing"
   ]
  },
  {
   "cell_type": "raw",
   "metadata": {
    "collapsed": false
   },
   "source": [
    "nmf_topics = pd.DataFrame(nmf_doc_topic, columns=nmf_topics)"
   ]
  },
  {
   "cell_type": "raw",
   "metadata": {
    "collapsed": false
   },
   "source": [
    "nmf_topics = nmf_topics.merge(s_listings[['abouts', 'latitude', 'longitude']], left_index=True, right_index=True)"
   ]
  },
  {
   "cell_type": "raw",
   "metadata": {
    "collapsed": true
   },
   "source": [
    "#create geojson of topic distributions for visualization on web map\n",
    "def df_to_geojson(df, properties, lat='latitude', lon='longitude'):\n",
    "    geojson = {'type':'FeatureCollection', 'features':[]}\n",
    "    for _, row in df.iterrows():\n",
    "        feature = {'type':'Feature',\n",
    "                   'properties':{},\n",
    "                   'geometry':{'type':'Point',\n",
    "                               'coordinates':[]}}\n",
    "        feature['geometry']['coordinates'] = [row[lon],row[lat]]\n",
    "        for prop in properties:\n",
    "            feature['properties'][prop] = row[prop]\n",
    "        geojson['features'].append(feature)\n",
    "    return geojson"
   ]
  },
  {
   "cell_type": "raw",
   "metadata": {
    "collapsed": false
   },
   "source": [
    "columns = nmf_topics.columns.tolist()\n",
    "columns += ['abouts']\n",
    "geojson = df_to_geojson(nmf_topics, columns)"
   ]
  },
  {
   "cell_type": "raw",
   "metadata": {
    "collapsed": false
   },
   "source": [
    "output_filename='../viz/nmf_topics.json'\n",
    "with open(output_filename, 'wb') as output_file:\n",
    "    json.dump(geojson, output_file, indent=2)"
   ]
  },
  {
   "cell_type": "raw",
   "metadata": {
    "collapsed": false
   },
   "source": [
    "nmf_topics.to_csv('../viz/nmf_topics.csv', encoding='utf-8')"
   ]
  },
  {
   "cell_type": "markdown",
   "metadata": {},
   "source": [
    "#### Pickle nmf topics dataframe"
   ]
  },
  {
   "cell_type": "raw",
   "metadata": {
    "collapsed": false
   },
   "source": [
    "with open('../data/interim/nmf_topics.pkl', 'wb') as picklefile:\n",
    "    pickle.dump(nmf_topics, picklefile)"
   ]
  },
  {
   "cell_type": "markdown",
   "metadata": {},
   "source": [
    "### LDA (sklearn)"
   ]
  },
  {
   "cell_type": "markdown",
   "metadata": {},
   "source": [
    "#### Create term frequency vector using host descriptions (stopwords removed)"
   ]
  },
  {
   "cell_type": "code",
   "execution_count": 19,
   "metadata": {
    "collapsed": false
   },
   "outputs": [
    {
     "data": {
      "text/plain": [
       "500"
      ]
     },
     "execution_count": 19,
     "metadata": {},
     "output_type": "execute_result"
    }
   ],
   "source": [
    "lda_vectorizer = CountVectorizer(#strip_accents = 'unicode',\n",
    "                                #stop_words = 'english',\n",
    "                                #lowercase = True,\n",
    "                                #token_pattern = r'\\b[a-zA-Z]{3,}\\b',\n",
    "                                max_features = 500,\n",
    "                                ngram_range=(1,2),\n",
    "                                max_df = 0.5, \n",
    "                                min_df = 20)\n",
    "counts = lda_vectorizer.fit_transform(lemmas)\n",
    "lda_features = lda_vectorizer.get_feature_names()\n",
    "len(lda_features)"
   ]
  },
  {
   "cell_type": "raw",
   "metadata": {
    "collapsed": false
   },
   "source": [
    "# Create a CountVectorizer for parsing/counting words\n",
    "lda_vectorizer = CountVectorizer(ngram_range=(1,2),\n",
    "                                 min_df=10,\n",
    "                                 max_df=0.75)\n",
    "                                 #max_features=500)\n",
    "counts = lda_vectorizer.fit_transform(lemmas)\n",
    "lda_features = lda_vectorizer.get_feature_names()\n",
    "len(lda_features)"
   ]
  },
  {
   "cell_type": "markdown",
   "metadata": {},
   "source": [
    "#### Extract topics using LDA on counts vector of host descriptions\n",
    "* Number of components set to number of topics\n",
    "* Learning method set to online for better performance"
   ]
  },
  {
   "cell_type": "code",
   "execution_count": 20,
   "metadata": {
    "collapsed": false
   },
   "outputs": [],
   "source": [
    "lda = LatentDirichletAllocation(n_topics=num_topics,\n",
    "                                learning_method='online',\n",
    "                                random_state=16)\n",
    "lda_doc_topic = lda.fit_transform(counts)"
   ]
  },
  {
   "cell_type": "code",
   "execution_count": 21,
   "metadata": {
    "collapsed": false
   },
   "outputs": [],
   "source": [
    "lda_topic_word = lda.components_"
   ]
  },
  {
   "cell_type": "code",
   "execution_count": 22,
   "metadata": {
    "collapsed": false,
    "scrolled": false
   },
   "outputs": [
    {
     "name": "stdout",
     "output_type": "stream",
     "text": [
      "Topic 0:\n",
      "TOP 15 WORDS:\n",
      "farmer\n",
      "brewery\n",
      "walkable\n",
      "bakery\n",
      "pizza\n",
      "hike\n",
      "boutique\n",
      "ice\n",
      "urban\n",
      "beer\n",
      "cream\n",
      "ice cream\n",
      "pub\n",
      "yoga\n",
      "wine\n",
      "REPRESENTATIVE HOST:\n",
      "neighborhood    Sellwood-Moreland\n",
      "city                     portland\n",
      "state                          OR\n",
      "Name: 1333, dtype: object\n",
      "\n",
      "Topic 1:\n",
      "TOP 15 WORDS:\n",
      "gallery\n",
      "hip\n",
      "cool\n",
      "artist\n",
      "train\n",
      "venue\n",
      "trendy\n",
      "nightlife\n",
      "vibrant\n",
      "young\n",
      "ave\n",
      "music venue\n",
      "hipster\n",
      "culture\n",
      "vintage\n",
      "REPRESENTATIVE HOST:\n",
      "neighborhood       Bushwick\n",
      "city            newyorkcity\n",
      "state                    NY\n",
      "Name: 182, dtype: object\n",
      "\n",
      "Topic 2:\n",
      "TOP 15 WORDS:\n",
      "train\n",
      "diverse\n",
      "subway\n",
      "botanical\n",
      "ave\n",
      "library\n",
      "brownstone\n",
      "building\n",
      "culture\n",
      "eastern\n",
      "caribbean\n",
      "supermarket\n",
      "treelined\n",
      "zoo\n",
      "mix\n",
      "REPRESENTATIVE HOST:\n",
      "neighborhood    Englewood\n",
      "city              chicago\n",
      "state                  IL\n",
      "Name: 459, dtype: object\n",
      "\n",
      "Topic 3:\n",
      "TOP 15 WORDS:\n",
      "gallery\n",
      "low\n",
      "art gallery\n",
      "live music\n",
      "jazz\n",
      "venue\n",
      "convention\n",
      "festival\n",
      "lady\n",
      "look\n",
      "eclectic\n",
      "music venue\n",
      "step\n",
      "check\n",
      "canal\n",
      "REPRESENTATIVE HOST:\n",
      "neighborhood    Treme' Lafitte\n",
      "city                neworleans\n",
      "state                       LA\n",
      "Name: 1514, dtype: object\n",
      "\n",
      "Topic 4:\n",
      "TOP 15 WORDS:\n",
      "subway\n",
      "train\n",
      "supermarket\n",
      "diverse\n",
      "mexican\n",
      "chinese\n",
      "italian\n",
      "bank\n",
      "pharmacy\n",
      "thai\n",
      "korean\n",
      "convenience\n",
      "ethnic\n",
      "japanese\n",
      "airport\n",
      "REPRESENTATIVE HOST:\n",
      "neighborhood    Jackson Heights\n",
      "city                newyorkcity\n",
      "state                        NY\n",
      "Name: 734, dtype: object\n",
      "\n",
      "Topic 5:\n",
      "TOP 15 WORDS:\n",
      "subway\n",
      "step\n",
      "building\n",
      "boutique\n",
      "train\n",
      "low\n",
      "history\n",
      "cafes\n",
      "brownstone\n",
      "nightlife\n",
      "vibrant\n",
      "amaze\n",
      "charm\n",
      "treelined\n",
      "trendy\n",
      "REPRESENTATIVE HOST:\n",
      "neighborhood    Financial District\n",
      "city                   newyorkcity\n",
      "state                           NY\n",
      "Name: 479, dtype: object\n",
      "\n",
      "Topic 6:\n",
      "TOP 15 WORDS:\n",
      "zoo\n",
      "freeway\n",
      "boardwalk\n",
      "convention\n",
      "entertainment\n",
      "hike\n",
      "airport\n",
      "movie\n",
      "theatre\n",
      "surf\n",
      "fame\n",
      "main\n",
      "farmer\n",
      "centrally\n",
      "rental\n",
      "REPRESENTATIVE HOST:\n",
      "neighborhood    Mission Beach\n",
      "city                 sandiego\n",
      "state                      CA\n",
      "Name: 948, dtype: object\n",
      "\n",
      "Topic 7:\n",
      "TOP 15 WORDS:\n",
      "trader\n",
      "whole\n",
      "whole food\n",
      "joes\n",
      "trader joes\n",
      "building\n",
      "ave\n",
      "nightlife\n",
      "step\n",
      "farmer\n",
      "rd\n",
      "centrally\n",
      "movie\n",
      "boutique\n",
      "tourist\n",
      "REPRESENTATIVE HOST:\n",
      "neighborhood    Citrus Grove\n",
      "city              losangeles\n",
      "state                     CA\n",
      "Name: 259, dtype: object\n",
      "\n"
     ]
    }
   ],
   "source": [
    "best_lda_hosts = display_topics(lda, lda_doc_topic, lda_features, num_top_words)"
   ]
  },
  {
   "cell_type": "markdown",
   "metadata": {},
   "source": [
    "#### Visualizations"
   ]
  },
  {
   "cell_type": "code",
   "execution_count": null,
   "metadata": {
    "collapsed": true
   },
   "outputs": [],
   "source": [
    "lda_topics = range(num_topics)"
   ]
  },
  {
   "cell_type": "code",
   "execution_count": null,
   "metadata": {
    "collapsed": true
   },
   "outputs": [],
   "source": [
    "lda_topic_word_norm = lda_topic_word/np.sum(lda_topic_word, axis=1, keepdims=True)"
   ]
  },
  {
   "cell_type": "code",
   "execution_count": null,
   "metadata": {
    "collapsed": false
   },
   "outputs": [],
   "source": [
    "round(max(lda_topic_word.flatten())*1.1, -1)"
   ]
  },
  {
   "cell_type": "code",
   "execution_count": null,
   "metadata": {
    "collapsed": false
   },
   "outputs": [],
   "source": [
    "plot_word_prob(lda_topics, lda_topic_word)"
   ]
  },
  {
   "cell_type": "code",
   "execution_count": null,
   "metadata": {
    "collapsed": false
   },
   "outputs": [],
   "source": [
    "plot_doc_prob(best_lda_hosts, lda_doc_topic)"
   ]
  },
  {
   "cell_type": "markdown",
   "metadata": {},
   "source": [
    "#### Visualizations for presenting"
   ]
  },
  {
   "cell_type": "code",
   "execution_count": null,
   "metadata": {
    "collapsed": false
   },
   "outputs": [],
   "source": [
    "plot_for_viz(9, 'outdoorsy', lda_topic_word, lda_features)"
   ]
  },
  {
   "cell_type": "code",
   "execution_count": null,
   "metadata": {
    "collapsed": false
   },
   "outputs": [],
   "source": [
    "plot_for_viz(10, 'professional', lda_topic_word, lda_features)"
   ]
  },
  {
   "cell_type": "markdown",
   "metadata": {
    "collapsed": false
   },
   "source": [
    "#### Assign topic distribution to each listing"
   ]
  },
  {
   "cell_type": "code",
   "execution_count": null,
   "metadata": {
    "collapsed": false
   },
   "outputs": [],
   "source": [
    "lda_topics = pd.DataFrame(lda_doc_topic, columns=lda_topics)"
   ]
  },
  {
   "cell_type": "code",
   "execution_count": null,
   "metadata": {
    "collapsed": false
   },
   "outputs": [],
   "source": [
    "lda_topics.head()"
   ]
  },
  {
   "cell_type": "markdown",
   "metadata": {},
   "source": [
    "#### Pickle lda topics dataframe"
   ]
  },
  {
   "cell_type": "code",
   "execution_count": null,
   "metadata": {
    "collapsed": false
   },
   "outputs": [],
   "source": [
    "with open('../data/interim/lda_topics.pkl', 'wb') as picklefile:\n",
    "    pickle.dump(lda_topics, picklefile)"
   ]
  },
  {
   "cell_type": "code",
   "execution_count": null,
   "metadata": {
    "collapsed": true
   },
   "outputs": [],
   "source": []
  }
 ],
 "metadata": {
  "anaconda-cloud": {},
  "kernelspec": {
   "display_name": "Python [conda root]",
   "language": "python",
   "name": "conda-root-py"
  },
  "language_info": {
   "codemirror_mode": {
    "name": "ipython",
    "version": 2
   },
   "file_extension": ".py",
   "mimetype": "text/x-python",
   "name": "python",
   "nbconvert_exporter": "python",
   "pygments_lexer": "ipython2",
   "version": "2.7.12"
  }
 },
 "nbformat": 4,
 "nbformat_minor": 1
}
