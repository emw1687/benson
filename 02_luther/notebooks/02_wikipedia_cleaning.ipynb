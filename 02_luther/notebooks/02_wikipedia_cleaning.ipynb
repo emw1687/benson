{
 "cells": [
  {
   "cell_type": "code",
   "execution_count": 3,
   "metadata": {
    "collapsed": true
   },
   "outputs": [],
   "source": [
    "import pandas as pd\n",
    "import re\n",
    "import pickle"
   ]
  },
  {
   "cell_type": "markdown",
   "metadata": {},
   "source": [
    "### Clean names and titles in wikipedia dataframe so that each author has one variation of name and each title has one variation of title."
   ]
  },
  {
   "cell_type": "code",
   "execution_count": 4,
   "metadata": {
    "collapsed": true
   },
   "outputs": [],
   "source": [
    "wikipedia = pd.read_csv('../data/raw/nyt_scraped.csv', index_col = 0)"
   ]
  },
  {
   "cell_type": "markdown",
   "metadata": {},
   "source": [
    "Standardize author names:\n",
    "* standardize initials (ex: R. R.-->R.R. and W. E. B. to W.E.B.)\n",
    "* replace 'nan' author names for books that actually have authors\n",
    "* standardize spelling\n",
    "* remove annotation from pseudonyms"
   ]
  },
  {
   "cell_type": "code",
   "execution_count": 5,
   "metadata": {
    "collapsed": false
   },
   "outputs": [],
   "source": [
    "def fix_initials(name):\n",
    "    two_pattern = '([A-Z]\\.\\s[A-Z]\\.)'\n",
    "    name = str(name)\n",
    "    initials_set = re.findall(two_pattern, name)\n",
    "    if initials_set:\n",
    "        for initials in initials_set:\n",
    "            new_initials = re.sub('\\s', '',  initials)\n",
    "            name = re.sub(initials, new_initials, name)\n",
    "    three_pattern ='([A-Z]\\.[A-Z]\\.\\s[A-Z]+\\.+)'\n",
    "    initials_set = re.findall(three_pattern, name)\n",
    "    if initials_set:\n",
    "        for initials in initials_set:\n",
    "            new_initials = re.sub('\\s', '',  initials)\n",
    "            name = re.sub(initials, new_initials, name)\n",
    "    return name"
   ]
  },
  {
   "cell_type": "code",
   "execution_count": 6,
   "metadata": {
    "collapsed": false
   },
   "outputs": [],
   "source": [
    "wikipedia['author'] = wikipedia['author'].apply(fix_initials)"
   ]
  },
  {
   "cell_type": "code",
   "execution_count": 7,
   "metadata": {
    "collapsed": false
   },
   "outputs": [],
   "source": [
    "mispellings = {'The Black Rose': 'Thomas B. Costain',\n",
    "                    'House Divided': 'Ben Ames Williams',\n",
    "                    'The Cuckoo\\'s Calling': 'Robert Galbraith',\n",
    "                    'Slow Waltz in Cedar Bend': 'Robert James Waller',\n",
    "                    'The Bridges of Madison County': 'Robert James Waller',\n",
    "                    'Harry Potter and the Chamber of Secrets': 'J.K. Rowling'}\n",
    "\n",
    "for title, author in mispellings.items():\n",
    "    wikipedia.loc[wikipedia['title'] == title, 'author'] = author"
   ]
  },
  {
   "cell_type": "markdown",
   "metadata": {},
   "source": [
    "Fix pseudonyms and missing middle initials"
   ]
  },
  {
   "cell_type": "code",
   "execution_count": 8,
   "metadata": {
    "collapsed": false
   },
   "outputs": [],
   "source": [
    "replacements = {'Richard Bachman\\n(pseudonym for Stephen King)': 'Richard Bachman',\n",
    "                'James Michener': 'James A. Michener',\n",
    "                'Morris West': 'Morris L. West',\n",
    "                'Elizabeth Chevalier': 'Elizabeth Pickett Chevalier',\n",
    "                'Somerset Maugham': 'W. Somerset Maugham',\n",
    "                'Mattie Stepanek': 'Mattie J.T. Stepanek',\n",
    "                'Thomas Costain': 'Thomas B. Costain',\n",
    "                'Lloyd Douglas': 'Lloyd C. Douglas',\n",
    "                'Van Wyck Mason': 'F. van Wyck Mason',\n",
    "                'Ross Lockridge': 'Ross Lockridge Jr.',\n",
    "                'Lillian Smith': 'Lillian E. Smith'\n",
    "               }\n",
    "\n",
    "for old_name, new_name in replacements.items():\n",
    "    wikipedia.loc[wikipedia['author'] == old_name, 'author'] = new_name\n",
    "\n",
    "#J.D. Robb is pseudonym for Nora Roberts\n",
    "wikipedia.loc[wikipedia['title'] == 'Innocent in Death', 'author'] = 'J.D. Robb'\n",
    "wikipedia.loc[wikipedia['title'] == 'Concealed in Death', 'author'] = 'J.D. Robb'"
   ]
  },
  {
   "cell_type": "markdown",
   "metadata": {},
   "source": [
    "Keep only first author for books with multiple authors."
   ]
  },
  {
   "cell_type": "code",
   "execution_count": 9,
   "metadata": {
    "collapsed": false
   },
   "outputs": [],
   "source": [
    "def keep_first_name(name):\n",
    "    split = re.split('\\sand\\s', name)\n",
    "    return split[0]\n",
    "\n",
    "wikipedia['author'] = wikipedia['author'].apply(keep_first_name)"
   ]
  },
  {
   "cell_type": "markdown",
   "metadata": {},
   "source": [
    "Remove rows with 'nan' for author for rows without authors (title unknown, or no bestsellers list published due to newspaper stirke)"
   ]
  },
  {
   "cell_type": "code",
   "execution_count": 10,
   "metadata": {
    "collapsed": true
   },
   "outputs": [],
   "source": [
    "wikipedia.loc[wikipedia['author'] == 'nan', 'author'] = None\n",
    "wikipedia = wikipedia.dropna()"
   ]
  },
  {
   "cell_type": "markdown",
   "metadata": {},
   "source": [
    "Change duplicate titles so that each title is a unique identifier"
   ]
  },
  {
   "cell_type": "code",
   "execution_count": 11,
   "metadata": {
    "collapsed": true
   },
   "outputs": [],
   "source": [
    "wikipedia.loc[(wikipedia['title'] == 'Gone') & (wikipedia['author'] == 'Jonathan Kellerman'), 'title'] = 'Gone (Alex Delaware, #20)'\n",
    "wikipedia.loc[(wikipedia['title'] == 'Gone') & (wikipedia['author'] == 'James Patterson and Michael Ledwidge'), 'title'] = 'Gone (Michael Bennett, #6)'"
   ]
  },
  {
   "cell_type": "markdown",
   "metadata": {},
   "source": [
    "Add decade"
   ]
  },
  {
   "cell_type": "code",
   "execution_count": 19,
   "metadata": {
    "collapsed": false
   },
   "outputs": [],
   "source": [
    "wikipedia['decade'] = wikipedia['year'].apply(lambda x: str(x)[:3] + '0s')"
   ]
  },
  {
   "cell_type": "markdown",
   "metadata": {},
   "source": [
    "Pickle cleaned wikipedia dataframe to be used in analysis"
   ]
  },
  {
   "cell_type": "code",
   "execution_count": 20,
   "metadata": {
    "collapsed": true
   },
   "outputs": [],
   "source": [
    "with open('../data/interim/nyt_cleaned.pkl', 'wb') as picklefile:\n",
    "    pickle.dump(wikipedia, picklefile)"
   ]
  },
  {
   "cell_type": "markdown",
   "metadata": {},
   "source": [
    "### Create title:author dictionary to be used to get data from goodreads. "
   ]
  },
  {
   "cell_type": "code",
   "execution_count": 11,
   "metadata": {
    "collapsed": false
   },
   "outputs": [],
   "source": [
    "authors_titles = wikipedia[['title', 'author']].drop_duplicates()"
   ]
  },
  {
   "cell_type": "markdown",
   "metadata": {},
   "source": [
    "Create and pickle dictionary with titles as keys and authors as values to be used to get data from goodreads."
   ]
  },
  {
   "cell_type": "code",
   "execution_count": 12,
   "metadata": {
    "collapsed": false
   },
   "outputs": [],
   "source": [
    "books = {}\n",
    "\n",
    "for i, row in authors_titles.iterrows():\n",
    "    title = row[0]\n",
    "    author = row[1]\n",
    "    books[title] = author"
   ]
  },
  {
   "cell_type": "code",
   "execution_count": 13,
   "metadata": {
    "collapsed": false
   },
   "outputs": [],
   "source": [
    "#fix A Tree Grows in Brooklyn to match goodreads typo\n",
    "books['A Tree Grows in Brooklyn'] = 'Betty  Smith'"
   ]
  },
  {
   "cell_type": "code",
   "execution_count": 14,
   "metadata": {
    "collapsed": false
   },
   "outputs": [],
   "source": [
    "with open('../data/interim/books_dict.pkl', 'wb') as picklefile:\n",
    "    pickle.dump(books, picklefile)"
   ]
  },
  {
   "cell_type": "code",
   "execution_count": null,
   "metadata": {
    "collapsed": true
   },
   "outputs": [],
   "source": []
  }
 ],
 "metadata": {
  "anaconda-cloud": {},
  "kernelspec": {
   "display_name": "Python [conda root]",
   "language": "python",
   "name": "conda-root-py"
  },
  "language_info": {
   "codemirror_mode": {
    "name": "ipython",
    "version": 2
   },
   "file_extension": ".py",
   "mimetype": "text/x-python",
   "name": "python",
   "nbconvert_exporter": "python",
   "pygments_lexer": "ipython2",
   "version": "2.7.12"
  }
 },
 "nbformat": 4,
 "nbformat_minor": 1
}
