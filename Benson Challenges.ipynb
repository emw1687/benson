{
 "cells": [
  {
   "cell_type": "markdown",
   "metadata": {},
   "source": [
    "## Challenge 1"
   ]
  },
  {
   "cell_type": "code",
   "execution_count": 1,
   "metadata": {
    "collapsed": true
   },
   "outputs": [],
   "source": [
    "import datetime\n",
    "import csv\n",
    "from collections import defaultdict\n",
    "from pprint import pprint\n",
    "import dateutil.parser\n",
    "import datetime\n"
   ]
  },
  {
   "cell_type": "code",
   "execution_count": 2,
   "metadata": {
    "collapsed": false
   },
   "outputs": [],
   "source": [
    "#we are interested in all of May 2016 and the first two weeks of June\n",
    "#However it is extremely important that we select the \"correct\" dates\n",
    "#according to the MTA URL\n",
    "start_date = datetime.date(2016,5,7)\n",
    "end_date = datetime.date(2016,6,11)\n",
    "link_prefix = \"http://web.mta.info/developers/data/nyct/turnstile/turnstile_\"\n",
    "urls = []\n",
    "\n",
    "#it's important to use datetime objects and not just enter the dates as strings\n",
    "#so that we can perform timedelta\n",
    "def date_format(date):\n",
    "    return date.strftime(\"%y%m%d\")\n",
    "\n",
    "this_date = start_date\n",
    "while this_date <= end_date:\n",
    "    urls.append(link_prefix + date_format(this_date) + \".txt\")\n",
    "    this_date += datetime.timedelta(days=7)\n"
   ]
  },
  {
   "cell_type": "code",
   "execution_count": 3,
   "metadata": {
    "collapsed": false
   },
   "outputs": [
    {
     "name": "stdout",
     "output_type": "stream",
     "text": [
      "--2017-01-19 21:01:13--  http://web.mta.info/developers/data/nyct/turnstile/turnstile_160507.txtb\n",
      "Resolving web.mta.info (web.mta.info)... 23.215.104.57, 23.215.104.24\n",
      "Connecting to web.mta.info (web.mta.info)|23.215.104.57|:80... connected.\n",
      "HTTP request sent, awaiting response... 404 Not Found\n",
      "2017-01-19 21:01:14 ERROR 404: Not Found.\n",
      "\n",
      "--2017-01-19 21:01:14--  http://web.mta.info/developers/data/nyct/turnstile/turnstile_160514.txtb\n",
      "Resolving web.mta.info (web.mta.info)... 23.215.104.57, 23.215.104.24\n",
      "Connecting to web.mta.info (web.mta.info)|23.215.104.57|:80... connected.\n",
      "HTTP request sent, awaiting response... 404 Not Found\n",
      "2017-01-19 21:01:14 ERROR 404: Not Found.\n",
      "\n",
      "--2017-01-19 21:01:14--  http://web.mta.info/developers/data/nyct/turnstile/turnstile_160521.txtb\n",
      "Resolving web.mta.info (web.mta.info)... 23.215.104.24, 23.215.104.57\n",
      "Connecting to web.mta.info (web.mta.info)|23.215.104.24|:80... connected.\n",
      "HTTP request sent, awaiting response... 404 Not Found\n",
      "2017-01-19 21:01:14 ERROR 404: Not Found.\n",
      "\n",
      "--2017-01-19 21:01:14--  http://web.mta.info/developers/data/nyct/turnstile/turnstile_160528.txtb\n",
      "Resolving web.mta.info (web.mta.info)... 23.215.104.57, 23.215.104.24\n",
      "Connecting to web.mta.info (web.mta.info)|23.215.104.57|:80... connected.\n",
      "HTTP request sent, awaiting response... 404 Not Found\n",
      "2017-01-19 21:01:14 ERROR 404: Not Found.\n",
      "\n",
      "--2017-01-19 21:01:15--  http://web.mta.info/developers/data/nyct/turnstile/turnstile_160604.txtb\n",
      "Resolving web.mta.info (web.mta.info)... 23.215.104.24, 23.215.104.57\n",
      "Connecting to web.mta.info (web.mta.info)|23.215.104.24|:80... connected.\n",
      "HTTP request sent, awaiting response... 404 Not Found\n",
      "2017-01-19 21:01:15 ERROR 404: Not Found.\n",
      "\n",
      "--2017-01-19 21:01:15--  http://web.mta.info/developers/data/nyct/turnstile/turnstile_160611.txtb\n",
      "Resolving web.mta.info (web.mta.info)... 23.215.104.24, 23.215.104.57\n",
      "Connecting to web.mta.info (web.mta.info)|23.215.104.24|:80... connected.\n",
      "HTTP request sent, awaiting response... 404 Not Found\n",
      "2017-01-19 21:01:15 ERROR 404: Not Found.\n",
      "\n"
     ]
    }
   ],
   "source": [
    "#run bash cmd to wget and download files to current dir\n",
    "for f in urls:\n",
    "    !wget {f}b"
   ]
  },
  {
   "cell_type": "code",
   "execution_count": 4,
   "metadata": {
    "collapsed": false
   },
   "outputs": [],
   "source": [
    "#store the files for reference\n",
    "files = !ls | grep turnstile.*txt\n",
    "working_file = files[0]"
   ]
  },
  {
   "cell_type": "code",
   "execution_count": 5,
   "metadata": {
    "collapsed": false
   },
   "outputs": [
    {
     "name": "stdout",
     "output_type": "stream",
     "text": [
      "{('H009', 'R235', '00-00-01', 'BEDFORD AV'): ['L',\n",
      "                                              'BMT',\n",
      "                                              '05/06/2016',\n",
      "                                              '20:00:00',\n",
      "                                              'REGULAR',\n",
      "                                              '0000128450',\n",
      "                                              '0000141149                                             '],\n",
      " ('N083', 'R138', '01-06-01', 'W 4 ST-WASH SQ'): ['ABCDEFM',\n",
      "                                                  'IND',\n",
      "                                                  '05/06/2016',\n",
      "                                                  '21:00:00',\n",
      "                                                  'REGULAR',\n",
      "                                                  '0015350226',\n",
      "                                                  '0004557868                                   '],\n",
      " ('PTH07', 'R550', '00-01-00', 'CITY / BUS'): ['1',\n",
      "                                               'PTH',\n",
      "                                               '05/06/2016',\n",
      "                                               '23:33:35',\n",
      "                                               'REGULAR',\n",
      "                                               '0000485533',\n",
      "                                               '0000196478                                            '],\n",
      " ('R329', 'R362', '00-00-00', 'ALLERTON AV'): ['25',\n",
      "                                               'IRT',\n",
      "                                               '05/06/2016',\n",
      "                                               '21:00:00',\n",
      "                                               'REGULAR',\n",
      "                                               '0006553460',\n",
      "                                               '0002607545                                           '],\n",
      " ('R413', 'R325', '00-05-00', 'WHITLOCK AV'): ['6',\n",
      "                                               'IRT',\n",
      "                                               '05/06/2016',\n",
      "                                               '20:00:00',\n",
      "                                               'REGULAR',\n",
      "                                               '0150994974',\n",
      "                                               '0000000000                                            ']}\n"
     ]
    }
   ],
   "source": [
    "#make a dictionary with the first four columns as keys\n",
    "reader_file = csv.reader(open(working_file, 'r'))\n",
    "next(reader_file)\n",
    "\n",
    "#create a function that accepts a csvreader obj and returns a dictionary\n",
    "#key is the first 4 columns, value is the rest\n",
    "def build_dictionary(reader):\n",
    "    dictionary = defaultdict(list)\n",
    "    for row in reader:\n",
    "        key = (row[0], row[1], row[2], row[3])\n",
    "        value = [row[4], row[5], row[6], row[7], row[8], row[9], row[10]]\n",
    "        dictionary[key] = value\n",
    "    return dictionary\n",
    "\n",
    "data = build_dictionary(reader_file)\n",
    "keys = list(data.keys()) #python 3 returns 'views' for d.keys(), so we have to store as a list to iterate\n",
    "pprint ({k: data[k] for k in keys[:5]})"
   ]
  },
  {
   "cell_type": "markdown",
   "metadata": {},
   "source": [
    "## Challenge 2"
   ]
  },
  {
   "cell_type": "code",
   "execution_count": 8,
   "metadata": {
    "collapsed": true
   },
   "outputs": [
    {
     "name": "stdout",
     "output_type": "stream",
     "text": [
      "{('N063A', 'R011', '00-00-06', '42 ST-PORT AUTH'): [datetime.datetime(2016, 5, 6, 20, 0),\n",
      "                                                    1411169433],\n",
      " ('N076', 'R111', '00-06-01', '23 ST'): [datetime.datetime(2016, 5, 6, 20, 0),\n",
      "                                         815284],\n",
      " ('N137', 'R354', '00-06-01', '104 ST'): [datetime.datetime(2016, 5, 6, 20, 0),\n",
      "                                          1681399520],\n",
      " ('N412', 'R299', '00-00-01', 'BROADWAY'): [datetime.datetime(2016, 5, 6, 21, 0),\n",
      "                                            4943681],\n",
      " ('R644', 'R135', '01-00-01', 'NEWKIRK AV'): [datetime.datetime(2016, 5, 6, 21, 0),\n",
      "                                              215687]}\n"
     ]
    }
   ],
   "source": [
    "#make a dictionary with the first four columns as keys\n",
    "reader_file = csv.reader(open(working_file, 'r'))\n",
    "next(reader_file)\n",
    "\n",
    "def build_timeseries(reader):\n",
    "    dictionary = defaultdict(list)\n",
    "    for row in reader:\n",
    "        key = (row[0], row[1], row[2], row[3])\n",
    "        string = row[6]+' '+row[7] #store the date as a string\n",
    "        date = dateutil.parser.parse(string)\n",
    "        num_entries = int(row[9]) #store number of entries\n",
    "        value = [date, num_entries]\n",
    "        dictionary[key] = value\n",
    "    return dictionary\n",
    "\n",
    "time_series = build_timeseries(reader_file)\n",
    "time_series_keys = list(time_series.keys())\n",
    "pprint ({k: time_series[k] for k in time_series_keys[:5]})\n",
    "\n"
   ]
  },
  {
   "cell_type": "code",
   "execution_count": null,
   "metadata": {
    "collapsed": true
   },
   "outputs": [],
   "source": []
  }
 ],
 "metadata": {
  "anaconda-cloud": {},
  "kernelspec": {
   "display_name": "Python [conda root]",
   "language": "python",
   "name": "conda-root-py"
  },
  "language_info": {
   "codemirror_mode": {
    "name": "ipython",
    "version": 3
   },
   "file_extension": ".py",
   "mimetype": "text/x-python",
   "name": "python",
   "nbconvert_exporter": "python",
   "pygments_lexer": "ipython3",
   "version": "3.5.2"
  }
 },
 "nbformat": 4,
 "nbformat_minor": 2
}
